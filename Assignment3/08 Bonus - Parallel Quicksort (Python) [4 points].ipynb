{
 "cells": [
  {
   "cell_type": "markdown",
   "metadata": {
    "slideshow": {
     "slide_type": "slide"
    }
   },
   "source": [
    "### Parallel Quicksort in (Python) [4 bonus points]"
   ]
  },
  {
   "cell_type": "markdown",
   "metadata": {
    "slideshow": {
     "slide_type": "slide"
    }
   },
   "source": [
    "Consider the following sequential algorithm for Quicksort, taken from Introduction to Algorithms by Cormen, Leiserson, Rivest, and Stein. Let `a: 0 .. N – 1 → integer` for constant `N ≥ 0` be a global variable. In algorithms, a call to procedure `p` with value parameters `E`, `F` and results `x`, `y` is written as `x, y ← p(E, F)`.\n",
    "\n",
    "```algorithm\n",
    "procedure partition(p, r: integer) → (q: integer)\n",
    "        x, i = a(r), p – 1\n",
    "        for j = p to r – 1 do\n",
    "            if a(j) ≤ x then\n",
    "                i := i + 1 ; a(i), a(j) := a(j), a(i)\n",
    "        a(i + 1), a(r) := a(r), a(i + 1)\n",
    "        q := i + 1\n",
    "\n",
    "procedure quicksort(p, r: integer)\n",
    "    if p < r then\n",
    "        q ← partition(p, r)\n",
    "        quicksort(p, q – 1)\n",
    "        quicksort(q + 1, r)\n",
    "```\n",
    "\n",
    "\n",
    "Implement Quicksort in Java by sorting in parallel after partitioning; for this, the parent thread can continue sorting one segment and a child thread is created for sorting the other segment. However, create a new thread only if both segments contain more than `S` elements; otherwise, sort sequentially both segments."
   ]
  },
  {
   "cell_type": "code",
   "execution_count": 14,
   "metadata": {
    "deletable": false,
    "nbgrader": {
     "cell_type": "code",
     "checksum": "13f6c7fb546b81b6694a343b62ce2c9e",
     "grade": true,
     "grade_id": "cell-8ea1e2408ef3ae08",
     "locked": false,
     "points": 0,
     "schema_version": 3,
     "solution": true,
     "task": false
    }
   },
   "outputs": [],
   "source": [
    "from threading import Thread\n",
    "from random import randint\n",
    "from time import time\n",
    "\n",
    "def partition(p, r): \n",
    "    x, i = a[r], p - 1\n",
    "    for j in range(p, r):\n",
    "        if a[j] <= x: \n",
    "            i += 1; a[i], a[j] = a[j], a[i]\n",
    "    a[i + 1], a[r] = a[r], a[i + 1]\n",
    "    return i + 1;\n",
    "    \n",
    "\n",
    "def sequentialsort(p, r):\n",
    "    if p < r:\n",
    "        q = partition(p, r)\n",
    "        sequentialsort(p, q - 1)\n",
    "        sequentialsort(q + 1, r)\n",
    "        \n",
    "def parallelsort(p, r):\n",
    "    if p < r:\n",
    "        q = partition(p, r)\n",
    "\n",
    "        if q - p <= S or r - q <= S:\n",
    "            sequentialsort(p, q - 1)\n",
    "            sequentialsort(q + 1, r)\n",
    "\n",
    "        else:\n",
    "            #source: https://stackoverflow.com/questions/35244577/is-it-possible-to-use-an-inline-function-in-a-thread-call\n",
    "            lt = Thread(target=lambda : parallelsort(p, q - 1)) \n",
    "            rt = Thread(target=lambda : parallelsort(q + 1, r))\n",
    "\n",
    "            lt.start(); rt.start()\n",
    "            lt.join(); rt.join()\n",
    "\n",
    "def quicksort(N, step):\n",
    "    global a, S\n",
    "    a, S = [randint(0, 10000) for _ in range(N)], step\n",
    "\n",
    "    start = time()    \n",
    "    parallelsort(0, N - 1)\n",
    "    end = time()\n",
    "\n",
    "    print(str(int((end - start) * 1000)) + \" ms\")\n",
    "    for i in range(1, N): assert a[i - 1] <= a[i]    "
   ]
  },
  {
   "cell_type": "markdown",
   "metadata": {},
   "source": [
    "Use the cell below to test your implementation."
   ]
  },
  {
   "cell_type": "code",
   "execution_count": 15,
   "metadata": {},
   "outputs": [
    {
     "name": "stdout",
     "output_type": "stream",
     "text": [
      "5968 ms\n"
     ]
    }
   ],
   "source": [
    "quicksort(100000, 1)"
   ]
  },
  {
   "cell_type": "code",
   "execution_count": 16,
   "metadata": {},
   "outputs": [
    {
     "name": "stdout",
     "output_type": "stream",
     "text": [
      "2017 ms\n"
     ]
    }
   ],
   "source": [
    "quicksort(100000, 10)"
   ]
  },
  {
   "cell_type": "code",
   "execution_count": 10,
   "metadata": {},
   "outputs": [
    {
     "name": "stdout",
     "output_type": "stream",
     "text": [
      "671 ms\n"
     ]
    }
   ],
   "source": [
    "quicksort(100000, 100)"
   ]
  },
  {
   "cell_type": "code",
   "execution_count": 11,
   "metadata": {},
   "outputs": [
    {
     "name": "stdout",
     "output_type": "stream",
     "text": [
      "471 ms\n"
     ]
    }
   ],
   "source": [
    "quicksort(100000, 1000)"
   ]
  },
  {
   "cell_type": "code",
   "execution_count": 12,
   "metadata": {},
   "outputs": [
    {
     "name": "stdout",
     "output_type": "stream",
     "text": [
      "431 ms\n"
     ]
    }
   ],
   "source": [
    "quicksort(100000, 10000)"
   ]
  },
  {
   "cell_type": "code",
   "execution_count": 13,
   "metadata": {},
   "outputs": [
    {
     "name": "stdout",
     "output_type": "stream",
     "text": [
      "284 ms\n"
     ]
    }
   ],
   "source": [
    "quicksort(100000, 100000)"
   ]
  },
  {
   "cell_type": "markdown",
   "metadata": {},
   "source": [
    "Now summarize your observations about the running time for varying values of `S` and explain!"
   ]
  },
  {
   "cell_type": "markdown",
   "metadata": {
    "deletable": false,
    "nbgrader": {
     "cell_type": "markdown",
     "checksum": "d4c6a481913446c2ef38a31302bc508f",
     "grade": true,
     "grade_id": "cell-8b60b5cc75f7fa4a",
     "locked": false,
     "points": 0,
     "schema_version": 3,
     "solution": true,
     "task": false
    }
   },
   "source": [
    "I notice that as the value of S increases, our run time decreases. since we split the work up into more threads. "
   ]
  }
 ],
 "metadata": {
  "kernelspec": {
   "display_name": "Python 3 (ipykernel)",
   "language": "python",
   "name": "python3"
  },
  "language_info": {
   "codemirror_mode": {
    "name": "ipython",
    "version": 3
   },
   "file_extension": ".py",
   "mimetype": "text/x-python",
   "name": "python",
   "nbconvert_exporter": "python",
   "pygments_lexer": "ipython3",
   "version": "3.11.2"
  }
 },
 "nbformat": 4,
 "nbformat_minor": 4
}
