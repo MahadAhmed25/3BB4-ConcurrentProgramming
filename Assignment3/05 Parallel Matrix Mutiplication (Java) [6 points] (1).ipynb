{
 "cells": [
  {
   "cell_type": "markdown",
   "id": "4be0b97f",
   "metadata": {},
   "source": [
    "### Parallel Matrix Multiplication (Java) [6 points]"
   ]
  },
  {
   "cell_type": "markdown",
   "id": "7ac9a703",
   "metadata": {},
   "source": [
    "For `N × N` matrices `a, b, c: 0 .. N − 1 × 0 .. N − 1 → float` where `N ≥ 1`, sequential matrix multiplication is expressed by:\n",
    "\n",
    "```algorithm\n",
    "for i = 0 to N − 1 do\n",
    "    for j = 0 to N − 1 do\n",
    "        c(i, j) := 0.0\n",
    "        for k = 0 to N − 1 do\n",
    "            c(i, j) := c(i, j) + a(i, k) × b(k, j)\n",
    "```\n",
    "\n",
    "This algorithm can be parallelized by turning the two outer `for` loops into `par` statements. That would create `N²` processes, which may be far more than there are processors; the overhead of process creation may outweigh the benefit of parallelism. A solution is to use *one worker process per strip.*\n",
    "\n",
    "Let `P` be the number of worker processes:\n",
    "\n",
    "```algorithm\n",
    "procedure worker(w: 0 .. P – 1)\n",
    "    var first = w × N div P\n",
    "    var last = (w + 1) × N div P – 1\n",
    "    for i = first to last do\n",
    "        for j = 0 to N – 1 do\n",
    "            c(i, j) := 0.0\n",
    "            for k = 0 to N – 1 do\n",
    "                c(i, j) := c(i, j) + a(i, k) × b(k, j)\n",
    "\n",
    "par w = 0 to P – 1 do worker(w)\n",
    "```\n",
    "\n",
    "For `P = 1`, the execution is sequential. Implement parallel matrix multiplication with workers in Java! Depending on your design, the template has parts that may or may not need to be filled in."
   ]
  },
  {
   "cell_type": "code",
   "execution_count": 1,
   "id": "cea50000",
   "metadata": {
    "deletable": false,
    "nbgrader": {
     "cell_type": "code",
     "checksum": "49125d9fb40b16c098e6b926e3c3aea5",
     "grade": true,
     "grade_id": "cell-9dff45cb8de2e300",
     "locked": false,
     "points": 5,
     "schema_version": 3,
     "solution": true,
     "task": false
    }
   },
   "outputs": [
    {
     "name": "stdout",
     "output_type": "stream",
     "text": [
      "Overwriting Multiply.java\n"
     ]
    }
   ],
   "source": [
    "%%writefile Multiply.java\n",
    "import java.util.Random;\n",
    "import java.util.Arrays;\n",
    "\n",
    "class Worker extends Thread {\n",
    "    int[][] a, b, c;\n",
    "    int N;\n",
    "    int first;\n",
    "    int last;\n",
    "\n",
    "    Worker(int[][] a, int[][] b, int[][] c, int first, int last){\n",
    "        this.a = a; this.b = b; this.c = c; this.first = first; this.last = last;\n",
    "        this.N = a[0].length;\n",
    "    }\n",
    "\n",
    "    public void run() {\n",
    "        for (int i = first; i <= last; i++){\n",
    "            for (int j = 0; j < N; j++){\n",
    "                c[i][j] = 0;\n",
    "                for (int k = 0; k < N; k++){\n",
    "                    c[i][j] = c[i][j] + a[i][k] * b[k][j];\n",
    "                }\n",
    "            }\n",
    "        }\n",
    "    }\n",
    "\n",
    "}\n",
    "\n",
    "public class Multiply {\n",
    "\n",
    "    static int N;        // number of rows in Matrix\n",
    "    static int P;        // number of workers\n",
    "    static int[][] a, b; // randomly generated input matrices\n",
    "\n",
    "    static void sequentialmultiply(int c[][]) {\n",
    "        for (int i = 0; i < N; i++) {\n",
    "            for (int j = 0; j < N; j++) {\n",
    "                c[i][j] = 0; \n",
    "                for (int k = 0; k < N; k++) {\n",
    "                    c[i][j] = c[i][j] + a[i][k] * b[k][j];\n",
    "                }\n",
    "            }\n",
    "        }\n",
    "    }\n",
    "\n",
    "    static void parallelmultiply(int c[][]){\n",
    "        Worker[] w = new Worker[P];\n",
    "\n",
    "        for(int i = 0; i < P; i ++){\n",
    "            int first = i*N / P;\n",
    "            int last = (i+1)*N / P - 1;\n",
    "            w[i] = new Worker(a, b, c, first, last);\n",
    "        }\n",
    "\n",
    "        for(Worker workers : w) workers.start();\n",
    "        try{\n",
    "            for(Worker workers : w) workers.join();\n",
    "        } catch (Exception e) {}\n",
    "\n",
    "    }\n",
    "\n",
    "    public static void main(String args[]) {\n",
    "        N = Integer.parseInt(args[0]);\n",
    "        P = Integer.parseInt(args[1]);\n",
    "        a = new int[N][N]; b = new int[N][N];\n",
    "        int[][] cp = new int[N][N], cs = new int[N][N];\n",
    "        Random random = new Random();\n",
    "        for (int i = 0; i < N; i++) {\n",
    "            for (int j=0; j < N; j++) {\n",
    "                a[i][j] = random.nextInt(1000);\n",
    "                b[i][j] = random.nextInt(1000);\n",
    "            }\n",
    "        }\n",
    "\n",
    "        final long start = System.currentTimeMillis();\n",
    "        parallelmultiply(cp);\n",
    "        final long end = System.currentTimeMillis();\n",
    "        \n",
    "        sequentialmultiply(cs);  // check the correctness\n",
    "        assert Arrays.deepEquals(cp, cs);\n",
    "        \n",
    "        System.out.println((end - start) + \" ms\"); \n",
    "    }\n",
    "}"
   ]
  },
  {
   "cell_type": "markdown",
   "id": "1edea6e8",
   "metadata": {},
   "source": [
    "Use the cell below to test your implementation."
   ]
  },
  {
   "cell_type": "code",
   "execution_count": 2,
   "id": "24befe34",
   "metadata": {},
   "outputs": [
    {
     "name": "stdout",
     "output_type": "stream",
     "text": [
      "15 ms\n"
     ]
    }
   ],
   "source": [
    "!javac Multiply.java\n",
    "!java -enableassertions Multiply  100 2"
   ]
  },
  {
   "cell_type": "markdown",
   "id": "cd6eb135",
   "metadata": {},
   "source": [
    "Now observe the elapsed time for multiplying `1000 × 1000` matrices with various values of `P`. You may add cells to record your observations. Run the program multiple times and keep the cell with the shortest elapsed time."
   ]
  },
  {
   "cell_type": "code",
   "execution_count": 3,
   "id": "28386439",
   "metadata": {},
   "outputs": [
    {
     "name": "stdout",
     "output_type": "stream",
     "text": [
      "2308 ms\n"
     ]
    }
   ],
   "source": [
    "!java -enableassertions Multiply  1000 1"
   ]
  },
  {
   "cell_type": "code",
   "execution_count": 4,
   "id": "ce0975ad",
   "metadata": {},
   "outputs": [
    {
     "name": "stdout",
     "output_type": "stream",
     "text": [
      "1199 ms\n"
     ]
    }
   ],
   "source": [
    "!java -enableassertions Multiply  1000 2"
   ]
  },
  {
   "cell_type": "code",
   "execution_count": 5,
   "id": "c948a6e1",
   "metadata": {},
   "outputs": [
    {
     "name": "stdout",
     "output_type": "stream",
     "text": [
      "473 ms\n"
     ]
    }
   ],
   "source": [
    "!java -enableassertions Multiply  1000 5"
   ]
  },
  {
   "cell_type": "code",
   "execution_count": 6,
   "id": "d2fe421e",
   "metadata": {},
   "outputs": [
    {
     "name": "stdout",
     "output_type": "stream",
     "text": [
      "349 ms\n"
     ]
    }
   ],
   "source": [
    "!java -enableassertions Multiply 1000 10"
   ]
  },
  {
   "cell_type": "code",
   "execution_count": 7,
   "id": "079bb7b6",
   "metadata": {},
   "outputs": [
    {
     "name": "stdout",
     "output_type": "stream",
     "text": [
      "305 ms\n"
     ]
    }
   ],
   "source": [
    "!java -enableassertions Multiply 1000 100"
   ]
  },
  {
   "cell_type": "code",
   "execution_count": 8,
   "id": "33525e1d",
   "metadata": {},
   "outputs": [
    {
     "name": "stdout",
     "output_type": "stream",
     "text": [
      "305 ms\n"
     ]
    }
   ],
   "source": [
    "!java -enableassertions Multiply 1000 200"
   ]
  },
  {
   "cell_type": "code",
   "execution_count": 9,
   "id": "5d3d5853",
   "metadata": {},
   "outputs": [
    {
     "name": "stdout",
     "output_type": "stream",
     "text": [
      "380 ms\n"
     ]
    }
   ],
   "source": [
    "!java -enableassertions Multiply 1000 500"
   ]
  },
  {
   "cell_type": "code",
   "execution_count": 10,
   "id": "aeb69bd8",
   "metadata": {},
   "outputs": [
    {
     "name": "stdout",
     "output_type": "stream",
     "text": [
      "400 ms\n"
     ]
    }
   ],
   "source": [
    "!java -enableassertions Multiply 1000 1000"
   ]
  },
  {
   "cell_type": "markdown",
   "id": "12ba2663",
   "metadata": {},
   "source": [
    "Summarize your observations for what (approximate) value of `P` you get shorter and longer elapsed times and explain why!"
   ]
  },
  {
   "cell_type": "markdown",
   "id": "b7bedecb",
   "metadata": {
    "deletable": false,
    "nbgrader": {
     "cell_type": "markdown",
     "checksum": "d98ea10c3204563c3afff3fa49fab5af",
     "grade": true,
     "grade_id": "cell-e563da9d5f4fc9bf",
     "locked": false,
     "points": 1,
     "schema_version": 3,
     "solution": true,
     "task": false
    }
   },
   "source": [
    "as we increased the number of workers the time went down up untill 100 workers where i got the fastest time of 257ms. However, when we increased the workers to 200 the time started to slow down where 200 workers gave me 305ms, 500 workers gave me 324ms and 1000 workers gave me 410ms. You would expect for more workers the time would be faster however, from my tests that doesnt seem to be the case. From doing a little research online there are a couple reasons for this, such as: thread stack size, max virtual memory and what kind of kernel scheduler is being used"
   ]
  },
  {
   "cell_type": "markdown",
   "id": "d9dbf72d",
   "metadata": {},
   "source": [
    "*Note.* The time complexity of the parallel matrix multiplication can be analyzed by the *work and depth model*. The *work* `𝒲` is the total time to execute the entire computation on one worker; the *depth* `𝒟` is the longest time to execute the computation on infinitely many workers. In other words, the work is the sum of times taken by all workers, and the depth is longest time taken by a worker. The parallel time complexity is `O(𝒲 / 𝒫 + 𝒟)`, where `𝒫` is the total number of workers that can separately perform the totally work. Here, each worker corresponds to a physical core, rather than a thread, since multiple thread can concurrently run on one physical core.   \n",
    "\n",
    "- The work is the same as that of the sequential version, `O(N³)`.\n",
    "- The depth is `O(N²)`, as only the outer loop is run in parallel for the implementation. \n",
    "- The total worst-case running time is `O(N³ / P + N²)`, where `P` is the number of workers.\n",
    "\n",
    "We observe that theoretically each item in matrix `c(i,j)` can be independently calculate in parallel with `N²` workers with  depth `O(n)`. \n",
    "\n",
    "* With this implementation, we can get a depth of `O(N)`.\n",
    "* In this case, the total parallel running time is `O(N³ / P + N)`, where `P` is the number of workers."
   ]
  }
 ],
 "metadata": {
  "kernelspec": {
   "display_name": "Python 3 (ipykernel)",
   "language": "python",
   "name": "python3"
  },
  "language_info": {
   "codemirror_mode": {
    "name": "ipython",
    "version": 3
   },
   "file_extension": ".py",
   "mimetype": "text/x-python",
   "name": "python",
   "nbconvert_exporter": "python",
   "pygments_lexer": "ipython3",
   "version": "3.11.2"
  }
 },
 "nbformat": 4,
 "nbformat_minor": 5
}
