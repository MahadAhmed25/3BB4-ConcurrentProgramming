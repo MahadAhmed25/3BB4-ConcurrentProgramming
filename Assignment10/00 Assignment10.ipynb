{
 "cells": [
  {
   "cell_type": "markdown",
   "metadata": {
    "deletable": false,
    "editable": false,
    "nbgrader": {
     "cell_type": "markdown",
     "checksum": "e2e83d179988593ee1bf9184982f807d",
     "grade": false,
     "grade_id": "cell-0e2b262d4ddb6d1d",
     "locked": true,
     "schema_version": 3,
     "solution": false,
     "task": false
    }
   },
   "source": [
    "### SFWR ENG 3BB4 Software Design II, Fall 2023/24, McMaster University\n",
    "**Emil Sekerinski (instructor), Yili Liu (TA)**\n",
    "\n",
    "**Assignment 10, due Wednesday, November 22, 11 pm. Introduced at:**\n",
    "- T03 on Thursday, November 16\n",
    "- T02 on Thursday, November 16\n",
    "- T01 on Friday, November 17\n",
    "\n",
    "The purpose of this assignment is to:\n",
    "\n",
    "* get familiar with the syntax of Go,\n",
    "* practice programming with synchronous message passing in Go.\n",
    "\n",
    "You may want to consult other resources about Go:\n",
    "- An easy interactive tour of Go: https://tour.golang.org/\n",
    "- A highly recommendable video on Go by Rob Pike, the lead designer of Go: https://www.youtube.com/watch?v=f6kdp27TYZs; the paper by Hoare he mentions is linked from the course notes.\n",
    "- More recommendable videos by Pike and others at https://golang.org/doc/"
   ]
  }
 ],
 "metadata": {
  "kernelspec": {
   "display_name": "Python 3 (ipykernel)",
   "language": "python",
   "name": "python3"
  },
  "language_info": {
   "codemirror_mode": {
    "name": "ipython",
    "version": 3
   },
   "file_extension": ".py",
   "mimetype": "text/x-python",
   "name": "python",
   "nbconvert_exporter": "python",
   "pygments_lexer": "ipython3",
   "version": "3.11.5"
  }
 },
 "nbformat": 4,
 "nbformat_minor": 4
}
