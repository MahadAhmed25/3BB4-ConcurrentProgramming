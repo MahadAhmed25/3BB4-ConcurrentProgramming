{
 "cells": [
  {
   "cell_type": "markdown",
   "metadata": {
    "deletable": false,
    "editable": false,
    "nbgrader": {
     "cell_type": "markdown",
     "checksum": "2a19916d71ab5703f849af3aeb2b169a",
     "grade": false,
     "grade_id": "cell-4f24b15e26fafa2e",
     "locked": true,
     "schema_version": 3,
     "solution": false,
     "task": false
    }
   },
   "source": [
    "### Number of Interleavings [4 points]"
   ]
  },
  {
   "cell_type": "markdown",
   "metadata": {
    "deletable": false,
    "editable": false,
    "nbgrader": {
     "cell_type": "markdown",
     "checksum": "3e1fdfdc3ae858b05bb1f69d1a724dd0",
     "grade": false,
     "grade_id": "cell-4b8e0c67a52c4f58",
     "locked": true,
     "schema_version": 3,
     "solution": false,
     "task": false
    }
   },
   "source": [
    "Suppose process `A` executes in a  single step (atomic instruction) and `B` executes in two steps. Then the execution of `A ‖ B` leads to three possible interleavings:\n",
    "\n",
    "| Process | Steps         |\n",
    "| :------ | :------------ |\n",
    "| `A`     | ➀             |\n",
    "| `B`     | ➊ ➋           |\n",
    "| `A ‖ B` | ➀ ➊ ➋ <br> ➊ ➀ ➋ <br> ➊ ➋ ➀ |"
   ]
  },
  {
   "cell_type": "markdown",
   "metadata": {
    "deletable": false,
    "editable": false,
    "nbgrader": {
     "cell_type": "markdown",
     "checksum": "1e06e540ac6f8ffb6e9edcfb0bb218ef",
     "grade": false,
     "grade_id": "cell-cb0ed7df0f6ee18d",
     "locked": true,
     "schema_version": 3,
     "solution": false,
     "task": false
    }
   },
   "source": [
    "Suppose processes `A` and `B` execute each of a two steps. Then the execution of `A ‖ B` leads to six possible interleavings:\n",
    "\n",
    "| Process | Steps         |\n",
    "| :------ | :------------ |\n",
    "| `A`     | ➀ ➁          |\n",
    "| `B`     | ➊ ➋          |\n",
    "| `A ‖ B` | ➀ ➁ ➊ ➋ <br> ➀ ➊ ➁ ➋ <br> ➀ ➊ ➋ ➁ <br> ➊ ➀ ➁ ➋ <br> ➊ ➀ ➋ ➁ <br> ➊ ➋ ➀ ➁ |\n",
    "\n",
    "The table is constructed by first taking ➀ as the first step and enumerating all interleavings of ➁ and ➊ ➋, then taking ➊ as the first step and enumerating all interleaving of ➀ ➁ and ➋."
   ]
  },
  {
   "cell_type": "markdown",
   "metadata": {
    "deletable": false,
    "editable": false,
    "nbgrader": {
     "cell_type": "markdown",
     "checksum": "963c6d41c50ebe768056366c7021fd6c",
     "grade": false,
     "grade_id": "cell-f13dde83d28426ed",
     "locked": true,
     "schema_version": 3,
     "solution": false,
     "task": false
    }
   },
   "source": [
    "Now consider the example from the course notes with processes `inc1` and `inc2`. Each of these execute in three steps, abbreviated ➀ ➁ ➂ and ➊ ➋ ➌. How many possible interleavings of `inc1 ‖ inc2` are there? Enumerate them!"
   ]
  },
  {
   "cell_type": "markdown",
   "metadata": {
    "deletable": false,
    "nbgrader": {
     "cell_type": "markdown",
     "checksum": "c1e4d24b3e1d852702c150e66f6cdf45",
     "grade": true,
     "grade_id": "cell-edc8d3f3c30742b6",
     "locked": false,
     "points": 0,
     "schema_version": 3,
     "solution": true,
     "task": false
    }
   },
   "source": [
    "1.  ➀ ➁ ➂ ➊ ➋ ➌\n",
    "2.  ➀ ➁ ➊ ➂ ➋ ➌\n",
    "3.  ➀ ➁ ➊ ➋ ➂ ➌\n",
    "4.  ➀ ➁ ➊ ➋ ➌ ➂\n",
    "5.  ➀ ➊ ➁ ➂ ➋ ➌\n",
    "6.  ➀ ➊ ➁ ➋ ➂ ➌\n",
    "7.  ➀ ➊ ➁ ➋ ➌ ➂\n",
    "8.  ➀ ➊ ➋ ➁ ➂ ➌\n",
    "9.  ➀ ➊ ➋ ➁ ➌ ➂\n",
    "10. ➀ ➊ ➋ ➌ ➁ ➂\n",
    "11. ➊ ➋ ➌ ➀ ➁ ➂\n",
    "12. ➊ ➋ ➀ ➌ ➁ ➂\n",
    "13. ➊ ➋ ➀ ➁ ➌ ➂\n",
    "14. ➊ ➋ ➀ ➁ ➂ ➌\n",
    "15. ➊ ➀ ➋ ➌ ➁ ➂\n",
    "16. ➊ ➀ ➋ ➁ ➌ ➂\n",
    "17. ➊ ➀ ➋ ➁ ➂ ➌\n",
    "18. ➊ ➀ ➁ ➋ ➌ ➂\n",
    "19. ➊ ➀ ➁ ➋ ➂ ➌\n",
    "20. ➊ ➀ ➁ ➂ ➋ ➌"
   ]
  },
  {
   "cell_type": "markdown",
   "metadata": {
    "deletable": false,
    "editable": false,
    "nbgrader": {
     "cell_type": "markdown",
     "checksum": "cf90ba457cd1d26f86b0798a6b2a265f",
     "grade": false,
     "grade_id": "cell-19c9928f1b479f6c",
     "locked": true,
     "schema_version": 3,
     "solution": false,
     "task": false
    }
   },
   "source": [
    "**Bonus Question [4 points].** Write a Python function `interleavings(a, b)` that takes two strings (or lists), `a` and `b`, and returns a set with all possible interleavings of the elements of `a` and `b`. The grade is being automatically determined by the provided and hidden tests."
   ]
  },
  {
   "cell_type": "code",
   "execution_count": 5,
   "metadata": {
    "deletable": false,
    "nbgrader": {
     "cell_type": "code",
     "checksum": "093074036c34655a06922dd97127d897",
     "grade": true,
     "grade_id": "cell-da52e784998e0527",
     "locked": false,
     "points": 0,
     "schema_version": 3,
     "solution": true,
     "task": false
    }
   },
   "outputs": [],
   "source": [
    "def interleavings(a, b):\n",
    "    # len(a) > 0 and len(b) > 0\n",
    "    if a == \"\":\n",
    "        return {b}\n",
    "    if b == \"\":\n",
    "        return {a}\n",
    "        \n",
    "    results = set()\n",
    "    for resultA in interleavings(a[1:], b):\n",
    "        results.add(a[0] + resultA)\n",
    "    for resultB in interleavings(a, b[1:]):\n",
    "        results.add(b[0] + resultB)\n",
    "\n",
    "    return results"
   ]
  },
  {
   "cell_type": "code",
   "execution_count": 6,
   "metadata": {
    "deletable": false,
    "editable": false,
    "nbgrader": {
     "cell_type": "code",
     "checksum": "6031e87a113bec422ff882cd2196bf30",
     "grade": true,
     "grade_id": "cell-7e00e808749e784a",
     "locked": true,
     "points": 4,
     "schema_version": 3,
     "solution": false,
     "task": false
    }
   },
   "outputs": [],
   "source": [
    "assert interleavings('➀', '➊') == {'➀➊', '➊➀'}\n",
    "assert interleavings('➀', '➊➋') == {'➀➊➋', '➊➀➋', '➊➋➀'}\n",
    "assert interleavings('➀➁', '➊➋') == {'➀➁➊➋', '➀➊➁➋', '➀➊➋➁', '➊➀➁➋', '➊➀➋➁', '➊➋➀➁'}\n",
    "assert interleavings('➀', '➊➋➌') == {'➀➊➋➌', '➊➀➋➌', '➊➋➀➌', '➊➋➌➀'}"
   ]
  }
 ],
 "metadata": {
  "kernelspec": {
   "display_name": "Python 3 (ipykernel)",
   "language": "python",
   "name": "python3"
  },
  "language_info": {
   "codemirror_mode": {
    "name": "ipython",
    "version": 3
   },
   "file_extension": ".py",
   "mimetype": "text/x-python",
   "name": "python",
   "nbconvert_exporter": "python",
   "pygments_lexer": "ipython3",
   "version": "3.11.2"
  },
  "latex_envs": {
   "LaTeX_envs_menu_present": true,
   "autoclose": false,
   "autocomplete": true,
   "bibliofile": "biblio.bib",
   "cite_by": "apalike",
   "current_citInitial": 1,
   "eqLabelWithNumbers": true,
   "eqNumInitial": 1,
   "hotkeys": {
    "equation": "Ctrl-E",
    "itemize": "Ctrl-I"
   },
   "labels_anchors": false,
   "latex_user_defs": false,
   "report_style_numbering": false,
   "user_envs_cfg": false
  },
  "livereveal": {
   "history": true,
   "margin": "0.01",
   "progress": true,
   "scroll": true,
   "start_slideshow_at": "selected"
  },
  "rise": {
   "enable_chalkboard": true
  },
  "toc": {
   "base_numbering": 1,
   "nav_menu": {},
   "number_sections": false,
   "sideBar": false,
   "skip_h1_title": true,
   "title_cell": "Table of Contents",
   "title_sidebar": "Contents",
   "toc_cell": false,
   "toc_position": {},
   "toc_section_display": true,
   "toc_window_display": false
  }
 },
 "nbformat": 4,
 "nbformat_minor": 4
}
