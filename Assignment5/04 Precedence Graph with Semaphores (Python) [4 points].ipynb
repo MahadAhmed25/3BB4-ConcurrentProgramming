{
 "cells": [
  {
   "cell_type": "markdown",
   "metadata": {},
   "source": [
    "### Precedence Graph with Semaphores (Python) [4 points]"
   ]
  },
  {
   "attachments": {
    "PrecedenceGraph.svg": {
     "image/svg+xml": [
      "PCFET0NUWVBFIHN2ZyBQVUJMSUMgIi0vL1czQy8vRFREIFNWRyAxLjEvL0VOIiAiaHR0cDovL3d3dy53My5vcmcvR3JhcGhpY3MvU1ZHLzEuMS9EVEQvc3ZnMTEuZHRkIj4KPHN2ZyB4bWxucz0iaHR0cDovL3d3dy53My5vcmcvMjAwMC9zdmciIHhtbG5zOnhsaW5rPSJodHRwOi8vd3d3LnczLm9yZy8xOTk5L3hsaW5rIiB3aWR0aD0iMzQxcHgiIGhlaWdodD0iOTFweCIgdmVyc2lvbj0iMS4xIiBzdHlsZT0iYmFja2dyb3VuZC1jb2xvcjogcmdiKDI1NSwgMjU1LCAyNTUpOyI+PGRlZnMvPjxnIHRyYW5zZm9ybT0idHJhbnNsYXRlKDAuNSwwLjUpIj48cGF0aCBkPSJNIDUxIDM0LjUgTCA4NC4zIDE3Ljg1IiBmaWxsPSJub25lIiBzdHJva2U9IiMwMDAwMDAiIHN0cm9rZS1taXRlcmxpbWl0PSIxMCIgcG9pbnRlci1ldmVudHM9Im5vbmUiLz48cGF0aCBkPSJNIDg5IDE1LjUgTCA4NC4zIDIxLjc2IEwgODQuMyAxNy44NSBMIDgxLjE3IDE1LjUgWiIgZmlsbD0iIzAwMDAwMCIgc3Ryb2tlPSIjMDAwMDAwIiBzdHJva2UtbWl0ZXJsaW1pdD0iMTAiIHBvaW50ZXItZXZlbnRzPSJub25lIi8+PGVsbGlwc2UgY3g9IjMwIiBjeT0iNDUiIHJ4PSIzMCIgcnk9IjE1IiBmaWxsPSJub25lIiBzdHJva2U9IiMwMDAwMDAiIHBvaW50ZXItZXZlbnRzPSJub25lIi8+PGcgdHJhbnNmb3JtPSJ0cmFuc2xhdGUoMjAuNSwzNy41KSI+PHN3aXRjaD48Zm9yZWlnbk9iamVjdCBzdHlsZT0ib3ZlcmZsb3c6dmlzaWJsZTsiIHBvaW50ZXItZXZlbnRzPSJhbGwiIHdpZHRoPSIxNyIgaGVpZ2h0PSIxNCIgcmVxdWlyZWRGZWF0dXJlcz0iaHR0cDovL3d3dy53My5vcmcvVFIvU1ZHMTEvZmVhdHVyZSNFeHRlbnNpYmlsaXR5Ij48ZGl2IHhtbG5zPSJodHRwOi8vd3d3LnczLm9yZy8xOTk5L3hodG1sIiBzdHlsZT0iZGlzcGxheTogaW5saW5lLWJsb2NrOyBmb250LXNpemU6IDE0cHg7IGZvbnQtZmFtaWx5OiBWZXJkYW5hOyBjb2xvcjogcmdiKDE3MCwgODUsIDApOyBsaW5lLWhlaWdodDogMS4yOyB2ZXJ0aWNhbC1hbGlnbjogdG9wOyB3aWR0aDogMTlweDsgd2hpdGUtc3BhY2U6IG5vd3JhcDsgd29yZC13cmFwOiBub3JtYWw7IHRleHQtYWxpZ246IGNlbnRlcjsiPjxkaXYgeG1sbnM9Imh0dHA6Ly93d3cudzMub3JnLzE5OTkveGh0bWwiIHN0eWxlPSJkaXNwbGF5OmlubGluZS1ibG9jazt0ZXh0LWFsaWduOmluaGVyaXQ7dGV4dC1kZWNvcmF0aW9uOmluaGVyaXQ7Ij5QMTwvZGl2PjwvZGl2PjwvZm9yZWlnbk9iamVjdD48dGV4dCB4PSI5IiB5PSIxNCIgZmlsbD0iI0FBNTUwMCIgdGV4dC1hbmNob3I9Im1pZGRsZSIgZm9udC1zaXplPSIxNHB4IiBmb250LWZhbWlseT0iVmVyZGFuYSI+UDE8L3RleHQ+PC9zd2l0Y2g+PC9nPjxlbGxpcHNlIGN4PSIxMjAiIGN5PSIxNSIgcng9IjMwIiByeT0iMTUiIGZpbGw9Im5vbmUiIHN0cm9rZT0iIzAwMDAwMCIgcG9pbnRlci1ldmVudHM9Im5vbmUiLz48ZyB0cmFuc2Zvcm09InRyYW5zbGF0ZSgxMTAuNSw3LjUpIj48c3dpdGNoPjxmb3JlaWduT2JqZWN0IHN0eWxlPSJvdmVyZmxvdzp2aXNpYmxlOyIgcG9pbnRlci1ldmVudHM9ImFsbCIgd2lkdGg9IjE3IiBoZWlnaHQ9IjE0IiByZXF1aXJlZEZlYXR1cmVzPSJodHRwOi8vd3d3LnczLm9yZy9UUi9TVkcxMS9mZWF0dXJlI0V4dGVuc2liaWxpdHkiPjxkaXYgeG1sbnM9Imh0dHA6Ly93d3cudzMub3JnLzE5OTkveGh0bWwiIHN0eWxlPSJkaXNwbGF5OiBpbmxpbmUtYmxvY2s7IGZvbnQtc2l6ZTogMTRweDsgZm9udC1mYW1pbHk6IFZlcmRhbmE7IGNvbG9yOiByZ2IoMTcwLCA4NSwgMCk7IGxpbmUtaGVpZ2h0OiAxLjI7IHZlcnRpY2FsLWFsaWduOiB0b3A7IHdpZHRoOiAxOXB4OyB3aGl0ZS1zcGFjZTogbm93cmFwOyB3b3JkLXdyYXA6IG5vcm1hbDsgdGV4dC1hbGlnbjogY2VudGVyOyI+PGRpdiB4bWxucz0iaHR0cDovL3d3dy53My5vcmcvMTk5OS94aHRtbCIgc3R5bGU9ImRpc3BsYXk6aW5saW5lLWJsb2NrO3RleHQtYWxpZ246aW5oZXJpdDt0ZXh0LWRlY29yYXRpb246aW5oZXJpdDsiPlAyPC9kaXY+PC9kaXY+PC9mb3JlaWduT2JqZWN0Pjx0ZXh0IHg9IjkiIHk9IjE0IiBmaWxsPSIjQUE1NTAwIiB0ZXh0LWFuY2hvcj0ibWlkZGxlIiBmb250LXNpemU9IjE0cHgiIGZvbnQtZmFtaWx5PSJWZXJkYW5hIj5QMjwvdGV4dD48L3N3aXRjaD48L2c+PGVsbGlwc2UgY3g9IjE3MCIgY3k9Ijc1IiByeD0iMzAiIHJ5PSIxNSIgZmlsbD0ibm9uZSIgc3Ryb2tlPSIjMDAwMDAwIiBwb2ludGVyLWV2ZW50cz0ibm9uZSIvPjxnIHRyYW5zZm9ybT0idHJhbnNsYXRlKDE2MC41LDY3LjUpIj48c3dpdGNoPjxmb3JlaWduT2JqZWN0IHN0eWxlPSJvdmVyZmxvdzp2aXNpYmxlOyIgcG9pbnRlci1ldmVudHM9ImFsbCIgd2lkdGg9IjE3IiBoZWlnaHQ9IjE0IiByZXF1aXJlZEZlYXR1cmVzPSJodHRwOi8vd3d3LnczLm9yZy9UUi9TVkcxMS9mZWF0dXJlI0V4dGVuc2liaWxpdHkiPjxkaXYgeG1sbnM9Imh0dHA6Ly93d3cudzMub3JnLzE5OTkveGh0bWwiIHN0eWxlPSJkaXNwbGF5OiBpbmxpbmUtYmxvY2s7IGZvbnQtc2l6ZTogMTRweDsgZm9udC1mYW1pbHk6IFZlcmRhbmE7IGNvbG9yOiByZ2IoMTcwLCA4NSwgMCk7IGxpbmUtaGVpZ2h0OiAxLjI7IHZlcnRpY2FsLWFsaWduOiB0b3A7IHdpZHRoOiAxOXB4OyB3aGl0ZS1zcGFjZTogbm93cmFwOyB3b3JkLXdyYXA6IG5vcm1hbDsgdGV4dC1hbGlnbjogY2VudGVyOyI+PGRpdiB4bWxucz0iaHR0cDovL3d3dy53My5vcmcvMTk5OS94aHRtbCIgc3R5bGU9ImRpc3BsYXk6aW5saW5lLWJsb2NrO3RleHQtYWxpZ246aW5oZXJpdDt0ZXh0LWRlY29yYXRpb246aW5oZXJpdDsiPlAzPC9kaXY+PC9kaXY+PC9mb3JlaWduT2JqZWN0Pjx0ZXh0IHg9IjkiIHk9IjE0IiBmaWxsPSIjQUE1NTAwIiB0ZXh0LWFuY2hvcj0ibWlkZGxlIiBmb250LXNpemU9IjE0cHgiIGZvbnQtZmFtaWx5PSJWZXJkYW5hIj5QMzwvdGV4dD48L3N3aXRjaD48L2c+PHBhdGggZD0iTSA1MSA1NS41IEwgMTMzLjc4IDczLjY0IiBmaWxsPSJub25lIiBzdHJva2U9IiMwMDAwMDAiIHN0cm9rZS1taXRlcmxpbWl0PSIxMCIgcG9pbnRlci1ldmVudHM9Im5vbmUiLz48cGF0aCBkPSJNIDEzOC45MSA3NC43NiBMIDEzMS4zMiA3Ni42OCBMIDEzMy43OCA3My42NCBMIDEzMi44MiA2OS44NCBaIiBmaWxsPSIjMDAwMDAwIiBzdHJva2U9IiMwMDAwMDAiIHN0cm9rZS1taXRlcmxpbWl0PSIxMCIgcG9pbnRlci1ldmVudHM9Im5vbmUiLz48ZWxsaXBzZSBjeD0iMjIwIiBjeT0iMTUiIHJ4PSIzMCIgcnk9IjE1IiBmaWxsPSJub25lIiBzdHJva2U9IiMwMDAwMDAiIHBvaW50ZXItZXZlbnRzPSJub25lIi8+PGcgdHJhbnNmb3JtPSJ0cmFuc2xhdGUoMjEwLjUsNy41KSI+PHN3aXRjaD48Zm9yZWlnbk9iamVjdCBzdHlsZT0ib3ZlcmZsb3c6dmlzaWJsZTsiIHBvaW50ZXItZXZlbnRzPSJhbGwiIHdpZHRoPSIxNyIgaGVpZ2h0PSIxNCIgcmVxdWlyZWRGZWF0dXJlcz0iaHR0cDovL3d3dy53My5vcmcvVFIvU1ZHMTEvZmVhdHVyZSNFeHRlbnNpYmlsaXR5Ij48ZGl2IHhtbG5zPSJodHRwOi8vd3d3LnczLm9yZy8xOTk5L3hodG1sIiBzdHlsZT0iZGlzcGxheTogaW5saW5lLWJsb2NrOyBmb250LXNpemU6IDE0cHg7IGZvbnQtZmFtaWx5OiBWZXJkYW5hOyBjb2xvcjogcmdiKDE3MCwgODUsIDApOyBsaW5lLWhlaWdodDogMS4yOyB2ZXJ0aWNhbC1hbGlnbjogdG9wOyB3aWR0aDogMTlweDsgd2hpdGUtc3BhY2U6IG5vd3JhcDsgd29yZC13cmFwOiBub3JtYWw7IHRleHQtYWxpZ246IGNlbnRlcjsiPjxkaXYgeG1sbnM9Imh0dHA6Ly93d3cudzMub3JnLzE5OTkveGh0bWwiIHN0eWxlPSJkaXNwbGF5OmlubGluZS1ibG9jazt0ZXh0LWFsaWduOmluaGVyaXQ7dGV4dC1kZWNvcmF0aW9uOmluaGVyaXQ7Ij5QNDwvZGl2PjwvZGl2PjwvZm9yZWlnbk9iamVjdD48dGV4dCB4PSI5IiB5PSIxNCIgZmlsbD0iI0FBNTUwMCIgdGV4dC1hbmNob3I9Im1pZGRsZSIgZm9udC1zaXplPSIxNHB4IiBmb250LWZhbWlseT0iVmVyZGFuYSI+UDQ8L3RleHQ+PC9zd2l0Y2g+PC9nPjxwYXRoIGQ9Ik0gMTUwIDE1IEwgMTgzLjYzIDE1IiBmaWxsPSJub25lIiBzdHJva2U9IiMwMDAwMDAiIHN0cm9rZS1taXRlcmxpbWl0PSIxMCIgcG9pbnRlci1ldmVudHM9Im5vbmUiLz48cGF0aCBkPSJNIDE4OC44OCAxNSBMIDE4MS44OCAxOC41IEwgMTgzLjYzIDE1IEwgMTgxLjg4IDExLjUgWiIgZmlsbD0iIzAwMDAwMCIgc3Ryb2tlPSIjMDAwMDAwIiBzdHJva2UtbWl0ZXJsaW1pdD0iMTAiIHBvaW50ZXItZXZlbnRzPSJub25lIi8+PGVsbGlwc2UgY3g9IjMxMCIgY3k9IjQ1IiByeD0iMzAiIHJ5PSIxNSIgZmlsbD0ibm9uZSIgc3Ryb2tlPSIjMDAwMDAwIiBwb2ludGVyLWV2ZW50cz0ibm9uZSIvPjxnIHRyYW5zZm9ybT0idHJhbnNsYXRlKDMwMC41LDM3LjUpIj48c3dpdGNoPjxmb3JlaWduT2JqZWN0IHN0eWxlPSJvdmVyZmxvdzp2aXNpYmxlOyIgcG9pbnRlci1ldmVudHM9ImFsbCIgd2lkdGg9IjE3IiBoZWlnaHQ9IjE0IiByZXF1aXJlZEZlYXR1cmVzPSJodHRwOi8vd3d3LnczLm9yZy9UUi9TVkcxMS9mZWF0dXJlI0V4dGVuc2liaWxpdHkiPjxkaXYgeG1sbnM9Imh0dHA6Ly93d3cudzMub3JnLzE5OTkveGh0bWwiIHN0eWxlPSJkaXNwbGF5OiBpbmxpbmUtYmxvY2s7IGZvbnQtc2l6ZTogMTRweDsgZm9udC1mYW1pbHk6IFZlcmRhbmE7IGNvbG9yOiByZ2IoMTcwLCA4NSwgMCk7IGxpbmUtaGVpZ2h0OiAxLjI7IHZlcnRpY2FsLWFsaWduOiB0b3A7IHdpZHRoOiAxOXB4OyB3aGl0ZS1zcGFjZTogbm93cmFwOyB3b3JkLXdyYXA6IG5vcm1hbDsgdGV4dC1hbGlnbjogY2VudGVyOyI+PGRpdiB4bWxucz0iaHR0cDovL3d3dy53My5vcmcvMTk5OS94aHRtbCIgc3R5bGU9ImRpc3BsYXk6aW5saW5lLWJsb2NrO3RleHQtYWxpZ246aW5oZXJpdDt0ZXh0LWRlY29yYXRpb246aW5oZXJpdDsiPlA1PC9kaXY+PC9kaXY+PC9mb3JlaWduT2JqZWN0Pjx0ZXh0IHg9IjkiIHk9IjE0IiBmaWxsPSIjQUE1NTAwIiB0ZXh0LWFuY2hvcj0ibWlkZGxlIiBmb250LXNpemU9IjE0cHgiIGZvbnQtZmFtaWx5PSJWZXJkYW5hIj5QNTwvdGV4dD48L3N3aXRjaD48L2c+PHBhdGggZD0iTSAyNTAgMTUgTCAyODMuMyAzMS42NSIgZmlsbD0ibm9uZSIgc3Ryb2tlPSIjMDAwMDAwIiBzdHJva2UtbWl0ZXJsaW1pdD0iMTAiIHBvaW50ZXItZXZlbnRzPSJub25lIi8+PHBhdGggZD0iTSAyODggMzQgTCAyODAuMTcgMzQgTCAyODMuMyAzMS42NSBMIDI4My4zIDI3Ljc0IFoiIGZpbGw9IiMwMDAwMDAiIHN0cm9rZT0iIzAwMDAwMCIgc3Ryb2tlLW1pdGVybGltaXQ9IjEwIiBwb2ludGVyLWV2ZW50cz0ibm9uZSIvPjxwYXRoIGQ9Ik0gMjAwIDc1IFEgMjAwIDc1IDI4Mi43OCA1Ni44NiIgZmlsbD0ibm9uZSIgc3Ryb2tlPSIjMDAwMDAwIiBzdHJva2UtbWl0ZXJsaW1pdD0iMTAiIHBvaW50ZXItZXZlbnRzPSJub25lIi8+PHBhdGggZD0iTSAyODcuOTEgNTUuNzQgTCAyODEuODIgNjAuNjYgTCAyODIuNzggNTYuODYgTCAyODAuMzIgNTMuODIgWiIgZmlsbD0iIzAwMDAwMCIgc3Ryb2tlPSIjMDAwMDAwIiBzdHJva2UtbWl0ZXJsaW1pdD0iMTAiIHBvaW50ZXItZXZlbnRzPSJub25lIi8+PC9nPjwvc3ZnPg=="
     ]
    }
   },
   "cell_type": "markdown",
   "metadata": {},
   "source": [
    "A _precedence graph_ is a directed, acyclic graph. Nodes represent tasks, and arcs specify the order in which tasks are to be accomplished: a task can be executed as soon as all its predecessors have completed. For example, the dependencies of tasks to complete the construction of a house form a precedence graph. Assume that the tasks are processes of the following form:\n",
    "\n",
    "```algorithm\n",
    "process P\n",
    "    wait for predecessors, if any\n",
    "    body of P\n",
    "    signal successors, if any\n",
    "```\n",
    "  \n",
    "Using semaphores, <img style=\"float:right;border-left:6em solid white\" src=\"./img/PrecedenceGraph.svg\"/> synchronize five processes according to the precedence graph to the right. Minimize the number of semaphores and do not impose constraints not specified in the graph. For example, `P2` and `P3` can execute concurrently after `P1` completes. Complete the Python implementation below. It contains testing code that starts the five processes in random order and then checks if the trace of the processes contains only allowed interleavings."
   ]
  },
  {
   "cell_type": "code",
   "execution_count": 2,
   "metadata": {
    "deletable": false,
    "nbgrader": {
     "cell_type": "code",
     "checksum": "3b350cbeb6d801b59bfb2cd0927025dd",
     "grade": true,
     "grade_id": "cell-e2eb4c40714f19c4",
     "locked": false,
     "points": 4,
     "schema_version": 3,
     "solution": true,
     "task": false
    }
   },
   "outputs": [
    {
     "name": "stdout",
     "output_type": "stream",
     "text": [
      "P1P3P2P4P5\n",
      "P1P2P3P4P5\n",
      "P1P2P4P3P5\n",
      "P1P2P3P4P5\n",
      "P1P2P3P4P5\n",
      "P1P3P2P4P5\n",
      "P1P2P3P4P5\n",
      "P1P3P2P4P5\n",
      "P1P2P3P4P5\n",
      "P1P3P2P4P5\n",
      "P1P2P3P4P5\n",
      "P1P3P2P4P5\n",
      "P1P2P3P4P5\n",
      "P1P2P3P4P5\n",
      "P1P3P2P4P5\n",
      "P1P2P3P4P5\n",
      "P1P3P2P4P5\n",
      "P1P3P2P4P5\n",
      "P1P3P2P4P5\n",
      "P1P3P2P4P5\n"
     ]
    }
   ],
   "source": [
    "from threading import Thread, Semaphore\n",
    "from sys import stdout\n",
    "from random import sample\n",
    "\n",
    "p1, p2, p3, p4 = Semaphore(0), Semaphore(0), Semaphore(0), Semaphore(0)\n",
    "\n",
    "def doing(s):\n",
    "    global tr; e.acquire(); tr = tr + s; e.release()\n",
    "\n",
    "class P1(Thread):\n",
    "    def run(self):\n",
    "        doing('P1')\n",
    "        p1.release()\n",
    "        p1.release()\n",
    "\n",
    "class P2(Thread):\n",
    "    def run(self):\n",
    "        p1.acquire()\n",
    "        doing('P2')\n",
    "        p2.release()\n",
    "\n",
    "class P3(Thread):\n",
    "    def run(self):\n",
    "        p1.acquire()\n",
    "        doing('P3')\n",
    "        p3.release()\n",
    "\n",
    "class P4(Thread):\n",
    "    def run(self):\n",
    "        p2.acquire()\n",
    "        doing('P4')\n",
    "        p4.release()\n",
    "\n",
    "class P5(Thread):\n",
    "    def run(self):\n",
    "        p3.acquire()\n",
    "        p4.acquire()\n",
    "        doing('P5')\n",
    "\n",
    "for _ in range(20):\n",
    "    tr, e = '', Semaphore(1) # trace, lock for trace\n",
    "    PS = [P1(), P2(), P3(), P4(), P5()]\n",
    "    for p in sample(PS, k=5): p.start()\n",
    "    for p in PS: p.join()\n",
    "    print(tr)\n",
    "    assert tr in ('P1P2P3P4P5', 'P1P2P4P3P5', 'P1P3P2P4P5')"
   ]
  },
  {
   "cell_type": "code",
   "execution_count": null,
   "metadata": {},
   "outputs": [],
   "source": []
  }
 ],
 "metadata": {
  "kernelspec": {
   "display_name": "Python 3 (ipykernel)",
   "language": "python",
   "name": "python3"
  },
  "language_info": {
   "codemirror_mode": {
    "name": "ipython",
    "version": 3
   },
   "file_extension": ".py",
   "mimetype": "text/x-python",
   "name": "python",
   "nbconvert_exporter": "python",
   "pygments_lexer": "ipython3",
   "version": "3.11.2"
  }
 },
 "nbformat": 4,
 "nbformat_minor": 4
}
