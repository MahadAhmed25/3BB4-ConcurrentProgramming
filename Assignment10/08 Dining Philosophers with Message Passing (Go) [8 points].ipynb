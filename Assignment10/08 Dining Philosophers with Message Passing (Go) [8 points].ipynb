{
 "cells": [
  {
   "cell_type": "markdown",
   "metadata": {},
   "source": [
    "### Dining Philosophers with Message Passing (Go)"
   ]
  },
  {
   "cell_type": "markdown",
   "metadata": {},
   "source": [
    "A deadlock among philosophers is prevented if every philosopher picks up their lower-numbered fork first. The following program has a *runtime monitor* to check that, and the philosophers are *instrumented* with statements communicating their actions to the runtime monitor. The implementation of the philosophers is flawed as every philosopher picks up their left-hand fork (through that fork's right-hand channel) and then their right-hand fork (through that fork's left-hand channel). Hence, the runtime monitor will, at some point, flag that situation and terminate the program."
   ]
  },
  {
   "cell_type": "code",
   "execution_count": 1,
   "metadata": {},
   "outputs": [
    {
     "name": "stdout",
     "output_type": "stream",
     "text": [
      "Writing philosophers.go\n"
     ]
    }
   ],
   "source": [
    "%%writefile philosophers.go\n",
    "package main\n",
    "\n",
    "import (\"time\"; \"math/rand\")\n",
    "\n",
    "type PhilFork struct{ph int; f int}\n",
    "\n",
    "var left, right [5]chan bool\n",
    "var ph [5]string\n",
    "var log chan PhilFork\n",
    "\n",
    "func philosopherState(i int, s string) {\n",
    "    ph[i] = s; println(ph[0], ph[1], ph[2], ph[3], ph[4])\n",
    "    time.Sleep(time.Second * time.Duration(rand.Int() % 3)) // eating or thinking 0..2 sec\n",
    "}\n",
    "func fork(f int) {\n",
    "    for {\n",
    "        select {\n",
    "            case <- left[f]: <- left[f]\n",
    "            case <- right[f]: <- right[f]\n",
    "        }\n",
    "    }\n",
    "}\n",
    "func runtimemonitor() {\n",
    "    ff := []int{-1, -1, -1, -1, -1} // first picked up fork; -1 if no fork picked up\n",
    "    for p := range log {\n",
    "        if ff[p.ph] == -1 {ff[p.ph] = p.f//; println(p.ph, \"picking up\", p.f, \"first\")\n",
    "        } else {//println(p.ph, \"picking up\", p.f, \"second\")\n",
    "            if ff[p.ph] < p.f {ff[p.ph] = -1\n",
    "            } else {panic(\"higher-numbered fork picked first\")\n",
    "            }\n",
    "        }\n",
    "    }\n",
    "}\n",
    "func philosopher(ph int) {\n",
    "    for {\n",
    "        l, r := ph, (ph + 1) % 5\n",
    "        left[l] <- true; log <- PhilFork{ph, l}; right[r] <- true; log <- PhilFork{ph, r}\n",
    "        philosopherState(ph, \"eats  \")\n",
    "        left[l] <- false; right[r] <- false\n",
    "        philosopherState(ph, \"thinks\")\n",
    "    }\n",
    "}\n",
    "func main() {\n",
    "    log = make(chan PhilFork)\n",
    "    go runtimemonitor()\n",
    "    for i := 0; i < 5; i++ {left[i], right[i], ph[i] = make(chan bool), make(chan bool), \"thinks\"}\n",
    "    for i := 0; i < 5; i++ {go fork(i); go philosopher(i)}\n",
    "    time.Sleep(20 * time.Second)\n",
    "}"
   ]
  },
  {
   "cell_type": "code",
   "execution_count": 2,
   "metadata": {},
   "outputs": [
    {
     "name": "stdout",
     "output_type": "stream",
     "text": [
      "thinks thinks thinks thinks eats  \n",
      "panic: higher-numbered fork picked first\n",
      "\n",
      "goroutine 5 [running]:\n",
      "main.runtimemonitor()\n",
      "\t/home/ahmem73/Assignment10/philosophers.go:29 +0xc5\n",
      "created by main.main in goroutine 1\n",
      "\t/home/ahmem73/Assignment10/philosophers.go:45 +0x54\n",
      "exit status 2\n"
     ]
    }
   ],
   "source": [
    "!go run philosophers.go"
   ]
  },
  {
   "cell_type": "markdown",
   "metadata": {},
   "source": [
    "Modify it such that, instead of picking up the left and then the right fork, philosophers pick up the lower-numbered fork and then the higher-numbered fork! After `left[l] <- true` add `log <- PhilFork{ph, l}` and after `right[r] <- true` add `log <- PhilFork{ph, r}`, like above. [2 points]"
   ]
  },
  {
   "cell_type": "code",
   "execution_count": 1,
   "metadata": {
    "deletable": false,
    "nbgrader": {
     "cell_type": "code",
     "checksum": "34fd6a13665c467481cb271050134363",
     "grade": true,
     "grade_id": "cell-53c4bb93cb8acb36",
     "locked": false,
     "points": 2,
     "schema_version": 3,
     "solution": true,
     "task": false
    }
   },
   "outputs": [
    {
     "name": "stdout",
     "output_type": "stream",
     "text": [
      "Overwriting philosophers.go\n"
     ]
    }
   ],
   "source": [
    "%%writefile philosophers.go\n",
    "package main\n",
    "\n",
    "import (\"time\"; \"math/rand\")\n",
    "\n",
    "type PhilFork struct{ph int; f int}\n",
    "\n",
    "var left, right [5]chan bool\n",
    "var ph [5]string\n",
    "var log chan PhilFork\n",
    "\n",
    "func philosopherState(i int, s string) {\n",
    "    ph[i] = s; println(ph[0], ph[1], ph[2], ph[3], ph[4])\n",
    "    time.Sleep(time.Second * time.Duration(rand.Int() % 3)) // eating or thinking 0..2 sec\n",
    "}\n",
    "func fork(f int) {\n",
    "    for {\n",
    "        select {\n",
    "            case <- left[f]: <- left[f]\n",
    "            case <- right[f]: <- right[f]\n",
    "        }\n",
    "    }\n",
    "}\n",
    "func runtimemonitor() {\n",
    "    ff := []int{-1, -1, -1, -1, -1} // first picked up fork; -1 if no fork picked up\n",
    "    for p := range log {\n",
    "        if ff[p.ph] == -1 {ff[p.ph] = p.f//; println(p.ph, \"picking up\", p.f, \"first\")\n",
    "        } else {//println(p.ph, \"picking up\", p.f, \"second\")\n",
    "            if ff[p.ph] < p.f {ff[p.ph] = -1\n",
    "            } else {panic(\"higher-numbered fork picked first\")\n",
    "            }\n",
    "        }\n",
    "    }\n",
    "}\n",
    "func philosopher(ph int) {\n",
    "    for {\n",
    "        l, r := ph, (ph+1)%5\n",
    "        if l < r {\n",
    "            left[l] <- true; log <- PhilFork{ph,l}\n",
    "            right[r] <- true; log <- PhilFork{ph,r}\n",
    "        } else {\n",
    "            right[r] <- true; log <- PhilFork{ph,r}\n",
    "            left[l] <- true; log <- PhilFork{ph,l}\n",
    "        }\n",
    "        philosopherState(ph, \"eats  \")\n",
    "        left[l] <- false; right[r] <- false\n",
    "        philosopherState(ph, \"thinks\")\n",
    "    }\n",
    "}\n",
    "func main() {\n",
    "    log = make(chan PhilFork)\n",
    "    go runtimemonitor()\n",
    "    for i := 0; i < 5; i++ {left[i], right[i], ph[i] = make(chan bool), make(chan bool), \"thinks\"}\n",
    "    for i := 0; i < 5; i++ {go fork(i); go philosopher(i)}\n",
    "    time.Sleep(20 * time.Second)\n",
    "}"
   ]
  },
  {
   "cell_type": "code",
   "execution_count": 2,
   "metadata": {},
   "outputs": [
    {
     "name": "stdout",
     "output_type": "stream",
     "text": [
      "thinks thinks thinks thinks eats  \n",
      "thinks thinks thinks thinks thinks\n",
      "thinks thinks thinks eats   thinks\n",
      "thinks thinks thinks thinks thinks\n",
      "thinks thinks eats   thinks thinks\n",
      "thinks thinks thinks thinks thinks\n",
      "thinks thinks eats   thinks thinks\n",
      "thinks thinks thinks thinks thinks\n",
      "thinks thinks thinks eats   thinks\n",
      "thinks eats   thinks thinks thinks\n",
      "thinks eats   thinks eats   thinks\n",
      "thinks thinks thinks thinks thinks\n",
      "thinks thinks eats   thinks thinks\n",
      "eats   thinks eats   thinks thinks\n",
      "thinks thinks eats   thinks thinks\n",
      "thinks thinks eats   thinks eats  \n",
      "thinks thinks eats   thinks thinks\n",
      "thinks thinks eats   thinks eats  \n",
      "thinks thinks eats   thinks thinks\n",
      "thinks thinks thinks thinks thinks\n",
      "thinks eats   thinks thinks thinks\n",
      "thinks eats   thinks eats   thinks\n",
      "eats   thinks thinks eats   thinks\n",
      "thinks thinks thinks eats   thinks\n",
      "thinks thinks thinks eats   thinks\n",
      "thinks thinks eats   thinks thinks\n",
      "thinks thinks thinks thinks thinks\n",
      "thinks thinks thinks thinks eats  \n",
      "thinks thinks eats   thinks thinks\n",
      "thinks thinks eats   thinks eats  \n",
      "thinks thinks thinks thinks thinks\n",
      "thinks thinks eats   thinks eats  \n",
      "thinks thinks eats   thinks thinks\n",
      "thinks thinks thinks thinks thinks\n",
      "thinks eats   thinks thinks thinks\n",
      "thinks thinks thinks eats   thinks\n",
      "thinks eats   thinks eats   thinks\n",
      "eats   thinks thinks eats   thinks\n",
      "thinks thinks thinks eats   thinks\n",
      "thinks thinks thinks thinks thinks\n",
      "thinks thinks eats   thinks thinks\n",
      "thinks thinks thinks thinks thinks\n",
      "thinks thinks thinks thinks eats  \n",
      "thinks thinks eats   thinks eats  \n",
      "thinks thinks thinks thinks eats  \n",
      "thinks thinks thinks thinks thinks\n",
      "thinks eats   thinks thinks thinks\n",
      "thinks thinks thinks thinks thinks\n",
      "thinks thinks thinks eats   thinks\n",
      "thinks thinks thinks thinks thinks\n",
      "thinks thinks eats   thinks thinks\n",
      "thinks thinks thinks thinks thinks\n",
      "thinks thinks thinks eats   thinks\n",
      "thinks eats   thinks thinks thinks\n",
      "thinks eats   thinks eats   thinks\n",
      "thinks eats   thinks eats   thinks\n",
      "thinks thinks thinks eats   thinks\n",
      "eats   thinks thinks eats   thinks\n",
      "thinks thinks thinks eats   thinks\n",
      "thinks thinks thinks thinks thinks\n",
      "thinks thinks eats   thinks thinks\n",
      "thinks thinks eats   thinks eats  \n",
      "thinks thinks eats   thinks thinks\n",
      "thinks thinks thinks thinks thinks\n",
      "thinks eats   thinks thinks thinks\n",
      "thinks thinks thinks thinks thinks\n",
      "thinks thinks thinks eats   thinks\n",
      "eats   thinks thinks eats   thinks\n",
      "eats   thinks thinks thinks thinks\n",
      "eats   thinks eats   thinks thinks\n",
      "eats   thinks thinks thinks thinks\n"
     ]
    }
   ],
   "source": [
    "!go run philosophers.go"
   ]
  },
  {
   "cell_type": "markdown",
   "metadata": {},
   "source": [
    "Realizing their eternal dilemma, the Dining Philosophers decide to hire a footman whose task to allow only four philosophers to sit on the table; the philosophers agree to think in the library. When entering and exiting the dining hall, the philosophers have to check with the footman. Complete `footman` below! [4 points]"
   ]
  },
  {
   "cell_type": "code",
   "execution_count": 7,
   "metadata": {
    "deletable": false,
    "nbgrader": {
     "cell_type": "code",
     "checksum": "9c11d10f0c7d4296cf8fbc59841f294e",
     "grade": true,
     "grade_id": "cell-78faa116d663f208",
     "locked": false,
     "points": 4,
     "schema_version": 3,
     "solution": true,
     "task": false
    }
   },
   "outputs": [
    {
     "name": "stdout",
     "output_type": "stream",
     "text": [
      "Overwriting philosophers.go\n"
     ]
    }
   ],
   "source": [
    "%%writefile philosophers.go\n",
    "package main\n",
    "\n",
    "import (\"time\"; \"math/rand\")\n",
    "\n",
    "var left, right [5]chan bool\n",
    "var ph [5]string\n",
    "var enter, exit chan bool\n",
    "var log chan string\n",
    "\n",
    "func footman() {\n",
    "    occ := 0\n",
    "    for {\n",
    "        if occ<4 {\n",
    "            select{\n",
    "                case <- enter:\n",
    "                    occ += 1\n",
    "                case <- exit:\n",
    "                    occ -= 1\n",
    "            }\n",
    "        } else {\n",
    "            <- exit\n",
    "            occ -= 1\n",
    "        }\n",
    "    }\n",
    "}\n",
    "func runtimemonitor() {\n",
    "    sitting := 0\n",
    "    for m := range log {\n",
    "        if m == \"exit\" {\n",
    "            sitting -= 1\n",
    "        } else {sitting += 1; if sitting == 5 {panic(\"5 philosophers sitting\")}\n",
    "        }\n",
    "    }\n",
    "}\n",
    "func philosopherState(i int, s string) {\n",
    "    ph[i] = s; println(ph[0], ph[1], ph[2], ph[3], ph[4])\n",
    "    time.Sleep(time.Second * time.Duration(rand.Int() % 3)) // eating or thinking 0..2 sec\n",
    "}\n",
    "func fork(i int) {\n",
    "    for {\n",
    "        select {\n",
    "            case <-left[i]: <- left[i]\n",
    "            case <-right[i]: <- right[i]\n",
    "        }\n",
    "    }\n",
    "}\n",
    "func philosopher(i int) {\n",
    "    for {\n",
    "        enter <- true; log <- \"enter\"\n",
    "        left[i] <- true; right[(i + 1) % 5] <- true\n",
    "        philosopherState(i, \"eats  \")\n",
    "        left[i] <- false; right[(i + 1) % 5] <- false\n",
    "        philosopherState(i, \"thinks\")\n",
    "        log <- \"exit\"; \n",
    "        exit <- true\n",
    "    }\n",
    "}\n",
    "func main() {\n",
    "    for i := 0; i < 5; i++ {left[i], right[i], ph[i] = make(chan bool), make(chan bool), \"thinks\"}\n",
    "    enter, exit, log = make(chan bool), make(chan bool), make(chan string)\n",
    "    go footman(); go runtimemonitor()\n",
    "    for i := 0; i < 5; i++ {go fork(i); go philosopher(i)}\n",
    "    time.Sleep(20 * time.Second)\n",
    "}"
   ]
  },
  {
   "cell_type": "code",
   "execution_count": 8,
   "metadata": {},
   "outputs": [
    {
     "name": "stdout",
     "output_type": "stream",
     "text": [
      "thinks thinks thinks thinks eats  \n",
      "thinks thinks eats   thinks eats  \n",
      "thinks eats   eats   thinks eats  \n",
      "thinks eats   thinks thinks eats  \n",
      "thinks eats   thinks thinks thinks\n",
      "thinks eats   thinks eats   thinks\n",
      "eats   thinks thinks eats   thinks\n",
      "thinks thinks thinks eats   thinks\n",
      "thinks thinks thinks eats   thinks\n",
      "thinks thinks thinks thinks thinks\n",
      "thinks thinks eats   thinks thinks\n",
      "thinks thinks eats   thinks eats  \n",
      "thinks thinks eats   thinks thinks\n",
      "thinks thinks thinks thinks thinks\n",
      "thinks eats   thinks thinks thinks\n",
      "thinks eats   thinks eats   thinks\n",
      "thinks eats   thinks thinks thinks\n",
      "thinks thinks thinks thinks thinks\n",
      "eats   thinks thinks thinks thinks\n",
      "thinks thinks thinks thinks thinks\n",
      "thinks thinks thinks thinks eats  \n",
      "thinks thinks eats   thinks thinks\n",
      "eats   thinks eats   thinks thinks\n",
      "thinks thinks eats   thinks eats  \n",
      "thinks thinks eats   thinks thinks\n",
      "thinks thinks eats   thinks eats  \n",
      "thinks thinks thinks thinks eats  \n",
      "thinks thinks thinks thinks thinks\n",
      "thinks thinks thinks eats   thinks\n",
      "thinks eats   thinks thinks thinks\n",
      "thinks eats   thinks eats   thinks\n",
      "thinks thinks thinks thinks thinks\n",
      "eats   thinks thinks thinks thinks\n",
      "thinks thinks thinks thinks thinks\n",
      "thinks thinks thinks thinks eats  \n",
      "thinks thinks thinks thinks thinks\n",
      "thinks thinks thinks eats   thinks\n",
      "thinks thinks thinks thinks thinks\n",
      "thinks thinks eats   thinks thinks\n",
      "thinks thinks thinks thinks thinks\n",
      "thinks eats   thinks thinks thinks\n",
      "thinks thinks thinks thinks thinks\n",
      "eats   thinks thinks thinks thinks\n"
     ]
    }
   ],
   "source": [
    "!go run philosophers.go"
   ]
  },
  {
   "cell_type": "markdown",
   "metadata": {},
   "source": [
    "Above code is instrumented for monitoring that not more than 4 philosophers are sitting at the table. Is the monitor *sound*, meaning it only reports if there are indeed 5 philosophers at the table, and is it *complete*, meaning that it never misses a state in which there are 5 philosophers? [1 point]"
   ]
  },
  {
   "cell_type": "markdown",
   "metadata": {
    "deletable": false,
    "nbgrader": {
     "cell_type": "markdown",
     "checksum": "3ebdd2a34e64f25a2e47c177eb31e067",
     "grade": true,
     "grade_id": "cell-910f824400fdab0b",
     "locked": false,
     "points": 1,
     "schema_version": 3,
     "solution": true,
     "task": false
    }
   },
   "source": [
    "The monitor is sound since it makes sure no more than 4 can sit at the table and it also raises a panic if more than 4 are sitting at the table. the monitor isnt complete since the asynch nature of channel communication there can be race conditions that could occur. due to this the monitor could miss a state where there is infact 5 philosophers at the table"
   ]
  },
  {
   "cell_type": "markdown",
   "metadata": {},
   "source": [
    "Running any of above versions with runtime race detection of Go enabled should detect a race condition. Where does it originate and is it critical for the correctness of the program? [1 point]"
   ]
  },
  {
   "cell_type": "code",
   "execution_count": null,
   "metadata": {},
   "outputs": [],
   "source": [
    "!go run -race philosophers.go"
   ]
  },
  {
   "cell_type": "markdown",
   "metadata": {
    "deletable": false,
    "nbgrader": {
     "cell_type": "markdown",
     "checksum": "767ae5a49384081a52434d4581cc4705",
     "grade": true,
     "grade_id": "cell-5a3986fddce3c754",
     "locked": false,
     "points": 1,
     "schema_version": 3,
     "solution": true,
     "task": false
    }
   },
   "source": [
    "the race conditions detected originate from the unsynch shared access of the ph array which is being modified by multiple goroutines without any synch mechanisms in place. The main purpose of this array is for logging so it does not effect the correctness of the program"
   ]
  }
 ],
 "metadata": {
  "kernelspec": {
   "display_name": "Python 3 (ipykernel)",
   "language": "python",
   "name": "python3"
  },
  "language_info": {
   "codemirror_mode": {
    "name": "ipython",
    "version": 3
   },
   "file_extension": ".py",
   "mimetype": "text/x-python",
   "name": "python",
   "nbconvert_exporter": "python",
   "pygments_lexer": "ipython3",
   "version": "3.11.5"
  }
 },
 "nbformat": 4,
 "nbformat_minor": 4
}
