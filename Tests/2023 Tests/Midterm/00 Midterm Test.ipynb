{
 "cells": [
  {
   "cell_type": "markdown",
   "id": "771bb8b2-fae2-41bc-8807-1c6511ace3a5",
   "metadata": {},
   "source": [
    "### SFWRENG 3BB4 Software Design II - Concurrent System Design, Fall 2023/24, McMaster University\n",
    "\n",
    "**Midterm Test, Tuesday, October 31, 2:30 - 3:20 pm.**\n",
    "\n",
    "The test is graded out of 24, the maximum is 27.\n",
    "\n",
    "**Emil Sekerinski (instructor), Mohamed Aly, Yili Liu (TAs)**"
   ]
  },
  {
   "cell_type": "markdown",
   "id": "7d6f95fd-c8ec-45d4-a62c-9e228ad30627",
   "metadata": {},
   "source": [
    "- Accessing any other material on jhub3bb4, on your computer, on the web, or through any other means is not allowed. This includes the course notes, assignments, practice tests of this course, and generative AI. Any attempt to access other material will be treated as Academic Dishonesty.\n",
    "- Please stay in the test room until the end of the test. If you are done early, you cannot use your computer or tablet for anything else!"
   ]
  },
  {
   "cell_type": "markdown",
   "id": "8686593e-7b60-44cb-b396-cb97e632a29f",
   "metadata": {},
   "source": [
    "> Academic dishonesty is to knowingly act or fail to act in a way that results or could result in unearned academic credit or advantage.  This behaviour can result in serious consequences, e.g. the grade of zero on an assignment, loss of credit with a notation on the transcript (notation reads: “Grade of F assigned for academic dishonesty”) and/or suspension or expulsion from the university.\n",
    ">\n",
    "> By submitting this work, I certify that the work represents solely my own independent efforts. I confirm that I am expected to exhibit honesty and use ethical behaviour in all aspects of the learning process.  I confirm that it is my responsibility to understand what constitutes academic dishonesty under the [Academic Integrity Policy](https://secretariat.mcmaster.ca/app/uploads/Academic-Integrity-Policy-1-1.pdf)"
   ]
  }
 ],
 "metadata": {
  "kernelspec": {
   "display_name": "Python 3 (ipykernel)",
   "language": "python",
   "name": "python3"
  },
  "language_info": {
   "codemirror_mode": {
    "name": "ipython",
    "version": 3
   },
   "file_extension": ".py",
   "mimetype": "text/x-python",
   "name": "python",
   "nbconvert_exporter": "python",
   "pygments_lexer": "ipython3",
   "version": "3.11.2"
  }
 },
 "nbformat": 4,
 "nbformat_minor": 5
}
