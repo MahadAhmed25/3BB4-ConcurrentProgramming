{
 "cells": [
  {
   "cell_type": "markdown",
   "metadata": {},
   "source": [
    "### Generalized Odd-Even Sort with Semaphores (Python) [4 points]"
   ]
  },
  {
   "cell_type": "markdown",
   "metadata": {},
   "source": [
    "In odd-even sort, pairs of consecutive elements are swapped in phases: First, the pairs at indices (0, 1), (2, 3), (4, 5), ... are swapped if necessary, then those at indices (1, 2), (3, 4), (5, 6), ..., then this is repeated until all elements are sorted:\n",
    "\n",
    "| 0 | 1 | 2 | 3 | 4 | 5 | 6 | 7 | 8 | 9 | index   |\n",
    "| - | - | - | - | - | - | - | - | - | - |:------- |\n",
    "| 8 | 1 | 7 | 0 | 4 | 5 | 3 | 9 | 6 | 2 | initial |\n",
    "| 1 | 8 | 0 | 7 | 4 | 5 | 3 | 9 | 2 | 6 | swapping at even-odd indices |\n",
    "| 1 | 0 | 8 | 4 | 7 | 3 | 5 | 2 | 9 | 6 | swapping at odd-even indices |\n",
    "| 0 | 1 | 4 | 8 | 3 | 7 | 2 | 5 | 6 | 9 | swapping at even-odd indices |\n",
    "| 0 | 1 | 4 | 3 | 8 | 2 | 7 | 5 | 6 | 9 | swapping at odd-even indices |\n",
    "| 0 | 1 | 3 | 4 | 2 | 8 | 5 | 7 | 6 | 9 | swapping at even-odd indices |\n",
    "| 0 | 1 | 3 | 2 | 4 | 5 | 8 | 6 | 7 | 9 | swapping at odd-even indices |\n",
    "| 0 | 1 | 2 | 3 | 4 | 5 | 6 | 8 | 7 | 9 | swapping at even-odd indices |\n",
    "| 0 | 1 | 2 | 3 | 4 | 5 | 6 | 7 | 8 | 9 | swapping at odd-even indices |\n",
    "\n",
    "Like bubble sort, the algorithm is based on swapping (sorting) consecutive elements. Here, all swaps in one phase can be done in parallel. If there are `N` elements, approximately `N / 2` processes can swap elements in parallel. If `N` is large, that would lead to a prohibitive number of processes. In the generalized odd-even sort, each process does not sort two consecutive elements but a subsequence. Suppose two processes are sorting the 10 elements above. In the first phase, one process sorts at indices 0 .. 3 and the other at 4 .. 7. In the second phase, one process sorts at indices 2 .. 5 and the other at 6 .. 9. Then, this is repeated until all elements are sorted:\n",
    "\n",
    "| 0 | 1 | 2 | 3 | 4 | 5 | 6 | 7 | 8 | 9 | index   |\n",
    "| - | - | - | - | - | - | - | - | - | - |:------- |\n",
    "| 8 | 1 | 7 | 0 | 4 | 5 | 3 | 9 | 6 | 2 | initial |\n",
    "| 0 | 1 | 7 | 8 | 3 | 4 | 5 | 9 | 6 | 2 | sorting 0 .. 3 and 4 .. 7 |\n",
    "| 0 | 1 | 3 | 4 | 7 | 8 | 2 | 5 | 6 | 9 | sorting 2 .. 5 and 6 .. 9 |\n",
    "| 0 | 1 | 3 | 4 | 2 | 5 | 7 | 8 | 6 | 9 | sorting 0 .. 3 and 4 .. 7 |\n",
    "| 0 | 1 | 2 | 3 | 4 | 5 | 6 | 7 | 8 | 9 | sorting 2 .. 5 and 6 .. 9 |\n",
    "\n",
    "Generalizing this to `N` elements and `P` processes, each process sorts approximately `N / P` elements sequentially. In the implementation below, quicksort is used for sequential sorting. Each round consists of two sorting phases. For simplicity, the array and the barriers are kept as global variables. This Python implementation is not going to be faster than a sequential implementation due to the [global interpreter lock](https://docs.python.org/3/glossary.html#term-global-interpreter-lock), but it illustrates the point. To simplify the index calculations, `oddevensort` computes the list size to be sorted from the number of threads and the number of elements each thread sorts. A random list is then generated. You can uncomment some lines with test output to see the program work, but be aware that the output may be asynchronous."
   ]
  },
  {
   "cell_type": "code",
   "execution_count": 6,
   "metadata": {
    "deletable": false,
    "nbgrader": {
     "cell_type": "code",
     "checksum": "1feedfba0e65872258975a171b864963",
     "grade": true,
     "grade_id": "cell-3996c4180a0ad718",
     "locked": false,
     "points": 4,
     "schema_version": 3,
     "solution": true,
     "task": false
    },
    "solution": "shown"
   },
   "outputs": [],
   "source": [
    "from threading import Thread, Semaphore\n",
    "from time import sleep\n",
    "from sys import stdout\n",
    "from random import random, shuffle\n",
    "\n",
    "class Sorter(Thread):\n",
    "    def __init__(self, l0, u0, l1, u1, i, r):\n",
    "        # stdout.write(\"Sorter \" + str(i) + \" init \" + str(l0) + \" \" + str(u0) + \" \" + \\\n",
    "        #             str(l1) + \" \" + str(u1) + \"\\n\")\n",
    "        Thread.__init__(self)\n",
    "        self.l0, self.u0, self.l1, self.u1 = l0, u0, l1, u1\n",
    "        self.i, self.r = i, r\n",
    "\n",
    "    def partition(self, p, r):\n",
    "        global a\n",
    "        x, i = a[r], p - 1;\n",
    "        for j in range(p, r):\n",
    "            if a[j] <= x: i += 1; a[i], a[j] = a[j], a[i]\n",
    "        a[i + 1], a[r] = a[r], a[i + 1]\n",
    "        return i + 1\n",
    "\n",
    "    def sequentialsort(self, p, r):\n",
    "        if p < r:\n",
    "            q = self.partition(p, r)\n",
    "            self.sequentialsort(p, q - 1)\n",
    "            self.sequentialsort(q + 1, r)\n",
    "\n",
    "    def barriersync(self):\n",
    "        for j in range (len(barriers)): \n",
    "            if j != self.i: barriers[j].release()\n",
    "        for _ in range (len(barriers)-1): barriers[self.i].acquire()\n",
    "\n",
    "    def run(self):\n",
    "        for r in range(self.r):\n",
    "            stdout.write(str(self.i) + \" sorts \" + str(self.l0) + \" to \" + str(self.u0) + \" round \" + str(r) + \"\\n\")\n",
    "            self.sequentialsort(self.l0, self.u0)\n",
    "            #sleep(random())\n",
    "            self.barriersync()\n",
    "            stdout.write(str(self.i) + \" sorts \" + str(self.l1) + \" to \" + str(self.u1) + \" round \" + str(r) + \"\\n\")\n",
    "            self.sequentialsort(self.l1, self.u1)\n",
    "            #sleep(random())\n",
    "            self.barriersync()\n",
    "\n",
    "def oddevensort(P, M):\n",
    "    # P: number of sorting threads\n",
    "    # M: number of elements each thread sorts sequentially\n",
    "    N = P * M + M // 2 # number of elements to be sorted\n",
    "    print(\"size\", N)\n",
    "    global a; a = list(range(N)); shuffle(a)\n",
    "    # print(\"init\", a)\n",
    "    # initialization of (global) barriers\n",
    "    global barriers; barriers = []\n",
    "    for _ in range(P): barriers.append(Semaphore(0))\n",
    "        \n",
    "    sorters = []\n",
    "    for i in range(P):\n",
    "        s = Sorter(i * M, (i + 1) * M - 1, i * M + M // 2, (i + 1) * M + M // 2 - 1, i, P + 1)\n",
    "        s.start(); sorters.append(s)\n",
    "    for s in sorters: s.join()\n",
    "    print(\"sorted\", a)\n",
    "    assert a == list(range(N))"
   ]
  },
  {
   "cell_type": "code",
   "execution_count": 7,
   "metadata": {},
   "outputs": [
    {
     "name": "stdout",
     "output_type": "stream",
     "text": [
      "size 25\n",
      "0 sorts 0 to 9 round 0\n",
      "1 sorts 10 to 19 round 0\n",
      "1 sorts 15 to 24 round 0\n",
      "0 sorts 5 to 14 round 0\n",
      "0 sorts 0 to 9 round 1\n",
      "1 sorts 10 to 19 round 1\n",
      "1 sorts 15 to 24 round 1\n",
      "0 sorts 5 to 14 round 1\n",
      "0 sorts 0 to 9 round 2\n",
      "1 sorts 10 to 19 round 2\n",
      "1 sorts 15 to 24 round 2\n",
      "0 sorts 5 to 14 round 2\n",
      "sorted [0, 1, 2, 3, 4, 5, 6, 7, 8, 9, 10, 11, 12, 13, 14, 15, 16, 17, 18, 19, 20, 21, 22, 23, 24]\n"
     ]
    }
   ],
   "source": [
    "oddevensort(2, 10)"
   ]
  },
  {
   "cell_type": "code",
   "execution_count": 8,
   "metadata": {},
   "outputs": [
    {
     "name": "stdout",
     "output_type": "stream",
     "text": [
      "size 45\n",
      "0 sorts 0 to 9 round 0\n",
      "1 sorts 10 to 19 round 0\n",
      "2 sorts 20 to 29 round 0\n",
      "3 sorts 30 to 39 round 0\n",
      "3 sorts 35 to 44 round 0\n",
      "0 sorts 5 to 14 round 0\n",
      "2 sorts 25 to 34 round 0\n",
      "1 sorts 15 to 24 round 0\n",
      "1 sorts 10 to 19 round 1\n",
      "0 sorts 0 to 9 round 1\n",
      "2 sorts 20 to 29 round 1\n",
      "3 sorts 30 to 39 round 1\n",
      "3 sorts 35 to 44 round 1\n",
      "1 sorts 15 to 24 round 1\n",
      "2 sorts 25 to 34 round 1\n",
      "0 sorts 5 to 14 round 1\n",
      "0 sorts 0 to 9 round 2\n",
      "2 sorts 20 to 29 round 2\n",
      "3 sorts 30 to 39 round 2\n",
      "1 sorts 10 to 19 round 2\n",
      "1 sorts 15 to 24 round 2\n",
      "2 sorts 25 to 34 round 2\n",
      "0 sorts 5 to 14 round 2\n",
      "3 sorts 35 to 44 round 2\n",
      "3 sorts 30 to 39 round 3\n",
      "0 sorts 0 to 9 round 3\n",
      "2 sorts 20 to 29 round 3\n",
      "1 sorts 10 to 19 round 3\n",
      "1 sorts 15 to 24 round 3\n",
      "3 sorts 35 to 44 round 3\n",
      "2 sorts 25 to 34 round 3\n",
      "0 sorts 5 to 14 round 3\n",
      "0 sorts 0 to 9 round 4\n",
      "2 sorts 20 to 29 round 4\n",
      "1 sorts 10 to 19 round 4\n",
      "3 sorts 30 to 39 round 4\n",
      "3 sorts 35 to 44 round 4\n",
      "0 sorts 5 to 14 round 4\n",
      "2 sorts 25 to 34 round 4\n",
      "1 sorts 15 to 24 round 4\n",
      "sorted [0, 1, 2, 3, 4, 5, 6, 7, 8, 9, 10, 11, 12, 13, 14, 15, 16, 17, 18, 19, 20, 21, 22, 23, 24, 25, 26, 27, 28, 29, 30, 31, 32, 33, 34, 35, 36, 37, 38, 39, 40, 41, 42, 43, 44]\n"
     ]
    }
   ],
   "source": [
    "oddevensort(4, 10)"
   ]
  },
  {
   "cell_type": "code",
   "execution_count": null,
   "metadata": {},
   "outputs": [],
   "source": []
  }
 ],
 "metadata": {
  "kernelspec": {
   "display_name": "Python 3 (ipykernel)",
   "language": "python",
   "name": "python3"
  },
  "language_info": {
   "codemirror_mode": {
    "name": "ipython",
    "version": 3
   },
   "file_extension": ".py",
   "mimetype": "text/x-python",
   "name": "python",
   "nbconvert_exporter": "python",
   "pygments_lexer": "ipython3",
   "version": "3.11.2"
  }
 },
 "nbformat": 4,
 "nbformat_minor": 4
}
