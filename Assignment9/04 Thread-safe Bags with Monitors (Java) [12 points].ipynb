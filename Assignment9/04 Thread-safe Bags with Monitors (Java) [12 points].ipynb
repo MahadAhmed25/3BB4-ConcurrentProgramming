{
 "cells": [
  {
   "cell_type": "markdown",
   "metadata": {},
   "source": [
    "### Thread-safe Bags with Monitors (Java)\n",
    "\n",
    "A bag (multiset) is a data structure in which the order of elements does not matter, like in a set, but in which an element can occur multiple times, like in a sequence. Here, we assume that all elements are integers:\n",
    "- `insert(e)` adds integer `e` to the bag,\n",
    "- `delete(e)` removes one occurrence of `e` from the bag, if there is one, otherwise does nothing,\n",
    "- `has(e)` returns true if `e` occurs at least once in the bag.\n",
    "\n",
    "The implementation below uses a singly linked list of nodes with a pointer to the first and last node. A bag always has an \"empty\" first node that does not contain an element but simplifies deletion.\n",
    "- `insert(e)` adds a node with `e` at the end of the list,\n",
    "- `delete(e)` removes the first node with `e`, assuming that a node with `e` exists, otherwise does nothing,\n",
    "- `has(e)` returns true if a node with `e` is found."
   ]
  },
  {
   "cell_type": "code",
   "execution_count": 1,
   "metadata": {},
   "outputs": [
    {
     "name": "stdout",
     "output_type": "stream",
     "text": [
      "Writing bags.java\n"
     ]
    }
   ],
   "source": [
    "%%writefile bags.java\n",
    "class Node {\n",
    "    int e;\n",
    "    Node next = null;\n",
    "}\n",
    "class Bag {\n",
    "    Node first, last; // first points to empty node\n",
    "    // invariant: first != null && last != null && last.next == null &&\n",
    "    // from first, following the next fields, last can be reached\n",
    "    void print() {\n",
    "        Node n = first;\n",
    "        while (n != last) {\n",
    "            n = n.next; System.out.print(n.e + \" \");\n",
    "        }\n",
    "        System.out.println();\n",
    "    }\n",
    "    Bag() {\n",
    "        first = new Node(); last = first;\n",
    "    }\n",
    "    void insert(int e) {\n",
    "        Node n = new Node();\n",
    "        n.e = e; last.next = n; last = n;\n",
    "    }\n",
    "    void delete(int e) {\n",
    "        Node n = first;\n",
    "        while (n != last && n.next.e != e) n = n.next;\n",
    "        if (n != last) {\n",
    "            if (n.next == last) last = n;\n",
    "            n.next = n.next.next;\n",
    "        }\n",
    "    }\n",
    "    boolean has(int e) {\n",
    "        Node n = first;\n",
    "        while (n != last && n.next.e != e) n = n.next;\n",
    "        return n != last;\n",
    "    }\n",
    "}\n",
    "class TestBag {\n",
    "    public static void main(String[] args) {\n",
    "        Bag b = new Bag();\n",
    "        b.insert(5); b.print();\n",
    "        b.insert(7); b.print();\n",
    "        b.delete(7); b.print();\n",
    "        System.out.println(b.has(5)); // false\n",
    "        System.out.println(b.has(7)); // true\n",
    "        System.out.println(b.has(3)); // false\n",
    "    }\n",
    "}"
   ]
  },
  {
   "cell_type": "code",
   "execution_count": 2,
   "metadata": {},
   "outputs": [],
   "source": [
    "!javac bags.java"
   ]
  },
  {
   "cell_type": "code",
   "execution_count": 3,
   "metadata": {},
   "outputs": [
    {
     "name": "stdout",
     "output_type": "stream",
     "text": [
      "5 \n",
      "5 7 \n",
      "5 \n",
      "true\n",
      "false\n",
      "false\n"
     ]
    }
   ],
   "source": [
    "!java TestBag"
   ]
  },
  {
   "cell_type": "markdown",
   "metadata": {},
   "source": [
    "Suppose three kinds of processes access a bag concurrently: _inserters_ calling `insert`, _deleters_ calling `delete`, and _searchers_ calling `has`. Explain why class `Bag` is not thread-safe with an example!"
   ]
  },
  {
   "cell_type": "markdown",
   "metadata": {
    "deletable": false,
    "nbgrader": {
     "cell_type": "markdown",
     "checksum": "8818694c0432f054a3d029972605dfc2",
     "grade": true,
     "grade_id": "cell-ac180611430366b6",
     "locked": false,
     "points": 2,
     "schema_version": 3,
     "solution": true,
     "task": false
    }
   },
   "source": [
    "Example:\n",
    "Thread A which is calling insert(1)\n",
    "Thread B which is called delete(1)\n",
    "\n",
    "this may lead to race conditions since Thread B may not be aware of the update that Thread A made, this could lead to unexpected outcomes for what Thread B may delete. "
   ]
  },
  {
   "cell_type": "markdown",
   "metadata": {},
   "source": [
    "The following restrictions make the above implementation of bags thread-safe:\n",
    "- An inserter must exclude other inserters and deleters\n",
    "- A deleter must exclude other deleters, inserters, and searchers\n",
    "- A searcher must exclude deleters\n",
    "\n",
    "Modify the implementation below accordingly! State the class invariant of any fields that you introduce! The implementation below is *instrumented* with statements for *logging* the execution. These statements record in the field `log`, a string, whenever the actual insertion, deletion, and search start and end."
   ]
  },
  {
   "cell_type": "code",
   "execution_count": 6,
   "metadata": {
    "deletable": false,
    "nbgrader": {
     "cell_type": "code",
     "checksum": "d520eac5698f3fcb882e16cc4ba5ac15",
     "grade": true,
     "grade_id": "cell-c1175bcf8d41e12b",
     "locked": false,
     "points": 10,
     "schema_version": 3,
     "solution": true,
     "task": false
    }
   },
   "outputs": [
    {
     "name": "stdout",
     "output_type": "stream",
     "text": [
      "Overwriting threadsafebags.java\n"
     ]
    }
   ],
   "source": [
    "%%writefile threadsafebags.java\n",
    "import java.util.Random;\n",
    "import java.util.regex.Pattern;\n",
    "class Node {\n",
    "    int e;\n",
    "    Node next = null;\n",
    "}\n",
    "class Bag {\n",
    "    Node first, last; // first points to empty node\n",
    "    String log = \"\";\n",
    "    // invariant: first != null && last != null && last.next == null &&\n",
    "    // from first, following the next fields, last can be reached\n",
    "    Object insertLock = new Object();\n",
    "    Object deleteLock = new Object();\n",
    "    Object searchLock = new Object();\n",
    "    void print() {\n",
    "        Node n = first;\n",
    "        while (n != last) {\n",
    "            n = n.next; System.out.println(n.e);\n",
    "        }\n",
    "    }\n",
    "    Bag() {\n",
    "        first = new Node(); last = first;\n",
    "    }\n",
    "    void insert(int e) {\n",
    "        synchronized (deleteLock) {\n",
    "            synchronized (insertLock) {\n",
    "                synchronized (log) {log += \"I\";}\n",
    "                Node n = new Node();\n",
    "                n.e = e; last.next = n; last = n;\n",
    "                synchronized (log) {log += \"i\";}\n",
    "            }\n",
    "        }\n",
    "    }\n",
    "    void delete(int e) {\n",
    "        synchronized (deleteLock) {\n",
    "            synchronized (insertLock) {\n",
    "                synchronized (searchLock) {\n",
    "                    synchronized (log) {log += \"D\";}\n",
    "                    Node n = first;\n",
    "                    while (n != last && n.next.e != e) n = n.next;\n",
    "                    if (n != last) {\n",
    "                        if (n.next == last) last = n;\n",
    "                        n.next = n.next.next;\n",
    "                    }\n",
    "                    synchronized (log) {log += \"d\";}\n",
    "                }\n",
    "            }\n",
    "        }\n",
    "    }\n",
    "    boolean has(int e) {\n",
    "        synchronized (deleteLock) {\n",
    "            synchronized (log) {log += \"H\";}\n",
    "            Node n = first;\n",
    "            while (n != last && n.next.e != e) n = n.next;\n",
    "            boolean found = n != last;\n",
    "            synchronized (log) {log += \"h\";}\n",
    "            return found;\n",
    "        }\n",
    "        \n",
    "    }\n",
    "}\n",
    "\n",
    "class Inserter extends Thread {\n",
    "    Bag b;\n",
    "    int s;\n",
    "    Inserter(Bag b, int s) {\n",
    "        this.b = b; this.s = s;\n",
    "    }\n",
    "    public void run() {\n",
    "        Random r = new Random();\n",
    "        for (int i = 0; i < s; i++) {\n",
    "            b.insert(r.nextInt(100));\n",
    "        }\n",
    "    }\n",
    "}\n",
    "class Deleter extends Thread {\n",
    "    Bag b;\n",
    "    int s;\n",
    "    Deleter(Bag b, int s) {\n",
    "        Random r = new Random();\n",
    "        this.b = b; this.s = s;\n",
    "    }\n",
    "    public void run() {\n",
    "        Random r = new Random();\n",
    "        for (int i = 0; i < s; i++) {\n",
    "            b.delete(r.nextInt(100));\n",
    "        }\n",
    "    }\n",
    "}\n",
    "class Searcher extends Thread {\n",
    "    Bag b;\n",
    "    int s;\n",
    "    Searcher(Bag b, int s) {\n",
    "        this.b = b; this.s = s;\n",
    "    }\n",
    "    public void run() {\n",
    "        Random r = new Random();\n",
    "        for (int i = 0; i < s; i++) {\n",
    "            b.has(r.nextInt(100));\n",
    "        }\n",
    "    }\n",
    "}\n",
    "class TestBag {\n",
    "    public static void main(String[] args) {\n",
    "        final int P = 20; // number of inserter, deleter, and searcher threads\n",
    "        final int S = 100; // number of repetitions by each thread\n",
    "        Bag b = new Bag();\n",
    "        Inserter[] in = new Inserter[P];\n",
    "        Deleter[] dl = new Deleter[P];\n",
    "        Searcher[] sr = new Searcher[P];\n",
    "        for (int i = 0; i < P; i++) {\n",
    "            in[i] = new Inserter(b, S); dl[i] = new Deleter(b, S); sr[i] = new Searcher(b, S);\n",
    "        }\n",
    "        for (int i = 0; i < P; i++) {\n",
    "            in[i].start(); dl[i].start(); sr[i].start();\n",
    "        }\n",
    "        for (int i = 0; i < P; i++)\n",
    "            try {in[i].join(); dl[i].join(); sr[i].join();} catch (Exception x) {}\n",
    "        assert !Pattern.matches(\".*I[IDd].*\", b.log) : \"An inserter must exclude other inserters and deleters\";\n",
    "        assert !Pattern.matches(\".*D[DIiHh].*\", b.log) : \"A deleter must exclude other deleters, inserters, and searchers\";\n",
    "        assert !Pattern.matches(\".*H[Dd].*\", b.log) : \"A searcher must exclude deleters\";\n",
    "        if (Pattern.matches(\".*I[^i]*H.*\", b.log)) System.out.println(\"Searcher concurrent with Inserter\");\n",
    "        if (Pattern.matches(\".*H[^h]*I.*\", b.log)) System.out.println(\"Inserter concurrent with Searcher\");\n",
    "        if (Pattern.matches(\".*H[^h]*H.*\", b.log)) System.out.println(\"Searcher concurrent with Searcher\");\n",
    "        System.out.println(b.log);\n",
    "    }\n",
    "}"
   ]
  },
  {
   "cell_type": "markdown",
   "metadata": {},
   "source": [
    "The field `log` of class `Bag` is used for automated testing: `P` inserters, deleters, and searchers are started that insert, delete, or search for random values `S` times. [Regular expressions](https://docs.oracle.com/javase/tutorial/essential/regex/index.html) are used to check if the log contains only valid sequences of starts and ends of the bodies of `insert()`, `delete()`, and `has()`. Since a trivial implementation that allows these methods to run only in complete mutual exclusion would generate only valid logs, the three `if` statements at the end check for a truly concurrent execution. These checks only print the result and don't throw an exception, as it is theoretically possible that these checks fail because the scheduler did not attempt a truly concurrent execution."
   ]
  },
  {
   "cell_type": "code",
   "execution_count": 7,
   "metadata": {},
   "outputs": [],
   "source": [
    "!javac threadsafebags.java"
   ]
  },
  {
   "cell_type": "code",
   "execution_count": 8,
   "metadata": {},
   "outputs": [
    {
     "name": "stdout",
     "output_type": "stream",
     "text": [
      "IiIiHhHhHhDdDdIiDdIiDdIiDdIiDdIiDdIiDdIiDdIiDdIiDdIiDdIiDdIiDdIiDdIiDdIiDdIiDdIiDdIiHhIiHhIiHhIiHhIiHhIiHhIiIiIiIiIiIiIiIiIiIiIiIiIiIiIiIiIiIiIiIiIiIiIiIiIiIiIiIiIiIiIiIiIiIiIiIiIiIiIiIiIiIiIiIiIiIiIiIiIiIiIiIiIiIiIiIiIiIiIiIiIiIiIiIiIiIiIiIiIiIiIiIiIiIiIiIiIiDdDdDdIiDdIiDdIiDdIiDdIiDdIiDdIiDdIiDdIiDdIiDdIiDdIiDdIiDdIiDdIiDdIiDdIiIiDdIiHhIiHhIiHhIiHhIiHhIiHhIiHhDdHhDdHhDdHhDdHhDdHhHhHhHhHhDdHhDdHhDdHhDdHhDdHhDdHhDdHhDdHhDdHhDdHhDdHhDdHhDdHhDdHhDdHhDdHhDdDdHhDdHhDdHhDdHhDdHhDdHhDdHhDdHhDdIiDdIiDdIiDdIiDdIiDdIiDdIiDdIiDdIiDdIiDdIiDdIiDdIiDdIiDdIiDdIiDdIiDdIiDdIiDdIiDdIiDdIiDdIiDdIiDdIiDdIiDdIiDdIiDdIiDdIiDdIiDdIiDdIiDdIiDdIiDdIiDdIiDdIiDdIiDdIiDdIiDdIiDdIiDdIiDdIiDdIiDdIiDdIiDdIiDdIiIiIiIiIiIiIiIiIiIiIiIiIiIiIiIiIiIiIiIiIiIiIiIiIiIiIiIiIiIiIiIiIiIiIiIiIiIiIiIiIiIiIiHhIiHhIiHhIiHhIiHhHhHhDdDdDdIiDdIiDdIiDdIiDdIiDdIiDdIiDdIiDdIiDdIiDdIiDdIiDdIiDdIiDdIiDdIiDdIiDdIiDdIiDdIiDdIiDdIiDdIiDdIiDdIiDdIiDdIiDdIiDdIiDdIiDdIiDdIiDdIiDdIiDdIiDdIiHhHhHhDdHhDdHhDdHhDdHhDdHhDdHhDdHhDdHhDdHhDdHhDdHhDdHhDdHhDdHhDdIiIiIiIiIiHhIiHhIiHhIiHhIiHhIiHhIiHhIiHhIiHhIiHhIiHhIiHhIiHhIiHhIiHhIiHhIiHhHhIiHhIiHhIiHhIiHhIiHhIiHhIiHhIiHhIiHhIiHhIiHhIiHhIiHhIiHhIiHhIiHhIiHhIiHhIiHhIiHhIiHhIiHhIiHhIiHhIiHhIiHhIiHhIiHhIiHhIiHhIiHhIiHhIiHhIiHhIiHhIiHhIiHhIiHhIiHhIiHhIiHhIiHhIiHhIiHhIiHhIiHhIiHhIiHhIiHhIiHhIiHhIiHhIiHhIiHhIiHhIiHhIiHhIiHhIiHhIiHhIiHhIiHhIiHhIiIiHhIiHhIiHhIiHhIiHhIiHhIiHhIiIiIiIiIiIiIiIiIiIiIiIiIiIiIiIiIiIiIiIiDdDdDdDdIiDdIiDdIiDdIiDdIiDdIiDdIiDdIiDdIiDdIiDdIiDdIiDdIiDdIiDdIiDdIiDdIiDdIiDdIiDdIiDdIiDdIiDdIiDdIiDdIiDdIiDdIiDdIiDdIiDdIiDdIiDdIiDdIiDdIiDdIiDdIiDdIiDdIiDdIiDdIiDdIiDdIiDdIiDdIiDdIiDdIiDdIiDdIiDdIiDdIiDdIiDdIiDdIiDdIiDdIiDdIiDdIiDdIiDdIiDdIiDdIiDdIiDdIiDdIiDdIiDdIiDdIiDdIiDdIiDdIiDdIiDdIiDdIiDdIiDdIiDdIiDdIiDdIiDdIiDdIiDdIiDdIiDdIiDdIiDdIiDdIiDdIiDdIiDdIiIiDdIiDdIiDdIiDdIiDdIiDdIiDdIiDdIiIiIiHhHhHhDdHhDdHhDdHhDdHhDdHhDdHhDdHhDdHhDdHhDdHhDdHhDdHhDdHhDdHhDdHhDdHhDdHhDdHhDdHhDdHhDdHhDdHhDdHhDdHhDdHhDdHhDdHhDdHhDdHhDdHhDdHhDdHhDdHhDdHhDdHhDdHhDdHhDdHhDdHhDdHhDdHhDdHhHhDdHhDdHhDdHhDdHhDdHhDdHhDdHhDdHhDdHhDdHhDdHhDdHhDdHhDdHhDdHhDdHhDdHhDdHhDdHhDdHhDdHhDdHhDdHhDdHhDdHhDdHhDdHhDdHhDdHhDdHhDdHhDdHhDdHhDdHhDdHhDdHhIiDdIiDdIiDdIiDdIiDdIiDdIiDdIiDdIiDdIiDdIiDdIiDdIiDdIiDdIiDdIiDdIiDdDdDdDdDdDdIiIiIiIiIiIiIiIiIiIiIiIiIiIiIiIiIiIiIiIiIiIiIiIiIiIiIiIiIiIiIiIiIiIiIiIiIiIiIiIiIiIiIiIiIiIiIiIiIiIiIiIiIiIiIiIiIiIiIiIiIiIiIiIiIiIiIiIiIiIiIiIiIiIiIiIiIiIiIiIiIiIiIiIiIiIiIiIiIiIiIiIiIiIiIiIiIiIiIiIiIiIiIiIiIiIiIiIiIiIiIiIiIiIiIiIiIiIiIiIiIiIiIiIiIiIiIiIiIiIiIiIiIiIiIiIiIiIiIiIiIiIiIiIiIiIiIiIiIiIiIiIiIiIiIiIiIiIiIiIiIiIiIiIiIiIiHhIiHhIiHhIiHhIiHhIiHhIiHhIiHhIiHhIiHhIiHhIiHhIiHhHhDdHhDdHhDdHhDdHhDdHhDdHhDdHhDdHhDdHhDdHhDdHhDdHhDdHhDdHhDdHhDdHhDdHhDdHhDdHhDdHhDdHhDdDdDdDdIiDdIiDdIiDdIiDdIiDdIiDdIiDdIiDdIiDdIiDdIiDdIiDdIiDdIiDdIiDdIiDdIiDdIiDdIiDdIiDdIiDdIiDdIiDdIiDdIiDdIiDdIiDdDdIiDdIiDdIiDdIiDdIiDdDdDdDdDdIiDdIiDdIiDdIiDdIiDdIiDdDdDdDdDdDdDdDdDdHhDdHhDdHhDdHhDdHhDdHhDdHhDdHhDdHhDdHhDdHhDdHhDdHhDdHhDdHhDdHhDdHhDdHhDdHhDdHhDdDdHhDdHhDdHhDdHhDdHhDdHhDdHhDdHhDdHhDdHhDdHhDdHhDdHhDdHhDdHhDdHhDdHhDdHhDdHhDdDdHhDdHhDdHhDdHhDdHhDdHhDdHhDdHhDdHhDdHhDdHhDdHhDdHhDdHhDdHhDdHhDdHhDdHhDdHhDdHhDdHhDdHhDdHhDdHhDdHhDdHhDdHhDdHhDdHhDdHhDdHhDdHhDdHhDdHhDdHhDdHhDdHhDdHhDdHhDdHhDdHhDdHhDdHhDdHhDdHhDdHhDdHhDdHhDdHhDdHhDdHhDdHhDdHhDdHhDdHhDdHhDdHhHhHhHhHhHhHhHhHhHhHhHhDdHhDdHhDdHhDdHhDdHhDdHhDdHhDdHhDdHhDdHhDdHhDdHhDdHhDdHhDdHhDdHhDdHhDdHhDdHhDdHhDdHhDdHhDdHhDdHhDdHhDdHhDdHhDdHhDdHhDdHhDdHhDdHhDdHhDdHhDdHhDdHhDdHhDdHhDdHhDdHhDdHhDdHhDdHhDdHhDdHhDdHhDdHhDdHhDdHhDdHhDdHhDdHhDdHhDdHhDdHhDdHhDdHhDdHhDdHhDdHhDdHhDdHhDdHhDdHhDdHhDdHhDdHhDdHhDdHhDdHhDdHhDdHhDdHhDdHhDdHhDdHhDdHhDdHhDdHhDdHhDdHhDdHhDdHhDdHhDdHhDdHhDdHhDdHhDdHhDdHhDdHhDdHhDdHhDdDdDdDdDdDdDdIiIiIiIiHhIiHhIiHhIiHhIiHhIiHhIiHhIiHhIiHhIiHhIiHhIiHhIiHhIiHhIiHhIiHhIiHhIiHhIiHhIiHhIiHhIiHhIiHhIiHhIiHhIiHhIiHhIiHhIiHhIiHhIiHhIiHhIiHhIiHhIiHhIiHhIiHhIiHhIiHhIiHhIiHhIiHhIiHhIiHhIiHhIiHhIiHhIiHhIiHhIiHhIiHhIiHhIiHhIiHhIiHhIiHhIiHhIiHhIiHhIiHhIiHhIiHhIiHhIiHhIiHhIiHhIiHhIiHhIiHhIiHhIiHhIiHhIiHhIiHhIiHhIiHhIiHhIiHhIiHhIiHhIiHhIiHhIiHhIiHhIiHhIiHhIiHhIiHhIiHhIiHhIiHhIiHhIiHhHhIiHhIiHhIiHhIiHhHhHhDdDdDdDdDdDdDdDdDdDdIiDdIiDdIiDdIiDdIiDdIiDdIiDdIiDdIiDdIiDdIiDdIiDdIiDdIiDdIiDdIiDdIiDdIiDdDdDdDdDdDdDdDdDdDdHhDdHhDdHhDdHhDdHhDdHhDdHhDdHhDdHhDdHhDdHhDdHhDdHhDdHhDdHhDdHhDdHhDdHhDdHhDdHhDdHhDdHhDdHhDdHhDdHhDdHhDdHhDdHhDdHhDdHhDdHhDdHhDdHhDdHhDdHhDdHhDdHhDdHhDdHhDdHhDdHhDdHhDdHhDdHhDdHhDdHhDdHhDdHhDdHhDdHhDdHhDdHhDdHhDdHhDdHhDdHhDdHhDdHhDdHhDdHhDdHhDdHhDdHhDdHhHhHhHhDdHhDdHhDdHhDdHhDdHhDdHhDdHhDdHhDdHhDdHhDdHhDdHhDdHhDdHhDdHhDdHhDdHhDdHhDdHhDdHhDdHhDdHhDdHhDdHhDdHhDdHhDdHhDdHhDdHhDdHhDdHhDdHhDdHhDdDdDdIiDdIiDdIiIiDdIiDdIiDdIiDdIiDdIiDdIiDdIiDdIiDdIiDdIiDdIiDdIiDdIiDdIiDdIiDdIiDdIiDdIiDdIiDdIiDdIiDdIiDdIiDdIiDdIiDdIiDdIiDdIiDdIiDdIiDdIiDdIiDdIiDdIiDdIiDdIiDdIiDdIiDdIiDdIiDdIiDdIiDdIiDdIiDdIiDdIiDdIiDdIiDdIiDdIiDdIiDdIiDdIiDdIiDdIiDdIiDdIiDdIiDdIiDdIiDdIiDdIiIiHhIiHhIiHhIiIiHhIiHhIiHhIiHhIiHhIiHhIiHhIiHhIiHhIiIiIiDdHhDdHhDdHhDdHhDdHhDdHhDdHhDdHhDdHhDdHhDdHhDdHhDdHhDdHhDdHhDdHhDdHhDdHhDdHhDdHhDdHhDdHhDdHhDdHhDdHhDdHhDdHhDdHhDdHhDdHhDdHhDdHhDdHhDdHhDdHhDdHhDdHhDdHhDdHhDdHhDdHhDdHhDdHhDdHhDdHhDdHhDdHhDdHhDdHhDdHhDdHhDdHhDdHhDdHhDdHhDdHhDdHhDdHhDdHhDdHhDdHhDdHhDdHhDdHhDdHhDdHhDdHhDdHhDdHhDdHhDdHhDdHhDdHhDdHhDdHhDdHhDdHhDdHhDdHhDdHhDdHhDdHhDdHhDdHhDdHhDdHhDdHhHhDdDdDdDdDdIiDdIiDdIiDdIiDdIiDdIiDdIiDdIiIiIiIiIiDdIiDdIiDdIiDdIiDdIiDdIiDdIiDdIiDdIiDdIiDdIiDdIiDdIiDdIiDdIiDdIiDdIiDdIiDdIiDdIiDdIiDdIiDdIiDdIiDdIiDdIiDdIiDdIiDdIiDdIiDdIiDdIiDdIiDdIiDdIiDdIiDdIiDdIiDdIiDdIiDdIiDdIiDdIiDdIiDdIiDdIiDdIiDdIiDdIiDdIiDdIiDdIiDdIiDdIiDdIiDdIiDdIiDdIiDdIiDdIiDdIiDdIiDdIiDdIiDdIiDdIiDdIiDdIiDdIiDdIiDdIiDdIiDdIiDdIiDdIiDdIiDdIiDdIiDdIiDdIiIiIiIiIiIiIiIiIiIiIiIiIiIiIiIiIiIiIiHhIiHhIiHhIiHhIiHhIiHhIiHhIiHhIiHhIiHhIiHhIiHhIiHhIiHhIiHhIiHhIiHhIiHhIiHhIiHhIiHhIiHhIiHhIiHhIiHhIiHhIiHhIiHhIiHhIiHhIiHhIiHhIiHhIiHhIiHhIiHhIiHhIiHhIiHhIiHhIiHhIiHhIiHhIiHhIiHhIiHhIiHhIiHhIiHhIiHhIiHhIiHhIiHhIiHhHhHhHhHhHhHhIiHhIiHhIiHhIiHhIiHhIiHhIiHhIiHhIiHhIiHhIiHhIiHhIiHhIiHhIiHhIiHhIiHhIiHhIiHhIiHhIiHhIiHhIiHhIiHhIiHhIiHhHhIiHhIiHhIiHhIiHhIiHhIiHhIiHhIiHhIiHhIiHhIiHhIiHhIiHhIiIiIiIiIiIiIiDdIiDdIiDdIiDdIiDdIiDdIiDdIiDdIiDdIiDdIiDdIiDdIiDdIiDdIiDdIiDdIiDdIiDdIiDdIiDdIiDdIiDdIiDdDdDdDdDdDdDdDdDdHhDdHhDdHhDdHhDdHhDdHhDdHhDdHhDdHhDdHhDdHhDdHhDdHhDdHhDdHhDdHhDdHhDdHhHhHhHhIiHhIiHhIiHhIiHhIiHhIiHhIiHhIiHhIiHhIiHhIiHhIiHhIiHhIiHhIiHhIiHhIiHhHhHhIiHhIiHhIiHhIiHhIiHhIiHhIiHhIiHhIiHhIiHhIiHhIiHhIiHhIiHhIiHhIiHhIiHhIiHhIiHhIiHhIiHhIiHhIiHhIiHhIiHhIiIiIiIiIiIiIiIiIiIiIiIiIiIiIiIiIiIiIiIiHhIiHhIiHhIiHhIiHhIiHhIiHhIiHhIiHhIiHhIiHhIiHhIiHhIiHhIiHhIiHhIiHhIiHhIiHhIiHhIiHhIiHhIiHhIiHhIiHhIiHhIiHhIiHhIiHhIiHhIiHhIiHhIiHhIiHhIiHhIiHhIiHhIiHhIiHhHhHhHhHhIiHhIiHhIiHhIiHhIiHhHhHhHhHhHhHhHhDdHhDdHhDdHhDdHhDdHhDdHhDdHhDdHhDdHhDdHhDdHhDdHhDdHhDdHhDdHhDdHhDdHhHhHhDdHhDdHhDdHhDdHhDdHhDdHhDdHhDdHhDdHhDdHhDdHhDdHhHhHhHhHhHhHhHhHhHhHhHhHhHhHhHhHhHhHhHhHhHhHhHhHhHhHhHhHhHhHhHhHhIiIiIiIiIiIiIiIiIiIiIiIiIiHhIiHhIiHhIiHhIiHhIiHhIiHhIiHhIiHhIiHhIiHhIiHhIiHhIiHhIiHhIiHhIiHhIiHhIiHhIiHhIiHhIiHhIiHhIiHhIiHhIiHhIiHhIiHhIiHhIiHhIiHhIiHhIiHhIiHhIiHhIiHhIiHhIiHhIiHhIiHhIiHhIiHhIiHhIiHhIiHhIiHhIiHhIiHhIiHhIiHhIiHhIiHhIiHhIiHhIiHhIiHhIiHhIiHhIiHhIiHhIiHhIiHhIiHhIiHhIiHhIiHhIiHhIiHhIiHhIiHhIiHhIiHhIiHhIiHhIiHhIiHhIiHhIiHhIiHhIiHhIiHhIiHhIiHhIiHhIiHhIiHhIiHhIiHhHhHhHhHhHhHhHhHhHhDdHhDdHhDdHhDdDdDdDdDdDdDdDdIiDdIiDdIiDdIiDdIiDdIiDdIiDdIiDdIiIiDdIiDdIiDdIiDdIiDdIiDdIiDdIiDdIiDdIiDdIiDdIiDdIiDdIiDdIiDdIiDdIiDdIiDdIiDdIiDdDdHhDdHhDdHhDdHhDdHhDdHhDdHhDdHhDdHhDdHhDdHhDdHhDdHhDdHhDdHhDdHhDdHhDdHhDdHhDdHhDdHhDdHhDdHhDdHhDdHhDdHhDdHhDdHhDdHhDdDdDdDdDdDdDdDdDdDdDdHhDdHhDdHhDdHhDdHhDdHhDdDdDdDdDdDdDdDdDdDdDdDdDdDdDdDdDdDdDdDdDdDdDdDdDdDdDdDdIiDdIiDdIiDdIiDdIiDdIiDdDdDdDdDdDdHhDdHhDdHhDdDdDdDdDdDdDdDdDdDdDdDdDdDdDdDdDdDdDdDdDdDdDdDdDdDdDdDdDdDdDdDdDdDdDdDdDdDdDdDdDdDdDdDdDdDdDdDdDdDdDdDdDdDdDdDdDdDdDdDdDdDdDdDdDdDdDdDdDdDdDdDdDdDdDdHhDdHhDdHhDdHhDdHhDdHhDdHhDdHhDdHhDdHhDdDdDdHhDdHhDdHhDdHhDdHhDdHhDdHhDdHhDdHhDdHhDdHhDdHhDdHhDdHhDdHhDdHhDdHhDdHhDdHhDdHhDdHhDdHhDdHhDdHhDdHhDdHhDdHhDdHhDdHhDdHhDdHhDdHhDdHhDdHhDdHhDdHhHhHhHhHhHhHhHhHhHhHhHhIiHhIiHhIiHhIiHhIiHhIiHhIiHhIiHhIiHhHhHhHhHhIiHhIiIiHhIiHhIiHhIiHhIiHhIiHhIiHhIiHhIiHhIiHhIiHhIiHhIiHhIiHhIiHhIiHhIiHhIiHhIiHhIiHhIiHhIiHhIiIiIiIiIiIiIiIiIiIiIiIiIiIiIiIiIiIiIiIiDdIiDdIiDdIiDdIiDdIiDdIiDdIiDdIiDdIiDdIiDdIiDdIiDdIiDdIiDdIiDdIiDdIiDdIiDdIiDdIiDdIiDdIiDdIiDdIiDdIiDdIiDdIiDdIiDdIiDdIiDdIiDdIiDdIiDdIiDdIiDdIiDdIiDdIiDdIiDdIiDdIiDdIiDdIiDdIiDdIiDdIiDdIiDdIiDdIiDdIiDdIiDdDdDdDdDdDdDdDdDdDdDdDdDdDdDdDdDdDdHhDdHhDdHhDdHhDdHhDdHhDdHhDdHhDdHhDdHhDdHhDdHhDdHhDdHhDdHhDdHhDdHhDdHhDdHhDdHhDdHhDdHhDdHhDdHhDdHhDdHhDdHhHhDdDdDdDdDdDdDdDdDdDdDdHhDdHhDdHhDdHhDdHhDdHhDdHhDdHhDdHhDdHhDdHhDdHhDdHhDdHhDdHhDdHhDdHhDdHhDdHhDdHhHhHhHhHhHhHhHhHhHhHhHhHhHhHhHhHhHhHhHhHhHhHhHhHhHhHhHhHhHhHhHhHhHhHhHhHhHhHhHhHhHhHhHhHhHhHhHhHhHhHhHhHhHhHhHhHhHhHhHhHhHhHhHhHhHhHhHhHhHhHhHhHhHhHhHhHhHhHhHhHhHhHhHhHhHhDdHhDdHhDdHhDdHhDdHhHhDdHhDdHhDdHhDdHhDdHhDdHhDdHhDdHhDdHhDdHhDdHhDdHhDdHhDdHhDdHhDdHhDdHhDdHhDdHhDdHhDdHhDdHhDdHhDdHhDdHhDdHhDdHhDdHhDdHhDdHhDdHhDdHhDdHhDdHhDdHhDdHhDdHhDdHhDdHhDdHhDdHhDdHhDdHhDdHhDdHhDdHhDdHhDdHhDdHhDdDdDdDdDdIiDdIiDdIiDdIiDdIiDdIiDdIiDdIiDdIiDdIiDdIiDdIiDdIiDdIiDdIiDdIiDdIiDdIiDdIiDdIiDdIiDdIiDdIiDdIiDdIiDdIiDdIiDdIiDdIiDdIiDdIiDdIiDdIiDdIiDdIiDdIiDdIiIiIiIiIiIiIiIiIiIiIiIiIiIiIiIiIiIiIiDdIiDdIiDdIiDdIiDdIiDdIiDdIiDdIiDdIiDdIiDdIiDdIiDdIiDdIiDdIiDdIiDdIiDdIiDdIiDdIiDdDdDdDdIiDdIiDdIiDdIiDdIiDdIiDdIiDdIiDdIiDdIiDdDdDdIiDdIiDdIiDdIiDdIiDdIiDdIiDdIiDdIiDdIiDdIiDdIiDdIiDdIiDdIiDdIiDdIiDdIiDdIiDdIiDdIiDdIiDdIiDdIiDdIiDdIiDdIiDdIiDdIiDdIiDdIiDdIiDdIiDdIiDdIiDdIiDdIiDdIiDdIiDdIiDdIiDdIiDdIiDdIiDdIiIiIiIiIiIiIiIiIiIiIiIiIiIiIiIiIiHhIiHhIiHhIiHhIiHhIiHhHhHhHhDdHhDdHhDdHhDdHhDdHhDdHhDdHhDdHhDdHhDdHhDdHhDdHhDdHhDdHhDdHhDdHhDdHhDdHhDdHhDdHhDdHhDdHhDdHhDdHhDdHhDdHhDdHhDdHhDdHhDdHhDdHhDdHhDdHhDdHhDdHhDdHhDdHhDdHhDdHhDdHhDdHhDdHhDdHhDdHhDdHhDdHhDdHhDdHhDdHhDdHhDdHhDdHhDdHhDdHhDdHhDdHhDdHhDdHhDdHhDdHhDdHhDdHhDdHhDdHhDdHhDdHhDdHhDdHhDdHhDdHhDdHhDdHhDdHhDdHhDdHhDdHhDdHhDdHhDdHhDdHhDdHhDdHhDdHhDdHhDdHhDdHhDdHhDdHhDdHhHhDdHhDdDdDdDdDdDdDdDdDdDdDdDdDdDdDdDdDdDdDdDdDdDdDdDdDdDdDdDdDdDdDdDdDdDdDdHhDdHhDdHhDdHhDdHhDdHhDdHhDdHhDdHhDdHhDdHhDdHhDdHhDdHhDdHhDdHhDdHhDdHhDdHhDdHhDdHhDdHhDdHhDdHhDdHhDdHhDdHhDdHhDdHhDdHhDdHhDdHhDdHhDdHhDdHhDdHhDdHhDdHhDdHhDdHhDdHhDdHhDdHhDdHhDdHhDdHhDdHhDdHhDdHhDdHhDdHhDdHhDdHhDdHhDdHhDdHhDdHhHhHhHhHhHhHhHhHhHhHhHhHhHhHhHhHhHhHhHhHhHhHhHhHhHhHhHhHhHhHhHhHhHhHhHhHhHhHhHhHhHhHhHhHhHhHhHhHhHhHhHhHhHhHhHhHhHhHhHhHhHhHhHhIiHhIiHhIiHhIiHhIiHhIiHhIiHhIiHhIiHhIiHhIiHhIiHhIiHhIiHhIiHhIiHhIiHhIiHhIiHhIiHhIiHhIiHhIiHhIiHhIiHhIiHhIiHhIiHhIiHhIiHhIiHhIiHhIiHhIiHhIiHhIiHhIiHhIiHhHhIiHhIiHhIiHhIiHhIiHhIiHhIiHhIiHhIiHhIiHhIiHhIiHhIiHhIiHhIiHhIiHhIiHhIiHhIiHhIiHhIiHhIiHhIiHhIiHhIiHhIiHhIiHhIiHhIiHhIiHhIiHhIiHhIiIiIiIiIiIiIiIiIiIiIiIiIiIiIiIiIiIiIiIiIiIiIiIiIiIiIiIiIiIiIiIiIiIiIiIiIiIiIiIiIiIiIiIiIiIiIiIiIiIiIiIiIiIiIiIiIiIiIiIiIiIiIiIiIiIiIiIiIiIiIiIiIiIiIiIiIiIiIiIiIiIiIiIiIiIiIiIiHhIiHhIiHhIiHhIiHhIiHhIiHhIiHhIiHhIiHhHhHhHhHhHhHhHhHhHhHhHhHhHhHhHhHhHhHhHhHhHhHhHhHhHhHhHhHhHhHhHhHhHhHhHhHhHhHhHhHhHhHhHhHhHhHhHhHhHhHhHhHhHhHhHhHhHhHhHhHhHhHhHhHhHhHhHhHhHhHhHhHhHhHhHhHhHhHhHhHhHhHhHhHhHhHhHhHhHhHhHhHhHhHhHhHhHhHhHhHhHhHhHhHhHhHhHhHhHhHhHhHhHhHhHhHhHhHhHhHhHhHhHhHhHhHhHhHhHhHhHhHhHhHhHhHhIiHhIiHhIiHhIiHhIiHhIiHhIiIiIiIiDdIiDdIiDdIiDdIiDdIiDdIiDdIiDdIiDdIiDdIiDdIiDdIiDdIiDdIiDdIiDdIiDdIiDdIiDdIiDdIiDdIiDdIiDdIiDdIiDdIiDdIiDdIiDdIiDdIiDdIiDdIiDdIiDdIiDdIiDdIiDdIiDdIiDdIiDdIiDdIiDdIiDdIiDdIiDdIiDdIiDdIiDdIiDdIiDdDdHhDdHhDdHhDdHhDdHhDdHhDdHhDdHhDdHhDdHhDdHhDdHhDdHhDdHhDdHhDdHhDdHhDdHhDdHhDdHhDdHhDdHhDdHhDdHhDdHhDdHhDdHhDdHhHhDdHhDdHhDdHhDdHhDdHhDdHhDdHhDdHhDdHhDdHhIiDdIiDdIiDdIiDdIiDdIiDdIiDdIiDdIiDdIiDdIiDdIiDdIiDdIiIiIiDdIiDdIiDdIiDdIiDdDdDdIiDdIiDdIiDdIiDdIiDdIiDdIiDdIiDdIiDdIiDdIiDdIiDdIiDdIiDdIiDdIiDdIiDdIiDdIiDdIiDdIiDdIiDdIiDdIiDdIiDdIiDdIiDdIiDdIiDdIiDdIiDdIiDdIiDdIiDdIiDdIiIiDdIiDdIiDdDdDdIiDdIiDdIiDdIiDdIiDdIiDdIiDdIiDdIiDdIiDdIiDdIiDdIiDdIiDdIiDdIiDdIiDdIiDdIiDdIiDdIiDdIiDdIiDdIiDdIiIiIiHhIiHhIiHhIiHhIiHhHhIiHhIiHhIiHhIiHhIiHhIiHhIiHhIiHhIiHhHhIiHhIiHhIiHhIiHhIiHhIiHhIiHhIiHhIiHhIiHhIiHhIiHhIiHhIiHhIiHhIiHhIiHhIiHhIiHhIiHhIiHhIiHhIiIiIiIiIiIiIiIiIiIiIiIiIiIiIiIiIiIiIiIiIiIiIiIi\n"
     ]
    }
   ],
   "source": [
    "!java -ea TestBag"
   ]
  },
  {
   "cell_type": "code",
   "execution_count": null,
   "metadata": {},
   "outputs": [],
   "source": []
  }
 ],
 "metadata": {
  "kernelspec": {
   "display_name": "Python 3 (ipykernel)",
   "language": "python",
   "name": "python3"
  },
  "language_info": {
   "codemirror_mode": {
    "name": "ipython",
    "version": 3
   },
   "file_extension": ".py",
   "mimetype": "text/x-python",
   "name": "python",
   "nbconvert_exporter": "python",
   "pygments_lexer": "ipython3",
   "version": "3.11.5"
  }
 },
 "nbformat": 4,
 "nbformat_minor": 4
}
