{
 "cells": [
  {
   "cell_type": "markdown",
   "metadata": {
    "deletable": false,
    "editable": false,
    "nbgrader": {
     "cell_type": "markdown",
     "checksum": "b3e2d962a0e0be73e4aee682be130fa6",
     "grade": false,
     "grade_id": "cell-155edc14d3667376",
     "locked": true,
     "schema_version": 3,
     "solution": false,
     "task": false
    },
    "slideshow": {
     "slide_type": "slide"
    }
   },
   "source": [
    "### Monotonic Array"
   ]
  },
  {
   "cell_type": "markdown",
   "metadata": {},
   "source": [
    "Given array `a: 0 .. N – 1 → integer` for constant `N > 0`, write a predicate, `P(n)`, that states that  all elements of `a` from `1` to `n – 1` are strictly greater than their predecessor."
   ]
  },
  {
   "cell_type": "markdown",
   "metadata": {
    "solution": "hidden",
    "solution_first": true
   },
   "source": [
    "```\n",
    "P(n) = ∀ i ε 1 .. N - 1 · a(i) > a(i-1)\n",
    "```"
   ]
  },
  {
   "cell_type": "markdown",
   "metadata": {},
   "source": [
    "Using a single loop, write a procedure that establishes the postcondition `m = P(N)`. The procedure has to compare first `a(0)` and `a(1)`, then `a(1)` and `a(2)`, etc. Give the annotation required to prove the correctness of the procedure!"
   ]
  },
  {
   "cell_type": "markdown",
   "metadata": {
    "solution": "hidden",
    "solution_first": true
   },
   "source": [
    "```\n",
    "procedure monotonic(a: 0 .. N – 1 → integer) → (m: boolean)\n",
    "    i := 1\n",
    "    {P(n) ∧ 1 ≤ i < N}\n",
    "    for i to N - 1 do:\n",
    "        if a(i-1) < a(i) then:\n",
    "            i = i + 1\n",
    "    m := i == N\n",
    "    {m = P(N)}\n",
    "```"
   ]
  },
  {
   "cell_type": "markdown",
   "metadata": {},
   "source": [
    "Now state the resulting correctness conditions!"
   ]
  },
  {
   "cell_type": "markdown",
   "metadata": {},
   "source": [
    "Your correctness conditions here"
   ]
  },
  {
   "cell_type": "markdown",
   "metadata": {},
   "source": [
    "Prove the conditions!"
   ]
  },
  {
   "cell_type": "markdown",
   "metadata": {},
   "source": [
    "Your proofs here"
   ]
  },
  {
   "cell_type": "markdown",
   "metadata": {},
   "source": [
    "Write a predicate, `Q(n)`, that states that  all elements of `a` from `n + 1` to `N – 1` are strictly greater than their predecessor."
   ]
  },
  {
   "cell_type": "markdown",
   "metadata": {},
   "source": [
    "```\n",
    "Your predicate here\n",
    "```"
   ]
  },
  {
   "cell_type": "markdown",
   "metadata": {},
   "source": [
    "Using a single loop, write a procedure that establishes the postcondition `m = Q(0)`. The procedure has to compare first `a(N –1)` and `a(N – 2)`, then `a(N – 2)` and `a(N – 3)`, etc. Give the annotation required to prove the correctness of the procedure!"
   ]
  },
  {
   "cell_type": "markdown",
   "metadata": {},
   "source": [
    "```\n",
    "procedure monotonic(a: 0 .. N – 1 → integer) → (m: boolean)\n",
    "    Your algorithm here\n",
    "    {m = Q(0)}\n",
    "```"
   ]
  },
  {
   "cell_type": "markdown",
   "metadata": {},
   "source": [
    "Now state the resulting correctness conditions!"
   ]
  },
  {
   "cell_type": "markdown",
   "metadata": {},
   "source": [
    "Prove the conditions!"
   ]
  },
  {
   "cell_type": "markdown",
   "metadata": {},
   "source": [
    "Your proofs here"
   ]
  }
 ],
 "metadata": {
  "kernelspec": {
   "display_name": "Python 3 (ipykernel)",
   "language": "python",
   "name": "python3"
  },
  "language_info": {
   "codemirror_mode": {
    "name": "ipython",
    "version": 3
   },
   "file_extension": ".py",
   "mimetype": "text/x-python",
   "name": "python",
   "nbconvert_exporter": "python",
   "pygments_lexer": "ipython3",
   "version": "3.11.2"
  }
 },
 "nbformat": 4,
 "nbformat_minor": 4
}
