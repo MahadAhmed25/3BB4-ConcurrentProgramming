{
 "cells": [
  {
   "cell_type": "markdown",
   "metadata": {
    "deletable": false,
    "editable": false,
    "nbgrader": {
     "cell_type": "markdown",
     "checksum": "c2a85ffd1a1ff242ce87d0dee80f55c3",
     "grade": false,
     "grade_id": "cell-bc6fe644ea604572",
     "locked": true,
     "schema_version": 3,
     "solution": false,
     "task": false
    }
   },
   "source": [
    "### Database with Faulty Readers in Go [14 points]"
   ]
  },
  {
   "cell_type": "markdown",
   "metadata": {
    "deletable": false,
    "editable": false,
    "nbgrader": {
     "cell_type": "markdown",
     "checksum": "e2be8b86c230f107eed7d0664679b7fb",
     "grade": false,
     "grade_id": "cell-bb68c0b4dd4fa7b3",
     "locked": true,
     "schema_version": 3,
     "solution": false,
     "task": false
    }
   },
   "source": [
    "As a reminder, common constructs in Go are:\n",
    "- `x := E` for declaring `x` and assigning to it\n",
    "- `x <- ch` for receiving over `ch`\n",
    "- `ch <- E` for sending over `ch`\n",
    "- `select {case ... : ... case ... : ... default ...}` for nondeterministic choice\n",
    "- `for {...}` for an infinite loop\n",
    "- `for i := 0; i < 10; i++ {...}` for a \"for\" loop\n",
    "- `make(chan T)` for a synchronous channel of type `T`\n",
    "- `make(chan T, C)` for an asynchronous channel of type `T` with capacity `C`\n",
    "- `<- time.After(M * time.Millisecond)` for a message after `M` milliseconds"
   ]
  },
  {
   "cell_type": "markdown",
   "metadata": {
    "deletable": false,
    "editable": false,
    "nbgrader": {
     "cell_type": "markdown",
     "checksum": "3bb8cd59a9cf3a9ea50fac382ac4b8a7",
     "grade": false,
     "grade_id": "cell-8495d8a29dbbd623",
     "locked": true,
     "schema_version": 3,
     "solution": false,
     "task": false
    }
   },
   "source": [
    "Consider following implementation of a \"database\" that stores only a single integer. Writers can update that integer by sending a new value over the `writes` channel and readers can read it by sending a reply channel over the `reads` channel. Initially the database only accepts the initial value over the `writes` channel."
   ]
  },
  {
   "cell_type": "code",
   "execution_count": 1,
   "metadata": {
    "deletable": false,
    "editable": false,
    "nbgrader": {
     "cell_type": "code",
     "checksum": "b058c1dbfb6473cd59f9e3ff34b06936",
     "grade": false,
     "grade_id": "cell-14352904f011c08f",
     "locked": true,
     "schema_version": 3,
     "solution": false,
     "task": false
    }
   },
   "outputs": [
    {
     "name": "stdout",
     "output_type": "stream",
     "text": [
      "Writing db.go\n"
     ]
    }
   ],
   "source": [
    "%%writefile db.go\n",
    "package main\n",
    "\n",
    "import (\"math/rand\"; \"time\")\n",
    "\n",
    "const R = 100 // number of readers\n",
    "const W = 10 // number of writers\n",
    "\n",
    "var done chan bool\n",
    "\n",
    "func db(reads chan chan int, writes chan int) {\n",
    "    state := <- writes\n",
    "    for {\n",
    "        select {\n",
    "        case reply := <-reads: reply <- state\n",
    "        case state = <-writes:\n",
    "        }\n",
    "    }\n",
    "}\n",
    "func main() {\n",
    "    reads, writes, done := make(chan chan int), make(chan int), make(chan bool)\n",
    "    go db(reads, writes)\n",
    "    for r := 0; r < R; r++ { // create R readers \n",
    "        go func() {\n",
    "            reply := make(chan int)\n",
    "            for i := 0; i < 20; i++ { \n",
    "                reads <- reply // stops in one out of 10 cases\n",
    "                if rand.Intn(10) == 0 {select{}} else {<- reply}\n",
    "                time.Sleep(time.Millisecond)\n",
    "            }\n",
    "        }()\n",
    "    }\n",
    "    for w := 0; w < W; w++ { // create W writers\n",
    "        go func() {\n",
    "            for i := 0; i < 20; i++ {\n",
    "                writes <- rand.Int() % 100\n",
    "                time.Sleep(time.Millisecond)\n",
    "            }\n",
    "            done <- true\n",
    "        }()\n",
    "    }\n",
    "    for k := 0; k < W; k++ {<- done} // wait for writers to terminate\n",
    "}"
   ]
  },
  {
   "cell_type": "code",
   "execution_count": null,
   "metadata": {
    "deletable": false,
    "editable": false,
    "nbgrader": {
     "cell_type": "code",
     "checksum": "cad78fc7aa2944b5ae94d9f16a649269",
     "grade": false,
     "grade_id": "cell-eb784616cb511be8",
     "locked": true,
     "schema_version": 3,
     "solution": false,
     "task": false
    }
   },
   "outputs": [],
   "source": [
    "!go run db.go"
   ]
  },
  {
   "cell_type": "markdown",
   "metadata": {
    "deletable": false,
    "editable": false,
    "nbgrader": {
     "cell_type": "markdown",
     "checksum": "9a4b3e098a9d740caf8e79cb7ad56b7d",
     "grade": false,
     "grade_id": "cell-64a98ab4ce864e88",
     "locked": true,
     "schema_version": 3,
     "solution": false,
     "task": false
    }
   },
   "source": [
    "In the implementation above, readers may fail: a reader may send a request over the `reads` channel and then die, i.e. not accept a reply from the database. Here, in 1 out of 10 cases, a reader stops after sending a request. What happens to the database and all other readers and writers in that case? Note that the Go library function [`rand.Intn(n)`](https://golang.org/pkg/math/rand/#Intn) randomly generates a non-negative number less than `n`.  [1 point]"
   ]
  },
  {
   "cell_type": "markdown",
   "metadata": {
    "deletable": false,
    "nbgrader": {
     "cell_type": "markdown",
     "checksum": "d95ad567f39912bb54a0a28606419502",
     "grade": true,
     "grade_id": "cell-dbfe5d02d3e2e84f",
     "locked": false,
     "points": 1,
     "schema_version": 3,
     "solution": true,
     "task": false
    }
   },
   "source": [
    "YOUR ANSWER HERE"
   ]
  },
  {
   "cell_type": "markdown",
   "metadata": {
    "deletable": false,
    "editable": false,
    "nbgrader": {
     "cell_type": "markdown",
     "checksum": "3c2454e25ed85f156b540ce91991280f",
     "grade": false,
     "grade_id": "cell-f3aa47075d915cfb",
     "locked": true,
     "schema_version": 3,
     "solution": false,
     "task": false
    }
   },
   "source": [
    "We consider three different remedies. The first one is to use buffered channels (asynchronous communication). Which channels need to be buffered and what is the smallest capacity to keep the database running with the given readers and writers? Copy above code and make **minimal** modifications! Add the explanation as a comment and mark the modified lines. [2 points]"
   ]
  },
  {
   "cell_type": "code",
   "execution_count": 3,
   "metadata": {
    "deletable": false,
    "nbgrader": {
     "cell_type": "code",
     "checksum": "4b21cde2f22ce0ce80ae5f26eeb1ff05",
     "grade": true,
     "grade_id": "cell-0613e109768ce103",
     "locked": false,
     "points": 2,
     "schema_version": 3,
     "solution": true,
     "task": false
    }
   },
   "outputs": [
    {
     "name": "stdout",
     "output_type": "stream",
     "text": [
      "Overwriting db.go\n"
     ]
    }
   ],
   "source": [
    "%%writefile db.go\n",
    "package main\n",
    "\n",
    "import (\"math/rand\"; \"time\")\n",
    "\n",
    "const R = 100 // number of readers\n",
    "const W = 10 // number of writers\n",
    "\n",
    "var done chan bool\n",
    "\n",
    "func db(reads chan chan int, writes chan int) {\n",
    "    state := <- writes\n",
    "    for {\n",
    "        select {\n",
    "        case reply := <-reads: reply <- state\n",
    "        case state = <-writes:\n",
    "        }\n",
    "    }\n",
    "}\n",
    "func main() {\n",
    "    reads, writes, done := make(chan chan int), make(chan int), make(chan bool)\n",
    "    go db(reads, writes)\n",
    "    for r := 0; r < R; r++ { // create R readers \n",
    "        go func() {\n",
    "            reply := make(chan int, 1)\n",
    "            for i := 0; i < 20; i++ { \n",
    "                reads <- reply // stops in one out of 10 cases\n",
    "                if rand.Intn(10) == 0 {select{}} else {<- reply}\n",
    "                time.Sleep(time.Millisecond)\n",
    "            }\n",
    "        }()\n",
    "    }\n",
    "    for w := 0; w < W; w++ { // create W writers\n",
    "        go func() {\n",
    "            for i := 0; i < 20; i++ {\n",
    "                writes <- rand.Int() % 100\n",
    "                time.Sleep(time.Millisecond)\n",
    "            }\n",
    "            done <- true\n",
    "        }()\n",
    "    }\n",
    "    for k := 0; k < W; k++ {<- done} // wait for writers to terminate\n",
    "}"
   ]
  },
  {
   "cell_type": "code",
   "execution_count": 4,
   "metadata": {},
   "outputs": [],
   "source": [
    "!go run db.go"
   ]
  },
  {
   "cell_type": "markdown",
   "metadata": {
    "deletable": false,
    "editable": false,
    "nbgrader": {
     "cell_type": "markdown",
     "checksum": "4d97ab2bed5d1b648b5d766fa876f30c",
     "grade": false,
     "grade_id": "cell-1518b39996886b80",
     "locked": true,
     "schema_version": 3,
     "solution": false,
     "task": false
    }
   },
   "source": [
    "The second remedy is to keep unbuffered channels, but on each read request, the database creates an auxiliary goroutine which sends the state over the reply channel, rather than the `db` goroutine sending it. In case the reader dies, the auxiliary goroutine will not be able to send, but the database will still be able to continue running. Copy the unmodified code above and make **minimal** modifications to `db` only! Explain in a comment which state of the database is being sent, e.g. the state at the time the request is received, the state at the time the reply is sent back, or some other state! Mark all the modified lines. [2 points]"
   ]
  },
  {
   "cell_type": "code",
   "execution_count": null,
   "metadata": {
    "deletable": false,
    "nbgrader": {
     "cell_type": "code",
     "checksum": "df8e0e54f00095b70d7997a0e3a14e39",
     "grade": true,
     "grade_id": "cell-ac00e0934a0bd7dc",
     "locked": false,
     "points": 2,
     "schema_version": 3,
     "solution": true,
     "task": false
    }
   },
   "outputs": [],
   "source": [
    "%%writefile db.go\n",
    "package main\n",
    "\n",
    "import (\"math/rand\"; \"time\")\n",
    "\n",
    "const R = 100 // number of readers\n",
    "const W = 10 // number of writers\n",
    "\n",
    "var done chan bool\n",
    "\n",
    "func db(reads chan chan int, writes chan int) {\n",
    "    state := <- writes\n",
    "    for {\n",
    "        select {\n",
    "        case reply := <-reads: \n",
    "            //EDIT: Run anonymous goroutine to send state to reply\n",
    "            //The sent state is the current state at the time the reply is sent\n",
    "            //EDITS START HERE\n",
    "            go func() {\n",
    "                reply <- state\n",
    "            } ()\n",
    "            //EDITS END HERE\n",
    "        case state = <-writes::\n",
    "        }\n",
    "    }\n",
    "}\n",
    "func main() {\n",
    "    reads, writes, done := make(chan chan int), make(chan int), make(chan bool)\n",
    "    go db(reads, writes)\n",
    "    for r := 0; r < R; r++ { // create R readers \n",
    "        go func() {\n",
    "            reply := make(chan int)\n",
    "            for i := 0; i < 20; i++ { \n",
    "                reads <- reply // stops in one out of 10 cases\n",
    "                if rand.Intn(10) == 0 {select{}} else {<- reply}\n",
    "                time.Sleep(time.Millisecond)\n",
    "            }\n",
    "        }()\n",
    "    }\n",
    "    for w := 0; w < W; w++ { // create W writers\n",
    "        go func() {\n",
    "            for i := 0; i < 20; i++ {\n",
    "                writes <- rand.Int() % 100\n",
    "                time.Sleep(time.Millisecond)\n",
    "            }\n",
    "            done <- true\n",
    "        }()\n",
    "    }\n",
    "    for k := 0; k < W; k++ {<- done} // wait for writers to terminate\n",
    "}"
   ]
  },
  {
   "cell_type": "code",
   "execution_count": null,
   "metadata": {},
   "outputs": [],
   "source": [
    "!go run db.go"
   ]
  },
  {
   "cell_type": "markdown",
   "metadata": {
    "deletable": false,
    "editable": false,
    "nbgrader": {
     "cell_type": "markdown",
     "checksum": "514d108b15e6a933518528f11b0d7481",
     "grade": false,
     "grade_id": "cell-70806d568cc28fbe",
     "locked": true,
     "schema_version": 3,
     "solution": false,
     "task": false
    }
   },
   "source": [
    "The third remedy is to use a timeout: the database will try for at most `10 ms` to send the reply back. If the reply cannot be sent to the requesting reader, the database simply continues. Copy the unmodified code above and make **minimal** modifications to `db` only! Mark all the modified lines. [3 points]"
   ]
  },
  {
   "cell_type": "code",
   "execution_count": null,
   "metadata": {
    "deletable": false,
    "nbgrader": {
     "cell_type": "code",
     "checksum": "7199c0f1f9c21207537f1f31423c49d3",
     "grade": true,
     "grade_id": "cell-b410d211c0058ab9",
     "locked": false,
     "points": 3,
     "schema_version": 3,
     "solution": true,
     "task": false
    }
   },
   "outputs": [],
   "source": [
    "# YOUR CODE HERE\n",
    "raise NotImplementedError()"
   ]
  },
  {
   "cell_type": "code",
   "execution_count": null,
   "metadata": {},
   "outputs": [],
   "source": [
    "!go run db.go"
   ]
  },
  {
   "cell_type": "markdown",
   "metadata": {
    "deletable": false,
    "editable": false,
    "nbgrader": {
     "cell_type": "markdown",
     "checksum": "4629ab44d424fd2261348faabc2a52b8",
     "grade": false,
     "grade_id": "cell-dcafb1e31e533503",
     "locked": true,
     "schema_version": 3,
     "solution": false,
     "task": false
    }
   },
   "source": [
    "Discuss the merits of the three different remedies with respect to following aspects:\n",
    "1. tolerance of the database with respect to \"slow\" readers, i.e. readers that may not be immediately ready to receive a reply\n",
    "2. allowing multiple readers to read concurrently and to read concurrently with a writer\n",
    "3. resource consumption in terms of additionally needed channels, goroutines, memory, etc.\n",
    "\n",
    "Give brief answer to each of the three points! [3 points]"
   ]
  },
  {
   "cell_type": "markdown",
   "metadata": {
    "deletable": false,
    "nbgrader": {
     "cell_type": "markdown",
     "checksum": "8437869a4ee9e2433f47040ea76e4a87",
     "grade": true,
     "grade_id": "cell-be24f5c4420598d0",
     "locked": false,
     "points": 3,
     "schema_version": 3,
     "solution": true,
     "task": false
    }
   },
   "source": [
    "YOUR ANSWER HERE"
   ]
  },
  {
   "cell_type": "markdown",
   "metadata": {
    "deletable": false,
    "editable": false,
    "nbgrader": {
     "cell_type": "markdown",
     "checksum": "f3dce1cd8ca8672c798fa96d881ba10a",
     "grade": false,
     "grade_id": "cell-186aa24a43e7107b",
     "locked": true,
     "schema_version": 3,
     "solution": false,
     "task": false
    }
   },
   "source": [
    "In case there are both readers sending over `reads` and writers sending over `writes` to the database, how is the choice resolved in `select` statement of the database in Go? [1 point]"
   ]
  },
  {
   "cell_type": "markdown",
   "metadata": {
    "deletable": false,
    "nbgrader": {
     "cell_type": "markdown",
     "checksum": "5eb59728265bf684cc280d8c27f16670",
     "grade": true,
     "grade_id": "cell-520136a6cfb73d3e",
     "locked": false,
     "points": 1,
     "schema_version": 3,
     "solution": true,
     "task": false
    }
   },
   "source": [
    "YOUR ANSWER HERE"
   ]
  },
  {
   "cell_type": "markdown",
   "metadata": {},
   "source": [
    "Modify the database such that writers are given preference! Copy the unmodified code of `db` and make **minimal** modifications. Testing is not required, it is up to you to include test code if you like. To simplify testing, readers have been modified so as not to fail. _Hint:_ Use `select` with `default`. [2 points]"
   ]
  },
  {
   "cell_type": "code",
   "execution_count": null,
   "metadata": {
    "deletable": false,
    "nbgrader": {
     "cell_type": "code",
     "checksum": "998de3385e4858a46dde79298ba77cec",
     "grade": true,
     "grade_id": "cell-b21fff79b7386832",
     "locked": false,
     "points": 2,
     "schema_version": 3,
     "solution": true,
     "task": false
    }
   },
   "outputs": [],
   "source": [
    "%%writefile db.go\n",
    "package main\n",
    "\n",
    "import (\"math/rand\"; \"time\")\n",
    "\n",
    "const R = 100 // number of readers\n",
    "const W = 10 // number of writers\n",
    "\n",
    "var done chan bool\n",
    "\n",
    "# YOUR CODE HERE\n",
    "raise NotImplementedError()\n",
    "func main() {\n",
    "    reads, writes, done := make(chan chan int), make(chan int), make(chan bool)\n",
    "    go db(reads, writes)\n",
    "    for r := 0; r < R; r++ { // create R readers\n",
    "        go func() {\n",
    "            reply := make(chan int)\n",
    "            for i := 0; i < 20; i++ { \n",
    "                reads <- reply; <- reply\n",
    "                time.Sleep(time.Millisecond)\n",
    "            }\n",
    "        }()\n",
    "    }\n",
    "    for w := 0; w < W; w++ { // create W writers\n",
    "        go func() {\n",
    "            for i := 0; i < 20; i++ {\n",
    "                writes <- rand.Int() % 100\n",
    "                time.Sleep(time.Millisecond)\n",
    "            }\n",
    "            done <- true\n",
    "        }()\n",
    "    }\n",
    "    for k := 0; k < W; k++ {<- done} // wait for writers to terminate\n",
    "}"
   ]
  },
  {
   "cell_type": "code",
   "execution_count": null,
   "metadata": {},
   "outputs": [],
   "source": [
    "!go run db.go"
   ]
  }
 ],
 "metadata": {
  "kernelspec": {
   "display_name": "Python 3 (ipykernel)",
   "language": "python",
   "name": "python3"
  },
  "language_info": {
   "codemirror_mode": {
    "name": "ipython",
    "version": 3
   },
   "file_extension": ".py",
   "mimetype": "text/x-python",
   "name": "python",
   "nbconvert_exporter": "python",
   "pygments_lexer": "ipython3",
   "version": "3.11.5"
  }
 },
 "nbformat": 4,
 "nbformat_minor": 4
}
