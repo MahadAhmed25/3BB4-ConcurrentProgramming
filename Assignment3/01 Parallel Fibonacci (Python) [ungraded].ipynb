{
 "cells": [
  {
   "cell_type": "markdown",
   "id": "6d82bf39",
   "metadata": {},
   "source": [
    "### Parallel Fibonacci (Python) [ungraded]"
   ]
  },
  {
   "cell_type": "markdown",
   "id": "addbcd9e",
   "metadata": {},
   "source": [
    "Let us explore dynamic multithreading using a recursive algorithm. The `n`-th Fibonacci number for `n ≥ 0` can be computed by a sequential, recursive procedure:\n",
    "\n",
    "```algorithm\n",
    "procedure fib(n: integer) → (r: integer)\n",
    "    x ← fib(n – 1)\n",
    "    y ← fib(n – 2)\n",
    "    r := x + y\n",
    "```\n",
    "\n",
    "This algorithm is not a practical way to compute large Fibonacci numbers, as the same computation is repeated. For example, a call to `fib(6)` recursively calls `fib(5)` and `fib(4)`. But the call to `fib(5)` also calls `fib(4)`. Both instances of `fib(4)` return the same result, `fib(4) = 3`. Without *memoization*, the second call to `fib(4)` replicates the work that the first call performs.\n",
    "\n",
    "Although procedure `fib` is a poor way to compute Fibonacci numbers, it makes a good example for key concepts in the design of multithreaded algorithms. Observe that within `fib(n)`, the two recursive calls to `fib(n – 1)` and `fib(n – 2)` are independent of each other: they could be called in either order, and the computation performed by one in no way affects the other. Therefore, the two recursive calls can run in parallel. Modify `sequentialfib` accordingly and call it `parallelfib`. Use the tests below to check that both are computing the same result."
   ]
  },
  {
   "cell_type": "code",
   "execution_count": 9,
   "id": "39b4484e",
   "metadata": {},
   "outputs": [],
   "source": [
    "def sequentialfib(n):\n",
    "    if n <= 1: return n\n",
    "    else:\n",
    "        x = sequentialfib(n - 1)\n",
    "        y = sequentialfib(n - 2)\n",
    "        return x + y"
   ]
  },
  {
   "cell_type": "code",
   "execution_count": 10,
   "id": "136f5cea",
   "metadata": {
    "solution": "hidden",
    "solution_first": true
   },
   "outputs": [],
   "source": [
    "from threading import Thread\n",
    "\n",
    "class fib(Thread):\n",
    "    def __init__(self, n):\n",
    "        super().__init__(); self.n = n\n",
    "    def run(self):\n",
    "        self.r = parallelfib(self.n)\n",
    "\n",
    "def parallelfib(n):\n",
    "    if n <= 1: return n\n",
    "    else:\n",
    "        x = fib(n-1)\n",
    "        y = fib(n-2)\n",
    "        x.start(); y.start()\n",
    "        x.join(); y.join()\n",
    "        return x.r + y.r\n",
    "    "
   ]
  },
  {
   "cell_type": "code",
   "execution_count": 11,
   "id": "975d8fec",
   "metadata": {},
   "outputs": [
    {
     "data": {
      "text/plain": [
       "(5, 5)"
      ]
     },
     "execution_count": 11,
     "metadata": {},
     "output_type": "execute_result"
    }
   ],
   "source": [
    "parallelfib(5), sequentialfib(5)"
   ]
  },
  {
   "cell_type": "code",
   "execution_count": 13,
   "id": "9937065a",
   "metadata": {},
   "outputs": [
    {
     "data": {
      "text/plain": [
       "(610, 610)"
      ]
     },
     "execution_count": 13,
     "metadata": {},
     "output_type": "execute_result"
    }
   ],
   "source": [
    "parallelfib(15), sequentialfib(15)"
   ]
  },
  {
   "cell_type": "code",
   "execution_count": null,
   "id": "38610df1-3a13-4d76-bf2f-5409ade51c73",
   "metadata": {},
   "outputs": [],
   "source": []
  }
 ],
 "metadata": {
  "kernelspec": {
   "display_name": "Python 3 (ipykernel)",
   "language": "python",
   "name": "python3"
  },
  "language_info": {
   "codemirror_mode": {
    "name": "ipython",
    "version": 3
   },
   "file_extension": ".py",
   "mimetype": "text/x-python",
   "name": "python",
   "nbconvert_exporter": "python",
   "pygments_lexer": "ipython3",
   "version": "3.11.2"
  }
 },
 "nbformat": 4,
 "nbformat_minor": 5
}
