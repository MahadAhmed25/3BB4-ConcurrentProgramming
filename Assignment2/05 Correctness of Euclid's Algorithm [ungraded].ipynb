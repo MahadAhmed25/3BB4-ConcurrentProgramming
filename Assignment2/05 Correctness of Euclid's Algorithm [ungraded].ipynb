{
 "cells": [
  {
   "cell_type": "markdown",
   "metadata": {
    "editable": true,
    "slideshow": {
     "slide_type": "slide"
    },
    "tags": []
   },
   "source": [
    "### Correctness of Euclid's Algorithm"
   ]
  },
  {
   "cell_type": "markdown",
   "metadata": {},
   "source": [
    "State the conditions for correctness for Euclid's algorithm and complete the proofs! For brevity, let `P` be the invariant:\n",
    "\n",
    "<div style=\"float:left;border-left:2em solid white\">\n",
    "\n",
    "```algorithm\n",
    "{x > 0 ∧ y > 0}\n",
    "a, b := x, y\n",
    "{P: gcd(a, b) = gcd(x, y) ∧\n",
    " a > 0 ∧ b > 0}\n",
    "while a ≠ b do\n",
    "    if a > b then\n",
    "        a := a – b\n",
    "    else\n",
    "        b := b – a\n",
    "{a = gcd(x, y)}\n",
    "```\n",
    "\n",
    "</div>\n",
    "<img style=\"float:left;border-left:6em solid white\" src=\"./img/Euclid.svg\"/>"
   ]
  },
  {
   "cell_type": "markdown",
   "metadata": {},
   "source": [
    "```algorithm\n",
    "\n",
    "1. x > 0 ∧ y > 0 ⇒ P[a, b:= x, y]\n",
    "\n",
    "proof:\n",
    "P[a, b:= x, y]\n",
    "    {sub}\n",
    "gcd(x, y) = gcd(x,y) ∧  a > 0 ∧ b > \n",
    "    {simplify}\n",
    "a > 0 ∧ b > 0\n",
    "\n",
    "2. P ∧ a = b ⇒ a = gcd(x,y)\n",
    "\n",
    "proof:\n",
    "P ∧ a = b ⇒ a = gcd(x,y)\n",
    "    {invariant def}\n",
    "P ∧ a = b ⇒ a = gcd(a,b)\n",
    "    {logic}\n",
    "P ∧ a = b ⇒ a = gcd(a,a)\n",
    "    {gcd(x,x) = x for any x}\n",
    "true\n",
    "\n",
    "3. P ∧ a ≠ b ⇒ P ∧ a ≠ b\n",
    "\n",
    "proof:\n",
    "true since E ⇒ E for any E\n",
    "\n",
    "4. P ∧ a ≠ b ∧ a > b ⇒ P[a := a-b]\n",
    "\n",
    "proof:\n",
    "P[a := a-b]\n",
    "    {sub}}gcd(a - b, b) = gcd(x, y) ∧   - ba > 0 ∧ b > \n",
    "    {gcd(x,y) = gcd(x-y, y) for any x,y}\n",
    "gcd(a, b) = gcd(x, y) ∧ a > b ∧ b > 0\n",
    "    {logic}\n",
    "gcd(a, b) = gcd(x, y) ∧ a > b ∧ b > 0 ∧ a > 0\n",
    "    {simplify and logic}\n",
    "P ∧ a ≠ b\n",
    "    0\n",
    "\n",
    "\n",
    "\n",
    "\n",
    "```"
   ]
  },
  {
   "cell_type": "code",
   "execution_count": null,
   "metadata": {},
   "outputs": [],
   "source": []
  }
 ],
 "metadata": {
  "kernelspec": {
   "display_name": "Python 3 (ipykernel)",
   "language": "python",
   "name": "python3"
  },
  "language_info": {
   "codemirror_mode": {
    "name": "ipython",
    "version": 3
   },
   "file_extension": ".py",
   "mimetype": "text/x-python",
   "name": "python",
   "nbconvert_exporter": "python",
   "pygments_lexer": "ipython3",
   "version": "3.11.2"
  },
  "rise": {
   "enable_chalkboard": true,
   "scroll": true
  },
  "toc": {
   "base_numbering": 1
  }
 },
 "nbformat": 4,
 "nbformat_minor": 4
}
