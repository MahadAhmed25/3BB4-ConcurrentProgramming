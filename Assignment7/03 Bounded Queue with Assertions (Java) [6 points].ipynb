{
 "cells": [
  {
   "cell_type": "markdown",
   "metadata": {},
   "source": [
    "### Bounded Queue in Java with Assertions [6 points]\n",
    "\n",
    "Taking the implementation below, add assertions to check the preconditions and the strongest invariant! Recall that in Java, arrays are pointers to the heap, so the invariant must ensure that the pointer is not `null`."
   ]
  },
  {
   "cell_type": "code",
   "execution_count": null,
   "metadata": {},
   "outputs": [],
   "source": [
    "%%writefile BoundedQueue.java\n",
    "class BoundedQueue<T> {\n",
    "    T[] buf;\n",
    "    int in = 0, out = 0, n = 0;\n",
    "    BoundedQueue(int cap) {\n",
    "        buf = (T[]) new Object[cap];\n",
    "    }\n",
    "    void put(T x) {\n",
    "        buf[in] = x; in = (in + 1) % buf.length; n += 1;\n",
    "    }\n",
    "    T get() {\n",
    "        T x = buf[out]; out = (out + 1) % buf.length; n -= 1;\n",
    "        return x;\n",
    "    }\n",
    "    int size() {\n",
    "        return n;\n",
    "    }\n",
    "}"
   ]
  },
  {
   "cell_type": "code",
   "execution_count": 3,
   "metadata": {
    "deletable": false,
    "nbgrader": {
     "cell_type": "code",
     "checksum": "9ae92f4f08fab0413cf971132fce8d22",
     "grade": true,
     "grade_id": "cell-9005947ccd48b76c",
     "locked": false,
     "points": 6,
     "schema_version": 3,
     "solution": true,
     "task": false
    }
   },
   "outputs": [
    {
     "name": "stdout",
     "output_type": "stream",
     "text": [
      "Overwriting BoundedQueue.java\n"
     ]
    }
   ],
   "source": [
    "%%writefile BoundedQueue.java\n",
    "@SuppressWarnings(\"unchecked\")\n",
    "class BoundedQueue<T> {\n",
    "    T[] buf;\n",
    "    int in = 0, out = 0, n = 0;\n",
    "    BoundedQueue(int cap) {\n",
    "        assert cap >= 1;\n",
    "        buf = (T[]) new Object[cap];\n",
    "        assert invariantOK();\n",
    "    }\n",
    "    void put(T x) {\n",
    "        buf[in] = x; in = (in + 1) % buf.length; n += 1;\n",
    "        assert invariantOK();\n",
    "    }\n",
    "    T get() {\n",
    "        T x = buf[out]; out = (out + 1) % buf.length; n -= 1;\n",
    "        assert invariantOK();\n",
    "        return x;\n",
    "    }\n",
    "    int size() {\n",
    "        return n;\n",
    "    }\n",
    "\n",
    "    boolean invariantOK(){\n",
    "        return 0 <= out && out < buf.length && 0 <= n && n < buf.length && in == (out + n) % buf.length;\n",
    "    }\n",
    "}\n",
    "\n",
    "class BoundedQueueTest {\n",
    "    public static void main(String[] args) {\n",
    "        BoundedQueue<String> bq = new BoundedQueue<>(5);\n",
    "        bq.put(\"test\");\n",
    "        assert bq.size() == 1;\n",
    "        assert bq.get() == \"test\";\n",
    "    }\n",
    "}"
   ]
  },
  {
   "cell_type": "code",
   "execution_count": 4,
   "metadata": {},
   "outputs": [],
   "source": [
    "!javac -Xlint BoundedQueue.java"
   ]
  },
  {
   "cell_type": "markdown",
   "metadata": {},
   "source": [
    "The `-Xlint` command line option enables all recommended warnings. Note that in Java, creating an array of `T` objects is impossible if `T` is a type parameter: one can only create an array of `Object` and pretend it to be an array of `T`. The Java compiler issues a warning as it might be possible that `buf` contains objects that are not `T`, even if that is not the case above. In general, the invariant must include that all elements of `buf` are indeed of type `T`. You can add `@SuppressWarnings(\"unchecked\")` to the class to suppress this kind of warning."
   ]
  },
  {
   "cell_type": "code",
   "execution_count": 5,
   "metadata": {},
   "outputs": [],
   "source": [
    "!java -ea BoundedQueueTest"
   ]
  },
  {
   "cell_type": "code",
   "execution_count": null,
   "metadata": {},
   "outputs": [],
   "source": []
  }
 ],
 "metadata": {
  "kernelspec": {
   "display_name": "Python 3 (ipykernel)",
   "language": "python",
   "name": "python3"
  },
  "language_info": {
   "codemirror_mode": {
    "name": "ipython",
    "version": 3
   },
   "file_extension": ".py",
   "mimetype": "text/x-python",
   "name": "python",
   "nbconvert_exporter": "python",
   "pygments_lexer": "ipython3",
   "version": "3.11.2"
  },
  "rise": {
   "enable_chalkboard": true
  }
 },
 "nbformat": 4,
 "nbformat_minor": 4
}
