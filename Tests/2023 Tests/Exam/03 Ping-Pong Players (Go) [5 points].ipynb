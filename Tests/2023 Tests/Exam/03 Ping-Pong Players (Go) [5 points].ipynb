{
 "cells": [
  {
   "cell_type": "markdown",
   "metadata": {
    "deletable": false,
    "editable": false,
    "nbgrader": {
     "cell_type": "markdown",
     "checksum": "0e4809ca1f25eafe7ca0a715347ff8cb",
     "grade": false,
     "grade_id": "cell-4a17c43cd4991f9a",
     "locked": true,
     "schema_version": 3,
     "solution": false,
     "task": false
    }
   },
   "source": [
    "### Impatient Ping-Pong Players (Go)"
   ]
  },
  {
   "cell_type": "markdown",
   "metadata": {
    "deletable": false,
    "editable": false,
    "nbgrader": {
     "cell_type": "markdown",
     "checksum": "95bafb862243fc5104d8ed5d4997c38e",
     "grade": false,
     "grade_id": "cell-6d0b5fad697abf70",
     "locked": true,
     "schema_version": 3,
     "solution": false,
     "task": false
    }
   },
   "source": [
    "As a reminder, common constructs in Go are:\n",
    "- `x := E` for declaring `x` and assigning to it\n",
    "- `x <- ch` for receiving over `ch`\n",
    "- `ch <- E` for sending over `ch`\n",
    "- `select {case ... : ... case ... : ... default ...}` for nondeterministic choice\n",
    "- `for {...}` for an infinite loop\n",
    "- `for i := 0; i < 10; i++ {...}` for a \"for\" loop\n",
    "- `make(chan T)` for a synchronous channel of type `T`\n",
    "- `make(chan T, C)` for an asynchronous channel of type `T` with capacity `C`\n",
    "- `<- time.After(M * time.Millisecond)` for a message after `M` milliseconds\n",
    "- `type S struct {f T; g U}` for declaring record type `S` with fields `f` and `g`\n",
    "- `S{a, b}` for a constant record of type `S` with field values `a` and `b`"
   ]
  },
  {
   "cell_type": "markdown",
   "metadata": {
    "deletable": false,
    "editable": false,
    "nbgrader": {
     "cell_type": "markdown",
     "checksum": "366d2f560d26f69eb6bf96ecd1d44d8d",
     "grade": false,
     "grade_id": "cell-2282aa060b69e4cd",
     "locked": true,
     "schema_version": 3,
     "solution": false,
     "task": false
    }
   },
   "source": [
    "Ping-pong players spend their lives alternately sleeping and playing ping-pong. A ping-pong school has 12 ping-pong players and a single ping-pong table. The table can only be used by two players at a time - not more, not less. Initially, the table is free. Players arrive individually at the table, so the first player must wait for the second. The table can be used again after both have left."
   ]
  },
  {
   "cell_type": "markdown",
   "metadata": {
    "deletable": false,
    "editable": false,
    "jp-MarkdownHeadingCollapsed": true,
    "nbgrader": {
     "cell_type": "markdown",
     "checksum": "5efee81b54f4c74247488e9dc54c75c0",
     "grade": false,
     "grade_id": "cell-cdea9526048c586b",
     "locked": true,
     "schema_version": 3,
     "solution": false,
     "task": false
    }
   },
   "source": [
    "Complete the following Go implementation with `table` as a goroutine. Playing a game takes 100 ms; for this, include `time.Sleep(100 * time.Millisecond)` in the body of `table`. Add print statements in `table` at appropriate places that produce an output like:\n",
    "\n",
    "```\n",
    "11 4 playing\n",
    "11 4 done\n",
    "5 9 playing\n",
    "5 9 done\n",
    "10 6 playing\n",
    "10 6 done\n",
    "2 0 playing\n",
    "2 0 done\n",
    "1 3 playing\n",
    "...\n",
    "```\n",
    "Every player creates a channel `done` for notification that the game is over. Since that channel is used only for synchronization, the direction of the channel and the value passed are inconsequential. [3 points]"
   ]
  },
  {
   "cell_type": "code",
   "execution_count": null,
   "metadata": {
    "deletable": false,
    "nbgrader": {
     "cell_type": "code",
     "checksum": "c06f9168309621289885c391589ee151",
     "grade": true,
     "grade_id": "cell-e6892993a7f6b3e3",
     "locked": false,
     "points": 3,
     "schema_version": 3,
     "solution": true,
     "task": false
    }
   },
   "outputs": [],
   "source": [
    "%%writefile PingPong.go\n",
    "package main\n",
    "\n",
    "import (\"math/rand\"; \"time\")\n",
    "\n",
    "const P = 12 // number of players\n",
    "type Request struct {player int; done chan bool}\n",
    "var requestplay chan Request\n",
    "\n",
    "func table() {\n",
    "    for {\n",
    "        select{\n",
    "            case p <- requestplay:\n",
    "        }\n",
    "    }\n",
    "}\n",
    "func player(p int) {\n",
    "    for {\n",
    "        done := make(chan bool)\n",
    "        requestplay <- Request{p, done} // playing\n",
    "        done <- true\n",
    "        time.Sleep(time.Duration(rand.Intn(100)) * time.Millisecond) // sleeping\n",
    "    }\n",
    "}\n",
    "func main() {\n",
    "    requestplay = make(chan Request)\n",
    "    go table()\n",
    "    for p := 0; p < P; p++ {go player(p)}\n",
    "    time.Sleep(500 * time.Millisecond)\n",
    "}"
   ]
  },
  {
   "cell_type": "code",
   "execution_count": null,
   "metadata": {
    "deletable": false,
    "editable": false,
    "nbgrader": {
     "cell_type": "code",
     "checksum": "f6b0160e9353f43ebf74fc61a3d4077e",
     "grade": false,
     "grade_id": "cell-e3cefc3ac6ef9ea6",
     "locked": true,
     "schema_version": 3,
     "solution": false,
     "task": false
    }
   },
   "outputs": [],
   "source": [
    "!go run PingPong.go"
   ]
  },
  {
   "cell_type": "markdown",
   "metadata": {
    "deletable": false,
    "editable": false,
    "nbgrader": {
     "cell_type": "markdown",
     "checksum": "58d847897fe8603e80097b3f1209addc",
     "grade": false,
     "grade_id": "cell-0b578c7003071343",
     "locked": true,
     "schema_version": 3,
     "solution": false,
     "task": false
    }
   },
   "source": [
    "The waiting players are impatient because the games take too long; sometimes both players don't want to play that long. They, therefore, agree to get two more tables and change the timing of the game: Each player plays a random amount of time, up to 100 ms (`time.Sleep(time.Duration(rand.Intn(100)) * time.Millisecond)`), as determined by the player rather than the table. The first player who had enough playing \"notifies\" the other player, and they continue playing until the other player had enough as well. As previously, between plays, they sleep a random amount of time, up to 100 ms. Modify both `table` and `player` accordingly. Note that a simple solution is possible. Add print statements in `table` at appropriate places that produce an output that can start with:\n",
    "\n",
    "```\n",
    "11 7 playing\n",
    "8 9 playing\n",
    "10 4 playing\n",
    "9 done, 8 done as well\n",
    "3 5 playing\n",
    "10 done, 4 done as well\n",
    "2 0 playing\n",
    "5 done, 3 done as well\n",
    "1 6 playing\n",
    "7 done, 11 done as well\n",
    "10 4 playing\n",
    "2 done, 0 done as well\n",
    "...\n",
    "```\n",
    "[2 points]"
   ]
  },
  {
   "cell_type": "code",
   "execution_count": null,
   "metadata": {
    "deletable": false,
    "nbgrader": {
     "cell_type": "code",
     "checksum": "dea384b14ffefb98c69ae9c541ed8ed2",
     "grade": true,
     "grade_id": "cell-542fdee260341509",
     "locked": false,
     "points": 2,
     "schema_version": 3,
     "solution": true,
     "task": false
    }
   },
   "outputs": [],
   "source": [
    "%%writefile ImpatientPingPong.go\n",
    "package main\n",
    "\n",
    "import (\"math/rand\"; \"time\")\n",
    "\n",
    "const P = 12 // number of players\n",
    "type Request struct {player int; done chan bool}\n",
    "var requestplay chan Request\n",
    "\n",
    "func table() {\n",
    "    for {\n",
    "        # YOUR CODE HERE\n",
    "        raise NotImplementedError()\n",
    "    }\n",
    "}\n",
    "func player(p int) {\n",
    "    for {\n",
    "        # YOUR CODE HERE\n",
    "        raise NotImplementedError()\n",
    "        time.Sleep(time.Duration(rand.Intn(100)) * time.Millisecond) // sleeping\n",
    "    }\n",
    "}\n",
    "func main() {\n",
    "    requestplay = make(chan Request)\n",
    "    go table(); go table(); go table()\n",
    "    for p := 0; p < P; p++ {go player(p)}\n",
    "    time.Sleep(500 * time.Millisecond)\n",
    "}"
   ]
  },
  {
   "cell_type": "code",
   "execution_count": null,
   "metadata": {
    "deletable": false,
    "editable": false,
    "nbgrader": {
     "cell_type": "code",
     "checksum": "21b859de8ed521092e90c035b21ed2dc",
     "grade": false,
     "grade_id": "cell-e1ff4b0dd9724615",
     "locked": true,
     "schema_version": 3,
     "solution": false,
     "task": false
    }
   },
   "outputs": [],
   "source": [
    "!go run ImpatientPingPong.go"
   ]
  }
 ],
 "metadata": {
  "kernelspec": {
   "display_name": "Python 3 (ipykernel)",
   "language": "python",
   "name": "python3"
  },
  "language_info": {
   "codemirror_mode": {
    "name": "ipython",
    "version": 3
   },
   "file_extension": ".py",
   "mimetype": "text/x-python",
   "name": "python",
   "nbconvert_exporter": "python",
   "pygments_lexer": "ipython3",
   "version": "3.11.5"
  }
 },
 "nbformat": 4,
 "nbformat_minor": 4
}
