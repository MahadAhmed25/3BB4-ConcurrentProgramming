{
 "cells": [
  {
   "cell_type": "markdown",
   "metadata": {
    "editable": true,
    "heading_collapsed": true,
    "slideshow": {
     "slide_type": "slide"
    },
    "tags": []
   },
   "source": [
    "### Parallel Average (Java) [6 points]"
   ]
  },
  {
   "cell_type": "markdown",
   "metadata": {
    "editable": true,
    "slideshow": {
     "slide_type": "slide"
    },
    "tags": []
   },
   "source": [
    "Consider the following program: It uses two _worker threads_ in Java to search for an element in an array. The program won't necessarily be faster than a sequential one, but it illustrates the concepts. The two workers do not communicate with each other, but the main program collects the results. Thus this is an example of \"embarrassing parallelism\"; concurrency is used to potentially achieve a speedup."
   ]
  },
  {
   "cell_type": "code",
   "execution_count": 5,
   "metadata": {},
   "outputs": [
    {
     "name": "stdout",
     "output_type": "stream",
     "text": [
      "Overwriting ParallelFind.java\n"
     ]
    }
   ],
   "source": [
    "%%writefile ParallelFind.java\n",
    "class Worker extends Thread {\n",
    "    int[] a;\n",
    "    int x, l, u;\n",
    "    boolean found;\n",
    "    public Worker(int[] a, int x, int l, int u) {\n",
    "        // a.length > 0 && 0 <= l <= u <= a.length\n",
    "        this.a = a; this.x = x;\n",
    "        this.l = l; this.u = u;\n",
    "    }\n",
    "    public void run() {\n",
    "        for (int i = l; i < u; i++)\n",
    "            if (a[i] == x) {found = true; return;}\n",
    "        found = false;\n",
    "    }\n",
    "}\n",
    "\n",
    "public class ParallelFind {\n",
    "    public static void main(String args[]) {\n",
    "        // populate array a with N \"random\" values\n",
    "        final int N = 100;\n",
    "        final int[] a = new int[N];\n",
    "        for (int i = 0; i < N; i++) a[i] = i;\n",
    "\n",
    "        // search in parallel for 42\n",
    "        Worker w0 = new Worker(a, 42, 0, N / 2); // w0 searches lower half\n",
    "        Worker w1 = new Worker(a, 42, N / 2, N); // w1 searches upper half\n",
    "        w0.start(); w1.start();\n",
    "        try {\n",
    "            w0.join(); w1.join();\n",
    "        } catch (Exception e) {}\n",
    "        System.out.println(w0.found + \" \" + w1.found);\n",
    "    }\n",
    "}"
   ]
  },
  {
   "cell_type": "markdown",
   "metadata": {
    "editable": true,
    "slideshow": {
     "slide_type": "slide"
    },
    "tags": []
   },
   "source": [
    "Creating a thread only runs the constructor of the class; method `start()` needs to be called to execute method `run()` concurrently with the caller.\n",
    "\n",
    "Run the next cells to test whether `42` appears in the lower half or upper half:"
   ]
  },
  {
   "cell_type": "code",
   "execution_count": 10,
   "metadata": {},
   "outputs": [],
   "source": [
    "!javac ParallelFind.java"
   ]
  },
  {
   "cell_type": "code",
   "execution_count": 11,
   "metadata": {},
   "outputs": [
    {
     "name": "stdout",
     "output_type": "stream",
     "text": [
      "true false\n"
     ]
    }
   ],
   "source": [
    "!java ParallelFind"
   ]
  },
  {
   "cell_type": "markdown",
   "metadata": {},
   "source": [
    "---"
   ]
  },
  {
   "cell_type": "markdown",
   "metadata": {
    "hidden": true
   },
   "source": [
    "The task is to compute the average of `n` numbers `a(0)`, ..., `a(n – 1)`. For example, for `n = 5`, the average can be computed in different ways:\n",
    "\n",
    "      (a(0) + a(1) + a(2) + a(3) + a(4)) / 5\n",
    "    = a(0) / 5 + a(1) / 5 + a(2) / 5 + a(3) / 5 + a(4) / 5\n",
    "    = (a(0) + a(1) + a(2)) / 5 + (a(3) + a(4)) / 5\n",
    "\n",
    "The last variant suggests a computation in parallel: one thread computes `(a(0) + a(1) + a(2)) / 5`, and a second thread computes `(a(3) + a(4)) / 5`; the main program collects the results of the two threads and adds them.\n",
    "\n",
    "The program below computes the average of `n` random integers sequentially; you are asked to complete the parallel computation with two workers, following `ParallelFind`. The average is computed in both ways, and the times the sequential and parallel computation take are printed. The program reads `n` from the command line to make testing easier. [4 points]"
   ]
  },
  {
   "cell_type": "code",
   "execution_count": 29,
   "metadata": {
    "deletable": false,
    "hidden": true,
    "nbgrader": {
     "cell_type": "code",
     "checksum": "081e2daa47d950c1784aa74bf49042db",
     "grade": true,
     "grade_id": "cell-313b030b8cfd69f3",
     "locked": false,
     "points": 4,
     "schema_version": 3,
     "solution": true,
     "task": false
    },
    "slideshow": {
     "slide_type": "slide"
    }
   },
   "outputs": [
    {
     "name": "stdout",
     "output_type": "stream",
     "text": [
      "Overwriting Average.java\n"
     ]
    }
   ],
   "source": [
    "%%writefile Average.java\n",
    "import java.util.Random;\n",
    "\n",
    "class Worker extends Thread {\n",
    "    int a[];\n",
    "    int l;\n",
    "    int u;\n",
    "    double average;\n",
    "\n",
    "    public Worker(int a[], int l, int u){\n",
    "        this.a = a;\n",
    "        this.l = l;\n",
    "        this.u = u;\n",
    "    }\n",
    "\n",
    "    public void run(){\n",
    "        double s = 0;\n",
    "        for (int i = l; i < u; i++) s += a[i];\n",
    "        average = s / a.length;\n",
    "    }\n",
    "}\n",
    "\n",
    "public class Average {\n",
    "    static double sequentialaverage(int a[]) {\n",
    "        // a.length > 0\n",
    "        double s = 0;\n",
    "        for (int i = 0; i < a.length; i++) s += a[i];\n",
    "        return s / a.length;\n",
    "    }\n",
    "    static double parallelaverage(int a[]) {\n",
    "        // a.length > 0\n",
    "        int midpoint = a.length / 2;\n",
    "        Worker w0 = new Worker(a, 0, midpoint);\n",
    "        Worker w1 = new Worker(a, midpoint, a.length);\n",
    "        w0.start(); w1.start();\n",
    "        try{\n",
    "            w0.join(); w1.join();\n",
    "        } catch (Exception e) {}\n",
    "        return w0.average + w1.average;\n",
    "    }\n",
    "    public static void main(String args[]) {\n",
    "        int n = Integer.parseInt(args[0]); // compute the average of n random numbers\n",
    "        int[] a = new int[n];\n",
    "        Random rand = new Random();\n",
    "        for (int i = 0; i < n; i++) a[i] = rand.nextInt(10000);\n",
    "        \n",
    "        long start = System.currentTimeMillis();\n",
    "        double avg = sequentialaverage(a);\n",
    "        long end = System.currentTimeMillis();\n",
    "        System.out.println(\"Sequential: \" + avg + \" Time: \" + (end - start) + \" ms\");\n",
    "\n",
    "        start = System.currentTimeMillis();\n",
    "        avg = parallelaverage(a);\n",
    "        end = System.currentTimeMillis();\n",
    "        System.out.println(\"Parallel: \" + avg + \" Time: \" + (end - start) + \" ms\");\n",
    "    }\n",
    "}"
   ]
  },
  {
   "cell_type": "markdown",
   "metadata": {
    "hidden": true
   },
   "source": [
    "Test your implementation with the cells below; you may use more cells."
   ]
  },
  {
   "cell_type": "code",
   "execution_count": 31,
   "metadata": {
    "hidden": true
   },
   "outputs": [
    {
     "name": "stdout",
     "output_type": "stream",
     "text": [
      "192414.94s - pydevd: Sending message related to process being replaced timed-out after 5 seconds\n"
     ]
    }
   ],
   "source": [
    "!javac Average.java"
   ]
  },
  {
   "cell_type": "markdown",
   "metadata": {
    "hidden": true
   },
   "source": [
    "Run your implementation with the following values of `n`; you may also include more values. As each run can produce different timing results, run your implementation with the same value of `n` several times. The above program measures the elapsed time, not the CPU time. If there are other processes (users) on the same CPU, the elapsed time will be larger than the CPU time. If you are using a server, choose a time of the day with few other users. In multiple runs with the same parameter, smaller times approximate the CPU time better."
   ]
  },
  {
   "cell_type": "code",
   "execution_count": 18,
   "metadata": {
    "hidden": true
   },
   "outputs": [
    {
     "name": "stdout",
     "output_type": "stream",
     "text": [
      "192250.54s - pydevd: Sending message related to process being replaced timed-out after 5 seconds\n",
      "Sequential: 5204.1 Time: 0 ms\n",
      "Parallel: 5204.1 Time: 1 ms\n"
     ]
    }
   ],
   "source": [
    "!java Average 10"
   ]
  },
  {
   "cell_type": "code",
   "execution_count": 19,
   "metadata": {
    "hidden": true
   },
   "outputs": [
    {
     "name": "stdout",
     "output_type": "stream",
     "text": [
      "192255.76s - pydevd: Sending message related to process being replaced timed-out after 5 seconds\n",
      "Sequential: 4959.14 Time: 0 ms\n",
      "Parallel: 4959.14 Time: 1 ms\n"
     ]
    }
   ],
   "source": [
    "!java Average 100"
   ]
  },
  {
   "cell_type": "code",
   "execution_count": 20,
   "metadata": {
    "hidden": true
   },
   "outputs": [
    {
     "name": "stdout",
     "output_type": "stream",
     "text": [
      "192260.98s - pydevd: Sending message related to process being replaced timed-out after 5 seconds\n",
      "Sequential: 5004.766 Time: 0 ms\n",
      "Parallel: 5004.766 Time: 2 ms\n"
     ]
    }
   ],
   "source": [
    "!java Average 1000"
   ]
  },
  {
   "cell_type": "code",
   "execution_count": 21,
   "metadata": {
    "hidden": true
   },
   "outputs": [
    {
     "name": "stdout",
     "output_type": "stream",
     "text": [
      "192266.20s - pydevd: Sending message related to process being replaced timed-out after 5 seconds\n",
      "Sequential: 5020.5233 Time: 0 ms\n",
      "Parallel: 5020.5233 Time: 2 ms\n"
     ]
    }
   ],
   "source": [
    "!java Average 10000"
   ]
  },
  {
   "cell_type": "code",
   "execution_count": 22,
   "metadata": {
    "hidden": true
   },
   "outputs": [
    {
     "name": "stdout",
     "output_type": "stream",
     "text": [
      "192271.42s - pydevd: Sending message related to process being replaced timed-out after 5 seconds\n",
      "Sequential: 5003.14827 Time: 2 ms\n",
      "Parallel: 5003.14827 Time: 4 ms\n"
     ]
    }
   ],
   "source": [
    "!java Average 100000"
   ]
  },
  {
   "cell_type": "code",
   "execution_count": 23,
   "metadata": {
    "hidden": true
   },
   "outputs": [
    {
     "name": "stdout",
     "output_type": "stream",
     "text": [
      "192276.65s - pydevd: Sending message related to process being replaced timed-out after 5 seconds\n",
      "Sequential: 4997.399788 Time: 4 ms\n",
      "Parallel: 4997.399788000001 Time: 6 ms\n"
     ]
    }
   ],
   "source": [
    "!java Average 1000000"
   ]
  },
  {
   "cell_type": "code",
   "execution_count": 24,
   "metadata": {
    "hidden": true
   },
   "outputs": [
    {
     "name": "stdout",
     "output_type": "stream",
     "text": [
      "192281.89s - pydevd: Sending message related to process being replaced timed-out after 5 seconds\n",
      "Sequential: 4999.8944607 Time: 15 ms\n",
      "Parallel: 4999.894460699999 Time: 12 ms\n"
     ]
    }
   ],
   "source": [
    "!java Average 10000000"
   ]
  },
  {
   "cell_type": "code",
   "execution_count": 25,
   "metadata": {
    "hidden": true
   },
   "outputs": [
    {
     "name": "stdout",
     "output_type": "stream",
     "text": [
      "192287.28s - pydevd: Sending message related to process being replaced timed-out after 5 seconds\n",
      "Sequential: 4999.25893807 Time: 112 ms\n",
      "Parallel: 4999.25893807 Time: 67 ms\n"
     ]
    }
   ],
   "source": [
    "!java Average 100000000"
   ]
  },
  {
   "cell_type": "code",
   "execution_count": 26,
   "metadata": {
    "hidden": true
   },
   "outputs": [
    {
     "name": "stdout",
     "output_type": "stream",
     "text": [
      "192294.01s - pydevd: Sending message related to process being replaced timed-out after 5 seconds\n",
      "Sequential: 4999.56641348 Time: 1169 ms\n",
      "Parallel: 4999.566413480001 Time: 593 ms\n"
     ]
    }
   ],
   "source": [
    "!java Average 1000000000"
   ]
  },
  {
   "cell_type": "markdown",
   "metadata": {
    "hidden": true
   },
   "source": [
    "How large has `n` to be such that there is a speedup of the parallel version? Add additional cells as you like. State your answer in the cell below! State the processor (model, frequency, number of cores) on which you ran the test; research how to find that out from the command line. [2 points]"
   ]
  },
  {
   "cell_type": "markdown",
   "metadata": {
    "deletable": false,
    "editable": true,
    "nbgrader": {
     "cell_type": "markdown",
     "checksum": "464d322c3d1e992bac11d075cc764e4f",
     "grade": true,
     "grade_id": "cell-1448826fbbdd335d",
     "locked": false,
     "points": 2,
     "schema_version": 3,
     "solution": true,
     "task": false
    },
    "slideshow": {
     "slide_type": "slide"
    },
    "tags": []
   },
   "source": [
    "From the tests it looks like that Sequential Average is actually faster for n of size ~1000000, however after that at n of size ~10000000 Parallel average starts to speedup and become much faster. We notice this significantly at n of size 1000000000 where we see that Parallel is 596ms faster than the sequential run\n",
    "\n",
    "Processor: Intel(R) Xeon(R) CPU E5-2687W v4 @ 3.00GHz, 16 cores\n"
   ]
  },
  {
   "cell_type": "code",
   "execution_count": 2,
   "metadata": {},
   "outputs": [
    {
     "name": "stdout",
     "output_type": "stream",
     "text": [
      "Architecture:            x86_64\n",
      "  CPU op-mode(s):        32-bit, 64-bit\n",
      "  Address sizes:         43 bits physical, 48 bits virtual\n",
      "  Byte Order:            Little Endian\n",
      "CPU(s):                  16\n",
      "  On-line CPU(s) list:   0-15\n",
      "Vendor ID:               GenuineIntel\n",
      "  Model name:            Intel(R) Xeon(R) CPU E5-2687W v4 @ 3.00GHz\n",
      "    CPU family:          6\n",
      "    Model:               79\n",
      "    Thread(s) per core:  1\n",
      "    Core(s) per socket:  1\n",
      "    Socket(s):           16\n",
      "    Stepping:            1\n",
      "    BogoMIPS:            5993.05\n",
      "    Flags:               fpu vme de pse tsc msr pae mce cx8 apic sep mtrr pge mc\n",
      "                         a cmov pat pse36 clflush mmx fxsr sse sse2 ss syscall n\n",
      "                         x pdpe1gb rdtscp lm constant_tsc arch_perfmon nopl xtop\n",
      "                         ology tsc_reliable nonstop_tsc cpuid tsc_known_freq pni\n",
      "                          pclmulqdq ssse3 fma cx16 pcid sse4_1 sse4_2 x2apic mov\n",
      "                         be popcnt tsc_deadline_timer aes xsave avx f16c rdrand \n",
      "                         hypervisor lahf_lm abm 3dnowprefetch cpuid_fault invpci\n",
      "                         d_single pti ssbd ibrs ibpb stibp fsgsbase tsc_adjust b\n",
      "                         mi1 avx2 smep bmi2 invpcid rdseed adx smap xsaveopt ara\n",
      "                         t md_clear flush_l1d arch_capabilities\n",
      "Virtualization features: \n",
      "  Hypervisor vendor:     VMware\n",
      "  Virtualization type:   full\n",
      "Caches (sum of all):     \n",
      "  L1d:                   512 KiB (16 instances)\n",
      "  L1i:                   512 KiB (16 instances)\n",
      "  L2:                    4 MiB (16 instances)\n",
      "  L3:                    480 MiB (16 instances)\n",
      "NUMA:                    \n",
      "  NUMA node(s):          2\n",
      "  NUMA node0 CPU(s):     0-7\n",
      "  NUMA node1 CPU(s):     8-15\n",
      "Vulnerabilities:         \n",
      "  Itlb multihit:         KVM: Mitigation: VMX unsupported\n",
      "  L1tf:                  Mitigation; PTE Inversion\n",
      "  Mds:                   Mitigation; Clear CPU buffers; SMT Host state unknown\n",
      "  Meltdown:              Mitigation; PTI\n",
      "  Mmio stale data:       Mitigation; Clear CPU buffers; SMT Host state unknown\n",
      "  Retbleed:              Mitigation; IBRS\n",
      "  Spec store bypass:     Mitigation; Speculative Store Bypass disabled via prctl\n",
      "  Spectre v1:            Mitigation; usercopy/swapgs barriers and __user pointer\n",
      "                          sanitization\n",
      "  Spectre v2:            Mitigation; IBRS, IBPB conditional, STIBP disabled, RSB\n",
      "                          filling, PBRSB-eIBRS Not affected\n",
      "  Srbds:                 Not affected\n",
      "  Tsx async abort:       Not affected\n"
     ]
    }
   ],
   "source": [
    "!lscpu"
   ]
  },
  {
   "cell_type": "code",
   "execution_count": null,
   "metadata": {},
   "outputs": [],
   "source": []
  }
 ],
 "metadata": {
  "kernelspec": {
   "display_name": "Python 3 (ipykernel)",
   "language": "python",
   "name": "python3"
  },
  "language_info": {
   "codemirror_mode": {
    "name": "ipython",
    "version": 3
   },
   "file_extension": ".py",
   "mimetype": "text/x-python",
   "name": "python",
   "nbconvert_exporter": "python",
   "pygments_lexer": "ipython3",
   "version": "3.11.2"
  },
  "toc": {
   "base_numbering": 1
  }
 },
 "nbformat": 4,
 "nbformat_minor": 4
}
