{
 "cells": [
  {
   "cell_type": "markdown",
   "metadata": {
    "deletable": false,
    "editable": false,
    "nbgrader": {
     "cell_type": "markdown",
     "checksum": "1be8d9b14c4bb8e9ca604fdefd9c821f",
     "grade": false,
     "grade_id": "cell-d4b1f6ff4a432515",
     "locked": true,
     "schema_version": 3,
     "solution": false,
     "task": false
    }
   },
   "source": [
    "### Fair Readers and Writers with Semaphores (Python) [8 points]"
   ]
  },
  {
   "cell_type": "markdown",
   "metadata": {
    "deletable": false,
    "editable": false,
    "nbgrader": {
     "cell_type": "markdown",
     "checksum": "9a09f174622154d0f14da4fc65611e37",
     "grade": false,
     "grade_id": "cell-623ae71aff57029a",
     "locked": true,
     "schema_version": 3,
     "solution": false,
     "task": false
    }
   },
   "source": [
    "Implement a fair solution in Python with readers and writers following the synchronization scheme of the course notes. In the template below, there is only a single reader and a single writer. The reader busily keeps reading and computes the maximum of all numbers read. The writer generates in 1-second intervals numbers `0 .. numIters` starting from the middle one and wrapping around, i.e. generating the maximum after about half the iterations. The variable `numIters` is the command line parameter. The synchronization scheme has to ensure that the writer is given preference, so if there is more than one reader, all readers can get updates from the writer. Your solution must be correct for multiple readers and writers, even if the code below creates only one reader and a single writer.\n",
    "\n",
    "By default, threads in Python are not created as _daemon threads,_ meaning that they will continue after the main thread terminates. Below, the main program waits only for the writer to terminate, and the reader thread is made a daemon thread."
   ]
  },
  {
   "cell_type": "code",
   "execution_count": 2,
   "metadata": {
    "deletable": false,
    "nbgrader": {
     "cell_type": "code",
     "checksum": "0cfa07743186be764d05b2a92efa2943",
     "grade": true,
     "grade_id": "cell-7714773b26b5f7a5",
     "locked": false,
     "points": 8,
     "schema_version": 3,
     "solution": true,
     "task": false
    }
   },
   "outputs": [],
   "source": [
    "from threading import Thread, Semaphore\n",
    "from time import sleep\n",
    "from sys import stdout\n",
    "\n",
    "# global variables and semaphores\n",
    "e = Semaphore(1)\n",
    "r, w = Semaphore(0), Semaphore(0)\n",
    "nr, nw = 0, 0\n",
    "dr, dw = 0, 0\n",
    "data = 0\n",
    "\n",
    "def reader():\n",
    "    global nr, nw, dr, dw, data, maxdata\n",
    "    maxdata = 0\n",
    "    stdout.write('Reader starting\\n')\n",
    "    while True:\n",
    "        # entry protocol\n",
    "        e.acquire()\n",
    "        if (nw > 0 or dw > 0): {dr += 1; e.release(); r.acquire()}\n",
    "\n",
    "        nr += 1\n",
    "        if (dr > 0): {dr -= 1; r.release()}\n",
    "\n",
    "        else: e.release()\n",
    "            \n",
    "        if data > maxdata:\n",
    "            stdout.write('Reader in critical section read ' + str(data) + '\\n')\n",
    "        maxdata = data if data > maxdata else maxdata\n",
    "        \n",
    "        # exit protocol\n",
    "        e.acquire()\n",
    "        nr -= 1\n",
    "        if (nr == 0 and dw > 0):\n",
    "            dw -= 1\n",
    "            w.release()\n",
    "        else:\n",
    "            e.release()\n",
    "        \n",
    "\n",
    "def writer(numIters):\n",
    "    global nr, nw, dr, dw, data\n",
    "    stdout.write('Writer starting\\n')\n",
    "    for i in range(numIters):\n",
    "        # entry protocol\n",
    "        e.acquire()\n",
    "        if (nr > 0 or nw > 0): {dw += 1 e.release() w.acquire()} nw += 1; e.release()\n",
    "            \n",
    "        stdout.write('Writer in critical section\\n')\n",
    "        data = (i + numIters // 2) % numIters\n",
    "        stdout.write('Writer writing ' + str(data) + '\\n')\n",
    "        # exit protocol\n",
    "        e.acquire(); nw -= 1 if (dw > 0): {dw -= 1 w.release()}\n",
    "        elif (dr > 0): {dr -= 1 r.release()}\n",
    "        else: e.release()\n",
    "            \n",
    "        \n",
    "        sleep(1)\n",
    "\n",
    "def rw(numIters):\n",
    "    r = Thread(target = reader, daemon = True)\n",
    "    w = Thread(target = writer, args = (numIters, ))\n",
    "    r.start(); w.start()"
   ]
  },
  {
   "cell_type": "code",
   "execution_count": 3,
   "metadata": {},
   "outputs": [
    {
     "name": "stdout",
     "output_type": "stream",
     "text": [
      "Reader starting\n",
      "Writer starting\n",
      "Writer trying to enter\n",
      "Writer in critical section\n",
      "Writer writing 5\n",
      "Reader in critical section read 5\n",
      "Writer trying to enter\n",
      "Writer in critical section\n",
      "Writer writing 6\n",
      "Reader in critical section read 6\n",
      "Writer trying to enter\n",
      "Writer in critical section\n",
      "Writer writing 7\n",
      "Reader in critical section read 7\n",
      "Writer trying to enter\n",
      "Writer in critical section\n",
      "Writer writing 8\n",
      "Reader in critical section read 8\n",
      "Writer trying to enter\n",
      "Writer in critical section\n",
      "Writer writing 9\n",
      "Reader in critical section read 9\n",
      "Writer trying to enter\n",
      "Writer in critical section\n",
      "Writer writing 0\n",
      "Writer trying to enter\n",
      "Writer in critical section\n",
      "Writer writing 1\n",
      "Writer trying to enter\n",
      "Writer in critical section\n",
      "Writer writing 2\n",
      "Writer trying to enter\n",
      "Writer in critical section\n",
      "Writer writing 3\n",
      "Writer trying to enter\n",
      "Writer in critical section\n",
      "Writer writing 4\n"
     ]
    }
   ],
   "source": [
    "rw(10)"
   ]
  }
 ],
 "metadata": {
  "kernelspec": {
   "display_name": "Python 3 (ipykernel)",
   "language": "python",
   "name": "python3"
  },
  "language_info": {
   "codemirror_mode": {
    "name": "ipython",
    "version": 3
   },
   "file_extension": ".py",
   "mimetype": "text/x-python",
   "name": "python",
   "nbconvert_exporter": "python",
   "pygments_lexer": "ipython3",
   "version": "3.11.2"
  }
 },
 "nbformat": 4,
 "nbformat_minor": 4
}
