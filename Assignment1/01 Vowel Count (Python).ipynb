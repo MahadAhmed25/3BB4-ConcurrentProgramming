{
 "cells": [
  {
   "cell_type": "markdown",
   "metadata": {
    "deletable": false,
    "editable": false,
    "nbgrader": {
     "cell_type": "markdown",
     "checksum": "08c90f665907ba0f159c447f830a69f6",
     "grade": false,
     "grade_id": "cell-7f5edd62722f6885",
     "locked": true,
     "schema_version": 3,
     "solution": false
    }
   },
   "source": [
    "### Vowel Count [ungraded]\n",
    "Write a Python function `vowelsCount(s)` that returns the total number of uppercase and lowercase vowels in string `s`. "
   ]
  },
  {
   "cell_type": "code",
   "execution_count": 1,
   "metadata": {
    "deletable": false,
    "nbgrader": {
     "cell_type": "code",
     "checksum": "b1059928d7465cf7e1fce033ec36edb2",
     "grade": false,
     "grade_id": "cell-f39e8634b7bc8e7f",
     "locked": false,
     "schema_version": 3,
     "solution": true
    }
   },
   "outputs": [],
   "source": [
    "def vowelsCount(s):\n",
    "    cnt = 0\n",
    "    for c in s:\n",
    "        if c in \"aeiouAEIOU\":\n",
    "            cnt += 1\n",
    "    return cnt"
   ]
  },
  {
   "cell_type": "markdown",
   "metadata": {
    "deletable": false,
    "editable": false,
    "nbgrader": {
     "cell_type": "markdown",
     "checksum": "19032cc838667b5b19cde4681aa4c418",
     "grade": false,
     "grade_id": "cell-d490422cfa117ed5",
     "locked": true,
     "schema_version": 3,
     "solution": false,
     "task": false
    }
   },
   "source": [
    "You can use the cells below for testing and you can add cells with your own test cases."
   ]
  },
  {
   "cell_type": "code",
   "execution_count": 2,
   "metadata": {
    "deletable": false,
    "editable": false,
    "nbgrader": {
     "cell_type": "code",
     "checksum": "3ff1b5f198e7028841a2cf61efe227ee",
     "grade": true,
     "grade_id": "cell-72293d74ab104d94",
     "locked": true,
     "points": 0,
     "schema_version": 3,
     "solution": false
    }
   },
   "outputs": [],
   "source": [
    "assert vowelsCount(\"January\") == 3"
   ]
  },
  {
   "cell_type": "code",
   "execution_count": 3,
   "metadata": {
    "deletable": false,
    "editable": false,
    "nbgrader": {
     "cell_type": "code",
     "checksum": "5ec1ea0b24b375aeed7b9cd83e150656",
     "grade": true,
     "grade_id": "cell-634cf96cb3492601",
     "locked": true,
     "points": 0,
     "schema_version": 3,
     "solution": false
    }
   },
   "outputs": [],
   "source": [
    "assert vowelsCount(\"April\") == 2"
   ]
  },
  {
   "cell_type": "code",
   "execution_count": 4,
   "metadata": {
    "deletable": false,
    "editable": false,
    "nbgrader": {
     "cell_type": "code",
     "checksum": "a2f0b0298c23bccaa1488fd8f56476ef",
     "grade": true,
     "grade_id": "cell-d1051f8061fda718",
     "locked": true,
     "points": 0,
     "schema_version": 3,
     "solution": false
    }
   },
   "outputs": [],
   "source": [
    "assert vowelsCount(\"abcdefghijklmnopqrtsuvwxyz\") == 5"
   ]
  },
  {
   "cell_type": "code",
   "execution_count": 5,
   "metadata": {
    "deletable": false,
    "editable": false,
    "nbgrader": {
     "cell_type": "code",
     "checksum": "0a79bd04f954732d76de222394b49103",
     "grade": true,
     "grade_id": "cell-0cfbaf282c1ce854",
     "locked": true,
     "points": 0,
     "schema_version": 3,
     "solution": false
    }
   },
   "outputs": [],
   "source": [
    "assert vowelsCount(\"ABCDEFGHIJKLMNOPQRTSUVWXYZ\") == 5"
   ]
  },
  {
   "cell_type": "code",
   "execution_count": 6,
   "metadata": {
    "deletable": false,
    "editable": false,
    "nbgrader": {
     "cell_type": "code",
     "checksum": "02087fd72204542bf750bdccd7adfa93",
     "grade": true,
     "grade_id": "cell-c53f52b4fd864f45",
     "locked": true,
     "points": 0,
     "schema_version": 3,
     "solution": false
    }
   },
   "outputs": [],
   "source": [
    "assert vowelsCount(\"\") == 0"
   ]
  },
  {
   "cell_type": "code",
   "execution_count": null,
   "metadata": {},
   "outputs": [],
   "source": []
  }
 ],
 "metadata": {
  "kernelspec": {
   "display_name": "Python 3 (ipykernel)",
   "language": "python",
   "name": "python3"
  },
  "language_info": {
   "codemirror_mode": {
    "name": "ipython",
    "version": 3
   },
   "file_extension": ".py",
   "mimetype": "text/x-python",
   "name": "python",
   "nbconvert_exporter": "python",
   "pygments_lexer": "ipython3",
   "version": "3.11.6"
  }
 },
 "nbformat": 4,
 "nbformat_minor": 4
}
