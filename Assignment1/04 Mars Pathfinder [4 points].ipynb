{
 "cells": [
  {
   "cell_type": "markdown",
   "metadata": {
    "deletable": false,
    "editable": false,
    "heading_collapsed": true,
    "nbgrader": {
     "cell_type": "markdown",
     "checksum": "236cdf452e1f846baecd58a9bcee91f0",
     "grade": false,
     "grade_id": "cell-92e1730c74ec5b77",
     "locked": true,
     "schema_version": 3,
     "solution": false,
     "task": false
    },
    "slideshow": {
     "slide_type": "slide"
    }
   },
   "source": [
    "### Mars Pathfinder [4 points]"
   ]
  },
  {
   "cell_type": "markdown",
   "metadata": {
    "deletable": false,
    "editable": false,
    "hidden": true,
    "nbgrader": {
     "cell_type": "markdown",
     "checksum": "ddb0a3ec97aba472093245d7faca4f1e",
     "grade": false,
     "grade_id": "cell-fef92c18653bf61c",
     "locked": true,
     "schema_version": 3,
     "solution": false
    }
   },
   "source": [
    "The Mars Pathfinder got stuck on Mars due to *priority inversion*. Describe in your own works what priority inversion is. Write your answer in the cell below using markdown. You can use the links from the course notes or other sources but you must provide links to all sources you used. "
   ]
  },
  {
   "cell_type": "markdown",
   "metadata": {
    "deletable": false,
    "hidden": true,
    "nbgrader": {
     "cell_type": "markdown",
     "checksum": "d53e67e00e31caaf6df0856cceb55e08",
     "grade": true,
     "grade_id": "cell-ea61744aff568813",
     "locked": false,
     "points": 4,
     "schema_version": 3,
     "solution": true
    }
   },
   "source": [
    "Priority inversion is when a task with a high priority gets blocked or sometimes delayed because a task with a lower priority has a resource that the high priority task needs. This issue can arise unexpected behavior in a system \n",
    "\n",
    "Priority inversion can reduce the perceived performance of the system. if the high priority task is left starved of its needed resources it may end up blocking/breaking the entire system or causing some noticeable malfunctions.\n",
    "\n",
    "Source: https://en.wikipedia.org/wiki/Priority_inversion"
   ]
  }
 ],
 "metadata": {
  "kernelspec": {
   "display_name": "Python 3 (ipykernel)",
   "language": "python",
   "name": "python3"
  },
  "language_info": {
   "codemirror_mode": {
    "name": "ipython",
    "version": 3
   },
   "file_extension": ".py",
   "mimetype": "text/x-python",
   "name": "python",
   "nbconvert_exporter": "python",
   "pygments_lexer": "ipython3",
   "version": "3.11.2"
  }
 },
 "nbformat": 4,
 "nbformat_minor": 4
}
