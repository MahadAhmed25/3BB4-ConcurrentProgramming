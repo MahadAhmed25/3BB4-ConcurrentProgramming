{
 "cells": [
  {
   "cell_type": "markdown",
   "metadata": {},
   "source": [
    "### Fair Bank Account with Monitors (Java)\n",
    "\n",
    "A bank account is shared by several people (processes). Each person may deposit or withdraw funds from the account. The current balance in the account is the sum of all deposits to date minus the sum of all withdrawals. The balance must never become negative. A process that withdraws an amount that would make the balance negative has to wait until the balance is large enough.\n",
    "\n",
    "Implement a monitor in Java to solve the problem. The monitor has two procedures (methods): `deposit(amount)` and `withdraw(amount)`, for positive integer `amount`. If the balance is `0` and processes are requesting to withdraw 300 and 100 and depositing 100, 120, and 180, in that order, an acceptable solution is that the process requesting 100 will be served right after another process deposits 100, even if the request for 300 came before the request for 100. That is, requests should be served as soon as a request can be served. Do not use Java library classes for `Account` (there is no need; the solution is short), though you may use whatever you like for testing. State the monitor invariant!\n",
    "\n",
    "The implementation below is *instrumented* with statements that log the execution of `deposit()` and `withdraw()`. This is used for testing that all deposits and withdrawals occur and occur in a valid order. For example, the log could be `D100D180D120W100W300`."
   ]
  },
  {
   "cell_type": "code",
   "execution_count": null,
   "metadata": {
    "deletable": false,
    "nbgrader": {
     "cell_type": "code",
     "checksum": "ce09e2c19abf897ff568f9f4bc5b4c78",
     "grade": true,
     "grade_id": "cell-b6ebaa96cba82173",
     "locked": false,
     "points": 4,
     "schema_version": 3,
     "solution": true,
     "task": false
    }
   },
   "outputs": [],
   "source": [
    "%%writefile Account.java\n",
    "import java.util.regex.Pattern;\n",
    "class Account {\n",
    "    # YOUR CODE HERE\n",
    "    raise NotImplementedError()\n",
    "    synchronized void deposit(int amount) {\n",
    "        # YOUR CODE HERE\n",
    "        raise NotImplementedError()\n",
    "        TestAccount.log += \"D\" + amount;\n",
    "    }\n",
    "    synchronized void withdraw(int amount) {\n",
    "        # YOUR CODE HERE\n",
    "        raise NotImplementedError()\n",
    "        TestAccount.log += \"W\" + amount;\n",
    "    }\n",
    "}\n",
    "class Depositer extends Thread {\n",
    "    Account a;\n",
    "    int amount;\n",
    "    Depositer(Account a, int amount) {\n",
    "        this.a = a; this.amount = amount;\n",
    "    }\n",
    "    public void run() {\n",
    "        a.deposit(amount);\n",
    "    }\n",
    "}\n",
    "class Withdrawer extends Thread {\n",
    "    Account a;\n",
    "    int amount;\n",
    "    Withdrawer(Account a, int amount) {\n",
    "        this.a = a; this.amount = amount;\n",
    "    }\n",
    "    public void run() {\n",
    "        a.withdraw(amount);\n",
    "    }\n",
    "}\n",
    "class TestAccount {\n",
    "    static String log = \"\";\n",
    "    public static void main(String[] args) {\n",
    "        Account a = new Account();\n",
    "        Withdrawer w0 = new Withdrawer(a, 300); w0.start();\n",
    "        try {Thread.sleep(10);} catch (Exception x) {}\n",
    "        Withdrawer w1 = new Withdrawer(a, 100); w1.start();\n",
    "        Depositer d0 = new Depositer(a, 100); d0.start();\n",
    "        try {Thread.sleep(10);} catch (Exception x) {}\n",
    "        Depositer d1 = new Depositer(a, 120); d1.start();\n",
    "        Depositer d2 = new Depositer(a, 180); d2.start();\n",
    "        try {w0.join(); w1.join(); d0.join(); d1.join(); d2.join();\n",
    "        } catch(Exception e) {}\n",
    "        System.out.println(log);\n",
    "        assert Pattern.matches(\".*W300.*\", log) : \"300 not withdrawn\";\n",
    "        assert Pattern.matches(\".*W100.*\", log) : \"100 not withdrawn\";\n",
    "        assert Pattern.matches(\".*D100.*\", log) : \"100 not deposited\";\n",
    "        assert Pattern.matches(\".*D120.*\", log) : \"120 not deposited\";\n",
    "        assert Pattern.matches(\".*D180.*\", log) : \"180 not deposited\";\n",
    "        assert Pattern.matches(\".*D....*W100.*\", log) : \"100 withdrawn before any deposit\";\n",
    "        assert Pattern.matches(\".*(D120.*D180|D180.*D120).*W300.*\", log) :\n",
    "            \"300 withdrawn before both 120 and 180 deposited\";\n",
    "    }\n",
    "}"
   ]
  },
  {
   "cell_type": "code",
   "execution_count": null,
   "metadata": {},
   "outputs": [],
   "source": [
    "!javac Account.java"
   ]
  },
  {
   "cell_type": "code",
   "execution_count": null,
   "metadata": {},
   "outputs": [],
   "source": [
    "!java -ea TestAccount"
   ]
  },
  {
   "cell_type": "markdown",
   "metadata": {},
   "source": [
    "As the problem is stated above, there is no fairness among processes withdrawing an amount. In particular, a process withdrawing a large amount that may only be satisfied by several deposits will starve if smaller withdrawals are served immediately. Now, modify the implementation such that withdrawals follow the first-come-first-serve discipline. State the monitor invariant!\n",
    "\n",
    "Testing is now modified to ensure that 300 is attempted to be withdrawn before 100. A valid log is `D100D180D120W300W100`.\n",
    "\n",
    "_Hint:_ Use the idea of the ticket algorithm. Remember that each process calling `withdraw` and `deposit` has its stack and, therefore, its copy of local variables. The solution requires about ten lines of code."
   ]
  },
  {
   "cell_type": "code",
   "execution_count": null,
   "metadata": {
    "deletable": false,
    "nbgrader": {
     "cell_type": "code",
     "checksum": "8331fcf71d9d14c594ca405ae5f8278b",
     "grade": true,
     "grade_id": "cell-ce32823413412b44",
     "locked": false,
     "points": 8,
     "schema_version": 3,
     "solution": true,
     "task": false
    }
   },
   "outputs": [],
   "source": [
    "%%writefile Account.java\n",
    "import java.util.regex.Pattern;\n",
    "class Account {\n",
    "    int balance = 0; // balance >= 0\n",
    "    int number = 0, next = 0; // number >= next >= 0\n",
    "    synchronized void deposit(int amount) {\n",
    "        # YOUR CODE HERE\n",
    "        raise NotImplementedError()\n",
    "        TestAccount.log += \"D\" + amount;\n",
    "    }\n",
    "    synchronized void withdraw(int amount) {\n",
    "        # YOUR CODE HERE\n",
    "        raise NotImplementedError()\n",
    "        TestAccount.log += \"W\" + amount;\n",
    "    }\n",
    "}\n",
    "class Depositer extends Thread {\n",
    "    Account a;\n",
    "    int amount;\n",
    "    Depositer(Account a, int amount) {\n",
    "        this.a = a; this.amount = amount;\n",
    "    }\n",
    "    public void run() {\n",
    "        a.deposit(amount);\n",
    "    }\n",
    "}\n",
    "class Withdrawer extends Thread {\n",
    "    Account a;\n",
    "    int amount;\n",
    "    Withdrawer(Account a, int amount) {\n",
    "        this.a = a; this.amount = amount;\n",
    "    }\n",
    "    public void run() {\n",
    "        a.withdraw(amount);\n",
    "    }\n",
    "}\n",
    "class TestAccount {\n",
    "    static String log = \"\";\n",
    "    public static void main(String[] args) {\n",
    "        Account a = new Account();\n",
    "        Withdrawer w0 = new Withdrawer(a, 300); w0.start();\n",
    "        // wait 10 ms to ensure that w0 tries to withdraw before w1\n",
    "        try {Thread.sleep(10);} catch (Exception x) {}\n",
    "        Withdrawer w1 = new Withdrawer(a, 100); w1.start();\n",
    "        Depositer d0 = new Depositer(a, 100); d0.start();\n",
    "        try {Thread.sleep(10);} catch (Exception x) {}\n",
    "        Depositer d1 = new Depositer(a, 120); d1.start();\n",
    "        Depositer d2 = new Depositer(a, 180); d2.start();\n",
    "        try {w0.join(); w1.join(); d0.join(); d1.join(); d2.join();\n",
    "        } catch(Exception e) {}\n",
    "        System.out.println(log);\n",
    "        assert Pattern.matches(\".*W300.*W100.*\", log) : \"300 must be withdrawn before 100 withdrawn\";\n",
    "        assert Pattern.matches(\".*D120.*W300.*\", log) : \"120 must be deposited before 300 withdrawn\";\n",
    "        assert Pattern.matches(\".*D180.*W300.*\", log) : \"180 must be deposited before 300 withdrawn\";\n",
    "        assert Pattern.matches(\".*D100.*W100.*\", log) : \"120 must be deposited before 100 withdrawn\";\n",
    "    }\n",
    "}"
   ]
  },
  {
   "cell_type": "code",
   "execution_count": null,
   "metadata": {},
   "outputs": [],
   "source": [
    "!javac Account.java"
   ]
  },
  {
   "cell_type": "code",
   "execution_count": null,
   "metadata": {},
   "outputs": [],
   "source": [
    "!java -ea TestAccount"
   ]
  }
 ],
 "metadata": {
  "kernelspec": {
   "display_name": "Python 3 (ipykernel)",
   "language": "python",
   "name": "python3"
  },
  "language_info": {
   "codemirror_mode": {
    "name": "ipython",
    "version": 3
   },
   "file_extension": ".py",
   "mimetype": "text/x-python",
   "name": "python",
   "nbconvert_exporter": "python",
   "pygments_lexer": "ipython3",
   "version": "3.11.2"
  }
 },
 "nbformat": 4,
 "nbformat_minor": 4
}
