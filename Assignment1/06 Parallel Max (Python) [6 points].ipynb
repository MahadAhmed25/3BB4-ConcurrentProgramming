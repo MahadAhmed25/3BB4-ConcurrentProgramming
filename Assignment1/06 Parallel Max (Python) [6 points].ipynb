{
 "cells": [
  {
   "cell_type": "markdown",
   "metadata": {
    "deletable": false,
    "editable": false,
    "heading_collapsed": true,
    "nbgrader": {
     "cell_type": "markdown",
     "checksum": "8f86298970d558d645070bc56cc19ae0",
     "grade": false,
     "grade_id": "cell-af0e26bbff7d64d3",
     "locked": true,
     "schema_version": 3,
     "solution": false,
     "task": false
    },
    "slideshow": {
     "slide_type": "slide"
    }
   },
   "source": [
    "### Parallel Max (Python) [6 points]"
   ]
  },
  {
   "cell_type": "markdown",
   "metadata": {
    "deletable": false,
    "editable": false,
    "hidden": true,
    "nbgrader": {
     "cell_type": "markdown",
     "checksum": "8323f925e90f48d7dfc114fcab212c19",
     "grade": false,
     "grade_id": "cell-027ac49a3049cb19",
     "locked": true,
     "schema_version": 3,
     "solution": false,
     "task": false
    }
   },
   "source": [
    "Python has a built-in function `max` that iterates over all elements of a collection and returns its maximum, for example:"
   ]
  },
  {
   "cell_type": "code",
   "execution_count": 236,
   "metadata": {
    "deletable": false,
    "editable": false,
    "hidden": true,
    "nbgrader": {
     "cell_type": "code",
     "checksum": "f498175a40076017353e0981191ca36b",
     "grade": false,
     "grade_id": "cell-03194ebe74cc4ae6",
     "locked": true,
     "schema_version": 3,
     "solution": false,
     "task": false
    }
   },
   "outputs": [
    {
     "data": {
      "text/plain": [
       "96"
      ]
     },
     "execution_count": 236,
     "metadata": {},
     "output_type": "execute_result"
    }
   ],
   "source": [
    "max([(i * i) % 100 for i in range(1000)])"
   ]
  },
  {
   "cell_type": "markdown",
   "metadata": {
    "deletable": false,
    "editable": false,
    "hidden": true,
    "nbgrader": {
     "cell_type": "markdown",
     "checksum": "1314b0bf801c0cd2e8dd2493521f6e8a",
     "grade": false,
     "grade_id": "cell-d0750c112d07718c",
     "locked": true,
     "schema_version": 3,
     "solution": false,
     "task": false
    }
   },
   "source": [
    "We like to speed up the `max` function when applied to large lists by using two threads: one determines the maximum in the lower half and one in the upper half. The function `parallelmax` first creates these two threads, then waits for them to terminate, then determines which of the two found the largest value and returns that:"
   ]
  },
  {
   "cell_type": "code",
   "execution_count": 237,
   "metadata": {
    "deletable": false,
    "editable": false,
    "hidden": true,
    "nbgrader": {
     "cell_type": "code",
     "checksum": "0b7ec6785238a5f911ffb3e9b518987c",
     "grade": false,
     "grade_id": "cell-363b5474ca287f4b",
     "locked": true,
     "schema_version": 3,
     "solution": false,
     "task": false
    }
   },
   "outputs": [],
   "source": [
    "from threading import Thread\n",
    "\n",
    "class Max(Thread):\n",
    "    def __init__(self, a, l, u):\n",
    "        super().__init__(); self.a, self.l, self.u = a, l, u\n",
    "    def run(self):\n",
    "        self.max = max(self.a[i] for i in range(self.l, self.u))\n",
    "\n",
    "def parallelmax(a):\n",
    "    n = len(a)\n",
    "    m0 = Max(a, 0, n // 2); m1 = Max(a, n // 2, n)\n",
    "    m0.start(); m1.start()\n",
    "    m0.join(); m1.join()\n",
    "    return max(m0.max, m1.max)"
   ]
  },
  {
   "cell_type": "code",
   "execution_count": 238,
   "metadata": {
    "deletable": false,
    "editable": false,
    "hidden": true,
    "nbgrader": {
     "cell_type": "code",
     "checksum": "c079829611dd9fa3cc2b2d64d928ade1",
     "grade": false,
     "grade_id": "cell-3d82eae1eb84713f",
     "locked": true,
     "schema_version": 3,
     "solution": false,
     "task": false
    }
   },
   "outputs": [
    {
     "data": {
      "text/plain": [
       "5"
      ]
     },
     "execution_count": 238,
     "metadata": {},
     "output_type": "execute_result"
    }
   ],
   "source": [
    "parallelmax([1, 5, 3])"
   ]
  },
  {
   "cell_type": "code",
   "execution_count": 239,
   "metadata": {
    "deletable": false,
    "editable": false,
    "hidden": true,
    "nbgrader": {
     "cell_type": "code",
     "checksum": "1197a88e8d2fba20b41976e92a564674",
     "grade": false,
     "grade_id": "cell-45467df3e8c829e0",
     "locked": true,
     "schema_version": 3,
     "solution": false,
     "task": false
    }
   },
   "outputs": [
    {
     "data": {
      "text/plain": [
       "96"
      ]
     },
     "execution_count": 239,
     "metadata": {},
     "output_type": "execute_result"
    }
   ],
   "source": [
    "parallelmax([(i * i) % 100 for i in range(100000)])"
   ]
  },
  {
   "cell_type": "markdown",
   "metadata": {
    "deletable": false,
    "editable": false,
    "hidden": true,
    "nbgrader": {
     "cell_type": "markdown",
     "checksum": "e9d0f19797c3647bc2b598e43559bfcf",
     "grade": false,
     "grade_id": "cell-6908ca2acbc2187d",
     "locked": true,
     "schema_version": 3,
     "solution": false,
     "task": false
    }
   },
   "source": [
    "This is an example of *embarrassing parallelism*: the two threads do not communicate with each other, they are completely independent and only produce a result."
   ]
  },
  {
   "cell_type": "markdown",
   "metadata": {
    "deletable": false,
    "editable": false,
    "hidden": true,
    "nbgrader": {
     "cell_type": "markdown",
     "checksum": "1f1b9856f92a86ff42152e8244bade28",
     "grade": false,
     "grade_id": "cell-ff5a15c07d7d9779",
     "locked": true,
     "schema_version": 3,
     "solution": false,
     "task": false
    },
    "slideshow": {
     "slide_type": "slide"
    }
   },
   "source": [
    "The task is now the generalize `parallelmax` to use `p` threads instead of just two threads with each thread determining the maximum of approximately `n / p` elements of a list with `n` elements. For this, each of the `p` threads will store the maximum of its sublist in a new list and then the maximum of this list needs to be determined. You can assume that `p` is a \"small\" number and a sequential algorithm for determining that maximum is adequate. In the template below, `p` is an optional argument with default value `2`. Note that `n` may or may not be divisible by `p`:"
   ]
  },
  {
   "cell_type": "code",
   "execution_count": 240,
   "metadata": {
    "deletable": false,
    "hidden": true,
    "nbgrader": {
     "cell_type": "code",
     "checksum": "544f6d8739b0fe27ee47c13e77521813",
     "grade": true,
     "grade_id": "cell-99ee1b83fe910419",
     "locked": false,
     "points": 4,
     "schema_version": 3,
     "solution": true,
     "task": false
    }
   },
   "outputs": [],
   "source": [
    "def parallelmax(a, p = 2):\n",
    "    nums = len(a)\n",
    "    if(p >= nums): #if there are more threads than numbers we will use default 2 threads\n",
    "        p = 2\n",
    "\n",
    "    threads = []\n",
    "    maxValues = []\n",
    "    perThread = nums//p\n",
    "\n",
    "    for i in range(p):\n",
    "        lower = i * perThread\n",
    "        if i < (p-1):\n",
    "            upper = (i+1)*perThread\n",
    "        else: #add the remainder to the final thread\n",
    "            upper = nums\n",
    "            \n",
    "        thread = Max(a, lower, upper)\n",
    "        thread.start()\n",
    "        threads.append(thread)\n",
    "        \n",
    "\n",
    "    for thread in threads:\n",
    "        thread.join()\n",
    "        maxValues.append(thread.max)\n",
    "\n",
    "    return max(maxValues)\n",
    "    \n",
    "    \n",
    "    "
   ]
  },
  {
   "cell_type": "code",
   "execution_count": 241,
   "metadata": {
    "deletable": false,
    "editable": false,
    "hidden": true,
    "nbgrader": {
     "cell_type": "code",
     "checksum": "b6e878f477ebfbb887460fc994622d85",
     "grade": true,
     "grade_id": "cell-904b50efa6f1c63b",
     "locked": true,
     "points": 1,
     "schema_version": 3,
     "solution": false,
     "task": false
    }
   },
   "outputs": [],
   "source": [
    "assert parallelmax([1, 5, 3]) == 5"
   ]
  },
  {
   "cell_type": "code",
   "execution_count": 242,
   "metadata": {
    "deletable": false,
    "editable": false,
    "hidden": true,
    "nbgrader": {
     "cell_type": "code",
     "checksum": "80d0595cd49ac3a5d5cd1b716bf672dc",
     "grade": true,
     "grade_id": "cell-d5446b0a117027cd",
     "locked": true,
     "points": 1,
     "schema_version": 3,
     "solution": false,
     "task": false
    }
   },
   "outputs": [],
   "source": [
    "a = [(i * i) % 100 for i in range(1000)] # list with 1000 \"random\" values\n",
    "assert parallelmax(a, 4) == 96"
   ]
  },
  {
   "cell_type": "code",
   "execution_count": 243,
   "metadata": {},
   "outputs": [],
   "source": [
    "a = [1,2,3,4,5,6,7,8,9,10,11,12,13,14,15,16,17,18,19,20,21,23,22,24,25,26,27,28,29,30,31,32,33,34,35,36,34,54,65,23,565,32,46,413,23]\n",
    "assert parallelmax(a, 7) == 565"
   ]
  },
  {
   "cell_type": "code",
   "execution_count": 244,
   "metadata": {},
   "outputs": [],
   "source": [
    "a = [126,2,3,45,46,7,3,4,5,6,4,32,21,45,65,120,125]   \n",
    "assert parallelmax(a,7) == 126"
   ]
  }
 ],
 "metadata": {
  "kernelspec": {
   "display_name": "Python 3 (ipykernel)",
   "language": "python",
   "name": "python3"
  },
  "language_info": {
   "codemirror_mode": {
    "name": "ipython",
    "version": 3
   },
   "file_extension": ".py",
   "mimetype": "text/x-python",
   "name": "python",
   "nbconvert_exporter": "python",
   "pygments_lexer": "ipython3",
   "version": "3.11.2"
  }
 },
 "nbformat": 4,
 "nbformat_minor": 4
}
