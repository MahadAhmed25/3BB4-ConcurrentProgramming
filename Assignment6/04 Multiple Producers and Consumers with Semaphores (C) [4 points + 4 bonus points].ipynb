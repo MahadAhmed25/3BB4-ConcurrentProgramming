{
 "cells": [
  {
   "cell_type": "markdown",
   "metadata": {},
   "source": [
    "### Multiple Producers and Consumers with Semaphores (C) [4 points]"
   ]
  },
  {
   "cell_type": "markdown",
   "metadata": {},
   "source": [
    "#### Producers and Consumers\n",
    "\n",
    "Here is a producer/consumer problem with semaphores in C. The producer produces the first `numIters` numbers; the consumer expects `numIters` numbers and prints their sum. The shared variable `data` is declared as `volatile`. This tells the compiler that the variable can change at any time and has to be read from memory. Without that, in the function `Consumer`, the compiler may assume that `data` does not change in the function and keep it in a register."
   ]
  },
  {
   "cell_type": "code",
   "execution_count": 1,
   "metadata": {},
   "outputs": [
    {
     "name": "stdout",
     "output_type": "stream",
     "text": [
      "Overwriting pc.c\n"
     ]
    }
   ],
   "source": [
    "%%writefile pc.c\n",
    "\n",
    "#include <pthread.h>\n",
    "#include <stdio.h>\n",
    "#include <stdlib.h>\n",
    "#include <semaphore.h>\n",
    "#define SHARED 1\n",
    "\n",
    "sem_t empty, full;                /* the global semaphores */\n",
    "volatile int data;                /* shared buffer         */\n",
    "int numIters;\n",
    "\n",
    "/* deposit 1, ..., numIters into the data buffer */\n",
    "void *Producer(void *arg) {\n",
    "    printf(\"Producer created\\n\");\n",
    "    for (int produced = 0; produced < numIters; produced++) {\n",
    "        sem_wait(&empty);\n",
    "        data = produced;\n",
    "        sem_post(&full);\n",
    "    }\n",
    "}\n",
    "\n",
    "/* fetch numIters items from the buffer and sum them */\n",
    "void *Consumer(void *arg) {\n",
    "    printf(\"Consumer created\\n\");\n",
    "    int sum = 0;\n",
    "    for (int consumed = 0; consumed < numIters; consumed++) {\n",
    "        sem_wait(&full);\n",
    "        sum += data;\n",
    "        sem_post(&empty);\n",
    "    }\n",
    "    printf(\"For %d iterations, the sum is %d\\n\", numIters, sum);\n",
    "}\n",
    "\n",
    "/* main program: read command line and create threads */\n",
    "int main(int argc, char *argv[]) {\n",
    "    pthread_t pid, cid;           /* thread and attributes */\n",
    "    pthread_attr_t attr;\n",
    "    pthread_attr_init(&attr);\n",
    "    pthread_attr_setscope(&attr, PTHREAD_SCOPE_SYSTEM);\n",
    "    sem_init(&empty, SHARED, 1);  /* sem empty = 1 */\n",
    "    sem_init(&full, SHARED, 0);   /* sem full = 0  */\n",
    "    numIters = atoi(argv[1]);\n",
    "    pthread_create(&pid, &attr, Producer, NULL);\n",
    "    pthread_create(&cid, &attr, Consumer, NULL);\n",
    "    pthread_join(pid, NULL);\n",
    "    pthread_join(cid, NULL);\n",
    "}"
   ]
  },
  {
   "cell_type": "markdown",
   "metadata": {},
   "source": [
    "Compile and run the code. The numbers from 0 to the command line parameter are produced and consumed. The consumer prints the sum of the consumed numbers."
   ]
  },
  {
   "cell_type": "code",
   "execution_count": 2,
   "metadata": {},
   "outputs": [],
   "source": [
    "!gcc pc.c -lpthread -o pc"
   ]
  },
  {
   "cell_type": "code",
   "execution_count": 3,
   "metadata": {},
   "outputs": [
    {
     "name": "stdout",
     "output_type": "stream",
     "text": [
      "Producer created\n",
      "Consumer created\n",
      "For 6 iterations, the sum is 15\n"
     ]
    }
   ],
   "source": [
    "!./pc 6"
   ]
  },
  {
   "cell_type": "markdown",
   "metadata": {},
   "source": [
    "#### Multiple Producers and Consumers\n",
    "\n",
    "Generalize the above C implementation for an arbitrary number of producers/consumers. The program should take two parameters from the command line: the number of iterations of each producer/consumer and the number of producers/consumers. All producers and all consumers have the same number of iterations, and there are as many consumers as there are producers. The output should be modified such that each producer and consumer identifies itself when printing that they were created and when printing their sum. The main program should additionally print the expected total sum by computing that, not by collecting the sums of each consumer: the sum each consumer computes may be different now due to nondeterminism, but their total sum is unique. Recall that the sum of the first `n - 1` numbers is `n × (n - 1) / 2`.  For example\n",
    "```bash\n",
    "!./pc 10 3\n",
    "```\n",
    "may result in:\n",
    "```\n",
    "Producer 1 created\n",
    "Producer 0 created\n",
    "Consumer 0 created\n",
    "Producer 2 created\n",
    "Consumer 1 created\n",
    "Consumer 2 created\n",
    "For 10 iterations, the sum of consumer 0 is 36\n",
    "For 10 iterations, the sum of consumer 1 is 45\n",
    "For 10 iterations, the sum of consumer 2 is 54\n",
    "The expected total sum is 135\n",
    "```\n",
    "*Hint:* Copy and modify the above code. When creating producer and consumer threads, the number of the producer or consumer can be passed to the producer or consumer as the last parameter of `pthread_create`, using appropriate type casts. Inside each producer and consumer, the `arg` parameter has to be cast back to an integer."
   ]
  },
  {
   "cell_type": "code",
   "execution_count": 4,
   "metadata": {
    "deletable": false,
    "nbgrader": {
     "cell_type": "code",
     "checksum": "8142ee9b5b878b2b9ee1ed26b0555ec5",
     "grade": true,
     "grade_id": "cell-f2b9c52c9fbcf326",
     "locked": false,
     "points": 4,
     "schema_version": 3,
     "solution": true,
     "task": false
    }
   },
   "outputs": [
    {
     "name": "stdout",
     "output_type": "stream",
     "text": [
      "Overwriting pc.c\n"
     ]
    }
   ],
   "source": [
    "%%writefile pc.c\n",
    "\n",
    "#include <pthread.h>\n",
    "#include <stdio.h>\n",
    "#include <stdlib.h>\n",
    "#include <semaphore.h>\n",
    "#define SHARED 1\n",
    "\n",
    "sem_t empty, full;                /* the global semaphores */\n",
    "volatile int data;                /* shared buffer         */\n",
    "int numIters;\n",
    "\n",
    "/* deposit 1, ..., numIters into the data buffer */\n",
    "void *Producer(void *arg) {\n",
    "    int producerID = *((int*)arg);\n",
    "    printf(\"Producer %d created\\n\", producerID);\n",
    "    for (int produced = 0; produced < numIters; produced++) {\n",
    "        sem_wait(&empty);\n",
    "        data = produced;\n",
    "        sem_post(&full);\n",
    "    }\n",
    "}\n",
    "\n",
    "/* fetch numIters items from the buffer and sum them */\n",
    "void *Consumer(void *arg) {\n",
    "    int consumerID = *((int*)arg);\n",
    "    printf(\"Consumer %d created\\n\", consumerID);\n",
    "    int sum = 0;\n",
    "    for (int consumed = 0; consumed < numIters; consumed++) {\n",
    "        sem_wait(&full);\n",
    "        sum += data;\n",
    "        sem_post(&empty);\n",
    "    }\n",
    "    printf(\"For %d iterations, the sum of consumer %d is %d\\n\", numIters, consumerID, sum);\n",
    "}\n",
    "\n",
    "/* main program: read command line and create threads */\n",
    "int main(int argc, char *argv[]) {\n",
    "    int n = atoi(argv[2]);\n",
    "    pthread_t pid[n], cid[n];           /* thread and attributes */\n",
    "    pthread_attr_t attr;\n",
    "    pthread_attr_init(&attr);\n",
    "    pthread_attr_setscope(&attr, PTHREAD_SCOPE_SYSTEM);\n",
    "    sem_init(&empty, SHARED, 1);  /* sem empty = 1 */\n",
    "    sem_init(&full, SHARED, 0);   /* sem full = 0  */\n",
    "    numIters = atoi(argv[1]);\n",
    "\n",
    "    int producerIDs[n];\n",
    "    int consumerIDs[n];\n",
    "    for (int i = 0; i < n; i ++) {\n",
    "    producerIDs[i] = i;\n",
    "    consumerIDs[i] = i;\n",
    "    pthread_create(&pid[i], &attr, Producer, (void*)&producerIDs[i]);\n",
    "    pthread_create(&cid[i], &attr, Consumer, (void*)&consumerIDs[i]);\n",
    "    }\n",
    "    for (int i = 0; i < n; i++) {\n",
    "    pthread_join(pid[i], NULL);\n",
    "    pthread_join(cid[i], NULL);\n",
    "    }\n",
    "\n",
    "    int expectedSum = (numIters * (numIters - 1) / 2) * n;\n",
    "    printf(\"The expected total sum is %d\\n\", expectedSum);\n",
    "}"
   ]
  },
  {
   "cell_type": "code",
   "execution_count": 5,
   "metadata": {},
   "outputs": [],
   "source": [
    "!gcc pc.c -lpthread -o pc"
   ]
  },
  {
   "cell_type": "code",
   "execution_count": 6,
   "metadata": {},
   "outputs": [
    {
     "name": "stdout",
     "output_type": "stream",
     "text": [
      "Consumer 3 created\n",
      "Consumer 1 created\n",
      "Consumer 4 created\n",
      "Producer 0 created\n",
      "Producer 3 created\n",
      "Producer 2 created\n",
      "Producer 1 created\n",
      "Consumer 0 created\n",
      "Consumer 2 created\n",
      "For 10 iterations, the sum of consumer 3 is 41\n",
      "For 10 iterations, the sum of consumer 0 is 49\n",
      "Producer 4 created\n",
      "For 10 iterations, the sum of consumer 1 is 39\n",
      "For 10 iterations, the sum of consumer 4 is 45\n",
      "For 10 iterations, the sum of consumer 2 is 51\n",
      "The expected total sum is 225\n"
     ]
    }
   ],
   "source": [
    "!./pc 10 5"
   ]
  },
  {
   "cell_type": "markdown",
   "metadata": {},
   "source": [
    "**Bonus:** The main program should collect the sums computed by each consumer and print a line with\n",
    "\n",
    "    The computed total sum is ...\n",
    "    \n",
    "For this, have each consumer `return` its sum. Avoid the use of global variables. Your program must compile without warnings. [4 bonus points]"
   ]
  },
  {
   "cell_type": "code",
   "execution_count": 7,
   "metadata": {
    "deletable": false,
    "nbgrader": {
     "cell_type": "code",
     "checksum": "e484fe59979ca932a62d61d61fd47e55",
     "grade": true,
     "grade_id": "cell-25fb71ff23e3b88c",
     "locked": false,
     "points": 0,
     "schema_version": 3,
     "solution": true,
     "task": false
    }
   },
   "outputs": [
    {
     "name": "stdout",
     "output_type": "stream",
     "text": [
      "Overwriting pc.c\n"
     ]
    }
   ],
   "source": [
    "%%writefile pc.c\n",
    "\n",
    "#include <pthread.h>\n",
    "#include <stdio.h>\n",
    "#include <stdlib.h>\n",
    "#include <semaphore.h>\n",
    "#define SHARED 1\n",
    "\n",
    "sem_t empty, full;                /* the global semaphores */\n",
    "volatile int data;                /* shared buffer         */\n",
    "int numIters;\n",
    "\n",
    "/* deposit 1, ..., numIters into the data buffer */\n",
    "void *Producer(void *arg) {\n",
    "    int producerID = *((int*)arg);\n",
    "    printf(\"Producer %d created\\n\", producerID);\n",
    "    for (int produced = 0; produced < numIters; produced++) {\n",
    "        sem_wait(&empty);\n",
    "        data = produced;\n",
    "        sem_post(&full);\n",
    "    }\n",
    "}\n",
    "\n",
    "/* fetch numIters items from the buffer and sum them */\n",
    "void *Consumer(void *arg) {\n",
    "    int consumerID = *((int*)arg);\n",
    "    printf(\"Consumer %d created\\n\", consumerID);\n",
    "    int sum = 0;\n",
    "    for (int consumed = 0; consumed < numIters; consumed++) {\n",
    "        sem_wait(&full);\n",
    "        sum += data;\n",
    "        sem_post(&empty);\n",
    "    }\n",
    "    printf(\"For %d iterations, the sum of consumer %d is %d\\n\", numIters, consumerID, sum);\n",
    "\n",
    "    int* result = malloc(sizeof(int));\n",
    "    *result = sum;\n",
    "    return (void *) result;\n",
    "}\n",
    "\n",
    "/* main program: read command line and create threads */\n",
    "int main(int argc, char *argv[]) {\n",
    "    int n = atoi(argv[2]);\n",
    "    pthread_t pid[n], cid[n];           /* thread and attributes */\n",
    "    pthread_attr_t attr;\n",
    "    pthread_attr_init(&attr);\n",
    "    pthread_attr_setscope(&attr, PTHREAD_SCOPE_SYSTEM);\n",
    "    sem_init(&empty, SHARED, 1);  /* sem empty = 1 */\n",
    "    sem_init(&full, SHARED, 0);   /* sem full = 0  */\n",
    "    numIters = atoi(argv[1]);\n",
    "\n",
    "    int producerIDs[n];\n",
    "    int consumerIDs[n];\n",
    "    int total = 0;\n",
    "\n",
    "    for (int i = 0; i < n; i ++) {\n",
    "    producerIDs[i] = i;\n",
    "    consumerIDs[i] = i;\n",
    "    pthread_create(&pid[i], &attr, Producer, (void*)&producerIDs[i]);\n",
    "    pthread_create(&cid[i], &attr, Consumer, (void*)&consumerIDs[i]);\n",
    "    }\n",
    "\n",
    "    int* val;\n",
    "    for (int i = 0; i < n; i++) {\n",
    "    pthread_join(pid[i], NULL);\n",
    "    pthread_join(cid[i], (void**) &val);\n",
    "    total = total + *val;\n",
    "    free(val);\n",
    "    }\n",
    "    \n",
    "    int expectedSum = (numIters * (numIters - 1) / 2) * n;\n",
    "    printf(\"The expected total sum is %d\\n\", expectedSum);\n",
    "    printf(\"The computed total sum is %d\\n\", total);\n",
    "}\n",
    "\n",
    "/* video used for help: https://www.youtube.com/watch?v=ln3el6PR__Q */"
   ]
  },
  {
   "cell_type": "code",
   "execution_count": 8,
   "metadata": {},
   "outputs": [],
   "source": [
    "!gcc pc.c -lpthread -o pc"
   ]
  },
  {
   "cell_type": "code",
   "execution_count": 9,
   "metadata": {},
   "outputs": [
    {
     "name": "stdout",
     "output_type": "stream",
     "text": [
      "Producer 1 created\n",
      "Producer 0 created\n",
      "Producer 2 created\n",
      "Consumer 1 created\n",
      "For 10 iterations, the sum of consumer 1 is 12\n",
      "Consumer 2 created\n",
      "Consumer 0 created\n",
      "Producer 3 created\n",
      "For 10 iterations, the sum of consumer 2 is 55\n",
      "For 10 iterations, the sum of consumer 0 is 47\n",
      "Consumer 4 created\n",
      "For 10 iterations, the sum of consumer 4 is 66\n",
      "Producer 4 created\n",
      "Consumer 3 created\n",
      "For 10 iterations, the sum of consumer 3 is 45\n",
      "The expected total sum is 225\n",
      "The computed total sum is 225\n"
     ]
    }
   ],
   "source": [
    "!./pc 10 5"
   ]
  },
  {
   "cell_type": "code",
   "execution_count": null,
   "metadata": {},
   "outputs": [],
   "source": []
  }
 ],
 "metadata": {
  "kernelspec": {
   "display_name": "Python 3 (ipykernel)",
   "language": "python",
   "name": "python3"
  },
  "language_info": {
   "codemirror_mode": {
    "name": "ipython",
    "version": 3
   },
   "file_extension": ".py",
   "mimetype": "text/x-python",
   "name": "python",
   "nbconvert_exporter": "python",
   "pygments_lexer": "ipython3",
   "version": "3.11.2"
  }
 },
 "nbformat": 4,
 "nbformat_minor": 4
}
