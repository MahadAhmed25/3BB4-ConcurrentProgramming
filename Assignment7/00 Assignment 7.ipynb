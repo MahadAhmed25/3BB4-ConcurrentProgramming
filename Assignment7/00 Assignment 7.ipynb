{
 "cells": [
  {
   "cell_type": "markdown",
   "metadata": {},
   "source": [
    "### SFWR ENG 3BB4 Software Design II, Fall 2023/24, McMaster University\n",
    "**Emil Sekerinski (instructor), Yili Liu (TA)**\n",
    "\n",
    "**Assignment 7, due Wednesday, November 1, 11 pm. Introduced at:**\n",
    "- T03 on Thursday, October 26\n",
    "- T02 on Thursday, October 26\n",
    "- T01 on Friday, October 27\n",
    "\n",
    "The purpose of this assignment is to:\n",
    "* get familiar with the role of class invariants as annotations and, when checked through assertions,\n",
    "* understand the computational effort in checking invariants,\n",
    "* be aware of modifications of class interfaces for the purpose of checking invariants.\n",
    "\n",
    "This assignment has ungraded exercises. You are encouraged to start with them before the tutorial but can complete them during it. Solutions are presented only at the tutorial.\n",
    "\n",
    "This tutorial also discusses the solutions to the graded questions of the previous assignment. Solutions to assignments are presented only in the tutorials; they are not posted.\n",
    "\n",
    "*Instructions:*\n",
    "- Do not copy and paste graded cells as a whole, as that corrupts the notebook's metadata, and automatic grading fails. However, you may copy and paste the content of a cell to a new cell.\n",
    "- Edit code only where it says YOUR CODE HERE; do not change the names of functions, methods, and classes; do not change the number or types of parameters; remove `raise NotImplementedError()`. Otherwise, the automatic grading fails, which may result in a deduction.\n",
    "- If a notebook uses Python, before submitting, \"Restart Kernel\" and run the Python code from the beginning to clear the state of the kernel and to check that the output is as expected. When notebooks are graded, they are run with a freshly initialized kernel.\n",
    "- Log files may be created when your program crashes. These log files may become so large that they prevent submission. Delete all log files and submit a cleaned-up folder.\n",
    "- You are asked to write well-structured and readable source code. The source code is always used for grading in addition to the test results. Your program passing the provided does not guarantee that your program is correct and that you will receive full (or any) marks."
   ]
  }
 ],
 "metadata": {
  "kernelspec": {
   "display_name": "Python 3 (ipykernel)",
   "language": "python",
   "name": "python3"
  },
  "language_info": {
   "codemirror_mode": {
    "name": "ipython",
    "version": 3
   },
   "file_extension": ".py",
   "mimetype": "text/x-python",
   "name": "python",
   "nbconvert_exporter": "python",
   "pygments_lexer": "ipython3",
   "version": "3.11.2"
  },
  "rise": {
   "enable_chalkboard": true
  }
 },
 "nbformat": 4,
 "nbformat_minor": 4
}
