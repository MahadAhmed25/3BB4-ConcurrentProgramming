{
 "cells": [
  {
   "cell_type": "markdown",
   "metadata": {},
   "source": [
    "### IntSet with Assertions (Java) [10 points]\n",
    "\n",
    "The Java implementation of `IntSet` below has the capacity as a parameter of the constructor rather than a constant. Add assertions to check the method precondition, class invariants, and loop invariants. Add method `intSetInvariantOK` to `IntSet` to check its invariant and method `maxIntSetInvariantOK` to `MaxIntSet` to check its invariant, such that the check in `MaxIntSet` includes the check of `IntSet` (but not the other way round). Add also checks for the loop invariants; you may introduce additional methods if that shortens your solution. The pattern for checking loop invariants is:\n",
    "```Java\n",
    "    assert loopInvariantOK;\n",
    "    while (guard) {\n",
    "        body; assert loopInvariantOK;\n",
    "    }\n",
    "```\n",
    "Often, assertion checks consist of several conditions, such as in:\n",
    "```Java\n",
    "    boolean invariantOK() {return A && B;}\n",
    "```\n",
    "To see which condition is violated, one can instead write\n",
    "```Java\n",
    "    boolean invariantOK() {assert A; assert B; return true;}\n",
    "```\n",
    "or:\n",
    "```Java\n",
    "    boolean invariantOK() {assert A; return B;}\n",
    "```\n",
    "This way, the message for an assertion violation will point to the failed assert statement. Use this style in this question.\n",
    "\n",
    "Note that the two methods for class invariant checking are given different names: if they had the same name, say `invariantOK()`, a call to that method in `IntSet` (at the end of another method) would go to `invariantOK()` of `MaxIntSet` due to the dynamic binding. That is not correct; methods of `IntSet` should only check the invariant of `IntSet`, as these may be called within methods of `MaxIntSet` (or some other class that extends `IntSet`) where the invariant of `MaxIntSet` is not expected to hold. Recall that invariants have to hold only at the beginning and end of methods, not in between.\n",
    "\n",
    "You can add test cases as you like; they are not being graded."
   ]
  },
  {
   "cell_type": "code",
   "execution_count": 2,
   "metadata": {},
   "outputs": [
    {
     "name": "stdout",
     "output_type": "stream",
     "text": [
      "Overwriting intset.java\n"
     ]
    }
   ],
   "source": [
    "%%writefile intset.java\n",
    "class IntSet {\n",
    "    int a[];\n",
    "    int n;\n",
    "    boolean intSetInvariantOK() {\n",
    "        // return true if 0 ≤ n ≤ a.length ∧ (∀ i ∈ 0 .. n - 1, j ∈ i + 1 .. n - 1 · a[i] ≠ a[j])\n",
    "        // otherwise fail\n",
    "    }\n",
    "    IntSet(int capacity) {\n",
    "        a = new int[capacity]; n = 0;\n",
    "    }\n",
    "    void add(int x) {\n",
    "        int i = 0;\n",
    "        while (i < n && a[i] != x) {\n",
    "            i += 1;\n",
    "        }\n",
    "        if (i == n) {\n",
    "            a[n] = x; n += 1;\n",
    "        }\n",
    "    }\n",
    "    boolean has(int x) {\n",
    "        int i = 0;\n",
    "        while (i < n && a[i] != x) {\n",
    "            i += 1;\n",
    "        }\n",
    "        return i < n;\n",
    "    }\n",
    "}\n",
    "class MaxIntSet extends IntSet {\n",
    "    int m;\n",
    "    boolean maxIntSetInvariantOK() {\n",
    "        assert intSetInvariantOK();\n",
    "        // return true if n > 0 ⇒ m = max(a[0 .. n - 1])\n",
    "        // otherwise fail\n",
    "        ...\n",
    "    }\n",
    "    MaxIntSet(int capacity) {\n",
    "        super(capacity);\n",
    "    }\n",
    "    void add(int x) {\n",
    "        super.add(x);\n",
    "        if (n == 1) m = x;\n",
    "        else m = m > x ? m : x;\n",
    "    }\n",
    "    int maximum(){\n",
    "        return m;\n",
    "    }\n",
    "}\n",
    "class TestMaxIntSet {\n",
    "    public static void main(String[] args) {\n",
    "        MaxIntSet s = new MaxIntSet(3); s.add(5); s.add(7);\n",
    "        System.out.println(s.maximum());\n",
    "    }\n",
    "}"
   ]
  },
  {
   "cell_type": "code",
   "execution_count": 34,
   "metadata": {
    "deletable": false,
    "nbgrader": {
     "cell_type": "code",
     "checksum": "7dd969a80c016f915db9dbac35a0e43f",
     "grade": true,
     "grade_id": "cell-dfc165d7d8dd4b8c",
     "locked": false,
     "points": 8,
     "schema_version": 3,
     "solution": true,
     "task": false
    }
   },
   "outputs": [
    {
     "name": "stdout",
     "output_type": "stream",
     "text": [
      "Overwriting intset.java\n"
     ]
    }
   ],
   "source": [
    "%%writefile intset.java\n",
    "class IntSet {\n",
    "    int a[];\n",
    "    int n;\n",
    "    boolean intSetInvariantOK() {\n",
    "        // return true if 0 ≤ n ≤ a.length ∧ (∀ i ∈ 0 .. n - 1, j ∈ i + 1 .. n - 1 · a[i] ≠ a[j])\n",
    "        // otherwise fail\n",
    "        for (int i = 0; i < n; i++){\n",
    "            for (int j = i+1; j < n; j++){\n",
    "                if(this.a[j] == this.a[i]) return false;\n",
    "            }\n",
    "        }\n",
    "        return 0 <= this.n && this.n <= this.a.length;\n",
    "    }\n",
    "\n",
    "    IntSet(int capacity) {\n",
    "        assert capacity > 0;\n",
    "        a = new int[capacity]; n = 0;\n",
    "        assert intSetInvariantOK();\n",
    "    }\n",
    "\n",
    "    boolean exists_LoopInvariant(int i, int x){\n",
    "        for (int j = 0; j < i; j++) {\n",
    "            if (a[j]==x) return false;\n",
    "        }\n",
    "        return true; \n",
    "    }\n",
    "\n",
    "    void add(int x) {\n",
    "        assert n < a.length;\n",
    "        int i = 0;\n",
    "        assert exists_LoopInvariant(i, x);\n",
    "        while (i < n && a[i] != x) {\n",
    "            i += 1; exists_LoopInvariant(i, x);\n",
    "        }\n",
    "        if (i == n) {\n",
    "            a[n] = x; n += 1;\n",
    "        }\n",
    "        assert intSetInvariantOK();\n",
    "    }\n",
    "\n",
    "    boolean has(int x) {\n",
    "        int i = 0;\n",
    "        assert exists_LoopInvariant(i, x);\n",
    "        while (i < n && a[i] != x) {\n",
    "            i += 1; assert exists_LoopInvariant(i, x);\n",
    "        }\n",
    "        assert intSetInvariantOK();\n",
    "        return i < n;\n",
    "    }\n",
    "}\n",
    "class MaxIntSet extends IntSet {\n",
    "    int m;\n",
    "    boolean maxIntSetInvariantOK() {\n",
    "        assert intSetInvariantOK();\n",
    "        // return true if n > 0 ⇒ m = max(a[0 .. n - 1])\n",
    "        // otherwise fail\n",
    "\n",
    "        if (n > 0){ \n",
    "            int m = a[0]; \n",
    "            for (int i = 1; i < n; i++) {\n",
    "                if (a[i] > this.m) {\n",
    "                    return false;\n",
    "                }\n",
    "            }\n",
    "        }\n",
    "\n",
    "        return true;\n",
    "    }\n",
    "    MaxIntSet(int capacity) {\n",
    "        super(capacity);\n",
    "    }\n",
    "    void add(int x) {\n",
    "        super.add(x);\n",
    "        if (n == 1) m = x;\n",
    "        else m = m > x ? m : x;\n",
    "        assert maxIntSetInvariantOK();\n",
    "    }\n",
    "    int maximum(){\n",
    "        return m;\n",
    "    }\n",
    "}\n",
    "class TestMaxIntSet {\n",
    "    public static void main(String[] args) {\n",
    "        MaxIntSet s = new MaxIntSet(3); s.add(5); s.add(7);\n",
    "        System.out.println(s.maximum());\n",
    "    }\n",
    "}"
   ]
  },
  {
   "cell_type": "code",
   "execution_count": 35,
   "metadata": {},
   "outputs": [],
   "source": [
    "!javac intset.java"
   ]
  },
  {
   "cell_type": "code",
   "execution_count": 36,
   "metadata": {},
   "outputs": [
    {
     "name": "stdout",
     "output_type": "stream",
     "text": [
      "7\n"
     ]
    }
   ],
   "source": [
    "!java -ea TestMaxIntSet"
   ]
  },
  {
   "cell_type": "markdown",
   "metadata": {},
   "source": [
    "What is the computational effort of checking the class and loop invariants compared to the actual computation?"
   ]
  },
  {
   "cell_type": "markdown",
   "metadata": {
    "deletable": false,
    "nbgrader": {
     "cell_type": "markdown",
     "checksum": "1593f6af3d45560f6acc710310c354cb",
     "grade": true,
     "grade_id": "cell-0bd78627c9f0faec",
     "locked": false,
     "points": 2,
     "schema_version": 3,
     "solution": true,
     "task": false
    }
   },
   "source": [
    "checking the class and loop invariant significantly adds to the computational efforts. this is because the loops in add() and has() have increased in complexity; from O(n) to O(n^2) since for each iteration of the loop we recheck all the previous elements again. the intSetInvariantOK() also has a complexity of O(n^2) since we compare each element of the array with every other element. we call this invariant many times in the class which adds to the computational effort."
   ]
  }
 ],
 "metadata": {
  "kernelspec": {
   "display_name": "Python 3 (ipykernel)",
   "language": "python",
   "name": "python3"
  },
  "language_info": {
   "codemirror_mode": {
    "name": "ipython",
    "version": 3
   },
   "file_extension": ".py",
   "mimetype": "text/x-python",
   "name": "python",
   "nbconvert_exporter": "python",
   "pygments_lexer": "ipython3",
   "version": "3.11.2"
  },
  "rise": {
   "enable_chalkboard": true
  }
 },
 "nbformat": 4,
 "nbformat_minor": 4
}
