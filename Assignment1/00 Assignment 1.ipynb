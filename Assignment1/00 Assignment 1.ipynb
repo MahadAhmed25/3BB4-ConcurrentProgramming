{
 "cells": [
  {
   "cell_type": "markdown",
   "metadata": {
    "deletable": false,
    "editable": false,
    "nbgrader": {
     "cell_type": "markdown",
     "checksum": "259e08663426be7177674a8b3c5c293a",
     "grade": false,
     "grade_id": "cell-41ceaba3ab6401f6",
     "locked": true,
     "schema_version": 3,
     "solution": false
    }
   },
   "source": [
    "### SFWR ENG 3BB4 Concurrent System Design, Fall 2023/24, McMaster University\n",
    "**Emil Sekerinski (instructor), Mohamed Aly (TA)**\n",
    "\n",
    "**Assignment 1, due Wednesday, September 13, 11 pm. Introduced at:**\n",
    "- T03 on Thursday, September 7\n",
    "- T02 on Thursday, September 7\n",
    "- T01 on Friday, September 8\n",
    "\n",
    "The purpose of this assignment is to:\n",
    "* make you familiar with https://jhub3bb4.cas.mcmaster.ca for fetching and submitting assignments,\n",
    "* make you familiar with the structure and with editing of Jupyter notebooks and running Python within notebooks,\n",
    "* become aware of aspects of concurrency, like interleavings and priority inversion,\n",
    "* allow you to refresh your Python,\n",
    "* allow you to reflect on professionalism, \n",
    "* understand how to create threads in Python,\n",
    "* practice \"embarrassing parallelism\" with a simple example.\n",
    "\n",
    "The tutorials provide help with installing [Python 3](http://python.org) and [Jupyter](http://jupyter.org) on your own computer, if you choose to do so; you can complete all assignments on jhub3bb4, you don't need to install."
   ]
  },
  {
   "cell_type": "markdown",
   "metadata": {
    "deletable": false,
    "editable": false,
    "nbgrader": {
     "cell_type": "markdown",
     "checksum": "50f1a6e0d04b97609b6aa04c49b4d208",
     "grade": false,
     "grade_id": "cell-ccfb83c56cb8f892",
     "locked": true,
     "schema_version": 3,
     "solution": false
    }
   },
   "source": [
    "Notebooks consist of _code cells_ and _text cells_. The code cells contain Python expressions or statements. The text cells are written in a markup language called *Markdown*: In JupyterLab, under Help here is the `Markdown Reference` and here is a [Markdown Tutorial](http://www.markdowntutorial.com/)."
   ]
  }
 ],
 "metadata": {
  "kernelspec": {
   "display_name": "Python 3 (ipykernel)",
   "language": "python",
   "name": "python3"
  },
  "language_info": {
   "codemirror_mode": {
    "name": "ipython",
    "version": 3
   },
   "file_extension": ".py",
   "mimetype": "text/x-python",
   "name": "python",
   "nbconvert_exporter": "python",
   "pygments_lexer": "ipython3",
   "version": "3.11.2"
  }
 },
 "nbformat": 4,
 "nbformat_minor": 4
}
