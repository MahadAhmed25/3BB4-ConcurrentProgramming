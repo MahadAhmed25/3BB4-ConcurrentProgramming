{
 "cells": [
  {
   "cell_type": "markdown",
   "id": "50b087fa",
   "metadata": {},
   "source": [
    "### Parallel Quicksort (Java) [6 points]"
   ]
  },
  {
   "cell_type": "markdown",
   "id": "83abfe58",
   "metadata": {},
   "source": [
    "Consider the following sequential algorithm for Quicksort, taken from Introduction to Algorithms by Cormen, Leiserson, Rivest, and Stein. Let `a: 0 .. N – 1 → integer` for constant `N ≥ 0` be a global variable. In algorithms, a call to procedure `p` with value parameters `E`, `F` and results `x`, `y` is written as `x, y ← p(E, F)`.\n",
    "\n",
    "```algorithm\n",
    "procedure partition(p, r: integer) → (q: integer)\n",
    "    var x, i = a(r), p – 1\n",
    "        for j = p to r – 1 do\n",
    "            if a(j) ≤ x then\n",
    "                i := i + 1 ; a(i), a(j) := a(j), a(i)\n",
    "        a(i + 1), a(r) := a(r), a(i + 1)\n",
    "        q := i + 1\n",
    "\n",
    "procedure quicksort(p, r: integer)\n",
    "    if p < r then\n",
    "        q ← partition(p, r)\n",
    "        quicksort(p, q – 1)\n",
    "        quicksort(q + 1, r)\n",
    "```\n",
    "\n",
    "Implement Quicksort in Java by sorting in parallel after partitioning; for this, the parent thread can continue sorting one segment and a child thread is created for sorting the other segment. However, create a new thread only if both segments contain more than `S` elements; otherwise, sort sequentially both segments."
   ]
  },
  {
   "cell_type": "code",
   "execution_count": 1,
   "id": "c552429d",
   "metadata": {
    "deletable": false,
    "nbgrader": {
     "cell_type": "code",
     "checksum": "a3621f375a998a16d06830f85c166a95",
     "grade": true,
     "grade_id": "cell-9dff45cb8de2e300",
     "locked": false,
     "points": 5,
     "schema_version": 3,
     "solution": true,
     "task": false
    }
   },
   "outputs": [
    {
     "name": "stdout",
     "output_type": "stream",
     "text": [
      "Overwriting Quicksort.java\n"
     ]
    }
   ],
   "source": [
    "%%writefile Quicksort.java\n",
    "import java.util.Random;\n",
    "\n",
    "public class Quicksort {\n",
    "\n",
    "    static int N;   // number of elements to be sorted\n",
    "    static int S;   // threshold for creating a sub-thread\n",
    "    static int a[]; // array to be sorted\n",
    "    \n",
    "    static int partition(int p, int r) {\n",
    "        int x = a[r];\n",
    "        int i = p - 1;\n",
    "        for (int j = p; j <= r - 1; j++) {\n",
    "            if (a[j] <= x) {\n",
    "                i++; \n",
    "                int t = a[i]; a[i] = a[j]; a[j] = t;\n",
    "            }\n",
    "        }\n",
    "        int t = a[i + 1]; a[i + 1] = a[r]; a[r] = t;\n",
    "        return i + 1;\n",
    "    }\n",
    "\n",
    "    static void sequentialsort(int p, int r) {\n",
    "        if (p < r) {\n",
    "            int q = partition(p, r);\n",
    "            sequentialsort(p, q - 1);\n",
    "            sequentialsort(q + 1, r);\n",
    "        }\n",
    "    }\n",
    "\n",
    "    static void parallelsort(int p, int r) {\n",
    "        if (p < r) {\n",
    "            int q = partition(p, r);\n",
    "\n",
    "            if (q - p <= S || r - q <= S) {\n",
    "                sequentialsort(p,q-1);\n",
    "                sequentialsort(q+1,r);\n",
    "\n",
    "            } else {\n",
    "                Thread lt = new Thread(() -> parallelsort(p, q - 1));\n",
    "                Thread rt = new Thread(() -> parallelsort(q+1,r));\n",
    "\n",
    "                lt.start(); rt.start();\n",
    "\n",
    "                try{\n",
    "                    lt.join(); rt.join();\n",
    "                } catch(Exception e){}\n",
    "            }\n",
    "        \n",
    "        }\n",
    "    }\n",
    "\n",
    "    public static void main(String args[]) {\n",
    "        N = Integer.parseInt(args[0]);\n",
    "        S = Integer.parseInt(args[1]);\n",
    "        a = new int[N];\n",
    "        Random random = new Random();\n",
    "        for (int i = 0; i < N; i++) a[i] = random.nextInt(10000);\n",
    "\n",
    "        final long start = System.currentTimeMillis();\n",
    "        parallelsort(0, N - 1);\n",
    "        final long end = System.currentTimeMillis();\n",
    "        \n",
    "        for (int i = 1; i < N; i++) assert a[i - 1] <= a[i];\n",
    "        System.out.println((end - start) + \" ms\");\n",
    "    }\n",
    "}"
   ]
  },
  {
   "cell_type": "markdown",
   "id": "6bcbcbd3",
   "metadata": {},
   "source": [
    "Use the cell below to test your implementation."
   ]
  },
  {
   "cell_type": "code",
   "execution_count": 2,
   "id": "e05f41a5",
   "metadata": {},
   "outputs": [
    {
     "name": "stdout",
     "output_type": "stream",
     "text": [
      "1115 ms\n"
     ]
    }
   ],
   "source": [
    "!javac Quicksort.java\n",
    "!java -enableassertions Quicksort 100000 10"
   ]
  },
  {
   "cell_type": "markdown",
   "id": "6a544b0e",
   "metadata": {},
   "source": [
    "Now observe the execution time for sorting `2000000` elements with various thresholds `S`. Add cells to record your observations. Run the program multiple times and keep the cell with the shortest elapsed time."
   ]
  },
  {
   "cell_type": "code",
   "execution_count": 3,
   "id": "7f29da08",
   "metadata": {},
   "outputs": [
    {
     "name": "stdout",
     "output_type": "stream",
     "text": [
      "3318 ms\n"
     ]
    }
   ],
   "source": [
    "!java -enableassertions Quicksort 2000000 1"
   ]
  },
  {
   "cell_type": "code",
   "execution_count": 4,
   "id": "371fab4c",
   "metadata": {},
   "outputs": [
    {
     "name": "stdout",
     "output_type": "stream",
     "text": [
      "3860 ms\n"
     ]
    }
   ],
   "source": [
    "!java -enableassertions Quicksort 2000000 10"
   ]
  },
  {
   "cell_type": "code",
   "execution_count": 5,
   "id": "97bdff14",
   "metadata": {},
   "outputs": [
    {
     "name": "stdout",
     "output_type": "stream",
     "text": [
      "3998 ms\n"
     ]
    }
   ],
   "source": [
    "!java -enableassertions Quicksort 2000000 100"
   ]
  },
  {
   "cell_type": "code",
   "execution_count": 6,
   "id": "addc49d5",
   "metadata": {},
   "outputs": [
    {
     "name": "stdout",
     "output_type": "stream",
     "text": [
      "229 ms\n"
     ]
    }
   ],
   "source": [
    "!java -enableassertions Quicksort 2000000 1000"
   ]
  },
  {
   "cell_type": "code",
   "execution_count": 7,
   "id": "b7b0c921",
   "metadata": {},
   "outputs": [
    {
     "name": "stdout",
     "output_type": "stream",
     "text": [
      "95 ms\n"
     ]
    }
   ],
   "source": [
    "!java -enableassertions Quicksort 2000000 10000"
   ]
  },
  {
   "cell_type": "code",
   "execution_count": 8,
   "id": "8469cb2e",
   "metadata": {},
   "outputs": [
    {
     "name": "stdout",
     "output_type": "stream",
     "text": [
      "227 ms\n"
     ]
    }
   ],
   "source": [
    "!java -enableassertions Quicksort 2000000 100000"
   ]
  },
  {
   "cell_type": "code",
   "execution_count": 9,
   "id": "05fbdb0c",
   "metadata": {},
   "outputs": [
    {
     "name": "stdout",
     "output_type": "stream",
     "text": [
      "364 ms\n"
     ]
    }
   ],
   "source": [
    "!java -enableassertions Quicksort 2000000 1000000"
   ]
  },
  {
   "cell_type": "markdown",
   "id": "afa8a0ac",
   "metadata": {},
   "source": [
    "Summarize your observations about the running time for varying values of `S` and explain!"
   ]
  },
  {
   "cell_type": "markdown",
   "id": "e213bae2",
   "metadata": {
    "deletable": false,
    "nbgrader": {
     "cell_type": "markdown",
     "checksum": "d98ea10c3204563c3afff3fa49fab5af",
     "grade": true,
     "grade_id": "cell-e563da9d5f4fc9bf",
     "locked": false,
     "points": 1,
     "schema_version": 3,
     "solution": true,
     "task": false
    }
   },
   "source": [
    "for values of S from 1 - 100 the algorithm was noticeably slower with times ranging in the values of ~1800ms. with values of S from 1000 to 1000000 the algorithm was much more optimal with a consistent runtime of less then 400ms. Furthermore values of S from 10000 to 100000 the runtime was consistently faster than 200ms but when we change the S to 1000000 the run time gets a little slower with an average runtime of ~350ms"
   ]
  }
 ],
 "metadata": {
  "kernelspec": {
   "display_name": "Python 3 (ipykernel)",
   "language": "python",
   "name": "python3"
  },
  "language_info": {
   "codemirror_mode": {
    "name": "ipython",
    "version": 3
   },
   "file_extension": ".py",
   "mimetype": "text/x-python",
   "name": "python",
   "nbconvert_exporter": "python",
   "pygments_lexer": "ipython3",
   "version": "3.11.2"
  }
 },
 "nbformat": 4,
 "nbformat_minor": 5
}
