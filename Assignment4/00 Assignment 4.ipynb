{
 "cells": [
  {
   "cell_type": "markdown",
   "metadata": {
    "deletable": false,
    "editable": false,
    "nbgrader": {
     "cell_type": "markdown",
     "checksum": "abb1a1c535c5664152e17ff05179fd17",
     "grade": false,
     "grade_id": "cell-41ceaba3ab6401f6",
     "locked": true,
     "schema_version": 3,
     "solution": false
    }
   },
   "source": [
    "### SFWRENG 3BB4 Concurrent System Design, Fall 2023/24, McMaster University\n",
    "**Emil Sekerinski (instructor), Nancy Kansal (TA)**\n",
    "\n",
    "**Assignment 4, due Wednesday, October 4, 11 pm [24 points + 4 bonus points]. Introduced at:**\n",
    "- T03 on Thursday, September 28\n",
    "- T02 on Thursday, September 28\n",
    "- T01 on Friday, September 29\n",
    "\n",
    "The purpose of this assignment is to:\n",
    "* practice formulating loop invariants,\n",
    "* practice reasoning with nondeterminism and parallel composition,\n",
    "* practice using state diagrams to analyze parallel programs for correctness,\n",
    "* introduce you to using atomic data types.\n",
    "\n",
    "This assignment has ungraded exercises. You are encouraged to start with them before the tutorial but can complete them during it. Solutions are presented only at the tutorial.\n",
    "\n",
    "This tutorial also discusses the solutions to the graded questions of the previous assignment. Solutions to assignments are presented only in the tutorials; they are not posted.\n",
    "\n",
    "*Notes:*\n",
    "- Do not copy and paste graded cells, which corrupts the notebook's metadata.\n",
    "- If a notebook uses Python, before submitting, \"Restart Kernel\" and run the Python code from the beginning to clear the state of the kernel and to check that the output is as expected. When notebooks are graded, they are run with a clear kernel.\n",
    "- Log files may be created when your program crashes. These log files may become so large that they prevent submission. Delete all log files and submit a cleaned-up folder.\n",
    "- You are asked to write well-structured and readable source code. The source code is always used for grading in addition to the test results. Your program passing the provided does not guarantee that your program is correct and that you will receive full (or any) marks."
   ]
  }
 ],
 "metadata": {
  "kernelspec": {
   "display_name": "Python 3 (ipykernel)",
   "language": "python",
   "name": "python3"
  },
  "language_info": {
   "codemirror_mode": {
    "name": "ipython",
    "version": 3
   },
   "file_extension": ".py",
   "mimetype": "text/x-python",
   "name": "python",
   "nbconvert_exporter": "python",
   "pygments_lexer": "ipython3",
   "version": "3.11.2"
  }
 },
 "nbformat": 4,
 "nbformat_minor": 4
}
