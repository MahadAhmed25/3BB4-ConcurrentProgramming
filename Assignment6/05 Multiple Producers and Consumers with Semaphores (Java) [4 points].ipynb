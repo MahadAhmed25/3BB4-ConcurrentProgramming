{
 "cells": [
  {
   "cell_type": "markdown",
   "metadata": {},
   "source": [
    "### Multiple Producers and Consumer with Semaphores (Java) [4 points]"
   ]
  },
  {
   "cell_type": "markdown",
   "metadata": {},
   "source": [
    "#### Producers and Consumers\n",
    "\n",
    "Here is a producer/consumer problem with semaphores in Java. The producer produces the first `numIters` numbers; the consumer expects `numIters` numbers and prints their sum. The shared variable `data` is declared as `volatile`. This tells the compiler that the variable can change at any time and has to be read from memory. Without that, in the function `Consumer`, the compiler may assume that `data` does not change in the function and keep it in a register."
   ]
  },
  {
   "cell_type": "code",
   "execution_count": 1,
   "metadata": {},
   "outputs": [
    {
     "name": "stdout",
     "output_type": "stream",
     "text": [
      "Overwriting ProducerConsumer.java\n"
     ]
    }
   ],
   "source": [
    "%%writefile ProducerConsumer.java\n",
    "import java.util.concurrent.Semaphore;\n",
    "import java.lang.String;\n",
    "public class ProducerConsumer {\n",
    "    public static Semaphore empty = new Semaphore(1);\n",
    "    public static Semaphore full = new Semaphore(0);\n",
    "    public static volatile int data; // shared buffer\n",
    "    public static int numIters;\n",
    "    static Thread makeproducer() {\n",
    "        return new Thread() {\n",
    "            public void run () {\n",
    "                System.out.println(\"Producer created\");\n",
    "                for (int produced = 0; produced < numIters; produced++) {\n",
    "                    try {empty.acquire();} catch (Exception e) {}\n",
    "                    data = produced;\n",
    "                    full.release();\n",
    "                }\n",
    "            }\n",
    "        };\n",
    "    }\n",
    "    static Thread makeconsumer() {\n",
    "        return new Thread() {\n",
    "            public void run () {\n",
    "                System.out.println(\"Consumer created\");\n",
    "                int sum = 0;\n",
    "                for (int consumed = 0; consumed < numIters; consumed++) {\n",
    "                    try {full.acquire();} catch (Exception e) {}\n",
    "                    sum += data;\n",
    "                    empty.release();\n",
    "                }\n",
    "                System.out.println(\"For \" + numIters + \" iterations, the sum is \" + sum);  \n",
    "            }\n",
    "        };\n",
    "    }\n",
    "    public static void main(String args[]) {\n",
    "        numIters = Integer.parseInt(args[0]);\n",
    "        Thread p = makeproducer(), c = makeconsumer();\n",
    "       \n",
    "        p.start(); c.start();\n",
    "        try {p.join(); c.join();} catch(Exception e) {}\n",
    "    }\n",
    "}"
   ]
  },
  {
   "cell_type": "code",
   "execution_count": 2,
   "metadata": {},
   "outputs": [
    {
     "name": "stdout",
     "output_type": "stream",
     "text": [
      "Producer created\n",
      "Consumer created\n",
      "For 10 iterations, the sum is 45\n"
     ]
    }
   ],
   "source": [
    "!javac ProducerConsumer.java\n",
    "!java ProducerConsumer 10"
   ]
  },
  {
   "cell_type": "markdown",
   "metadata": {},
   "source": [
    "#### Multiple Producers and Consumers\n",
    "\n",
    "Generalize the above Java implementation for an arbitrary number of producers/consumers. The program should take two parameters from the command line: the number of iterations of each producer/consumer and the number of producers/consumers. All producers and all consumers have the same number of iterations, and there are as many consumers as there are producers. The output should be modified such that each producer and consumer identifies itself when printing that they were created and when printing their sum. The main program should additionally print the expected total sum by computing that, not by collecting the sums of each consumer: the sum each consumer computes may be different now due to nondeterminism, but their total sum is unique. Recall that the sum of the first `n - 1` numbers is `n × (n - 1) / 2`.  For example\n",
    "```bash\n",
    "!java MultiProducerConsumer 10 3\n",
    "```\n",
    "may result in:\n",
    "```\n",
    "Consumer 0 created\n",
    "Consumer 2 created\n",
    "Producer 1 created\n",
    "Producer 0 created\n",
    "Producer 2 created\n",
    "Consumer 1 created\n",
    "For 10 iterations, the sum of consumer 2 is 36\n",
    "For 10 iterations, the sum of consumer 1 is 45\n",
    "For 10 iterations, the sum of consumer 0 is 54\n",
    "The expected total sum is 135\n",
    "```"
   ]
  },
  {
   "cell_type": "code",
   "execution_count": 3,
   "metadata": {
    "deletable": false,
    "nbgrader": {
     "cell_type": "code",
     "checksum": "8142ee9b5b878b2b9ee1ed26b0555ec5",
     "grade": true,
     "grade_id": "cell-f2b9c52c9fbcf326",
     "locked": false,
     "points": 4,
     "schema_version": 3,
     "solution": true,
     "task": false
    }
   },
   "outputs": [
    {
     "name": "stdout",
     "output_type": "stream",
     "text": [
      "Overwriting MultiProducerConsumer.java\n"
     ]
    }
   ],
   "source": [
    "%%writefile MultiProducerConsumer.java\n",
    "import java.util.concurrent.Semaphore;\n",
    "import java.lang.String;\n",
    "public class MultiProducerConsumer {\n",
    "    public static Semaphore empty = new Semaphore(1);\n",
    "    public static Semaphore full = new Semaphore(0);\n",
    "    public static volatile int data; // shared buffer\n",
    "    public static int numIters;\n",
    "    public static int numThreads;\n",
    "\n",
    "    static Thread makeproducer(int id) {\n",
    "        return new Thread() {\n",
    "            public void run () {\n",
    "                System.out.println(\"Producer \" + id + \" created\");\n",
    "                for (int produced = 0; produced < numIters; produced++) {\n",
    "                    try {empty.acquire();} catch (Exception e) {}\n",
    "                    data = produced;\n",
    "                    full.release();\n",
    "                }\n",
    "            }\n",
    "        };\n",
    "    }\n",
    "    static Thread makeconsumer(int id) {\n",
    "        return new Thread() {\n",
    "            public void run () {\n",
    "                System.out.println(\"Consumer \" + id + \" created\");\n",
    "                int sum = 0;\n",
    "                for (int consumed = 0; consumed < numIters; consumed++) {\n",
    "                    try {full.acquire();} catch (Exception e) {}\n",
    "                    sum += data;\n",
    "                    empty.release();\n",
    "                }\n",
    "                System.out.println(\"For \" + numIters + \" iterations, the sum of consumer \" + id + \" is \" + sum);  \n",
    "            }\n",
    "        };\n",
    "    }\n",
    "    public static void main(String args[]) {\n",
    "        numIters = Integer.parseInt(args[0]);\n",
    "        numThreads = Integer.parseInt(args[1]);\n",
    "        Thread[] p = new Thread[numThreads];\n",
    "        Thread[] c = new Thread[numThreads];\n",
    "        for (int i = 0; i < numThreads; i ++) {\n",
    "            p[i] = makeproducer(i);\n",
    "            c[i] = makeconsumer(i); \n",
    "        }\n",
    "\n",
    "        for (int i = 0; i < numThreads; i++){\n",
    "            p[i].start();\n",
    "            c[i].start();\n",
    "        }\n",
    "\n",
    "        for (int i = 0; i < numThreads; i++){\n",
    "            try {\n",
    "            p[i].join();\n",
    "            c[i].join();\n",
    "            } catch (Exception e) {}\n",
    "        }\n",
    "\n",
    "        System.out.println(\"The expected total sum is: \" + (numIters * (numIters - 1) / 2) * numThreads);\n",
    "\n",
    "    }\n",
    "}"
   ]
  },
  {
   "cell_type": "code",
   "execution_count": 4,
   "metadata": {},
   "outputs": [],
   "source": [
    "!javac MultiProducerConsumer.java"
   ]
  },
  {
   "cell_type": "code",
   "execution_count": 5,
   "metadata": {},
   "outputs": [
    {
     "name": "stdout",
     "output_type": "stream",
     "text": [
      "Producer 0 created\n",
      "Consumer 0 created\n",
      "Producer 1 created\n",
      "Consumer 1 created\n",
      "For 10 iterations, the sum of consumer 0 is 45\n",
      "For 10 iterations, the sum of consumer 1 is 45\n",
      "Producer 2 created\n",
      "Consumer 2 created\n",
      "For 10 iterations, the sum of consumer 2 is 45\n",
      "The expected total sum is: 135\n"
     ]
    }
   ],
   "source": [
    "!java MultiProducerConsumer 10 3"
   ]
  },
  {
   "cell_type": "code",
   "execution_count": null,
   "metadata": {},
   "outputs": [],
   "source": []
  }
 ],
 "metadata": {
  "kernelspec": {
   "display_name": "Python 3 (ipykernel)",
   "language": "python",
   "name": "python3"
  },
  "language_info": {
   "codemirror_mode": {
    "name": "ipython",
    "version": 3
   },
   "file_extension": ".py",
   "mimetype": "text/x-python",
   "name": "python",
   "nbconvert_exporter": "python",
   "pygments_lexer": "ipython3",
   "version": "3.11.2"
  }
 },
 "nbformat": 4,
 "nbformat_minor": 4
}
