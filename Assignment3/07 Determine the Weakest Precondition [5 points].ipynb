{
 "cells": [
  {
   "cell_type": "markdown",
   "metadata": {},
   "source": [
    "### Determine the Weakest Precondition [5 points]"
   ]
  },
  {
   "cell_type": "markdown",
   "metadata": {
    "slideshow": {
     "slide_type": "-"
    }
   },
   "source": [
    "The rule for the correctness of assignments is given as:\n",
    "\n",
    "&nbsp; &nbsp; `{P}  x, y := E, F  {Q}` &nbsp; if  &nbsp; `P ⇒ Q[x, y := E, F]`\n",
    "\n",
    "By taking `P` to be `Q[x, y := E, F]`, the rule becomes:\n",
    "\n",
    "&nbsp; &nbsp; `{Q[x, y := E, F]}  x, y := E, F  {Q}`\n",
    "\n",
    "Here, `Q[x, y := E, F]` is the *weakest precondition* for the assignment `x, y := E, F` to establish postcondition `Q`.\n",
    "\n",
    "Use these rules to derive the weakest predicate `P` below. Assume `x` is an integer variable and `a`, `b` are boolean variables. Use an equational proof. Simplify the result. For example, `P` in\n",
    "```algorithm\n",
    "{P}  x := x + 1  {x > 0}\n",
    "```\n",
    "is derived by:\n",
    "```algorithm\n",
    "    P\n",
    "≡       {above rule}\n",
    "    (x > 0)[x := x + 1]\n",
    "≡       {by substitution, leaving out parenthesis}\n",
    "    x + 1 > 0\n",
    "≡       (arithmetic}\n",
    "    x ≥ 0\n",
    "```"
   ]
  },
  {
   "cell_type": "markdown",
   "metadata": {},
   "source": [
    "1. \n",
    "```algorithm\n",
    "{P}  x, y := x + 1, y – 1  {x + y > 0}\n",
    "```"
   ]
  },
  {
   "cell_type": "markdown",
   "metadata": {
    "deletable": false,
    "nbgrader": {
     "cell_type": "markdown",
     "checksum": "c77c52dbdb414ff45bd9581e765f597d",
     "grade": true,
     "grade_id": "cell-4ee0dcba053d06d7",
     "locked": false,
     "points": 1,
     "schema_version": 3,
     "solution": true,
     "task": false
    }
   },
   "source": [
    "```algorithm\n",
    "    P\n",
    "≡       {above rule}\n",
    "    (x + y > 0)[x, y := x + 1, y - 1]\n",
    "≡       {by substitution}\n",
    "    (x + 1) + (y - 1) > 0\n",
    "≡       {arithmetic}\n",
    "    x + y > 0\n",
    "```"
   ]
  },
  {
   "cell_type": "markdown",
   "metadata": {},
   "source": [
    "2. \n",
    "```algorithm\n",
    "{P}  x := x + 1  {x = x + 1}\n",
    "```"
   ]
  },
  {
   "cell_type": "markdown",
   "metadata": {
    "deletable": false,
    "nbgrader": {
     "cell_type": "markdown",
     "checksum": "8c12afeaf9f1152f560ac694c268844f",
     "grade": true,
     "grade_id": "cell-8c0a1548de7450fb",
     "locked": false,
     "points": 1,
     "schema_version": 3,
     "solution": true,
     "task": false
    }
   },
   "source": [
    "```algorithm\n",
    "    P\n",
    "≡       {above rule}\n",
    "    (x = x + 1)[x := x + 1]\n",
    "≡       {by substitution}\n",
    "    x + 1 = x + 1 + 1\n",
    "≡       {arithmetic}\n",
    "    x = x + 1\n",
    "```"
   ]
  },
  {
   "cell_type": "markdown",
   "metadata": {},
   "source": [
    "3. \n",
    "```algorithm\n",
    "{P}  a := a = b  {a}\n",
    "```"
   ]
  },
  {
   "cell_type": "markdown",
   "metadata": {
    "deletable": false,
    "nbgrader": {
     "cell_type": "markdown",
     "checksum": "e7c3236beddae7e1086db94d51e5c78b",
     "grade": true,
     "grade_id": "cell-1dd59221a0d876ba",
     "locked": false,
     "points": 1,
     "schema_version": 3,
     "solution": true,
     "task": false
    }
   },
   "source": [
    "```algorithm\n",
    "    P\n",
    "≡       {above rule}\n",
    "    (a)[a := a = b]\n",
    "≡       {by substitution}\n",
    "    a = b\n",
    "```"
   ]
  },
  {
   "cell_type": "markdown",
   "metadata": {},
   "source": [
    "4.  Assume `a: 0 .. N – 1 → integer`:\n",
    "```algorithm\n",
    "{P}  s, i := s + a(i), i + 1  {s = ∑ k ∈ 0 .. i – 1 • a(i) ∧ 0 ≤ i ≤ N}\n",
    "```"
   ]
  },
  {
   "cell_type": "markdown",
   "metadata": {
    "deletable": false,
    "nbgrader": {
     "cell_type": "markdown",
     "checksum": "bdd772ff7ba5180155b4b8badaf801a5",
     "grade": true,
     "grade_id": "cell-56b92dee6372197c",
     "locked": false,
     "points": 1,
     "schema_version": 3,
     "solution": true,
     "task": false
    }
   },
   "source": [
    "```algorithm\n",
    "    P\n",
    "≡       {above rule}\n",
    "    (s = ∑ k ∈ 0 .. i – 1 • a(k) ∧ 0 ≤ i ≤ N)[s, i := s + a(i), i + 1]\n",
    "≡       {by substitution s}\n",
    "    s + a(i) = ∑ k ∈ 0 .. i – 1 • a(k) ∧ 0 ≤ i ≤ N \n",
    "≡       {by substitution i}\n",
    "    s + a(i+1) = ∑ k ∈ 0 .. i + 1 – 1 • a(k) ∧ 0 ≤ i + 1 ≤ N    \n",
    "≡       {arithmetic}\n",
    "    s + a(i+1) = ∑ k ∈ 0 .. i • a(k) ∧ 0 ≤ (i + 1) ≤ N\n",
    "```"
   ]
  },
  {
   "cell_type": "markdown",
   "metadata": {},
   "source": [
    "5. \n",
    "```algorithm\n",
    "{P}  m := x  {m = max(x, y)}\n",
    "```"
   ]
  },
  {
   "cell_type": "markdown",
   "metadata": {
    "deletable": false,
    "nbgrader": {
     "cell_type": "markdown",
     "checksum": "b8751b5ff1edfdc9e014043506c37e77",
     "grade": true,
     "grade_id": "cell-90a62fd12a1b9298",
     "locked": false,
     "points": 1,
     "schema_version": 3,
     "solution": true,
     "task": false
    }
   },
   "source": [
    "```algorithm\n",
    "    P\n",
    "≡       {above rule}\n",
    "    (m = max(x, y))[m := x]\n",
    "≡       {by substitution}\n",
    "    x = max(x, y)\n",
    "≡       {logic}\n",
    "    x ≥ y\n",
    "```"
   ]
  }
 ],
 "metadata": {
  "kernelspec": {
   "display_name": "Python 3 (ipykernel)",
   "language": "python",
   "name": "python3"
  },
  "language_info": {
   "codemirror_mode": {
    "name": "ipython",
    "version": 3
   },
   "file_extension": ".py",
   "mimetype": "text/x-python",
   "name": "python",
   "nbconvert_exporter": "python",
   "pygments_lexer": "ipython3",
   "version": "3.11.2"
  }
 },
 "nbformat": 4,
 "nbformat_minor": 4
}
