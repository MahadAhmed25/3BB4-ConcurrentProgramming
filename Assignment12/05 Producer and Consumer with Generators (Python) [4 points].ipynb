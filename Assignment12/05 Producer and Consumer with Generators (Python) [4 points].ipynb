{
 "cells": [
  {
   "cell_type": "markdown",
   "metadata": {},
   "source": [
    "### Producers and Consumers with Generators (Python)"
   ]
  },
  {
   "cell_type": "markdown",
   "metadata": {},
   "source": [
    "Here is a solution to the produce-consumer problem with semaphores in Python. The producer produces the first `numIters` numbers, and the consumer expects `numIters` numbers and prints their sum."
   ]
  },
  {
   "cell_type": "code",
   "execution_count": null,
   "metadata": {},
   "outputs": [],
   "source": [
    "from threading import Thread, Semaphore\n",
    "from sys import stdout\n",
    "\n",
    "empty, full = Semaphore(1), Semaphore(0)\n",
    "\n",
    "def producer(numIters):\n",
    "    stdout.write('Producer created\\n')\n",
    "    global buf\n",
    "    for produced in range(numIters):\n",
    "        empty.acquire()\n",
    "        buf = produced\n",
    "        full.release()\n",
    "\n",
    "def consumer(numIters):\n",
    "    stdout.write('Consumer created\\n')\n",
    "    s = 0\n",
    "    for consumed in range(numIters):\n",
    "        full.acquire()\n",
    "        s += buf\n",
    "        empty.release()\n",
    "    stdout.write('The consumer sum is ' + str(s) + '\\n')\n",
    "\n",
    "def pc(numIters):\n",
    "    p = Thread(target = producer, args = (numIters, ))\n",
    "    c = Thread(target = consumer, args = (numIters, ))\n",
    "    p.start(); c.start()\n",
    "    p.join(); c.join()\n",
    "    print(\"The expected sum is\", numIters * (numIters - 1) // 2)\n",
    "\n",
    "%time pc(100000)"
   ]
  },
  {
   "cell_type": "markdown",
   "metadata": {},
   "source": [
    "This solution is symmetric in that the producer and the consumer are threads that \"know\" only the global buffer and semaphores. The task is now to solve the producer-consumer problem such that the producer is a generator and the consumer is passed a generator object. The solution is asymmetric as only the producer is a generator, and the consumer \"knows\" about the producer but not vice versa."
   ]
  },
  {
   "cell_type": "code",
   "execution_count": 1,
   "metadata": {
    "deletable": false,
    "nbgrader": {
     "cell_type": "code",
     "checksum": "49e77ffd70a9c66b17fb3b88c6ee11b2",
     "grade": true,
     "grade_id": "cell-2bd723703bf32afb",
     "locked": false,
     "points": 2,
     "schema_version": 3,
     "solution": true,
     "task": false
    }
   },
   "outputs": [
    {
     "name": "stdout",
     "output_type": "stream",
     "text": [
      "Consumer created\n",
      "Producer created\n",
      "The consumer sum is 4999950000\n",
      "The expected sum is 4999950000\n",
      "CPU times: user 7.93 ms, sys: 138 µs, total: 8.07 ms\n",
      "Wall time: 7.79 ms\n"
     ]
    }
   ],
   "source": [
    "def producer(numIters):\n",
    "    print('Producer created')\n",
    "    for produced in range(numIters):\n",
    "        yield produced\n",
    "\n",
    "def consumer(prod):\n",
    "    print('Consumer created')\n",
    "    s = 0\n",
    "    for i in prod:\n",
    "        s += i\n",
    "    print('The consumer sum is', s)\n",
    "\n",
    "def pc(numIters):\n",
    "    consumer(producer(numIters))\n",
    "    print(\"The expected sum is\", numIters * (numIters - 1) // 2)\n",
    "\n",
    "%time pc(100000)"
   ]
  },
  {
   "cell_type": "markdown",
   "metadata": {},
   "source": [
    "- How do the execution times of the thread and the coroutine versions compare? Explain!\n",
    "- What is the potential for concurrent and truly parallel execution with both solutions? When would one use one or the other? Recall that due to the *global interpreter lock*, Python uses only a single processor core."
   ]
  },
  {
   "cell_type": "markdown",
   "metadata": {
    "deletable": false,
    "nbgrader": {
     "cell_type": "markdown",
     "checksum": "360db815226effa2780025dc26d1e4d3",
     "grade": true,
     "grade_id": "cell-1230dee7ae7cf759",
     "locked": false,
     "points": 2,
     "schema_version": 3,
     "solution": true,
     "task": false
    }
   },
   "source": [
    "YOUR ANSWER HERE"
   ]
  }
 ],
 "metadata": {
  "kernelspec": {
   "display_name": "Python 3 (ipykernel)",
   "language": "python",
   "name": "python3"
  },
  "language_info": {
   "codemirror_mode": {
    "name": "ipython",
    "version": 3
   },
   "file_extension": ".py",
   "mimetype": "text/x-python",
   "name": "python",
   "nbconvert_exporter": "python",
   "pygments_lexer": "ipython3",
   "version": "3.11.5"
  }
 },
 "nbformat": 4,
 "nbformat_minor": 4
}
