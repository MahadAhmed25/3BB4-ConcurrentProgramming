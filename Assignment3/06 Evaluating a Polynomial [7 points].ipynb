{
 "cells": [
  {
   "cell_type": "markdown",
   "metadata": {
    "slideshow": {
     "slide_type": "slide"
    }
   },
   "source": [
    "### Evaluating a Polynomial [7 points]"
   ]
  },
  {
   "cell_type": "markdown",
   "metadata": {},
   "source": [
    "A polynomial in one variable (*univariate*) is of the form `p(x) = c(n) × xⁿ + c(n-1) × xⁿ⁻¹ + ... + c(1) × x + c(0)`, where the `c(i)` are the _coefficients_ and `n` is the _degree_.\n",
    "\n",
    "Assuming that `N ≥ 0`, the array `c: 0 .. N – 1 → integer` has the coefficients, and `x` is an integer, write a program that, for integer variable `s`, establishes the postcondition\n",
    "\n",
    "```algorithm\n",
    "s = (∑ i ∈ 0 .. N - 1 • a(i) × xⁱ)\n",
    "```"
   ]
  },
  {
   "cell_type": "markdown",
   "metadata": {},
   "source": [
    "##### 1. With exponentiation [4 points]"
   ]
  },
  {
   "cell_type": "markdown",
   "metadata": {},
   "source": [
    "The program should contain only one loop and use exponentiation. Give the programs textually and add the appropriate annotation! Use as a template:\n",
    "\n",
    "```algorithm\n",
    "{true}\n",
    "s = 0\n",
    "k = 0\n",
    "while k < N do:\n",
    "    s, k = s + a(k) × x^k, k + 1\n",
    "{s = (∑ i ∈ 0 .. N – 1 • a(i) × xⁱ)}\n",
    "```\n",
    "\n",
    "Give the correctness conditions and prove them!"
   ]
  },
  {
   "cell_type": "markdown",
   "metadata": {
    "deletable": false,
    "nbgrader": {
     "cell_type": "markdown",
     "checksum": "141dba2ad1cf687bd50f1c55fcb61c28",
     "grade": true,
     "grade_id": "cell-0ad0faf785be6234",
     "locked": false,
     "points": 4,
     "schema_version": 3,
     "solution": true,
     "task": false
    }
   },
   "source": [
    "<span style = \"float:left;border-right:1em solid transparent\">(1)</span>\n",
    "\n",
    "```algorithm\n",
    "{true}\n",
    "s, k := 0, 0\n",
    "{s = (∑ i ∈ 0 .. k – 1 • a(i)*x^i) ∧ 0 ≤ k ≤ N}\n",
    "```\n",
    "proof:\n",
    "```algorithm\n",
    "    (s = (∑ i ∈ 0 .. k – 1 • a(i)*x^i) ∧ 0 ≤ k ≤ N)[s, k := 0, 0]\n",
    "≡        {by substitution, arithmetic}\n",
    "    0 = (∑ i ∈ 0 .. – 1 • a(i)*x^i) ∧ 0 ≤ 0 ≤ N\n",
    "≡        {empty sum is 0, arithmetic}\n",
    "    0 = 0 ∧ 0 ≤ N\n",
    "≡        {assumption N ≥ 0}\n",
    "    true\n",
    "```\n",
    "\n",
    "<span style = \"float:left;border-right:1em solid transparent\">(2)</span>\n",
    "\n",
    "```algorithm\n",
    "{s = (∑ i ∈ 0 .. k – 1 • a(i)*x^i) ∧ 0 ≤ k ≤ N}\n",
    "while k < N do\n",
    "    s, k := s + a(k)*x^k, k + 1\n",
    "{s = (∑ i ∈ 0 .. N – 1 • a(i)*x^i)}\n",
    "```\n",
    "\n",
    "<span style = \"float:left;border-right:1em solid transparent\">(2.1)</span>\n",
    "\n",
    "```algorithm\n",
    "s = (∑ i ∈ 0 .. k – 1 • a(i)*x^i) ∧ 0 ≤ k ≤ N ∧ k < N ⇒ (s = (∑ i ∈ 0 .. k – 1 • a(i)*x^i) ∧ 0 ≤ k ≤ N)[s, k := s + a(k)*x^k, k + 1]\n",
    "\n",
    "```\n",
    "proof:\n",
    "\n",
    "```algorithm\n",
    "    (s = (∑ i ∈ 0 .. k – 1 • a(i)*x^i) ∧ 0 ≤ k ≤ N)[s, k := s + a(k)*x^k, k + 1]\n",
    "≡        {by substitution}\n",
    "    s + a(k)*x^k = (∑ i ∈ 0 .. (k + 1) – 1 • a(i)*x^i) ∧ 0 ≤ k + 1 ≤ N\n",
    "⇐        {by arithmetic}\n",
    "    s + a(k)*x^k = (∑ i ∈ 0 .. k • a(i)*x^i) ∧ 0 ≤ k < N\n",
    "≡        {by domain split with i < k and i = k}\n",
    "    s + a(k)*x^k = (∑ i ∈ 0 .. k – 1 • a(i)*x^i) + a(k)*x^k ∧ 0 ≤ k < N\n",
    "≡        {by arithmetic}\n",
    "    s = (∑ i ∈ 0 .. k – 1 • a(i)*x^i) ∧ 0 ≤ k < N\n",
    "≡        {by arithmetic}\n",
    "    s = (∑ i ∈ 0 .. k – 1 • a(i)*x^i) ∧ 0 ≤ k ≤ N ∧ k < N\n",
    "```\n",
    "\n",
    "<span style = \"float:left;border-right:1em solid transparent\">(2.2)</span>\n",
    "\n",
    "```algorithm\n",
    "s = (∑ i ∈ 0 .. k – 1 • a(i)*x^i) ∧ 0 ≤ k ≤ N ∧ k ≥ N ⇒ s = (∑ i ∈ 0 .. N – 1 • a(i)*x^i)\n",
    "```\n",
    "\n",
    "proof:\n",
    "\n",
    "```algorithm\n",
    "    s = (∑ i ∈ 0 .. k – 1 • a(i)*x^i) ∧ 0 ≤ k ≤ N ∧ k ≥ N ⇒\n",
    "⇒        {by arithmetic}\n",
    "    s = (∑ i ∈ 0 .. k – 1 • a(i)*x^i) ∧ k = N\n",
    "≡        {by substitution of equals for equals}\n",
    "    s = (∑ i ∈ 0 .. N – 1 • a(i)*x^i) ∧ k = N\n",
    "⇒        {logic}\n",
    "    s = (∑ i ∈ 0 .. N – 1 • a(i)*x^i)\n",
    "```\n",
    ")\n",
    "```\n",
    "\n",
    "```"
   ]
  },
  {
   "cell_type": "markdown",
   "metadata": {},
   "source": [
    "##### 2. Without exponentiation [2 points]"
   ]
  },
  {
   "cell_type": "markdown",
   "metadata": {},
   "source": [
    "The program should contain only one loop and use only addition and multiplication, no exponentiation. Add appropriate annotation. You do not need to prove that the program is correct, but the loop invariant has to be strong enough to allow a proof (you may want to carry out the proofs for yourself). Use the above template."
   ]
  },
  {
   "cell_type": "markdown",
   "metadata": {
    "deletable": false,
    "nbgrader": {
     "cell_type": "markdown",
     "checksum": "51514f2e57d06f47f1153a6f337cb3d9",
     "grade": true,
     "grade_id": "cell-afb351faef05f180",
     "locked": false,
     "points": 2,
     "schema_version": 3,
     "solution": true,
     "task": false
    }
   },
   "source": [
    "```algorithm\n",
    "{true}\n",
    "var power = 1              // x^0 = 1\n",
    "for i = 0 to N - 1 do:\n",
    "    s += a(i) × xPower\n",
    "    power = power × x\n",
    "{s = (∑ i ∈ 0 .. N – 1 • a(i) × xⁱ)}\n",
    "```"
   ]
  },
  {
   "cell_type": "markdown",
   "metadata": {},
   "source": [
    "##### 3. Implementation [1 point]"
   ]
  },
  {
   "cell_type": "markdown",
   "metadata": {},
   "source": [
    "Implement your algorithm without exponentions in Python!"
   ]
  },
  {
   "cell_type": "code",
   "execution_count": 1,
   "metadata": {
    "deletable": false,
    "nbgrader": {
     "cell_type": "code",
     "checksum": "4a7d2f354e3b2d10411df2f37fcaf115",
     "grade": true,
     "grade_id": "cell-293ee825ca9be7d7",
     "locked": false,
     "points": 0,
     "schema_version": 3,
     "solution": true,
     "task": false
    }
   },
   "outputs": [],
   "source": [
    "def poly(a, x):\n",
    "    s = 0\n",
    "    power = 1\n",
    "\n",
    "    for i in a:\n",
    "        s += i * power\n",
    "        power *= x\n",
    "\n",
    "    return s;"
   ]
  },
  {
   "cell_type": "code",
   "execution_count": 2,
   "metadata": {
    "deletable": false,
    "editable": false,
    "nbgrader": {
     "cell_type": "code",
     "checksum": "d421cff9b027c6c2d6a197123ec95883",
     "grade": true,
     "grade_id": "cell-a563d7766ede7e8a",
     "locked": true,
     "points": 1,
     "schema_version": 3,
     "solution": false,
     "task": false
    }
   },
   "outputs": [],
   "source": [
    "assert poly([1, 2, 3], 3) == 34\n",
    "assert poly([7], 6) == 7\n",
    "assert poly([], 3) == 0\n",
    "assert poly([2, 0, 0], 7) == 2\n",
    "assert poly([0, 0, 2], 7) == 98"
   ]
  },
  {
   "cell_type": "code",
   "execution_count": null,
   "metadata": {},
   "outputs": [],
   "source": []
  }
 ],
 "metadata": {
  "kernelspec": {
   "display_name": "Python 3 (ipykernel)",
   "language": "python",
   "name": "python3"
  },
  "language_info": {
   "codemirror_mode": {
    "name": "ipython",
    "version": 3
   },
   "file_extension": ".py",
   "mimetype": "text/x-python",
   "name": "python",
   "nbconvert_exporter": "python",
   "pygments_lexer": "ipython3",
   "version": "3.11.2"
  },
  "rise": {
   "enable_chalkboard": true,
   "scroll": true
  }
 },
 "nbformat": 4,
 "nbformat_minor": 4
}
