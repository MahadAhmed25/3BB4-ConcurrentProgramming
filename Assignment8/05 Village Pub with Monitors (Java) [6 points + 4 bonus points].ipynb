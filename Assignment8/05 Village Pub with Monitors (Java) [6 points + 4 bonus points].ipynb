{
 "cells": [
  {
   "cell_type": "markdown",
   "metadata": {},
   "source": [
    "### Village Pub with Monitors (Java) [6 points + 4 bonus points]"
   ]
  },
  {
   "cell_type": "markdown",
   "metadata": {},
   "source": [
    "A small village has a pub run by a pub manager. All villagers are patrons of the pub. Every day, all the villagers go to the pub for some time. The pub manager closes the pub at a specific time. Because the pub is small, not all villagers can fit in. If a villager arrives and there is still space in the pub, they enter immediately. If the pub is full, they have to wait until either they can enter or the pub closes. When the pub closes after a villager enters, the villager can still finish their stay. Complete the implementation below. State the class (monitor) invariant and the preconditions of the methods (monitor procedures) as comments. A possible output is:\n",
    "```\n",
    "🙂🙂😋🙂🙂😋🙂😋😋🙂🙂😋😋🙂😋🙂😋🙂😋🙂🙂😋😋😋🙂😋🙂🔒🙁🙁🙁😋🙁🙁🙁\n",
    "```"
   ]
  },
  {
   "cell_type": "code",
   "execution_count": 37,
   "metadata": {
    "deletable": false,
    "nbgrader": {
     "cell_type": "code",
     "checksum": "15bfc2da227ca69d34bf9b638363195b",
     "grade": true,
     "grade_id": "cell-0930921e877bccc6",
     "locked": false,
     "points": 5,
     "schema_version": 3,
     "solution": true,
     "task": false
    }
   },
   "outputs": [
    {
     "name": "stdout",
     "output_type": "stream",
     "text": [
      "Overwriting village.java\n"
     ]
    }
   ],
   "source": [
    "%%writefile village.java\n",
    "class Pub {\n",
    "    int cap;\n",
    "    int currOcc;\n",
    "    boolean pubOpen;\n",
    "\n",
    "    //Invariant: 0 <= currOcc <= cap ∧ cap > 0\n",
    "    Pub(int cap){this.cap = cap; this.currOcc = 0; this.pubOpen = true;}\n",
    "\n",
    "    // Precondition: 0 <= currOcc <= cap\n",
    "    synchronized boolean enter() {\n",
    "        while (currOcc >= cap)\n",
    "            try {wait();} catch (Exception e) {}\n",
    "            \n",
    "        if(pubOpen) {currOcc++; return true;}\n",
    "        else return false;\n",
    "        \n",
    "    } \n",
    "\n",
    "    // Precondition: curOcc > 0\n",
    "    synchronized void exit() {\n",
    "        currOcc--;\n",
    "        notify();\n",
    "    }\n",
    "\n",
    "    // Precondition: pubOpen (pub should be open when calling closing())\n",
    "    synchronized void closing(){\n",
    "        pubOpen = false;\n",
    "        notifyAll();\n",
    "    }\n",
    "}\n",
    "class Villager extends Thread {\n",
    "    Pub p;\n",
    "    Villager(Pub p) {\n",
    "        this.p = p;\n",
    "    }\n",
    "    public void run() {\n",
    "        try {Thread.sleep((long)(Math.random() * 6000));\n",
    "        } catch (Exception e) {}\n",
    "        if (p.enter()) {\n",
    "            System.out.print(\"🙂\"); // entered pub\n",
    "            try {Thread.sleep((long)(Math.random() * 1000)); // eating\n",
    "            } catch (Exception e) {}\n",
    "            System.out.print(\"😋\"); // full and happy\n",
    "            p.exit();\n",
    "        } else System.out.print(\"🙁\"); // turned down\n",
    "    }\n",
    "}\n",
    "class Manager extends Thread {\n",
    "    Pub p;\n",
    "    Manager(Pub p) {\n",
    "        this.p = p;\n",
    "    }\n",
    "    public void run() {\n",
    "        try {Thread.sleep(4000);\n",
    "        } catch (Exception e) {}\n",
    "        System.out.print(\"🔒\");\n",
    "        p.closing();\n",
    "    }\n",
    "}\n",
    "class Village {\n",
    "    public static void main(String[] args) {\n",
    "        Pub p = new Pub(8); // capacity 8\n",
    "        new Manager(p).start();\n",
    "        for (int i = 0; i < 20; i++) new Villager(p).start();\n",
    "    }\n",
    "}"
   ]
  },
  {
   "cell_type": "code",
   "execution_count": 46,
   "metadata": {},
   "outputs": [],
   "source": [
    "!javac village.java"
   ]
  },
  {
   "cell_type": "code",
   "execution_count": 47,
   "metadata": {},
   "outputs": [
    {
     "name": "stdout",
     "output_type": "stream",
     "text": [
      "🙂🙂😋😋🙂😋🙂🙂🙂😋🙂🙂😋🙂😋😋😋😋🙂🙂🙂😋😋🙂🔒😞😋🙁🙁🙁🙁🙁🙁🙁"
     ]
    }
   ],
   "source": [
    "!java Village"
   ]
  },
  {
   "cell_type": "markdown",
   "metadata": {},
   "source": [
    "What problem in computing does this describe?"
   ]
  },
  {
   "cell_type": "markdown",
   "metadata": {
    "deletable": false,
    "nbgrader": {
     "cell_type": "markdown",
     "checksum": "54c105311c29f58d050af974b687cc3e",
     "grade": true,
     "grade_id": "cell-8fe80ed82f72eda4",
     "locked": false,
     "points": 1,
     "schema_version": 3,
     "solution": true,
     "task": false
    }
   },
   "source": [
    "This problem is very similar to the bounded buffer producer consumer problem. the pub acts as the buffer with its capacity as the limit. the villagers are the consumers that consume the resource, in this case which is the seats available in the pub, and the pub manager acts as the producer determining when the are spots available or unavailable in the pub"
   ]
  },
  {
   "cell_type": "markdown",
   "metadata": {},
   "source": [
    "*Bonus Question:* Modify the village such that when the manager closes the pub, all patrons have to leave immediately, even in the middle of their meal. For this, use `interrupt()` of class `Thread`. [2 bonus points]"
   ]
  },
  {
   "cell_type": "code",
   "execution_count": 45,
   "metadata": {
    "deletable": false,
    "nbgrader": {
     "cell_type": "code",
     "checksum": "ed8da678bd5b565050eeef7bac7c4e61",
     "grade": true,
     "grade_id": "cell-ff43bac2f37ad55e",
     "locked": false,
     "points": 0,
     "schema_version": 3,
     "solution": true,
     "task": false
    }
   },
   "outputs": [
    {
     "name": "stdout",
     "output_type": "stream",
     "text": [
      "Overwriting village.java\n"
     ]
    }
   ],
   "source": [
    "%%writefile village.java\n",
    "class Pub {\n",
    "    int cap;\n",
    "    int currOcc;\n",
    "    boolean pubOpen;\n",
    "    Villager[] villagers;\n",
    "\n",
    "    Pub(int cap){this.cap = cap; this.currOcc = 0; this.pubOpen = true; this.villagers = new Villager[100];}\n",
    "\n",
    "    synchronized boolean enter(Villager v) {\n",
    "        while (currOcc >= cap)\n",
    "            try {wait();} catch (Exception e) {return false;}\n",
    "            \n",
    "        if(pubOpen) {villagers[currOcc] = v; currOcc++; return true;}\n",
    "        else return false;\n",
    "        \n",
    "    } \n",
    "    //dont we need Villager v to remove the villager leaving???\n",
    "    synchronized void exit() {\n",
    "        currOcc--;\n",
    "        notify();\n",
    "    }\n",
    "\n",
    "    synchronized void closing(){\n",
    "        pubOpen = false;\n",
    "        for (int i = currOcc; i >= 0; i--)\n",
    "            if(villagers[i] != null) villagers[i].interrupt();\n",
    "\n",
    "        currOcc = 0;\n",
    "        notifyAll();\n",
    "\n",
    "         \n",
    "    }\n",
    "}\n",
    "class Villager extends Thread {\n",
    "    Pub p;\n",
    "    Villager(Pub p) {\n",
    "        this.p = p;\n",
    "    }\n",
    "    public void run() {\n",
    "        try {Thread.sleep((long)(Math.random() * 6000));\n",
    "        } catch (Exception e) {}\n",
    "        if (p.enter(this)) {\n",
    "            System.out.print(\"🙂\"); // entered pub\n",
    "            try {Thread.sleep((long)(Math.random() * 1000));\n",
    "            } catch (Exception e) {System.out.print(\"😞\"); return;}\n",
    "            System.out.print(\"😋\"); // full and happy\n",
    "            p.exit();\n",
    "        } else System.out.print(\"🙁\"); // turned down\n",
    "    }\n",
    "}\n",
    "class Manager extends Thread {\n",
    "    Pub p;\n",
    "    Manager(Pub p) {\n",
    "        this.p = p;\n",
    "    }\n",
    "    public void run() {\n",
    "        try {Thread.sleep(4000);\n",
    "        } catch (Exception e) {}\n",
    "        System.out.print(\"🔒\");\n",
    "        p.closing();\n",
    "    }\n",
    "}\n",
    "class Village {\n",
    "    public static void main(String[] args) {\n",
    "        Pub p = new Pub(8); // capacity 8\n",
    "        new Manager(p).start();\n",
    "        for (int i = 0; i < 20; i++) new Villager(p).start();\n",
    "    }\n",
    "}"
   ]
  },
  {
   "cell_type": "markdown",
   "metadata": {},
   "source": [
    "*Bonus Question:* Ensure that villagers enter in the first-come, first-serve order. Use the technique of _passing the condition._ [2 bonus points]"
   ]
  },
  {
   "cell_type": "code",
   "execution_count": null,
   "metadata": {
    "deletable": false,
    "nbgrader": {
     "cell_type": "code",
     "checksum": "0469afb40b6b663c56436e15dce6b202",
     "grade": true,
     "grade_id": "cell-228511c0d90ef27f",
     "locked": false,
     "points": 0,
     "schema_version": 3,
     "solution": true,
     "task": false
    }
   },
   "outputs": [],
   "source": [
    "%%writefile village.java\n",
    "class Pub {\n",
    "    # YOUR CODE HERE\n",
    "    raise NotImplementedError()\n",
    "}\n",
    "class Villager extends Thread {\n",
    "    Pub p;\n",
    "    Villager(Pub p) {\n",
    "        this.p = p;\n",
    "    }\n",
    "    public void run() {\n",
    "        try {Thread.sleep((long)(Math.random() * 6000));\n",
    "        } catch (Exception e) {}\n",
    "        if (p.enter()) {\n",
    "            System.out.print(\"🙂\"); // entered pub\n",
    "            try {Thread.sleep((long)(Math.random() * 1000)); // eating\n",
    "            } catch (Exception e) {}\n",
    "            System.out.print(\"😋\"); // full and happy\n",
    "            p.exit();\n",
    "        } else System.out.print(\"🙁\"); // turned down\n",
    "    }\n",
    "}\n",
    "class Manager extends Thread {\n",
    "    Pub p;\n",
    "    Manager(Pub p) {\n",
    "        this.p = p;\n",
    "    }\n",
    "    public void run() {\n",
    "        try {Thread.sleep(4000);\n",
    "        } catch (Exception e) {}\n",
    "        System.out.print(\"🔒\");\n",
    "        p.closing();\n",
    "    }\n",
    "}\n",
    "class Village {\n",
    "    public static void main(String[] args) {\n",
    "        Pub p = new Pub(8); // capacity 8\n",
    "        new Manager(p).start();\n",
    "        for (int i = 0; i < 20; i++) new Villager(p).start();\n",
    "    }\n",
    "}"
   ]
  }
 ],
 "metadata": {
  "kernelspec": {
   "display_name": "Python 3 (ipykernel)",
   "language": "python",
   "name": "python3"
  },
  "language_info": {
   "codemirror_mode": {
    "name": "ipython",
    "version": 3
   },
   "file_extension": ".py",
   "mimetype": "text/x-python",
   "name": "python",
   "nbconvert_exporter": "python",
   "pygments_lexer": "ipython3",
   "version": "3.11.5"
  }
 },
 "nbformat": 4,
 "nbformat_minor": 4
}
