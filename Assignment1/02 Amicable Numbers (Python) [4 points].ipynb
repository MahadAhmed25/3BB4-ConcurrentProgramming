{
 "cells": [
  {
   "cell_type": "markdown",
   "metadata": {},
   "source": [
    "### Amicable Numbers [4 points]\n",
    "\n",
    "Let `d(n)` be the sum of proper divisors of `n` (numbers less than `n` which divide evenly into `n`). For example, the proper divisors of `6` are `1`, `2`, `3`, therefore `d(6) = 1 + 2 + 3 = 6`.  The proper divisors of `14` are `1`, `2`, `7`, therefore `d(14) = 1 + 2 + 7 = 10`. If `d(a) = b` and `d(b) = a`, where `a ≠ b`, then `a` and `b` are an amicable pair and each of `a` and `b` are called *amicable numbers*. For example, the proper divisors of `220` are `1`, `2`, `4`, `5`, `10`, `11`, `20`, `22`, `44`, `55` and `110`, therefore `d(220) = 284`. The proper divisors of `284` are `1`, `2`, `4`, `71` and `142`, therefore `d(284) = 220`. Thus, `220` and `284` are amicable numbers.\n",
    "\n",
    "Let `a(m)` be the sum of all amicable numbers less than `m` for `m ≥ 1`. Implement the functions `d(n)` and `a(m)` in Python by completing the bodies below. Run the cells with tests to check your implementation. You can add cells with your own tests. The grade is being automatically determined based on the provided tests and further hidden tests. The efficiency is not being judged, however, if your implementation takes longer than 30 seconds, the tests will time out and fail."
   ]
  },
  {
   "cell_type": "code",
   "execution_count": 16,
   "metadata": {
    "deletable": false,
    "nbgrader": {
     "cell_type": "code",
     "checksum": "27dd4a5ef46830f4b36feae741bf6452",
     "grade": false,
     "grade_id": "cell-978aa12127859e46",
     "locked": false,
     "schema_version": 3,
     "solution": true
    }
   },
   "outputs": [],
   "source": [
    "def d(n):  \n",
    "    \"\"\"sum of divisors of n for n ≥ 1\"\"\"\n",
    "    total = 0\n",
    "    for i in range(1,n):\n",
    "        if n%i == 0:\n",
    "            total += i\n",
    "\n",
    "    return total"
   ]
  },
  {
   "cell_type": "code",
   "execution_count": 17,
   "metadata": {
    "deletable": false,
    "editable": false,
    "nbgrader": {
     "cell_type": "code",
     "checksum": "00436b5071286d84339689bf887998a3",
     "grade": true,
     "grade_id": "cell-71d527cfeb988681",
     "locked": true,
     "points": 2,
     "schema_version": 3,
     "solution": false
    }
   },
   "outputs": [],
   "source": [
    "assert d(1) == 0\n",
    "assert d(220) == 284\n",
    "assert d(284) == 220\n",
    "assert d(999) == 521\n",
    "assert d(1184) == 1210\n",
    "assert d(1210) == 1184"
   ]
  },
  {
   "cell_type": "code",
   "execution_count": 18,
   "metadata": {
    "deletable": false,
    "editable": true,
    "nbgrader": {
     "cell_type": "code",
     "checksum": "aa815ef2c68ff4863ee99f824eb7ed00",
     "grade": false,
     "grade_id": "cell-fe644888e4ee1e0f",
     "locked": false,
     "schema_version": 3,
     "solution": true
    },
    "slideshow": {
     "slide_type": ""
    },
    "tags": []
   },
   "outputs": [],
   "source": [
    "def a(m): \n",
    "    \"\"\"sum of amicable numbers less than m for m ≥ 1\"\"\"\n",
    "    amicable_numbers = set()\n",
    "    for i in range(1,m):\n",
    "        num = d(i)\n",
    "        if d(num) == i and num != i:\n",
    "            amicable_numbers.add(num)\n",
    "    return sum(amicable_numbers)\n"
   ]
  },
  {
   "cell_type": "code",
   "execution_count": 19,
   "metadata": {
    "deletable": false,
    "editable": false,
    "nbgrader": {
     "cell_type": "code",
     "checksum": "d71e9e4bc2a3d9bafaa59ca1ebd4338f",
     "grade": true,
     "grade_id": "cell-baf0fee5afc65b8b",
     "locked": true,
     "points": 2,
     "schema_version": 3,
     "solution": false
    }
   },
   "outputs": [],
   "source": [
    "assert a(1000) == 504\n",
    "assert a(5000) == 8442"
   ]
  },
  {
   "cell_type": "markdown",
   "metadata": {
    "deletable": false,
    "editable": false,
    "nbgrader": {
     "cell_type": "markdown",
     "checksum": "286774df3e912117dee8daa6a4be60bc",
     "grade": false,
     "grade_id": "cell-e9f20cdf87feb847",
     "locked": true,
     "schema_version": 3,
     "solution": false
    }
   },
   "source": [
    "_Hint:_ Each of the two Python functions can be implemented in a single line using [generator expressions](https://docs.python.org/3/glossary.html#term-generator-expression)."
   ]
  },
  {
   "cell_type": "code",
   "execution_count": 20,
   "metadata": {},
   "outputs": [],
   "source": [
    "assert a(0) == 0"
   ]
  }
 ],
 "metadata": {
  "kernelspec": {
   "display_name": "Python 3 (ipykernel)",
   "language": "python",
   "name": "python3"
  },
  "language_info": {
   "codemirror_mode": {
    "name": "ipython",
    "version": 3
   },
   "file_extension": ".py",
   "mimetype": "text/x-python",
   "name": "python",
   "nbconvert_exporter": "python",
   "pygments_lexer": "ipython3",
   "version": "3.11.2"
  }
 },
 "nbformat": 4,
 "nbformat_minor": 4
}
