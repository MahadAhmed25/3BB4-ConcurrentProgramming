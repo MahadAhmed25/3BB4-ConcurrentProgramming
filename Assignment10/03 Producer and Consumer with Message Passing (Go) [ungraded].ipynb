{
 "cells": [
  {
   "cell_type": "markdown",
   "metadata": {},
   "source": [
    "### Producer and Consumer with Message Passing (Go)"
   ]
  },
  {
   "cell_type": "markdown",
   "metadata": {},
   "source": [
    "Implement the consumer-producer problem in Go: One goroutine, `producer` should send the first `N` numbers over a channel, `c`, and then close the channel. Another goroutine should receive all numbers from `c`, sum them, and when the channel is closed, send the sum to the main program over channel `r`. The main program waits to receive the sum from `r`."
   ]
  },
  {
   "cell_type": "code",
   "execution_count": 5,
   "metadata": {
    "solution": "shown",
    "solution_first": true
   },
   "outputs": [
    {
     "name": "stdout",
     "output_type": "stream",
     "text": [
      "Overwriting producerconsumer.go\n"
     ]
    }
   ],
   "source": [
    "%%writefile producerconsumer.go\n",
    "package main\n",
    "\n",
    "var c, r chan int\n",
    "\n",
    "func producer(n int){\n",
    "    for i:=0; i<n; i++{\n",
    "        c <- i\n",
    "    }\n",
    "    close(c)\n",
    "}\n",
    "\n",
    "func consumer() {\n",
    "    s:=0\n",
    "    for e:= range c{\n",
    "        s += e\n",
    "    }\n",
    "    r <- s\n",
    "}\n",
    "\n",
    "func main() {\n",
    "    const N = 20\n",
    "    c, r = make(chan int), make(chan int)\n",
    "    go producer(N); go consumer()\n",
    "    println(\"computed:\", <- r)\n",
    "    println(\"expected:\", N * (N - 1) / 2)\n",
    "}"
   ]
  },
  {
   "cell_type": "code",
   "execution_count": 6,
   "metadata": {},
   "outputs": [
    {
     "name": "stdout",
     "output_type": "stream",
     "text": [
      "computed: 190\n",
      "expected: 190\n"
     ]
    }
   ],
   "source": [
    "!go run producerconsumer.go"
   ]
  },
  {
   "cell_type": "code",
   "execution_count": null,
   "metadata": {},
   "outputs": [],
   "source": []
  }
 ],
 "metadata": {
  "kernelspec": {
   "display_name": "Python 3 (ipykernel)",
   "language": "python",
   "name": "python3"
  },
  "language_info": {
   "codemirror_mode": {
    "name": "ipython",
    "version": 3
   },
   "file_extension": ".py",
   "mimetype": "text/x-python",
   "name": "python",
   "nbconvert_exporter": "python",
   "pygments_lexer": "ipython3",
   "version": "3.11.5"
  }
 },
 "nbformat": 4,
 "nbformat_minor": 4
}
