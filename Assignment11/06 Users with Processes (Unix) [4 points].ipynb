{
 "cells": [
  {
   "cell_type": "markdown",
   "metadata": {},
   "source": [
    "### Users with Processes (Unix)"
   ]
  },
  {
   "cell_type": "markdown",
   "metadata": {},
   "source": [
    "Write a shell command that outputs all users who have processes running. The command must be composed of `cat`, `sort`, `wc`, `uniq`, `grep`, `ps`, `ls`, `tee`, `tail`, `head`, `cut` with `|` and must start with `ps aux`. The output should contain users in alphabetical order, with one user per line and without duplicates, for example:\n",
    "\n",
    "```\n",
    "caoh8\n",
    "changb9\n",
    "choueibm\n",
    "chrony\n",
    "dbus\n",
    "eltobgys\n",
    "fus13\n",
    "guinnesj\n",
    "huangx65\n",
    "influxdb\n",
    "kavisina\n",
    "```\n",
    "\n",
    "Your command has to run on the JupyterHub server with `!` in the code cell below [2 points]:"
   ]
  },
  {
   "cell_type": "code",
   "execution_count": 1,
   "metadata": {
    "deletable": false,
    "nbgrader": {
     "cell_type": "code",
     "checksum": "d0b1e65ed190b6f1fdd8045ea8f91040",
     "grade": true,
     "grade_id": "cell-80c63681203bc822",
     "locked": false,
     "points": 2,
     "schema_version": 3,
     "solution": true,
     "task": false
    }
   },
   "outputs": [
    {
     "name": "stdout",
     "output_type": "stream",
     "text": [
      "ahmadq2\n",
      "ahmem73\n",
      "alasfaro\n",
      "alhaya1\n",
      "aljammal\n",
      "alqashqa\n",
      "amantec\n",
      "araichej\n",
      "azzoparm\n",
      "bassih3\n",
      "bradbm1\n",
      "breaum1\n",
      "burnazoe\n",
      "capesw\n",
      "cardosog\n",
      "chana110\n",
      "chaudn12\n",
      "chena125\n",
      "chenr126\n",
      "chens356\n",
      "chhabs8\n",
      "chiuh6\n",
      "chrony\n",
      "chuiu\n",
      "dalvis3\n",
      "damjanoa\n",
      "dbus\n",
      "deforesp\n",
      "dengy49\n",
      "elarefo\n",
      "faragk1\n",
      "franzedd\n",
      "froggata\n",
      "garadz1\n",
      "garned3\n",
      "gaudem5\n",
      "goodyera\n",
      "gregon2\n",
      "grewaa42\n",
      "grewap17\n",
      "hagermak\n",
      "hamidizf\n",
      "hannoufa\n",
      "hatoumg\n",
      "hoopej5\n",
      "ibrahh14\n",
      "issah2\n",
      "issah3\n",
      "jingz2\n",
      "jodeirim\n",
      "junge11\n",
      "kalsip3\n",
      "kamels3\n",
      "kansan1\n",
      "kartha4\n",
      "kauri8\n",
      "khakiana\n",
      "khanm417\n",
      "khans336\n",
      "kharodab\n",
      "khzyms\n",
      "kishj1\n",
      "klisurip\n",
      "kotiana\n",
      "kugana7\n",
      "kumars38\n",
      "li1200\n",
      "li130\n",
      "libstor+\n",
      "linb44\n",
      "liu1028\n",
      "liu1150\n",
      "loux8\n",
      "mahbom2\n",
      "mahdir3\n",
      "malika87\n",
      "maramotc\n",
      "mcelhere\n",
      "mclara2\n",
      "minhaa15\n",
      "morrig14\n",
      "mosesn2\n",
      "moutafia\n",
      "muhammeh\n",
      "nyarka1\n",
      "paramatm\n",
      "parks110\n",
      "pathmans\n",
      "pattee14\n",
      "perryn1\n",
      "petriccc\n",
      "phama10\n",
      "podderg\n",
      "pokanait\n",
      "polkitd\n",
      "prabhp3\n",
      "quraishi\n",
      "ravicv3\n",
      "rawash1\n",
      "readj9\n",
      "roopraim\n",
      "root\n",
      "sahia8\n",
      "sallardb\n",
      "schmelzr\n",
      "se3bb4_+\n",
      "seharf\n",
      "shahiy3\n",
      "shahk50\n",
      "shanshar\n",
      "sharmj28\n",
      "sharmm88\n",
      "shehadao\n",
      "sok13\n",
      "suhailr\n",
      "takhtart\n",
      "tanj60\n",
      "timmem1\n",
      "unnithaa\n",
      "USER\n",
      "vadeikal\n",
      "virka9\n",
      "vugertl\n",
      "wu399\n",
      "xiaot13\n",
      "xief17\n",
      "xum97\n",
      "yaoh24\n",
      "yoona1\n",
      "yuk42\n",
      "zaidis40\n",
      "zhaoc59\n",
      "zhout34\n",
      "ziam8\n",
      "zias11\n"
     ]
    }
   ],
   "source": [
    "!ps aux | cut -d ' ' -f 1 | sort | uniq"
   ]
  },
  {
   "cell_type": "markdown",
   "metadata": {},
   "source": [
    "We want to find out the CPU hogs. Starting with the output of `ps aux`, write a \"pipeline\" that outputs the top 10 processes with the highest CPU usage. Note that values inputted into `sort` are strings. You will need to sort on the numeric value of these strings. Your command has to run on the JupyerHub server with `!` in the code cell below [2 points]:"
   ]
  },
  {
   "cell_type": "code",
   "execution_count": 11,
   "metadata": {
    "deletable": false,
    "nbgrader": {
     "cell_type": "code",
     "checksum": "5b33196c17edbbe20dfd6a925966a9ec",
     "grade": true,
     "grade_id": "cell-d3f72d6e1b6e19af",
     "locked": false,
     "points": 2,
     "schema_version": 3,
     "solution": true,
     "task": false
    }
   },
   "outputs": [
    {
     "name": "stdout",
     "output_type": "stream",
     "text": [
      "burnazoe 1718959 99.7  0.0 1226100 2848 pts/16   Sl+  18:13   6:02 /tmp/go-build1751228438/b001/exe/priorityqueue\n",
      "burnazoe 1707725 99.5  0.0 1225920 3292 pts/17   Rl+  17:59  19:26 /tmp/go-build3119930253/b001/exe/allocator\n",
      "wu399    1727266 10.4  0.0 757220 71216 ?        Ssl  18:19   0:00 /usr/bin/python3.11 -m ipykernel_launcher -f /home/wu399/.local/share/jupyter/runtime/kernel-b605e8a3-db92-4fee-8090-6e7c6bc0fee0.json\n",
      "wu399    1727065  3.7  0.0 757220 71532 ?        Ssl  18:19   0:00 /usr/bin/python3.11 -m ipykernel_launcher -f /home/wu399/.local/share/jupyter/runtime/kernel-cec07eee-f75f-486c-ab45-d3a892a2c76d.json\n",
      "hannoufa 1478105  2.5  0.0 650228 205408 ?       Ssl  14:31   5:45 /usr/bin/python3.11 /usr/local/bin/jupyterhub-singleuser\n",
      "root     1310545  2.2  0.0 821000 272416 ?       Ssl  06:53  15:23 node /usr/local/bin/configurable-http-proxy --ip 130.113.68.236 --port 443 --api-ip 127.0.0.1 --api-port 8001 --error-target http://127.0.0.1:8081/hub/error --log-level info --ssl-key cas.mcmaster.ca.key --ssl-cert cas.mcmaster.ca.crt\n",
      "jodeirim 1310659  1.6  0.0 2297516 287044 ?      Ssl  06:56  11:03 /usr/bin/python3.11 /usr/local/bin/jupyterhub-singleuser\n",
      "chiuh6   1726679  1.4  0.0 757452 72348 ?        Ssl  18:18   0:00 /usr/bin/python3.11 -m ipykernel_launcher -f /home/chiuh6/.local/share/jupyter/runtime/kernel-6bbc3876-1c42-431b-ac7d-cba2d66cc7c6.json\n",
      "lenoverd 1720295  1.2  0.0 645504 201812 ?       Ssl  18:14   0:03 /usr/bin/python3.11 /usr/local/bin/jupyterhub-singleuser\n",
      "chiuh6   1725772  0.8  0.0 757288 72184 ?        Ssl  18:18   0:00 /usr/bin/python3.11 -m ipykernel_launcher -f /home/chiuh6/.local/share/jupyter/runtime/kernel-acd0a6b0-d12e-40d1-925b-49cb68f29064.json\n",
      "uniq: write error: Broken pipe\n"
     ]
    }
   ],
   "source": [
    "!ps aux | sort -k 3nr | uniq | head"
   ]
  },
  {
   "cell_type": "code",
   "execution_count": null,
   "metadata": {},
   "outputs": [],
   "source": []
  }
 ],
 "metadata": {
  "kernelspec": {
   "display_name": "Python 3 (ipykernel)",
   "language": "python",
   "name": "python3"
  },
  "language_info": {
   "codemirror_mode": {
    "name": "ipython",
    "version": 3
   },
   "file_extension": ".py",
   "mimetype": "text/x-python",
   "name": "python",
   "nbconvert_exporter": "python",
   "pygments_lexer": "ipython3",
   "version": "3.11.5"
  }
 },
 "nbformat": 4,
 "nbformat_minor": 4
}
