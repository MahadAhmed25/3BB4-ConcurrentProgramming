{
 "cells": [
  {
   "cell_type": "markdown",
   "metadata": {
    "editable": true,
    "heading_collapsed": true,
    "slideshow": {
     "slide_type": "slide"
    },
    "tags": []
   },
   "source": [
    "### Parallel Average with p Workers (Java) [6 points]"
   ]
  },
  {
   "cell_type": "markdown",
   "metadata": {
    "hidden": true
   },
   "source": [
    "The task is to compute the average of `n` numbers `a(0)`, ..., `a(n – 1)`. For example, for `n = 5`, the average can be computed in different ways:\n",
    "\n",
    "      (a(0) + a(1) + a(2) + a(3) + a(4)) / 5\n",
    "    = a(0) / 5 + a(1) / 5 + a(2) / 5 + a(3) / 5 + a(4) / 5\n",
    "    = (a(0) + a(1) + a(2)) / 5 + (a(3) + a(4)) / 5\n",
    "\n",
    "The last variant suggests a computation in parallel: one thread computes `(a(0) + a(1) + a(2)) / 5`, and a second thread computes `(a(3) + a(4)) / 5`; the main program collects the results of the two threads and adds them.\n",
    "\n",
    "The program below computes the average of `n` random integers sequentially; you are asked to complete the parallel computation with `p` worker threads. The average is computed in both ways, and the times the sequential and parallel computation take are printed. The program reads `n` and `p` from the command line to make testing easier. [4 points]"
   ]
  },
  {
   "cell_type": "code",
   "execution_count": 3,
   "metadata": {
    "deletable": false,
    "nbgrader": {
     "cell_type": "code",
     "checksum": "bdfa44fd4632685cef5dee1864b89f92",
     "grade": true,
     "grade_id": "cell-77e61c7a927e113f",
     "locked": false,
     "points": 4,
     "schema_version": 3,
     "solution": true,
     "task": false
    }
   },
   "outputs": [
    {
     "name": "stdout",
     "output_type": "stream",
     "text": [
      "Overwriting Average.java\n"
     ]
    }
   ],
   "source": [
    "%%writefile Average.java\n",
    "import java.util.Random;\n",
    "\n",
    "class Worker extends Thread {\n",
    "    int a[];\n",
    "    int l;\n",
    "    int u;\n",
    "    double average;\n",
    "\n",
    "    public Worker(int a[], int l, int u){\n",
    "        this.a = a; this.l = l; this.u = u;\n",
    "    }\n",
    "\n",
    "    public void run(){\n",
    "        double s = 0;\n",
    "        for (int i = l; i < u; i++) s += a[i];\n",
    "        average = s / a.length;\n",
    "    }\n",
    "}\n",
    "\n",
    "public class Average {\n",
    "    static double sequentialaverage(int a[]) {\n",
    "        // a.length > 0\n",
    "        double s = 0;\n",
    "        for (int i = 0; i < a.length; i++) s += a[i];\n",
    "        return s / a.length;\n",
    "    }\n",
    "    static double parallelaverage(int a[], int p) {\n",
    "        // a.length > 0 && p > 0\n",
    "        Worker[] workers = new Worker[p];\n",
    "        int perThread = a.length / p;\n",
    "        \n",
    "        for(int i = 0; i < p; i++) {\n",
    "            int lower = i * perThread;\n",
    "            int upper = i < p-1 ? (i+1)*perThread : a.length;\n",
    "            workers[i] = new Worker(a, lower, upper);\n",
    "        } for(Worker w: workers) w.start();\n",
    "        try{\n",
    "            for(Worker w: workers) w.join();\n",
    "        } catch (Exception e){}\n",
    "\n",
    "        double avg = 0;\n",
    "        for(Worker w: workers) avg += w.average;\n",
    "        return avg;\n",
    "    }\n",
    "    public static void main(String args[]) {\n",
    "        int n = Integer.parseInt(args[0]); // compute the average of n random numbers ...\n",
    "        int p = Integer.parseInt(args[1]); // ... using p threads\n",
    "        int[] a = new int[n];\n",
    "        Random rand = new Random();\n",
    "        for (int i = 0; i < n; i++) a[i] = rand.nextInt(10000);\n",
    "        \n",
    "        long start = System.currentTimeMillis();\n",
    "        double avg = sequentialaverage(a);\n",
    "        long end = System.currentTimeMillis();\n",
    "        System.out.println(\"Sequential: \" + avg + \" Time: \" + (end - start) + \" ms\");\n",
    "\n",
    "        start = System.currentTimeMillis();\n",
    "        avg = parallelaverage(a, p);\n",
    "        end = System.currentTimeMillis();\n",
    "        System.out.println(\"Parallel: \" + avg + \" Time: \" + (end - start) + \" ms\");\n",
    "    }\n",
    "}"
   ]
  },
  {
   "cell_type": "markdown",
   "metadata": {
    "hidden": true,
    "slideshow": {
     "slide_type": "slide"
    }
   },
   "source": [
    "Test your implementation with the cells below; you may use more cells."
   ]
  },
  {
   "cell_type": "code",
   "execution_count": 4,
   "metadata": {
    "hidden": true
   },
   "outputs": [],
   "source": [
    "!javac Average.java"
   ]
  },
  {
   "cell_type": "code",
   "execution_count": 16,
   "metadata": {
    "hidden": true
   },
   "outputs": [
    {
     "name": "stdout",
     "output_type": "stream",
     "text": [
      "Sequential: 5065.888 Time: 0 ms\n",
      "Parallel: 5065.888000000001 Time: 2 ms\n"
     ]
    }
   ],
   "source": [
    "!java Average 100000000 1"
   ]
  },
  {
   "cell_type": "code",
   "execution_count": 6,
   "metadata": {
    "hidden": true
   },
   "outputs": [
    {
     "name": "stdout",
     "output_type": "stream",
     "text": [
      "Sequential: 4999.61731118 Time: 114 ms\n",
      "Parallel: 4999.61731118 Time: 60 ms\n"
     ]
    }
   ],
   "source": [
    "!java Average 100000000 2"
   ]
  },
  {
   "cell_type": "code",
   "execution_count": 7,
   "metadata": {
    "hidden": true
   },
   "outputs": [
    {
     "name": "stdout",
     "output_type": "stream",
     "text": [
      "Sequential: 4999.44633141 Time: 123 ms\n",
      "Parallel: 4999.44633141 Time: 46 ms\n"
     ]
    }
   ],
   "source": [
    "!java Average 100000000 3"
   ]
  },
  {
   "cell_type": "code",
   "execution_count": 8,
   "metadata": {
    "hidden": true
   },
   "outputs": [
    {
     "name": "stdout",
     "output_type": "stream",
     "text": [
      "Sequential: 4999.39311721 Time: 161 ms\n",
      "Parallel: 4999.39311721 Time: 43 ms\n"
     ]
    }
   ],
   "source": [
    "!java Average 100000000 4"
   ]
  },
  {
   "cell_type": "code",
   "execution_count": 9,
   "metadata": {
    "hidden": true
   },
   "outputs": [
    {
     "name": "stdout",
     "output_type": "stream",
     "text": [
      "Sequential: 4999.52938101 Time: 115 ms\n",
      "Parallel: 4999.52938101 Time: 46 ms\n"
     ]
    }
   ],
   "source": [
    "!java Average 100000000 5"
   ]
  },
  {
   "cell_type": "code",
   "execution_count": 10,
   "metadata": {
    "hidden": true
   },
   "outputs": [
    {
     "name": "stdout",
     "output_type": "stream",
     "text": [
      "Sequential: 4999.15803218 Time: 125 ms\n",
      "Parallel: 4999.15803218 Time: 39 ms\n"
     ]
    }
   ],
   "source": [
    "!java Average 100000000 6"
   ]
  },
  {
   "cell_type": "code",
   "execution_count": 11,
   "metadata": {
    "hidden": true
   },
   "outputs": [
    {
     "name": "stdout",
     "output_type": "stream",
     "text": [
      "Sequential: 4999.67398003 Time: 123 ms\n",
      "Parallel: 4999.67398003 Time: 36 ms\n"
     ]
    }
   ],
   "source": [
    "!java Average 100000000 7"
   ]
  },
  {
   "cell_type": "code",
   "execution_count": 12,
   "metadata": {
    "hidden": true
   },
   "outputs": [
    {
     "name": "stdout",
     "output_type": "stream",
     "text": [
      "Sequential: 4999.77228461 Time: 115 ms\n",
      "Parallel: 4999.77228461 Time: 42 ms\n"
     ]
    }
   ],
   "source": [
    "!java Average 100000000 8"
   ]
  },
  {
   "cell_type": "code",
   "execution_count": 13,
   "metadata": {
    "hidden": true
   },
   "outputs": [
    {
     "name": "stdout",
     "output_type": "stream",
     "text": [
      "Sequential: 4999.62376447 Time: 150 ms\n",
      "Parallel: 4999.6237644699995 Time: 44 ms\n"
     ]
    }
   ],
   "source": [
    "!java Average 100000000 10"
   ]
  },
  {
   "cell_type": "code",
   "execution_count": 14,
   "metadata": {
    "hidden": true
   },
   "outputs": [
    {
     "name": "stdout",
     "output_type": "stream",
     "text": [
      "Sequential: 4998.69333577 Time: 116 ms\n",
      "Parallel: 4998.69333577 Time: 57 ms\n"
     ]
    }
   ],
   "source": [
    "!java Average 100000000 14"
   ]
  },
  {
   "cell_type": "code",
   "execution_count": 15,
   "metadata": {
    "hidden": true
   },
   "outputs": [
    {
     "name": "stdout",
     "output_type": "stream",
     "text": [
      "Sequential: 4999.01797021 Time: 132 ms\n",
      "Parallel: 4999.017970210001 Time: 71 ms\n"
     ]
    }
   ],
   "source": [
    "!java Average 100000000 20"
   ]
  },
  {
   "cell_type": "markdown",
   "metadata": {
    "hidden": true
   },
   "source": [
    "Run your implementation with different values of `n` and `p`; summarize and explain your observations. For each pair of values, run multiple times and take the smallest execution time, as those executions had less interference. Is the result of the sequential and parallel computation always the same? [2 points]"
   ]
  },
  {
   "cell_type": "markdown",
   "metadata": {
    "deletable": false,
    "editable": true,
    "nbgrader": {
     "cell_type": "markdown",
     "checksum": "f55010aeb4a2268e096d467c20d0535a",
     "grade": true,
     "grade_id": "cell-515734ba1f06374b",
     "locked": false,
     "points": 2,
     "schema_version": 3,
     "solution": true,
     "task": false
    },
    "slideshow": {
     "slide_type": "slide"
    },
    "tags": []
   },
   "source": [
    "from my tests I've observed that the parallel computation is much faster than the sequential computation with larger list lengths and becomes even faster with more threads. However for smaller list lengths and more threads the sequential becomes faster. "
   ]
  }
 ],
 "metadata": {
  "kernelspec": {
   "display_name": "Python 3 (ipykernel)",
   "language": "python",
   "name": "python3"
  },
  "language_info": {
   "codemirror_mode": {
    "name": "ipython",
    "version": 3
   },
   "file_extension": ".py",
   "mimetype": "text/x-python",
   "name": "python",
   "nbconvert_exporter": "python",
   "pygments_lexer": "ipython3",
   "version": "3.11.2"
  },
  "toc": {
   "base_numbering": 1
  }
 },
 "nbformat": 4,
 "nbformat_minor": 4
}
