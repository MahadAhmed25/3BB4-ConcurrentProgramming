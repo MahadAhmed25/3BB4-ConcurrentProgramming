{
 "cells": [
  {
   "cell_type": "markdown",
   "metadata": {
    "slideshow": {
     "slide_type": "slide"
    }
   },
   "source": [
    "### Frequency Count"
   ]
  },
  {
   "cell_type": "markdown",
   "metadata": {},
   "source": [
    "Consider arrays `a: 0 .. M – 1 → integer` and `f: 0 .. N – 1 → integer` for `M ≥ 0` and `N ≥ 0`. Write a predicate, `P`, that states that all elements of `a` are between `0` and `N - 1`. [2 points]"
   ]
  },
  {
   "cell_type": "markdown",
   "metadata": {
    "deletable": false,
    "nbgrader": {
     "cell_type": "markdown",
     "checksum": "cd896a04d69ad6b156bc91855f84ded0",
     "grade": true,
     "grade_id": "cell-6e685e27d8a4b907",
     "locked": false,
     "points": 1,
     "schema_version": 3,
     "solution": true,
     "task": false
    }
   },
   "source": [
    "P = (∀ i ∈ 0 .. M - 1 •  0 ≤ a(i) < N)\n"
   ]
  },
  {
   "cell_type": "markdown",
   "metadata": {},
   "source": [
    "Write a predicate, `Q`, that states that `f(i)` is the number of occurrences of `i` in `a`. *Hint:* you may use `#s` for the number of elements of set `s` and `{x ∈ a .. b | R}` for the set of all `x ∈ a .. b` satisfying predicate `R`. [2 points]"
   ]
  },
  {
   "cell_type": "markdown",
   "metadata": {
    "deletable": false,
    "nbgrader": {
     "cell_type": "markdown",
     "checksum": "9228112e42534ef3a7f2381cd53923ab",
     "grade": true,
     "grade_id": "cell-caa6d805dd1f3681",
     "locked": false,
     "points": 1,
     "schema_version": 3,
     "solution": true,
     "task": false
    }
   },
   "source": [
    "Q = (∀ i ∈ 0 .. N - 1 • f(i) = #{x ∈ 0..M-1 |a(x) = i} )"
   ]
  },
  {
   "cell_type": "markdown",
   "metadata": {},
   "source": [
    "Write a procedure that takes `a` as parameter, returns `f`, and under precondition `P` establishes postcondition `Q` without modifying `a`. You may use auxiliary variables as needed. All variables must be initialized, you cannot assume a particular initial value. Your algorithm has to have a running time proportional to `M + N`. State all important intermediate annotations, in particular the loop invariants for all loops. You do not need to prove the correctness, but the annotations have to be strong enough that a proof is possible. [4 points] Copy following template into the next cell:\n",
    "```\n",
    "procedure histogram(a: 0 .. M – 1 → integer) → (f: 0 .. N – 1 → integer)\n",
    "    {P}\n",
    "    Your algorithm here\n",
    "    {Q}"
   ]
  },
  {
   "cell_type": "markdown",
   "metadata": {
    "deletable": false,
    "nbgrader": {
     "cell_type": "markdown",
     "checksum": "5f622ba0431821614b2d32862ba7fa99",
     "grade": true,
     "grade_id": "cell-8941431574a8eccd",
     "locked": false,
     "points": 4,
     "schema_version": 3,
     "solution": true,
     "task": false
    }
   },
   "source": [
    "```\n",
    "procedure histogram(a: 0 .. M – 1 → integer) → (f: 0 .. N – 1 → integer)\n",
    "    {P}\n",
    "    k := 0\n",
    "    {∀ i ∈ 0 .. k-1 • f(i) = 0}\n",
    "    while k < N do\n",
    "        f(k) = 0\n",
    "        k = k + 1\n",
    "    end while\n",
    "\n",
    "    i := 0\n",
    "    {∀ j ∈ 0 .. N-1 • f(j) = #{x ∈ 0..i-1 |a(x) = j} }\n",
    "    while i < M - 1 do\n",
    "        if 0 ≤ a(i) < N:\n",
    "            f(a(i)) := f(a(i)) + 1\n",
    "        end if\n",
    "        i = i + 1\n",
    "    end while\n",
    "    return\n",
    "     \n",
    "\n",
    "{Q}{(∀ i ∈ 0 .. N - 1 • f(i) = #{x ∈ 0..M-1 |a(x) = i} }\n"
   ]
  }
 ],
 "metadata": {
  "kernelspec": {
   "display_name": "Python 3 (ipykernel)",
   "language": "python",
   "name": "python3"
  },
  "language_info": {
   "codemirror_mode": {
    "name": "ipython",
    "version": 3
   },
   "file_extension": ".py",
   "mimetype": "text/x-python",
   "name": "python",
   "nbconvert_exporter": "python",
   "pygments_lexer": "ipython3",
   "version": "3.11.2"
  }
 },
 "nbformat": 4,
 "nbformat_minor": 4
}
