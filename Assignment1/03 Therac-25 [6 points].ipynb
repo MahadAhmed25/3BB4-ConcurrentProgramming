{
 "cells": [
  {
   "cell_type": "markdown",
   "metadata": {
    "deletable": false,
    "editable": false,
    "nbgrader": {
     "cell_type": "markdown",
     "checksum": "956b6698ec3365a70713fc6b529ce15d",
     "grade": false,
     "grade_id": "cell-4b4a11e3e017fe5f",
     "locked": true,
     "schema_version": 3,
     "solution": false
    }
   },
   "source": [
    "### Therac-25 [6 points]\n",
    "\n",
    "The account of the Therac-25 accidents by [Leveson and Turner](http://ieeexplore.ieee.org/document/274940/) tries to be neutral and not to blame any party. Put yourself into the role of a judge: from your understanding of professional development standards and ethics, point out what appear to be faults of involved parties. Point out at least three faults! Write your answer in the cell below using markdown. "
   ]
  },
  {
   "cell_type": "markdown",
   "metadata": {
    "deletable": false,
    "nbgrader": {
     "cell_type": "markdown",
     "checksum": "7fc91b22d6e0788cd630a5bc43a0fb93",
     "grade": true,
     "grade_id": "cell-b65cbc793e0764ec",
     "locked": false,
     "points": 6,
     "schema_version": 3,
     "solution": true
    }
   },
   "source": [
    "1. AECL Engineers: the engineers responsible for building this machine should be doing comprehensive testing to make sure everything is behaving as intended. By not being able to address and identify faults in their system lead to many deaths which puts blame on them\n",
    "2. Medical Operators: The people using this machine over relied on this machine and had full confidence that this machine was doing everything correctly. By not reporting incidents that came up with the machine earlier, the Therac-25 was in continuous use which ended up putting more lives in jeopardy. This puts blame on the medical operators who were using the machine as well.\n",
    "3. Government/Regulatory Authorities: This machine was in use for a period of 19-months. There was no strict standards or regulations against the Therac-25 which allowed to be in use for so long. Regulatory authorities should've inspected and made sure the machine was was safe to use before allowing it to be used on the general public.\n",
    "\n",
    "Source: https://en.wikipedia.org/wiki/Therac-25\n",
    "        https://users.csc.calpoly.edu/~jdalbey/SWE/Papers/THERAC25.html#:~:text=Many%20factors%20contributed%20to%20the,an%20overall%2C%20poor%20engineering%20method.\n",
    "        "
   ]
  }
 ],
 "metadata": {
  "kernelspec": {
   "display_name": "Python 3 (ipykernel)",
   "language": "python",
   "name": "python3"
  },
  "language_info": {
   "codemirror_mode": {
    "name": "ipython",
    "version": 3
   },
   "file_extension": ".py",
   "mimetype": "text/x-python",
   "name": "python",
   "nbconvert_exporter": "python",
   "pygments_lexer": "ipython3",
   "version": "3.11.2"
  }
 },
 "nbformat": 4,
 "nbformat_minor": 4
}
