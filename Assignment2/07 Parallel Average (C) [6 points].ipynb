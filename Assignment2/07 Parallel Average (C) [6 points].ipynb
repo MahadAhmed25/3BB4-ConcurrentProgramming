{
 "cells": [
  {
   "cell_type": "markdown",
   "metadata": {
    "editable": true,
    "slideshow": {
     "slide_type": "slide"
    },
    "tags": []
   },
   "source": [
    "### Parallel Average (C) [6 points]"
   ]
  },
  {
   "cell_type": "markdown",
   "metadata": {},
   "source": [
    "[Pthreads](https://hpc-tutorials.llnl.gov/posix/) is a library commonly available for Unix, as well as other operating systems. It is standardized by POSIX. In C, using Pthreads requires:\n",
    "```C\n",
    "# include <pthread.h>\n",
    "```\n",
    "For each thread, the following variables have to be declared and initialized:\n",
    "```C\n",
    "pthread_attr_t tattr;       /* thread attributes */\n",
    "pthread_t tid;              /* thread descriptor */\n",
    "\n",
    "pthread_attr_init(&tattr);  /* default values */\n",
    "pthread_attr_setscope(&tattr, PTHREAD_SCOPE_SYSTEM);\n",
    "```\n",
    "The default values include a default stack size. Threads can compete for scheduling locally (default), i.e. with threads of the same process, globally (system scope), i.e. with all other threads. The fork operation takes a previously set attribute descriptor, the function to be started, and its parameters, and initializes a thread descriptor (first argument):\n",
    "```C\n",
    "pthread_create(&tid, &tattr, start_func, arg);\n",
    "```\n",
    "A thread terminates if the function body completes or by calling:\n",
    "```C\n",
    "pthread_exit(value);\n",
    "```\n",
    "A parent thread can wait for a child to terminate; it needs to specify the descriptor and the location for the return value of the child:\n",
    "```C\n",
    "pthread_join(tid, value_ptr);\n",
    "```"
   ]
  },
  {
   "cell_type": "markdown",
   "metadata": {},
   "source": [
    "---"
   ]
  },
  {
   "cell_type": "markdown",
   "metadata": {},
   "source": [
    "Consider the following program: It uses two _worker threads_ in C to search for an element in an array. The program won't necessarily be faster than a sequential one, but it illustrates the concepts. The two workers do not communicate with each other, but the main program collects the results. Thus this is an example of \"embarrassing parallelism\"; concurrency is used to potentially achieve a speedup."
   ]
  },
  {
   "cell_type": "code",
   "execution_count": 37,
   "metadata": {},
   "outputs": [
    {
     "name": "stdout",
     "output_type": "stream",
     "text": [
      "Overwriting ParallelFind.c\n"
     ]
    }
   ],
   "source": [
    "%%writefile ParallelFind.c\n",
    "#include <pthread.h>\n",
    "#include <stdbool.h>\n",
    "#include <stdio.h>\n",
    "\n",
    "#define SHARED 1\n",
    "#define N 100\n",
    "\n",
    "struct Args {int x; int l; int u; bool found;};\n",
    "int a[N];\n",
    "\n",
    "void *worker(struct Args *arg) {\n",
    "    // 0 <= arg->l <= arg->u <= N\n",
    "    for (int i = arg->l; i < arg->u; i++)\n",
    "        if (a[i] == arg->x) {arg->found = true; return NULL;}\n",
    "    arg->found = false;\n",
    "}\n",
    "\n",
    "int main(int argc, char *argv[]) {\n",
    "    pthread_t w0, w1;\n",
    "    pthread_attr_t attr;\n",
    "    pthread_attr_init(&attr);\n",
    "    pthread_attr_setscope(&attr, PTHREAD_SCOPE_SYSTEM);\n",
    "    // populate array a with N \"random\" values\n",
    "    for (int i = 0; i < N; i++) a[i] = i;\n",
    "    \n",
    "    struct Args a0 = {42, 0, N / 2};\n",
    "    struct Args a1 = {42, N / 2, N};\n",
    "    pthread_create(&w0, &attr, worker, &a0);\n",
    "    pthread_create(&w1, &attr, worker, &a1);\n",
    "    pthread_join(w0, NULL);\n",
    "    pthread_join(w1, NULL);\n",
    "    printf(\"%d %d\\n\", a0.found, a1.found);\n",
    "}"
   ]
  },
  {
   "cell_type": "markdown",
   "metadata": {},
   "source": [
    "Creating a thread by `pthread_create(&w0, &attr, worker, &a0)` starts the function `worker` with the parameter `&a0` as a new thread and assigns the id of the thread to `w0`.\n",
    "\n",
    "Run the next cells to test whether `42` appears in the lower half or upper half:"
   ]
  },
  {
   "cell_type": "code",
   "execution_count": 38,
   "metadata": {},
   "outputs": [],
   "source": [
    "!gcc ParallelFind.c -lpthread -Wno-incompatible-pointer-types -o ParallelFind"
   ]
  },
  {
   "cell_type": "code",
   "execution_count": 39,
   "metadata": {},
   "outputs": [
    {
     "name": "stdout",
     "output_type": "stream",
     "text": [
      "1 0\n"
     ]
    }
   ],
   "source": [
    "!./ParallelFind"
   ]
  },
  {
   "cell_type": "markdown",
   "metadata": {},
   "source": [
    "---"
   ]
  },
  {
   "cell_type": "markdown",
   "metadata": {},
   "source": [
    "The task is to compute the average of `n` numbers `a(0)`, ..., `a(n – 1)`. For example, for `n = 5`, the average can be computed in different ways:\n",
    "\n",
    "      (a(0) + a(1) + a(2) + a(3) + a(4)) / 5\n",
    "    = a(0) / 5 + a(1) / 5 + a(2) / 5 + a(3) / 5 + a(4) / 5\n",
    "    = (a(0) + a(1) + a(2)) / 5 + (a(3) + a(4)) / 5\n",
    "\n",
    "The last variant suggests a computation in parallel: one thread computes `(a(0) + a(1) + a(2)) / 5`, and a second thread computes `(a(3) + a(4)) / 5`; the main program collects the results of the two threads and adds them.\n",
    "\n",
    "The program below computes the average of `n` random integers sequentially; you are asked to complete the parallel computation with two workers, following `ParallelFind`. The average is computed in both ways, and the times the sequential and parallel computation take are printed. The program reads `n` from the command line to make testing easier. [4 points]"
   ]
  },
  {
   "cell_type": "code",
   "execution_count": 2,
   "metadata": {
    "deletable": false,
    "nbgrader": {
     "cell_type": "code",
     "checksum": "7da2697907f774d90dbe17282879e6e2",
     "grade": true,
     "grade_id": "cell-209274e4747537a7",
     "locked": false,
     "points": 4,
     "schema_version": 3,
     "solution": true,
     "task": false
    }
   },
   "outputs": [
    {
     "name": "stdout",
     "output_type": "stream",
     "text": [
      "Overwriting Average.c\n"
     ]
    }
   ],
   "source": [
    "%%writefile Average.c\n",
    "#include <pthread.h>\n",
    "#include <stdbool.h>\n",
    "#include <stdio.h>\n",
    "#include <stdlib.h>\n",
    "#include <sys/time.h>\n",
    "\n",
    "#define SHARED 1\n",
    "\n",
    "struct Args {int *a; int l; int u; int n; double avg;};\n",
    "\n",
    "void *worker(struct Args *arg) {\n",
    "    // arg.a has arg.n elements && 0 <= arg.l <= arg.u <= arg.n\n",
    "    double s = 0;\n",
    "    for (int i = arg->l; i < arg->u; i++) s += arg->a[i];\n",
    "    arg->avg = s / arg->n;\n",
    "    return NULL;\n",
    "}\n",
    "\n",
    "double sequentialaverage(int a[], int n) {\n",
    "    // a has n elements\n",
    "    double s = 0;\n",
    "    for (int i = 0; i < n; i++) s += a[i];\n",
    "    return s / n;\n",
    "}\n",
    "\n",
    "static double parallelaverage(int a[], int n) {\n",
    "    // a has n elements\n",
    "    pthread_t w0, w1;\n",
    "    pthread_attr_t attr;\n",
    "    pthread_attr_init(&attr);\n",
    "    pthread_attr_setscope(&attr, PTHREAD_SCOPE_SYSTEM);\n",
    "\n",
    "    struct Args a0 = {a, 0, n / 2, n};\n",
    "    struct Args a1 = {a, n / 2, n, n};\n",
    "    pthread_create(&w0, &attr, worker, &a0);\n",
    "    pthread_create(&w1, &attr, worker, &a1);\n",
    "    pthread_join(w0, NULL);\n",
    "    pthread_join(w1, NULL);\n",
    "\n",
    "    return a0.avg + a1.avg;\n",
    "}\n",
    "\n",
    "int main(int argc, char *argv[]) {\n",
    "    \n",
    "    int n = atoi(argv[1]);\n",
    "    int a[n];\n",
    "    srand(time(NULL));\n",
    "    for (int i = 0; i < n; i++) a[i] = rand() % 10000;\n",
    "    \n",
    "    struct timeval start, end;\n",
    "    gettimeofday(&start, 0);\n",
    "    double avg = sequentialaverage(a, n);\n",
    "    gettimeofday(&end, 0);\n",
    "    long seconds = end.tv_sec - start.tv_sec;\n",
    "    long microseconds = end.tv_usec - start.tv_usec;\n",
    "    long elapsed = seconds * 1e6 + microseconds;\n",
    "    printf(\"Sequential: %f Time: %i microseconds\\n\", avg, elapsed);\n",
    "    \n",
    "    gettimeofday(&start, 0);\n",
    "    avg = parallelaverage(a, n);\n",
    "    gettimeofday(&end, 0);\n",
    "    seconds = end.tv_sec - start.tv_sec;\n",
    "    microseconds = end.tv_usec - start.tv_usec;\n",
    "    elapsed = seconds * 1e6 + microseconds;\n",
    "    printf(\"Parallel:   %f Time: %i microseconds\\n\", avg, elapsed);\n",
    "}"
   ]
  },
  {
   "cell_type": "code",
   "execution_count": 3,
   "metadata": {},
   "outputs": [],
   "source": [
    "!gcc Average.c -lpthread -Wno-incompatible-pointer-types -o Average"
   ]
  },
  {
   "cell_type": "markdown",
   "metadata": {},
   "source": [
    "Run your implementation with the following values of `n`; you may also include more values. As each run can produce different timing results, run your implementation with the same value of `n` several times. The above program measures the elapsed time, not the CPU time. If there are other processes (users) on the same CPU, the elapsed time will be larger than the CPU time. If you are using a server, choose a time of the day with few other users. In multiple runs with the same parameter, smaller times approximate the CPU time better."
   ]
  },
  {
   "cell_type": "code",
   "execution_count": 4,
   "metadata": {},
   "outputs": [
    {
     "name": "stdout",
     "output_type": "stream",
     "text": [
      "Sequential: 4893.700000 Time: 0 microseconds\n",
      "Parallel:   4893.700000 Time: 696 microseconds\n"
     ]
    }
   ],
   "source": [
    "!./Average 10"
   ]
  },
  {
   "cell_type": "code",
   "execution_count": 5,
   "metadata": {},
   "outputs": [
    {
     "name": "stdout",
     "output_type": "stream",
     "text": [
      "Sequential: 4556.620000 Time: 1 microseconds\n",
      "Parallel:   4556.620000 Time: 677 microseconds\n"
     ]
    }
   ],
   "source": [
    "!./Average 100"
   ]
  },
  {
   "cell_type": "code",
   "execution_count": 6,
   "metadata": {},
   "outputs": [
    {
     "name": "stdout",
     "output_type": "stream",
     "text": [
      "Sequential: 5037.065000 Time: 3 microseconds\n",
      "Parallel:   5037.065000 Time: 705 microseconds\n"
     ]
    }
   ],
   "source": [
    "!./Average 1000"
   ]
  },
  {
   "cell_type": "code",
   "execution_count": 7,
   "metadata": {},
   "outputs": [
    {
     "name": "stdout",
     "output_type": "stream",
     "text": [
      "Sequential: 4997.253700 Time: 28 microseconds\n",
      "Parallel:   4997.253700 Time: 708 microseconds\n"
     ]
    }
   ],
   "source": [
    "!./Average 10000"
   ]
  },
  {
   "cell_type": "code",
   "execution_count": 13,
   "metadata": {},
   "outputs": [
    {
     "name": "stdout",
     "output_type": "stream",
     "text": [
      "Sequential: 5005.692310 Time: 282 microseconds\n",
      "Parallel:   5005.692310 Time: 787 microseconds\n"
     ]
    }
   ],
   "source": [
    "!./Average 100000"
   ]
  },
  {
   "cell_type": "code",
   "execution_count": 11,
   "metadata": {},
   "outputs": [
    {
     "name": "stdout",
     "output_type": "stream",
     "text": [
      "Sequential: 4997.534476 Time: 2877 microseconds\n",
      "Parallel:   4997.534476 Time: 2138 microseconds\n"
     ]
    }
   ],
   "source": [
    "!./Average 1000000"
   ]
  },
  {
   "cell_type": "code",
   "execution_count": 36,
   "metadata": {},
   "outputs": [
    {
     "name": "stdout",
     "output_type": "stream",
     "text": [
      "Sequential: 4994.938802 Time: 1488 microseconds\n",
      "Parallel:   4994.938802 Time: 1931 microseconds\n"
     ]
    }
   ],
   "source": [
    "!./Average 500000"
   ]
  },
  {
   "cell_type": "markdown",
   "metadata": {
    "editable": true,
    "slideshow": {
     "slide_type": "slide"
    },
    "tags": []
   },
   "source": [
    "How large has `n` to be such that there is a speedup of the parallel version? Add additional cells as you like. State your answer in the cell below! State the processor (model, frequency, number of cores) on which you ran the test; do some research on your own on how to find that out from the command line. [2 point]"
   ]
  },
  {
   "cell_type": "markdown",
   "metadata": {
    "deletable": false,
    "nbgrader": {
     "cell_type": "markdown",
     "checksum": "9bc5061fcf7428a741a2da66c64ec4b3",
     "grade": true,
     "grade_id": "cell-5d9531cbf604b5da",
     "locked": false,
     "points": 2,
     "schema_version": 3,
     "solution": true,
     "task": false
    }
   },
   "source": [
    "from my tests I've noticed that Sequential is faster that parallel computation up until a list size of 500,000, numbers between 400000-500000 its a 50/50 between which computation will be faster, numbers lower than 400000 sequential is always faster. numbers greater than 500000 the parallel computation is always faster. \n",
    "\n",
    "Processor: Intel(R) Xeon(R) CPU E5-2687W v4 @ 3.00GHz, 16 cores"
   ]
  }
 ],
 "metadata": {
  "kernelspec": {
   "display_name": "Python 3 (ipykernel)",
   "language": "python",
   "name": "python3"
  },
  "language_info": {
   "codemirror_mode": {
    "name": "ipython",
    "version": 3
   },
   "file_extension": ".py",
   "mimetype": "text/x-python",
   "name": "python",
   "nbconvert_exporter": "python",
   "pygments_lexer": "ipython3",
   "version": "3.11.2"
  },
  "toc": {
   "base_numbering": 1
  }
 },
 "nbformat": 4,
 "nbformat_minor": 4
}
