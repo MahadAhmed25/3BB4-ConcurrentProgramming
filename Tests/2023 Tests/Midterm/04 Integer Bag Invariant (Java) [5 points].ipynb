{
 "cells": [
  {
   "cell_type": "markdown",
   "id": "75120ee9-3383-4136-aaf1-43021f80163f",
   "metadata": {
    "deletable": false,
    "editable": false,
    "nbgrader": {
     "cell_type": "markdown",
     "checksum": "fa80022978cdfd5fb3313b4c1b1c6f81",
     "grade": false,
     "grade_id": "cell-a4953a74104402dd",
     "locked": true,
     "schema_version": 3,
     "solution": false,
     "task": false
    }
   },
   "source": [
    "### Integer Bag Invariant (Java)"
   ]
  },
  {
   "cell_type": "markdown",
   "id": "0180e632-969a-4a83-9e3f-cabba09b1ae7",
   "metadata": {
    "deletable": false,
    "editable": false,
    "nbgrader": {
     "cell_type": "markdown",
     "checksum": "016ebf2bbdf5e118bb2fc2e21eb56dd3",
     "grade": false,
     "grade_id": "cell-1ffaf77bd4f8be6e",
     "locked": true,
     "schema_version": 3,
     "solution": false,
     "task": false
    }
   },
   "source": [
    "The following class maintains a bag (multiset) of integers. A bag is like a set in that the order of elements does not matter but, unlike a set, allows an element to occur multiple times. The operations on an integer bag `m` are:\n",
    "- `m.add(x)` for adding `x` to bag `m`\n",
    "- `m.remove(x)` for removing `x` from bag `m`, provided `x` occurs in `m`\n",
    "- `m.count(x)` for the number of occurrences of `x` in `m`\n",
    "- `m.size()` for the number of occurrences of all elements in `m`\n",
    "\n",
    "The implementation below restricts the elements in the bag to be between `0` and `n - 1`, if the bag has been created by `IntBag(n)`; the number of occurrences of the elements and the size of the bag are not restricted. Field `b` is an array with the number of occurrences, and field `c` is the size of the array. Add code in `invariantOK()` to check the _strongest_ invariant. Add comments explaining in plain words what that invariant is.\n",
    "\n",
    "_Hint:_ In Java, you can use `for (type variable : array) {...}` to iterate over all elements of an array."
   ]
  },
  {
   "cell_type": "code",
   "execution_count": 14,
   "id": "e6897f55-3656-4fe1-a3e8-c0fb941f3250",
   "metadata": {
    "deletable": false,
    "nbgrader": {
     "cell_type": "code",
     "checksum": "e738e171eff2c1253ae7a723fa69b0bb",
     "grade": true,
     "grade_id": "cell-7151a8cbc266500e",
     "locked": false,
     "points": 5,
     "schema_version": 3,
     "solution": true,
     "task": false
    }
   },
   "outputs": [
    {
     "name": "stdout",
     "output_type": "stream",
     "text": [
      "Overwriting IntBag.java\n"
     ]
    }
   ],
   "source": [
    "%%writefile IntBag.java\n",
    "class IntBag {\n",
    "    private int b[];\n",
    "    private int c;\n",
    "    boolean invariantOK() {\n",
    "        //the number of occurences in the bag should be 0 or greater and \n",
    "        //c should be greater than or equal to 0 and less then n\n",
    "        for(int x: b){\n",
    "           if (x < 0) return false;\n",
    "        }\n",
    "        return 0 <= c && c < b.length;\n",
    "    }\n",
    "    IntBag(int n) {\n",
    "        assert n >= 0;\n",
    "        b = new int[n]; // initialized to all 0\n",
    "        c = 0;\n",
    "        assert invariantOK();\n",
    "    }\n",
    "    void add(int x) {\n",
    "        assert 0 <= x && x < b.length;\n",
    "        b[x] += 1; c += 1;\n",
    "        assert invariantOK();\n",
    "    }\n",
    "    void remove(int x) {\n",
    "        assert 0 <= x && x < b.length;\n",
    "        if (b[x] > 0) {b[x] -= 1; c -=1;}\n",
    "        assert invariantOK();\n",
    "    }\n",
    "    int count(int x) {\n",
    "        assert 0 <= x && x < b.length;\n",
    "        assert b[x] >= 0;\n",
    "        return b[x];\n",
    "    }\n",
    "    int size() {\n",
    "        assert c >= 0;\n",
    "        return c;\n",
    "}\n",
    "}\n",
    "class IntBagTest {\n",
    "    public static void main(String[] args) {\n",
    "        IntBag m = new IntBag(10);\n",
    "        m.add(7); m.add(3); m.remove(9); m.add(3);\n",
    "        assert m.count(3) == 2;\n",
    "        assert m.count(5) == 0;\n",
    "        assert m.count(7) == 1;\n",
    "        assert m.count(9) == 0;\n",
    "        assert m.size() == 3;\n",
    "        // m.add(11); // leads to assertion exception\n",
    "        // m.add(-1); // leads to assertion exception\n",
    "    }\n",
    "}"
   ]
  },
  {
   "cell_type": "code",
   "execution_count": 15,
   "id": "caaf5e00-2881-4768-9b9b-058feed6e7ee",
   "metadata": {
    "deletable": false,
    "editable": false,
    "nbgrader": {
     "cell_type": "code",
     "checksum": "e0d9c088eebabac9acabe28809a4bd5a",
     "grade": false,
     "grade_id": "cell-be2e07a294e7eb0b",
     "locked": true,
     "schema_version": 3,
     "solution": false,
     "task": false
    }
   },
   "outputs": [],
   "source": [
    "!javac IntBag.java"
   ]
  },
  {
   "cell_type": "code",
   "execution_count": 16,
   "id": "c8211ac1-46c7-4ca5-a78d-9fc3d32d11c3",
   "metadata": {
    "deletable": false,
    "editable": false,
    "nbgrader": {
     "cell_type": "code",
     "checksum": "d92800e787b9546a0b4ca035065a9a90",
     "grade": false,
     "grade_id": "cell-b2487ddf41b1faf1",
     "locked": true,
     "schema_version": 3,
     "solution": false,
     "task": false
    }
   },
   "outputs": [],
   "source": [
    "!java -ea IntBagTest"
   ]
  },
  {
   "cell_type": "code",
   "execution_count": null,
   "id": "9478906d-172b-4abc-aa75-c954a5eb0c92",
   "metadata": {},
   "outputs": [],
   "source": []
  }
 ],
 "metadata": {
  "kernelspec": {
   "display_name": "Python 3 (ipykernel)",
   "language": "python",
   "name": "python3"
  },
  "language_info": {
   "codemirror_mode": {
    "name": "ipython",
    "version": 3
   },
   "file_extension": ".py",
   "mimetype": "text/x-python",
   "name": "python",
   "nbconvert_exporter": "python",
   "pygments_lexer": "ipython3",
   "version": "3.11.2"
  }
 },
 "nbformat": 4,
 "nbformat_minor": 5
}
