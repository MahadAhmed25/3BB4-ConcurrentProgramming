{
 "cells": [
  {
   "cell_type": "markdown",
   "metadata": {},
   "source": [
    "### Frequency Counter with Monitors (Java) [6 points]"
   ]
  },
  {
   "cell_type": "markdown",
   "metadata": {},
   "source": [
    "Implement a class `FrequencyCounter` for counting the occurrences of events numbered from `0` to `max - 1`. The class has to be thread-safe, meaning that if multiple threads call `count` and `frequency` simultaneously, the effect is that of executing the calls sequentially in arbitrary order. Implement the class as a monitor so that only one thread can enter `count`, but multiple threads can call `frequency`. State the class invariant and preconditions of all methods as comments! Do not check those with assertions."
   ]
  },
  {
   "cell_type": "code",
   "execution_count": 15,
   "metadata": {
    "deletable": false,
    "nbgrader": {
     "cell_type": "code",
     "checksum": "409c0c1fe1ced888384454c256549df3",
     "grade": true,
     "grade_id": "cell-9ecdea95780c834b",
     "locked": false,
     "points": 2,
     "schema_version": 3,
     "solution": true,
     "task": false
    }
   },
   "outputs": [
    {
     "name": "stdout",
     "output_type": "stream",
     "text": [
      "Overwriting frequencycounter.java\n"
     ]
    }
   ],
   "source": [
    "%%writefile frequencycounter.java\n",
    "import java.util.Random;\n",
    "class FrequencyCounter {\n",
    "    int[] frequencies;\n",
    "\n",
    "    //Invariant: ∀ i ε 0 .. max - 1 · frequencies[i] ≥ 0 ∧ len(frequencies) = max\n",
    "    //Precondition: max > 0\n",
    "    FrequencyCounter(int max) {\n",
    "        // Create a frequency counter for events numbered 0 to max - 1.\n",
    "        this.frequencies = new int[max];\n",
    "    }\n",
    "\n",
    "    //Precondition: 0 ≤ event < max\n",
    "    void count(int event) {\n",
    "        // Increment the frequency of event by 1.\n",
    "        synchronized(this) {frequencies[event]++;}\n",
    "    }\n",
    "\n",
    "    //Precondition: 0 ≤ event < max\n",
    "    int frequency(int event) {\n",
    "        return frequencies[event];\n",
    "    }\n",
    "}\n",
    "class Eventer extends Thread {\n",
    "    FrequencyCounter fc;\n",
    "    Eventer(FrequencyCounter fc) {\n",
    "        this.fc = fc;\n",
    "    }\n",
    "    public void run() {\n",
    "        Random r = new Random();\n",
    "        for (int i = 0; i < 20000; i++) {\n",
    "            fc.count(r.nextInt(10));\n",
    "        }\n",
    "    }\n",
    "}\n",
    "class TestFrequencyCounter {\n",
    "    public static void main(String[] args) {\n",
    "        final int E = 1000; // number of eventers\n",
    "        FrequencyCounter fc = new FrequencyCounter(10);\n",
    "        Eventer ev[] = new Eventer[E];\n",
    "        for (int i = 0; i < E; i++) ev[i] = new Eventer(fc);\n",
    "        long startTime = System.currentTimeMillis();\n",
    "        for (int i = 0; i < E; i++) ev[i].start();\n",
    "        for (int i = 0; i < E; i++) {\n",
    "            try {ev[i].join();} catch (Exception e) {}\n",
    "        }\n",
    "        long endTime = System.currentTimeMillis();\n",
    "        System.out.println(endTime - startTime);\n",
    "    }\n",
    "}"
   ]
  },
  {
   "cell_type": "code",
   "execution_count": 16,
   "metadata": {},
   "outputs": [],
   "source": [
    "!javac frequencycounter.java"
   ]
  },
  {
   "cell_type": "code",
   "execution_count": 17,
   "metadata": {},
   "outputs": [
    {
     "name": "stdout",
     "output_type": "stream",
     "text": [
      "1780\n"
     ]
    }
   ],
   "source": [
    "!java TestFrequencyCounter"
   ]
  },
  {
   "cell_type": "markdown",
   "metadata": {},
   "source": [
    "Now implement the class `HighFrequencyCounter` that behaves like `FrequencyCounter`, but is more efficient in allowing concurrent updates to different events. For example, the calls `fc.count(3)` and `fc.count(5)` should be allowed to enter the monitor and update the respective counter simultaneously. State the class invariant as a comment! Do not check the class invariant by assertions."
   ]
  },
  {
   "cell_type": "code",
   "execution_count": 18,
   "metadata": {
    "deletable": false,
    "nbgrader": {
     "cell_type": "code",
     "checksum": "b508898e9ecd194edb8bf7818afe3851",
     "grade": true,
     "grade_id": "cell-c157c56cdd6ff749",
     "locked": false,
     "points": 2,
     "schema_version": 3,
     "solution": true,
     "task": false
    }
   },
   "outputs": [
    {
     "name": "stdout",
     "output_type": "stream",
     "text": [
      "Overwriting highfrequencycounter.java\n"
     ]
    }
   ],
   "source": [
    "%%writefile highfrequencycounter.java\n",
    "import java.util.Random;\n",
    "class HighFrequencyCounter extends FrequencyCounter {\n",
    "    Semaphore[] locks;\n",
    "    \n",
    "    class Semaphore {\n",
    "    int val;\n",
    "    Semaphore(int init) {\n",
    "        val = init;\n",
    "    }\n",
    "    synchronized void P() throws InterruptedException {\n",
    "        while (val == 0) wait();\n",
    "        val -= 1;\n",
    "    }\n",
    "    synchronized void V() {\n",
    "        val += 1;\n",
    "        notify();\n",
    "    }\n",
    "    }\n",
    "\n",
    "    //Invariant: ∀ i ε 0 .. max - 1 · frequencies[i] ≥ 0 ∧ len(frequencies) = max ∧  ∀ i ε 0 .. max - 1 · 0 ≤ locks[i] ≤ 1\n",
    "    HighFrequencyCounter(int max) {\n",
    "        super(max);\n",
    "        this.locks = new Semaphore[max];\n",
    "        for (int i = 0; i < max; i++)\n",
    "            locks[i] = new Semaphore(1);\n",
    "    }\n",
    "\n",
    "    //Precondition: 0 ≤ event < max ∧ 0 ≤ locks[event] ≤ 1\n",
    "    void count(int event) {\n",
    "        try {locks[event].P();} catch (Exception e) {}\n",
    "        frequencies[event] += 1;\n",
    "        locks[event].V();\n",
    "    }\n",
    "}\n",
    "class HEventer extends Thread {\n",
    "    HighFrequencyCounter hfc;\n",
    "    HEventer(HighFrequencyCounter hfc) {\n",
    "        this.hfc = hfc;\n",
    "    }\n",
    "    public void run() {\n",
    "        Random r = new Random();\n",
    "        for (int i = 0; i < 20000; i++) {\n",
    "            hfc.count(r.nextInt(10));\n",
    "        }\n",
    "    }\n",
    "}\n",
    "class TestHighFrequencyCounter {\n",
    "    public static void main(String[] args) {\n",
    "        final int E = 1000; // number of eventers\n",
    "        HighFrequencyCounter hfc = new HighFrequencyCounter(10);\n",
    "        HEventer hev[] = new HEventer[E];\n",
    "        for (int i = 0; i < E; i++) hev[i] = new HEventer(hfc);\n",
    "        long hstartTime = System.currentTimeMillis();\n",
    "        for (int i = 0; i < E; i++) hev[i].start();\n",
    "        for (int i = 0; i < E; i++) {\n",
    "            try {hev[i].join();} catch (Exception e) {}\n",
    "        }\n",
    "        long hendTime = System.currentTimeMillis();\n",
    "        System.out.println(hendTime - hstartTime);\n",
    "    }\n",
    "}"
   ]
  },
  {
   "cell_type": "code",
   "execution_count": 19,
   "metadata": {},
   "outputs": [],
   "source": [
    "!javac highfrequencycounter.java"
   ]
  },
  {
   "cell_type": "code",
   "execution_count": 20,
   "metadata": {},
   "outputs": [
    {
     "name": "stdout",
     "output_type": "stream",
     "text": [
      "5508\n"
     ]
    }
   ],
   "source": [
    "!java TestHighFrequencyCounter"
   ]
  },
  {
   "cell_type": "markdown",
   "metadata": {},
   "source": [
    "Measure the efficiency of your two implementations with the above test code; it creates 1,000 threads calling `count` 20,000 times each. What can you say about the efficiency of `FrequencyCounter` vs. `HighFrequencyCounter`?\n",
    "\n",
    "Depending on the computer, the timing results may vastly differ. Servers running virtualization may spread threads over cores of multiple processors, slowing down access to shared memory as processor caches have to be updated. You will likely get plausible results when running on your own computer and _not_ on a Jupyter server. Give the processor model, number of cores, and processor frequency!  These found with `wmic cpu get name, max clock speed, numberofcores` on Windows, `lscpu` on Linux, and `sysctl -a machdep.cpu` on macOS and Linux."
   ]
  },
  {
   "cell_type": "markdown",
   "metadata": {
    "deletable": false,
    "nbgrader": {
     "cell_type": "markdown",
     "checksum": "fb443cc55d73229254e5037cc9ba0d47",
     "grade": true,
     "grade_id": "cell-be862b5331eb1136",
     "locked": false,
     "points": 2,
     "schema_version": 3,
     "solution": true,
     "task": false
    }
   },
   "source": [
    "cpu name: Intel(R) Core(TM) i5-10400F CPU @ 2.90GHz\n",
    "max clock speed: 2904\n",
    "number of cores: 6\n",
    "\n",
    "from the results i noted that FC was more effecient than HFC. I conluded this was because of the extra computation of creating the semaphores for HFC and checking each time if a semaphore is available before adding a count to an event. FC was faster since it just had to lock the list, add an event and move on."
   ]
  }
 ],
 "metadata": {
  "kernelspec": {
   "display_name": "Python 3 (ipykernel)",
   "language": "python",
   "name": "python3"
  },
  "language_info": {
   "codemirror_mode": {
    "name": "ipython",
    "version": 3
   },
   "file_extension": ".py",
   "mimetype": "text/x-python",
   "name": "python",
   "nbconvert_exporter": "python",
   "pygments_lexer": "ipython3",
   "version": "3.11.5"
  }
 },
 "nbformat": 4,
 "nbformat_minor": 4
}
