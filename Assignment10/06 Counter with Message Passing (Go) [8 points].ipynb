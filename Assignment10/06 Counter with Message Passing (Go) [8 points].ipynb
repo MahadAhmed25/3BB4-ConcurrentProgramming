{
 "cells": [
  {
   "cell_type": "markdown",
   "metadata": {},
   "source": [
    "### Counter with Message Passing (Go)"
   ]
  },
  {
   "cell_type": "markdown",
   "metadata": {},
   "source": [
    "Consider the following flawed program in Go. It concurrently increments and decrements integer `x`, a global variable, `N` times."
   ]
  },
  {
   "cell_type": "code",
   "execution_count": 82,
   "metadata": {},
   "outputs": [
    {
     "name": "stdout",
     "output_type": "stream",
     "text": [
      "Overwriting incdecrace.go\n"
     ]
    }
   ],
   "source": [
    "%%writefile incdecrace.go\n",
    "package main\n",
    "\n",
    "const N = 20\n",
    "\n",
    "var x int\n",
    "var done chan bool\n",
    "\n",
    "func incN() {\n",
    "    for i := 0; i < N; i++ {x += 1}\n",
    "    done <- true\n",
    "}\n",
    "func decN() {\n",
    "    for i := 0; i < N; i++ {x -= 1}\n",
    "    done <- true\n",
    "}\n",
    "func main() {\n",
    "    x, done = 0, make(chan bool)\n",
    "    go incN(); go decN()\n",
    "    <- done; <- done;\n",
    "    println(\"computed:\", x)\n",
    "    println(\"expected: 0\")\n",
    "}"
   ]
  },
  {
   "cell_type": "code",
   "execution_count": 80,
   "metadata": {},
   "outputs": [
    {
     "name": "stdout",
     "output_type": "stream",
     "text": [
      "computed: 0\n",
      "expected: 0\n"
     ]
    }
   ],
   "source": [
    "!go run incdecrace.go"
   ]
  },
  {
   "cell_type": "markdown",
   "metadata": {},
   "source": [
    "For small values of `N`, it appears to run correctly. What is approximately the smallest value of `N` for which it does not run correctly? Give a brief explanation of why it runs correctly for small values! [2 points]"
   ]
  },
  {
   "cell_type": "markdown",
   "metadata": {
    "deletable": false,
    "nbgrader": {
     "cell_type": "markdown",
     "checksum": "8c7025de3b708e67e195e69b7cb5b93b",
     "grade": true,
     "grade_id": "cell-40ef6be6446e6669",
     "locked": false,
     "points": 2,
     "schema_version": 3,
     "solution": true,
     "task": false
    }
   },
   "source": [
    "the program starts to work incorrectly for N at 5000. sometimes the program will work with N at 5000 but is inconsistent and will sometimes not work. This works for small values of N due to how go scheduler works. For small values Go is able to execute the routines in a fair interleaved manner however as we increase the value of N we also increase the chance we run into race conditions and both routines may interfere with each other updating x in a non fair way. "
   ]
  },
  {
   "cell_type": "markdown",
   "metadata": {},
   "source": [
    "Go has built-in race detection that can be enabled with `-race`. Races are detected at run-time, not at compile-time. Running the above program with a small value of `N` detects the race condition:"
   ]
  },
  {
   "cell_type": "code",
   "execution_count": 83,
   "metadata": {},
   "outputs": [
    {
     "name": "stdout",
     "output_type": "stream",
     "text": [
      "==================\n",
      "WARNING: DATA RACE\n",
      "Read at 0x000000554c00 by goroutine 7:\n",
      "  main.decN()\n",
      "      /home/ahmem73/Assignment10/incdecrace.go:13 +0x32\n",
      "\n",
      "Previous write at 0x000000554c00 by goroutine 6:\n",
      "  main.incN()\n",
      "      /home/ahmem73/Assignment10/incdecrace.go:9 +0x4a\n",
      "\n",
      "Goroutine 7 (running) created at:\n",
      "  main.main()\n",
      "      /home/ahmem73/Assignment10/incdecrace.go:18 +0x98\n",
      "\n",
      "Goroutine 6 (finished) created at:\n",
      "  main.main()\n",
      "      /home/ahmem73/Assignment10/incdecrace.go:18 +0x8c\n",
      "==================\n",
      "computed: 0\n",
      "expected: 0\n",
      "Found 1 data race(s)\n",
      "exit status 66\n"
     ]
    }
   ],
   "source": [
    "!go run -race incdecrace.go"
   ]
  },
  {
   "cell_type": "markdown",
   "metadata": {},
   "source": [
    "The task is to fix the above program by making `x` local to a new process (goroutine), `counter`. Variable `x` is incremented and decremented by receiving messages from channels `inc` and `dec`. Process `counter` can also send `x` over a channel `val` as in the template below. [6 points]"
   ]
  },
  {
   "cell_type": "code",
   "execution_count": 6,
   "metadata": {
    "deletable": false,
    "nbgrader": {
     "cell_type": "code",
     "checksum": "abb748668d8c969622c113b06f968642",
     "grade": true,
     "grade_id": "cell-21ab41c1cdd27774",
     "locked": false,
     "points": 6,
     "schema_version": 3,
     "solution": true,
     "task": false
    }
   },
   "outputs": [
    {
     "name": "stdout",
     "output_type": "stream",
     "text": [
      "Overwriting incdec.go\n"
     ]
    }
   ],
   "source": [
    "%%writefile incdec.go\n",
    "package main\n",
    "\n",
    "const N = 1000000\n",
    "\n",
    "var inc, dec, done chan bool\n",
    "var val chan int\n",
    "\n",
    "func counter(){\n",
    "    var x int\n",
    "    for {\n",
    "        select{\n",
    "            case <-inc:\n",
    "                x++\n",
    "            case <-dec:\n",
    "                x--\n",
    "            case val <- x:\n",
    "                return\n",
    "        }\n",
    "    }\n",
    "}\n",
    "\n",
    "\n",
    "func incN() {\n",
    "    for i := 0; i < N; i++ {\n",
    "        inc <- true\n",
    "    }\n",
    "    done <- true\n",
    "}\n",
    "\n",
    "func decN() {\n",
    "    for i := 0; i < N; i++ {\n",
    "       dec <- true\n",
    "    }\n",
    "    done <- true\n",
    "}\n",
    "func main() {\n",
    "    done = make(chan bool)\n",
    "    inc, dec, val = make(chan bool), make(chan bool), make(chan int)\n",
    "    go counter()\n",
    "    go incN(); go decN()\n",
    "    <- done; <- done;\n",
    "    println(\"computed:\", <- val)\n",
    "    println(\"expected: 0\")\n",
    "}"
   ]
  },
  {
   "cell_type": "code",
   "execution_count": 7,
   "metadata": {},
   "outputs": [
    {
     "name": "stdout",
     "output_type": "stream",
     "text": [
      "computed: 0\n",
      "expected: 0\n"
     ]
    }
   ],
   "source": [
    "!go run -race incdec.go"
   ]
  },
  {
   "cell_type": "code",
   "execution_count": null,
   "metadata": {},
   "outputs": [],
   "source": []
  }
 ],
 "metadata": {
  "kernelspec": {
   "display_name": "Python 3 (ipykernel)",
   "language": "python",
   "name": "python3"
  },
  "language_info": {
   "codemirror_mode": {
    "name": "ipython",
    "version": 3
   },
   "file_extension": ".py",
   "mimetype": "text/x-python",
   "name": "python",
   "nbconvert_exporter": "python",
   "pygments_lexer": "ipython3",
   "version": "3.11.5"
  }
 },
 "nbformat": 4,
 "nbformat_minor": 4
}
