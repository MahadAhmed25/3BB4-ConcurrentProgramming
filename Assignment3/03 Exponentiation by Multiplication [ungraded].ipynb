{
 "cells": [
  {
   "cell_type": "markdown",
   "metadata": {
    "slideshow": {
     "slide_type": "slide"
    }
   },
   "source": [
    "### Exponentiation by Multiplication [ungraded]"
   ]
  },
  {
   "cell_type": "markdown",
   "metadata": {},
   "source": [
    "##### 1. Write the program"
   ]
  },
  {
   "cell_type": "markdown",
   "metadata": {},
   "source": [
    "Write a program to compute `xʸ` for an integer `x` and an integer `y ≥ 0` using only addition and multiplication. Give the program textually and as a state diagram. For drawing the diagram, you may use [diagrams.net](https://www.diagrams.net/) and export it to svg. Add appropriate annotation to the state diagram."
   ]
  },
  {
   "cell_type": "markdown",
   "metadata": {},
   "source": [
    "```algorithm\n",
    "{y ≥ 0}\n",
    "z := 1\n",
    "u := 0\n",
    "{P: z = xᵘ ∧ 0 ≤ u ≤ y}\n",
    "for u < y do:\n",
    "    z = z * x\n",
    "    u = u + 1\n",
    "{z = xʸ}\n",
    "```"
   ]
  },
  {
   "cell_type": "markdown",
   "metadata": {},
   "source": [
    "##### 2. Give the correctness conditions"
   ]
  },
  {
   "cell_type": "markdown",
   "metadata": {},
   "source": [
    "Use either the rules for the correctness of statements or the rules for the correctness of transitions."
   ]
  },
  {
   "cell_type": "markdown",
   "metadata": {},
   "source": [
    "1. ` {y≥0} => P[z,u := 1,0]` OR `{y≥0} z,u := 1,0 P`\n",
    "3. ` P ∧ u >= y => z = xʸ ` OR `P ∧ u >= y => z = xʸ`\n",
    "4. ` P ∧ u < y => P[z,u := z*x, u+1] ` OR `{P ∧ u < y} z,u := z*x, u+1 P`"
   ]
  },
  {
   "cell_type": "markdown",
   "metadata": {},
   "source": [
    "##### 3. Prove the correctness"
   ]
  },
  {
   "cell_type": "markdown",
   "metadata": {},
   "source": [
    "Prove all correcntess conditions!"
   ]
  },
  {
   "cell_type": "markdown",
   "metadata": {},
   "source": [
    "1. ```algorithm\n",
    "       {show rhs}\n",
    "   P[z,u := 1,0]\n",
    "       {sub}\n",
    "    1 = x^0 ∧ 0 ≤ 0 ≤ y\n",
    "        {arithmetic}\n",
    "    0 ≤ 0 ≤ y\n",
    "         {logic}\n",
    "    y≥0\n",
    "   ```\n",
    "\n",
    "2. ```algorithm\n",
    "   P ∧ u >= y => z = xʸ\n",
    "       { P => u <= y}\n",
    "    P ∧ u = y ==> z = xʸ\n",
    "        {sub}\n",
    "    P ∧ u = y ==> z = x^u\n",
    "\n",
    "    True\n",
    "   \n",
    "   ```\n",
    "\n",
    "3. ```algorithm\n",
    "       {show rhs}\n",
    "    P[z,u := z*x, u+1]\n",
    "        {sub}\n",
    "    z*x = x^(u+1) ∧ 0 ≤ u + 1 ≤ y\n",
    "        {u < y ==> u + 1 <= y}\n",
    "    z*x = x^(u+1) ∧ 0 ≤ u ≤ y\n",
    "        {artih}\n",
    "    z*x = (x^u)(x) ∧ 0 ≤ u ≤ y\n",
    "        {logic}\n",
    "    z*x = (x^u)(x) ∧ 0 ≤ u ≤ y\n",
    "   \n",
    "   ```"
   ]
  },
  {
   "cell_type": "code",
   "execution_count": null,
   "metadata": {},
   "outputs": [],
   "source": []
  }
 ],
 "metadata": {
  "kernelspec": {
   "display_name": "Python 3 (ipykernel)",
   "language": "python",
   "name": "python3"
  },
  "language_info": {
   "codemirror_mode": {
    "name": "ipython",
    "version": 3
   },
   "file_extension": ".py",
   "mimetype": "text/x-python",
   "name": "python",
   "nbconvert_exporter": "python",
   "pygments_lexer": "ipython3",
   "version": "3.11.2"
  },
  "rise": {
   "enable_chalkboard": true,
   "scroll": true
  }
 },
 "nbformat": 4,
 "nbformat_minor": 4
}
