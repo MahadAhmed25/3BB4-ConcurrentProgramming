{
 "cells": [
  {
   "cell_type": "markdown",
   "id": "c2e1a3b5-9630-4d39-bcfb-be80781252cd",
   "metadata": {
    "deletable": false,
    "editable": false,
    "nbgrader": {
     "cell_type": "markdown",
     "checksum": "98e0a213d1f98f8632e72ec9efab6450",
     "grade": false,
     "grade_id": "cell-71635e1275478ad5",
     "locked": true,
     "schema_version": 3,
     "solution": false,
     "task": false
    }
   },
   "source": [
    "### Delivering Pizzas (Python)"
   ]
  },
  {
   "cell_type": "markdown",
   "id": "f3a06ca8-7f8d-4391-880b-1ba621bb5141",
   "metadata": {
    "deletable": false,
    "editable": false,
    "nbgrader": {
     "cell_type": "markdown",
     "checksum": "9dc452b7698fb7bc85056e98a1c80914",
     "grade": false,
     "grade_id": "cell-804415011b585223",
     "locked": true,
     "schema_version": 3,
     "solution": false,
     "task": false
    }
   },
   "source": [
    "Every day, a pizza baker bakes ` P = 36` numbered pizzas. The baker has `C = 3` bike couriers at their disposal. Each bike courier has a bag that fits exactly `B = 3` pizzas. Bike couriers make `R = 4` delivery runs every day and won't run with less than `B` pizzas in their bag. The couriers pick up the pizzas from the baker's counter. To minimize the wait time, they agree that each courier gets `B` pizzas in a row. That is, the first run delivers pizzas `0, 1, 2`, the next run pizzas `3, 4, 5`, etc. Deliveries take a varying amount of time. At the end of their delivery run, each courier enters in the baker's log the delivered pizzas."
   ]
  },
  {
   "cell_type": "code",
   "execution_count": 1,
   "id": "e268c218-12b4-4c3e-a2ad-0b2ef12c6a3a",
   "metadata": {
    "deletable": false,
    "nbgrader": {
     "cell_type": "code",
     "checksum": "b6972d487d45dd2afc5dc06497616470",
     "grade": true,
     "grade_id": "cell-d47f0fd10efd225b",
     "locked": false,
     "points": 8,
     "schema_version": 3,
     "solution": true,
     "task": false
    }
   },
   "outputs": [
    {
     "name": "stdout",
     "output_type": "stream",
     "text": [
      "[[6, 7, 8], [0, 1, 2], [3, 4, 5], [9, 10, 11], [12, 13, 14], [15, 16, 17], [21, 22, 23], [18, 19, 20], [24, 25, 26], [27, 28, 29], [30, 31, 32], [33, 34, 35]]\n",
      "[[0, 1, 2], [3, 4, 5], [6, 7, 8], [9, 10, 11], [12, 13, 14], [15, 16, 17], [18, 19, 20], [21, 22, 23], [24, 25, 26], [27, 28, 29], [30, 31, 32], [33, 34, 35]]\n"
     ]
    }
   ],
   "source": [
    "from threading import Thread, Semaphore\n",
    "from time import sleep\n",
    "from random import random\n",
    "\n",
    "B, C, R = 3, 3, 4 # number of pizzas fitting in a bag, number of couriers, number of runs\n",
    "P = B * C * R # number of baked pizzas\n",
    "\n",
    "class Baker(Thread):\n",
    "    def run(self):\n",
    "        global counter\n",
    "        for pizza in range(P):\n",
    "            empty.acquire()\n",
    "            counter = pizza\n",
    "            full.release()\n",
    "\n",
    "class Courier(Thread):\n",
    "    def run(self):\n",
    "        for run in range(R):\n",
    "            bag = []\n",
    "            mutex.acquire()\n",
    "            for i in range (B):\n",
    "                full.acquire()\n",
    "                bag.append(counter)\n",
    "                empty.release()\n",
    "            mutex.release()\n",
    "            \n",
    "            sleep(random())\n",
    "            log.append(bag)\n",
    "            \n",
    "\n",
    "empty, full = Semaphore(1), Semaphore(0) # semaphores for counter\n",
    "mutex = Semaphore(1)\n",
    "log = []\n",
    "couriers = [Courier() for _ in range(C)]\n",
    "for i in range(C): couriers[i].start()\n",
    "Baker().start()\n",
    "for i in range(C): couriers[i].join()\n",
    "print(log); log.sort(); print(log)\n",
    "assert log == [[i + j for i in range(B)] for j in range(0, P, B)]"
   ]
  },
  {
   "cell_type": "markdown",
   "id": "ab4e5d2d-4ad9-413d-93b3-c5af5fb5bb40",
   "metadata": {
    "deletable": false,
    "editable": false,
    "nbgrader": {
     "cell_type": "markdown",
     "checksum": "6e5699288b62fbdce31b17803dca169d",
     "grade": false,
     "grade_id": "cell-43ed27eee2343c67",
     "locked": true,
     "schema_version": 3,
     "solution": false,
     "task": false
    }
   },
   "source": [
    "Complete the Python implementation! The missing part in `Courier` must include the statement `bag.append(counter)` to keep track of pizzas in a courier's bag and must not modify `counter`. At the end of the day, the baker inspects the log to check that all pizzas are delivered. A possible output of the first `print` statement is:\n",
    "```\n",
    "[[6, 7, 8], [3, 4, 5], [0, 1, 2], [9, 10, 11], [18, 19, 20], [21, 22, 23], [12, 13, 14], [15, 16, 17], [24, 25, 26], [27, 28, 29], [30, 31, 32], [33, 34, 35]]\n",
    "```\n",
    "This is a list of groups of three consecutive numbers, the pizzas in a delivery bag, in a nondeterministic order. The baker then sorts this list and checks that it is equal to:\n",
    "```\n",
    "[[0, 1, 2], [3, 4, 5], [6, 7, 8], [9, 10, 11], [12, 13, 14], [15, 16, 17], [18, 19, 20], [21, 22, 23], [24, 25, 26], [27, 28, 29], [30, 31, 32], [33, 34, 35]]\n",
    "```"
   ]
  }
 ],
 "metadata": {
  "kernelspec": {
   "display_name": "Python 3 (ipykernel)",
   "language": "python",
   "name": "python3"
  },
  "language_info": {
   "codemirror_mode": {
    "name": "ipython",
    "version": 3
   },
   "file_extension": ".py",
   "mimetype": "text/x-python",
   "name": "python",
   "nbconvert_exporter": "python",
   "pygments_lexer": "ipython3",
   "version": "3.11.2"
  }
 },
 "nbformat": 4,
 "nbformat_minor": 5
}
