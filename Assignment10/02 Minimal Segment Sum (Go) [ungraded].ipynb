{
 "cells": [
  {
   "cell_type": "markdown",
   "metadata": {},
   "source": [
    "### Minimal Segment Sum (Go)\n",
    "\n",
    "Consider computing the sum of the elements of array `a: 0 .. N – 1 → integer` for constant `N ≥ 0`:\n",
    "\n",
    "```algorithm\n",
    "{true}\n",
    "s, k := 0, 0\n",
    "{s = (∑ i ∈ 0 .. k - 1 • a(i)) ∧ 0 ≤ k ≤ N}\n",
    "while k < N do\n",
    "    s, k := s + a(k), k + 1\n",
    "{s = (∑ i ∈ 0 .. N - 1 • a(i))}\n",
    "```\n",
    "\n",
    "Go distinguishes between *array* and *slices*. Arrays are values; the length of an array is part of the type. For example, `b := [5]int{1, 2, 3, 4, 5}` assigns the array with elements `1`, ..., `5` to `b`. The type of `b` is `[5]int`. Slices are views of an array; for example, `[]int` is an integer slice; the length of a slice is not part of the type, but the function `len(s)` returns the length of slice `s`. Slices always refer to an array but not necessarily to its beginning. In the following implementation of integer array summation, the parameter `a` is a slice. The `range` construct can be used more conveniently to iterate over all elements of a slice."
   ]
  },
  {
   "cell_type": "code",
   "execution_count": 1,
   "metadata": {},
   "outputs": [
    {
     "name": "stdout",
     "output_type": "stream",
     "text": [
      "Writing sum.go\n"
     ]
    }
   ],
   "source": [
    "%%writefile sum.go\n",
    "package main\n",
    "\n",
    "func sum(a []int) int { // a is slice\n",
    "    s := 0\n",
    "    for _, x := range(a) {s += x}\n",
    "    return s\n",
    "}\n",
    "func main() {\n",
    "    b := [5]int{1, 2, 3, 4, 5};\n",
    "    // println(sum(b)) error, cannot pass array as slice\n",
    "    b0 := b[1:4]; println(sum(b0)) // slice 2, 3, 4 passed\n",
    "    b1 := b[0:0]; println(sum(b1)) // empty slice passed\n",
    "    println(sum(b[:])) // slice of whole array passed\n",
    "    b[4] = 0  // arrays can be modified\n",
    "    b0[0] = 0 // modifying a slice modifies the underlying array\n",
    "    println(sum(b[:])) // slice 1, 0, 3, 4, 0 passed\n",
    "}"
   ]
  },
  {
   "cell_type": "code",
   "execution_count": 2,
   "metadata": {},
   "outputs": [
    {
     "name": "stdout",
     "output_type": "stream",
     "text": [
      "9\n",
      "0\n",
      "15\n",
      "8\n"
     ]
    }
   ],
   "source": [
    "!go run sum.go"
   ]
  },
  {
   "cell_type": "markdown",
   "metadata": {},
   "source": [
    "A post in the [Go Blog](https://blog.golang.org/slices) by Rob Pike explains the details of how slices work."
   ]
  },
  {
   "cell_type": "markdown",
   "metadata": {},
   "source": [
    "For an array `f: 0 .. N – 1 → integer`, the *segment sum* `ss(i, j)` for `0 ≤ i ≤ j ≤ N` is defined as:\n",
    "```algorithm\n",
    "ss(i, j) = (∑ h ∈ i .. j – 1 • f(h))\n",
    "```\n",
    "The *minimal segment sum* is the smallest segment sum in an array:\n",
    "```algorithm\n",
    "(MIN i ∈ 0 .. N, j ∈ i .. N • ss(i, j))\n",
    "```\n",
    "For example, if `f = [1, 2, –3, 0, 2, –9, 7]`, the minimal segment sum is `–10`. Since the empty segment is allowed and has a sum of `0`, the minimal segment sum can be at most `0`. The number of combinations of `i` and `j` are `N + 1` (for `i = 0`) plus `N` (for `i = 1`) plus `N – 1` (for `i = 2`) etc., so in total `(N + 1) × (N + 2) / 2`. For each combination of `i` and `j`, in the order of `N` additions have to be carried out. A naive program, therefore, requires time proportional to `N³`. Implement that in Go! The template includes code for timing the implementation.\n",
    "\n",
    "*Hint:* `len(f)` returns the length of slice `f` and `min(a, b)` returns the minimum of `a` and `b`."
   ]
  },
  {
   "cell_type": "code",
   "execution_count": 7,
   "metadata": {},
   "outputs": [
    {
     "name": "stdout",
     "output_type": "stream",
     "text": [
      "Overwriting mss.go\n"
     ]
    }
   ],
   "source": [
    "%%writefile mss.go\n",
    "package main\n",
    "import (\"fmt\"; \"time\")\n",
    "\n",
    "func minSegSumCubic(a []int) int {\n",
    "    x,y := 0, 0\n",
    "    for _, e:= range(a) {\n",
    "        y+=e\n",
    "        if y>=0 {\n",
    "            y=0\n",
    "        }else if x > y {x=y}\n",
    "    }\n",
    "    return x\n",
    "}\n",
    "\n",
    "func main() {\n",
    "    b := []int{1, 2, -3, 0, 2, -9, 7}\n",
    "    start := time.Now()\n",
    "    mss := minSegSumCubic(b)\n",
    "\telapsed := time.Since(start)\n",
    "    println(\"computed:\", mss)\n",
    "    println(\"expected: -10\")\n",
    "\tfmt.Printf(\"elaplsed: %s\", elapsed)\n",
    "}"
   ]
  },
  {
   "cell_type": "markdown",
   "metadata": {},
   "source": [
    "Consider the linear-time algorithm for the minimal segment sum from the course notes. For array `f: 0 .. N – 1 → integer`, the minimal segment sum is assigned to `x`:\n",
    "\n",
    "```algorithm\n",
    "n, x, y := 0, 0, 0\n",
    "while n < N do\n",
    "    y := y + f(n)\n",
    "    if y ≥ 0 then y := 0\n",
    "    else if x > y then x := y\n",
    "    n := n + 1\n",
    "```\n",
    "\n",
    "Implement and time it in Go!"
   ]
  },
  {
   "cell_type": "code",
   "execution_count": null,
   "metadata": {
    "solution": "hidden",
    "solution_first": true
   },
   "outputs": [],
   "source": [
    "%%writefile mss.go\n",
    "package main\n",
    "import (\"fmt\"; \"time\")\n",
    "\n",
    "// YOUR CODE HERE\n",
    "\n",
    "func main() {\n",
    "    b := []int{1, 2, -3, 0, 2, -9, 7}\n",
    "    start := time.Now()\n",
    "    mss := minSegSumLinear(b)\n",
    "\telapsed := time.Since(start)\n",
    "    println(\"computed:\", mss)\n",
    "    println(\"expected: -10\")\n",
    "\tfmt.Printf(\"elaplsed: %s\", elapsed)\n",
    "}"
   ]
  },
  {
   "cell_type": "code",
   "execution_count": 8,
   "metadata": {},
   "outputs": [
    {
     "name": "stdout",
     "output_type": "stream",
     "text": [
      "computed: -10\n",
      "expected: -10\n",
      "elaplsed: 220ns"
     ]
    }
   ],
   "source": [
    "!go run mss.go"
   ]
  },
  {
   "cell_type": "code",
   "execution_count": null,
   "metadata": {},
   "outputs": [],
   "source": []
  }
 ],
 "metadata": {
  "kernelspec": {
   "display_name": "Python 3 (ipykernel)",
   "language": "python",
   "name": "python3"
  },
  "language_info": {
   "codemirror_mode": {
    "name": "ipython",
    "version": 3
   },
   "file_extension": ".py",
   "mimetype": "text/x-python",
   "name": "python",
   "nbconvert_exporter": "python",
   "pygments_lexer": "ipython3",
   "version": "3.11.5"
  }
 },
 "nbformat": 4,
 "nbformat_minor": 4
}
