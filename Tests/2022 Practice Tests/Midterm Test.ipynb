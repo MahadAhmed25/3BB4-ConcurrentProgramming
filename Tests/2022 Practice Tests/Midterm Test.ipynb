{
 "cells": [
  {
   "cell_type": "markdown",
   "metadata": {
    "deletable": false,
    "editable": false,
    "nbgrader": {
     "cell_type": "markdown",
     "checksum": "6de0193784d8be1b89c9a7b7ca31d8b9",
     "grade": false,
     "grade_id": "cell-277f9866ebf2e6dd",
     "locked": true,
     "schema_version": 3,
     "solution": false,
     "task": false
    }
   },
   "source": [
    "### SFWRENG 3BB4 Software Design II, Fall 2022/23, McMaster University\n",
    "\n",
    "**Midterm Test, Thursday, October 20, 10:30 - 11:20 am. [24 points]**\n",
    "\n",
    "**Emil Sekerinski (instructor), Hong Sun, Mohammad Hossein Dehghan (TAs)**\n",
    "\n",
    "- This is a \"closed book\" test: your browser must have only one tab with Jupyter on jhub3bb4 and one tab with python.org. Accessing any other material on jhub3bb4, on your computer, through the web, or through any other means is not allowed. This includes the course notes, assignments and practices of this course. Any attempt to access other material will be treated as Academic Dishonesty.\n",
    "- Please stay in the test room until the end of the test. If you are done early, you cannot use your computer or your phone/tablet for anything else; read a book!\n",
    "\n",
    "**Symbols to copy and paste:** ⟨ ⟩ ¬ ∧ ∨ ≠ ≡ ⇒ ⇐ ≤ ≥"
   ]
  },
  {
   "cell_type": "markdown",
   "metadata": {
    "deletable": false,
    "editable": false,
    "nbgrader": {
     "cell_type": "markdown",
     "checksum": "e112943434325e06cf283b9c76a1f13e",
     "grade": false,
     "grade_id": "cell-a6d1234373ce8955",
     "locked": true,
     "schema_version": 3,
     "solution": false,
     "task": false
    }
   },
   "source": [
    "### Question 1: Producers and Consumers [9 points]"
   ]
  },
  {
   "cell_type": "markdown",
   "metadata": {
    "deletable": false,
    "editable": false,
    "nbgrader": {
     "cell_type": "markdown",
     "checksum": "c55477a89183112cd3ef418de48f1415",
     "grade": false,
     "grade_id": "cell-aeab6dc66bf71334",
     "locked": true,
     "schema_version": 3,
     "solution": false,
     "task": false
    }
   },
   "source": [
    "Consider having multiple producers and a single consumer communicating over a global variable, `buf`, and synchronizing with two integer variables (which can be implemented as semaphores, even if that is not of importance here).\n",
    "\n",
    "```\n",
    "var buf: integer\n",
    "var empty, full: integer = 1, 0\n",
    "```\n",
    "<div style=\"display:table\">\n",
    "  <div style = \"display:table-cell\">\n",
    "\n",
    "```algorithm\n",
    "process producer(i: 0 .. P – 1)\n",
    "    while true do\n",
    "        ⟨await empty > 0 then empty := empty – 1⟩\n",
    "        buf := i\n",
    "        ⟨full := full + 1⟩\n",
    "```\n",
    "  </div>\n",
    "  <div style = \"display:table-cell\">\n",
    "\n",
    "```algorithm\n",
    "process consumer\n",
    "    while true do\n",
    "        ⟨await full > 0 then full := full – 1⟩\n",
    "        print(buf)\n",
    "        ⟨empty := empty + 1⟩\n",
    "```\n",
    "  </div>\n",
    "</div>\n",
    "\n",
    "Without any additional (ghost) variables, what is the global invariant `PC` that holds for `empty`, `full`, `buf`? [3 points]"
   ]
  },
  {
   "cell_type": "markdown",
   "metadata": {
    "deletable": false,
    "nbgrader": {
     "cell_type": "markdown",
     "checksum": "2775691705aad3976e0e2fa172da4e50",
     "grade": true,
     "grade_id": "cell-6999bd487caef47d",
     "locked": false,
     "points": 3,
     "schema_version": 3,
     "solution": true,
     "task": false
    }
   },
   "source": [
    "PC: 0 ≤ buf ≤ P-1 ∧ 0 ≤ empty+full ≤ 1"
   ]
  },
  {
   "cell_type": "markdown",
   "metadata": {
    "deletable": false,
    "editable": false,
    "nbgrader": {
     "cell_type": "markdown",
     "checksum": "627b8d9f3d70e1a12aca54faeaae7a0d",
     "grade": false,
     "grade_id": "cell-b0f20ee859ca65f4",
     "locked": true,
     "schema_version": 3,
     "solution": false,
     "task": false
    }
   },
   "source": [
    "Give the annotation of `producer` that shows that your global invariant holds. For this, copy `producer` from above to the cell below. You do not need to carry out any proofs. [3 points]"
   ]
  },
  {
   "cell_type": "markdown",
   "metadata": {
    "deletable": false,
    "nbgrader": {
     "cell_type": "markdown",
     "checksum": "ccca57e357bcf819e85a0edd86362998",
     "grade": true,
     "grade_id": "cell-4c1cd1761b90ebc1",
     "locked": false,
     "points": 3,
     "schema_version": 3,
     "solution": true,
     "task": false
    }
   },
   "source": [
    "process producer(i: 0 .. P – 1)\n",
    "    {PC}\r\n",
    "    while true do\r\n",
    "        ⟨await empty > 0 then empty := empty – \n",
    "        {PC: buf = 0 ∧ full, empty = 0, 0}1⟩\r\n",
    "        buf := i\r\n",
    "        ⟨full := full>\n",
    "        {PC: buf = 0 ∧ full, empty = 1, 0} + 1"
   ]
  },
  {
   "cell_type": "markdown",
   "metadata": {
    "deletable": false,
    "editable": false,
    "nbgrader": {
     "cell_type": "markdown",
     "checksum": "10cd093d9436f80b5a236333aff23425",
     "grade": false,
     "grade_id": "cell-6e6052efb9a7b585",
     "locked": true,
     "schema_version": 3,
     "solution": false,
     "task": false
    }
   },
   "source": [
    "Give the annotation of `consumer` that shows that the stated global invariant holds. For this, copy `consumer` from above to the cell below. You do not need to carry out any proofs. [3 points]"
   ]
  },
  {
   "cell_type": "markdown",
   "metadata": {
    "deletable": false,
    "nbgrader": {
     "cell_type": "markdown",
     "checksum": "d3c6c8a24132b5f40c7cd93084d69b95",
     "grade": true,
     "grade_id": "cell-e6d188fcca087615",
     "locked": false,
     "points": 3,
     "schema_version": 3,
     "solution": true,
     "task": false
    }
   },
   "source": [
    "process consumer\n",
    "    {PC}\r\n",
    "    while true do\r\n",
    "        ⟨await full > 0 then full := full – \n",
    "        {full, empty = 0, 0}1⟩\r\n",
    "        print(buf)\r\n",
    "        ⟨empty := empty  {full, empty = 0, 1}+ 1⟩"
   ]
  },
  {
   "cell_type": "markdown",
   "metadata": {
    "deletable": false,
    "editable": false,
    "nbgrader": {
     "cell_type": "markdown",
     "checksum": "3f084a743e01f50646dbf9a952174f23",
     "grade": false,
     "grade_id": "cell-38405c5a8d978d96",
     "locked": true,
     "schema_version": 3,
     "solution": false,
     "task": false
    }
   },
   "source": [
    "### Question 2: Dining Philosophers [4 points]"
   ]
  },
  {
   "cell_type": "markdown",
   "metadata": {
    "deletable": false,
    "editable": false,
    "nbgrader": {
     "cell_type": "markdown",
     "checksum": "08dec4476ac00a3617f3dbb7b4acd293",
     "grade": false,
     "grade_id": "cell-41b985ce0c84c3f6",
     "locked": true,
     "schema_version": 3,
     "solution": false,
     "task": false
    }
   },
   "source": [
    "<img style=\"float:right;border-left:2em solid white\" src=\"./img/DiningPhilosophers.svg\"/>\n",
    "\n",
    "With five philosophers sharing five forks, to avoid deadlock, one solution is to have philosopher `i` pick up first their left fork and then their right fork, i.e. fork `i` and then fork `i + 1`, for `i ∈ {0 .. 3}`, and philosopher `4` pick up first their right fork and then their left fork, i.e. fork `0` and then fork `4`. You are unsatisfied with the asymmetry of this solution and think of alternatives.\n",
    "\n",
    "1. If roughly half of philosophers, say three philosophers pick up first their left fork and then their right fork, and the other half, which would be two philosophers, pick up first their right fork and then their left fork, would that avoid deadlock? Does it matter which three pick up first their left and which two pick up first their right?"
   ]
  },
  {
   "cell_type": "markdown",
   "metadata": {
    "deletable": false,
    "nbgrader": {
     "cell_type": "markdown",
     "checksum": "611686551715a5c6abb7850ba1c32561",
     "grade": true,
     "grade_id": "cell-ead18427c93e5f49",
     "locked": false,
     "points": 2,
     "schema_version": 3,
     "solution": true,
     "task": false
    }
   },
   "source": [
    "yes this avoids deadlock, it does not matter which three pick up first their left and which two pick up first their right, they will all eventually enter the critical section and eat with 2 forks"
   ]
  },
  {
   "cell_type": "markdown",
   "metadata": {
    "deletable": false,
    "editable": false,
    "nbgrader": {
     "cell_type": "markdown",
     "checksum": "bbe2b997bb37f2985502e85ee9304554",
     "grade": false,
     "grade_id": "cell-01d115f1f4a1c7b7",
     "locked": true,
     "schema_version": 3,
     "solution": false,
     "task": false
    }
   },
   "source": [
    "2. All philosophers pick up their left fork first and then their right fork. However, before picking up their left fork, they wait a random amount of time. Does this guarantee to avoid deadlock? Does it depend on the length of the random wait?"
   ]
  },
  {
   "cell_type": "markdown",
   "metadata": {
    "deletable": false,
    "nbgrader": {
     "cell_type": "markdown",
     "checksum": "2170389b3268aecb9c407d0a7648e57d",
     "grade": true,
     "grade_id": "cell-d503ca3bc0619a65",
     "locked": false,
     "points": 2,
     "schema_version": 3,
     "solution": true,
     "task": false
    }
   },
   "source": [
    "this does not guarantee avoiding deadlock. since its a random amount of time if they all pick up at the same time then we will hit a deadlock. It can avoid deadlock if one of the philosophers finish eating, than deadlock will be avoided"
   ]
  },
  {
   "cell_type": "markdown",
   "metadata": {
    "deletable": false,
    "editable": false,
    "nbgrader": {
     "cell_type": "markdown",
     "checksum": "ed65f8e5983167c6ce68bf6542a2fc17",
     "grade": false,
     "grade_id": "cell-01fedd8441858e0f",
     "locked": true,
     "schema_version": 3,
     "solution": false,
     "task": false
    }
   },
   "source": [
    "### Question 3: Dance Competition [11 points]"
   ]
  },
  {
   "cell_type": "markdown",
   "metadata": {
    "deletable": false,
    "editable": false,
    "nbgrader": {
     "cell_type": "markdown",
     "checksum": "b9e503cc3e35d13b1b05d2b3137a9531",
     "grade": false,
     "grade_id": "cell-23fcb75dad0524a4",
     "locked": true,
     "schema_version": 3,
     "solution": false,
     "task": false
    }
   },
   "source": [
    "You are organizing a dance competition with 26 dancers: *leaders* `A` to `M` and *followers* `N` to `Z`. You need to pair leaders with followers such that the first pair is tagged with `1`, the second pair with `2`, etc. In the Python implementation below, leaders and followers line up in random order by calling `pairleader` and `pairfollower`. Implement proper synchronization with semaphores by completing the missing parts. Add output that shows on each line a pair and their number in the order in which they are paired; the exact format of each line and the order of leader, follower, and number does not matter. For example, the output may start with:\n",
    "```\n",
    "A + X: 1\n",
    "E + P: 2\n",
    "B + Z: 3\n",
    "K + W: 4\n",
    "C + O: 5\n",
    "F + S: 6\n",
    "M + Q: 7\n",
    "```\n",
    "You may use global variables. Use `stdout.write(...)` for the output [11 points]. **Bonus:** The output must be first leader, then follower, then number, in that order [2 bonus points]."
   ]
  },
  {
   "cell_type": "code",
   "execution_count": 7,
   "metadata": {
    "deletable": false,
    "nbgrader": {
     "cell_type": "code",
     "checksum": "a4e0f25620cc04c9d26ee850c05c1128",
     "grade": true,
     "grade_id": "cell-1df1a381290424e5",
     "locked": false,
     "points": 11,
     "schema_version": 3,
     "solution": true,
     "task": false
    }
   },
   "outputs": [
    {
     "name": "stdout",
     "output_type": "stream",
     "text": [
      "J + V: 1\n",
      "K + X: 2\n",
      "A + P: 3\n",
      "D + N: 4\n",
      "F + Y: 5\n",
      "C + W: 6\n",
      "B + O: 7\n",
      "H + U: 8\n",
      "E + R: 9\n",
      "M + Z: 10\n",
      "L + T: 11\n",
      "I + Q: 12\n",
      "G + S: 13\n"
     ]
    }
   ],
   "source": [
    "from threading import Thread, Semaphore\n",
    "from time import sleep\n",
    "from random import random\n",
    "from sys import stdout\n",
    "\n",
    "def pairleader(leadername):\n",
    "    global buf;\n",
    "    empty.acquire()\n",
    "    buf = leadername\n",
    "    full.release()\n",
    "def pairfollower(followername):\n",
    "    global buf, pair;\n",
    "    full.acquire()\n",
    "    buf += ' + ' + str(followername) +': '\n",
    "    pair = pair + 1\n",
    "    stdout.write(str(buf) + str(pair) + '\\n')\n",
    "    empty.release()\n",
    "class Leader(Thread): \n",
    "    def __init__(self, name):\n",
    "        Thread.__init__(self); self.name = name\n",
    "    def run(self):\n",
    "        sleep(random()) # up to 1 sec\n",
    "        pairleader(self.name)\n",
    "class Follower(Thread):\n",
    "    def __init__(self, name):\n",
    "        Thread.__init__(self); self.name = name\n",
    "    def run(self):\n",
    "        sleep(random()) # up to 1 sec\n",
    "        pairfollower(self.name)\n",
    "\n",
    "global buf; \n",
    "empty = Semaphore(1)\n",
    "full = Semaphore(0)\n",
    "global pair; pair = 0\n",
    "\n",
    "\n",
    "for i in range(13): Leader(chr(i + ord('A'))).start()\n",
    "for i in range(13): Follower(chr(i + ord('N'))).start()"
   ]
  },
  {
   "cell_type": "code",
   "execution_count": null,
   "metadata": {},
   "outputs": [],
   "source": []
  }
 ],
 "metadata": {
  "kernelspec": {
   "display_name": "Python 3 (ipykernel)",
   "language": "python",
   "name": "python3"
  },
  "language_info": {
   "codemirror_mode": {
    "name": "ipython",
    "version": 3
   },
   "file_extension": ".py",
   "mimetype": "text/x-python",
   "name": "python",
   "nbconvert_exporter": "python",
   "pygments_lexer": "ipython3",
   "version": "3.11.2"
  }
 },
 "nbformat": 4,
 "nbformat_minor": 4
}
