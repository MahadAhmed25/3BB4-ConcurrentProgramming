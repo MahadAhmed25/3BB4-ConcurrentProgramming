{
 "cells": [
  {
   "cell_type": "markdown",
   "metadata": {},
   "source": [
    "### Integer Scanner with Generators (Python)"
   ]
  },
  {
   "cell_type": "markdown",
   "metadata": {},
   "source": [
    "The *scanner* of a compiler takes a sequence of characters and provides the *parser* with a sequence of symbols (tokens). The scanner can be naturally implemented as a coroutine. Here, we consider the input to the scanner to be a string consisting of integers separated by blanks (or other characters that are not digits; the details don't matter here). There can also be leading and trailing blanks. Calling `scan(s)` should return a generator object such that subsequent calls to `next` return the next integer in the string if there is one. Complete the code below! Hint: the solution can be expressed in five lines of code."
   ]
  },
  {
   "cell_type": "code",
   "execution_count": 31,
   "metadata": {
    "deletable": false,
    "nbgrader": {
     "cell_type": "code",
     "checksum": "2773a63925f56ca56979acb2058e9634",
     "grade": true,
     "grade_id": "cell-2bd723703bf32afb",
     "locked": false,
     "points": 0,
     "schema_version": 3,
     "solution": true,
     "task": false
    }
   },
   "outputs": [],
   "source": [
    "def scan(s: str):\n",
    "    sl = s.split()\n",
    "    for num in sl: yield int(num)"
   ]
  },
  {
   "cell_type": "code",
   "execution_count": 32,
   "metadata": {},
   "outputs": [
    {
     "data": {
      "text/plain": [
       "(1, 234, 56, 789)"
      ]
     },
     "execution_count": 32,
     "metadata": {},
     "output_type": "execute_result"
    }
   ],
   "source": [
    "p = scan(\" 01 234  56   789 \")\n",
    "next(p), next(p), next(p), next(p)"
   ]
  },
  {
   "cell_type": "markdown",
   "metadata": {},
   "source": [
    "The above cell should output `(1, 234, 56, 789)`; subsequent calls to `next` would result in an error. You can use the following cell for testing:"
   ]
  },
  {
   "cell_type": "code",
   "execution_count": 33,
   "metadata": {},
   "outputs": [
    {
     "data": {
      "text/plain": [
       "[1, 234, 56, 789]"
      ]
     },
     "execution_count": 33,
     "metadata": {},
     "output_type": "execute_result"
    }
   ],
   "source": [
    "list(scan(\"01 234 56 789\"))"
   ]
  },
  {
   "cell_type": "markdown",
   "metadata": {},
   "source": [
    "The expected output is `[1, 234, 56, 789]`. Your implementation must pass the test below:"
   ]
  },
  {
   "cell_type": "code",
   "execution_count": 34,
   "metadata": {
    "deletable": false,
    "editable": false,
    "nbgrader": {
     "cell_type": "code",
     "checksum": "780edeea170a30994933a01e38c823f4",
     "grade": true,
     "grade_id": "cell-2a2b4c8d4510b4ed",
     "locked": true,
     "points": 4,
     "schema_version": 3,
     "solution": false,
     "task": false
    }
   },
   "outputs": [],
   "source": [
    "from types import GeneratorType\n",
    "p = scan(\"01 234 56 789\")\n",
    "assert isinstance(p, GeneratorType)\n",
    "assert list(p) == [1, 234, 56, 789]\n",
    "assert list(scan(\" 01 234  56   789 \")) == [1, 234, 56, 789]"
   ]
  },
  {
   "cell_type": "code",
   "execution_count": null,
   "metadata": {},
   "outputs": [],
   "source": []
  }
 ],
 "metadata": {
  "kernelspec": {
   "display_name": "Python 3 (ipykernel)",
   "language": "python",
   "name": "python3"
  },
  "language_info": {
   "codemirror_mode": {
    "name": "ipython",
    "version": 3
   },
   "file_extension": ".py",
   "mimetype": "text/x-python",
   "name": "python",
   "nbconvert_exporter": "python",
   "pygments_lexer": "ipython3",
   "version": "3.11.5"
  }
 },
 "nbformat": 4,
 "nbformat_minor": 4
}
