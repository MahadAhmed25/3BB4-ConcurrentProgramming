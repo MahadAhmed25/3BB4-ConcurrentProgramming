{
 "cells": [
  {
   "cell_type": "markdown",
   "metadata": {},
   "source": [
    "### Banking (Java)\n",
    "\n",
    "Consider following Java program with a class `Account` that contains `balance` as the sole field. Classes `Deposit` and `Withdraw` allow to create threads that will deposit to and withdraw from a given `Account` by incrementing or decrementing its `balance` field. They do so by depositing or withdrawing successively increasing amounts from `1` to `M`. The main program creates in total `N` threads, half `Deposit` and half `Withdraw` threads."
   ]
  },
  {
   "cell_type": "code",
   "execution_count": 1,
   "metadata": {},
   "outputs": [
    {
     "name": "stdout",
     "output_type": "stream",
     "text": [
      "Overwriting Bank.java\n"
     ]
    }
   ],
   "source": [
    "%%writefile Bank.java\n",
    "class Account {\n",
    "   int balance = 0;\n",
    "}\n",
    "\n",
    "class Deposit extends Thread {\n",
    "    Account a;\n",
    "    public Deposit(Account a) {\n",
    "        this.a = a;\n",
    "    }\n",
    "    public void run() {\n",
    "        for (int i = 1; i <= Bank.M; i++) a.balance += i;\n",
    "    }\n",
    "}\n",
    "\n",
    "class Withdraw extends Thread {\n",
    "    Account a;\n",
    "    public Withdraw(Account a) {\n",
    "        this.a = a;\n",
    "    }\n",
    "    public void run() {\n",
    "        for (int i = 1; i <= Bank.M; i++) a.balance -= i;\n",
    "    }\n",
    "}\n",
    "\n",
    "public class Bank {\n",
    "    static int M = 1000; // maximum amount deposited or withdrawn\n",
    "    static int N = 1000; // total number of Deposit, Withdraw threads\n",
    "    public static void main(String args[]) {\n",
    "        Account a = new Account();\n",
    "        Thread w[] = new Thread[N];\n",
    "        for (int i = 0; i < N; i++) {\n",
    "            // create half Deposit, half Withdraw threads\n",
    "            if (i % 2 == 0) w[i] = new Deposit(a);\n",
    "            else w[i] = new Withdraw(a);\n",
    "            w[i].start();\n",
    "        }\n",
    "        for (int i = 0; i < N; i++) {\n",
    "            // wait for all threads to terminate\n",
    "            try {w[i].join();\n",
    "            } catch (Exception e) {}\n",
    "        }\n",
    "        System.out.println(a.balance);\n",
    "    }\n",
    "}"
   ]
  },
  {
   "cell_type": "code",
   "execution_count": 2,
   "metadata": {},
   "outputs": [],
   "source": [
    "!javac Bank.java"
   ]
  },
  {
   "cell_type": "code",
   "execution_count": 3,
   "metadata": {},
   "outputs": [
    {
     "name": "stdout",
     "output_type": "stream",
     "text": [
      "1279565\n"
     ]
    }
   ],
   "source": [
    "!java Bank"
   ]
  },
  {
   "cell_type": "markdown",
   "metadata": {},
   "source": [
    "Since in total the same amount is deposited as withdrawn, the balance at the end should be zero. Run it with varying values of `M` and `N`. Sometimes the final balance will be zero and sometimes not. Explain why! As a reminder, reading or writing an integer variable is atomic in Java. [2 points]"
   ]
  },
  {
   "cell_type": "markdown",
   "metadata": {
    "deletable": false,
    "nbgrader": {
     "cell_type": "markdown",
     "checksum": "53d1e5acd1480ca56bd7d1d46174bab7",
     "grade": true,
     "grade_id": "cell-06fbe47ab154328c",
     "locked": false,
     "points": 2,
     "schema_version": 3,
     "solution": true,
     "task": false
    }
   },
   "source": [
    "The main issue with the above class is there is no synchronization mechanism that ensures that despositing and withdrawing operations are done atomically meaning multiple threads can overlap and cause unpredictable behavior. Another reason for this could be race conditions. If 2 threads try to update the value of a.balance concurrently the value being read may not have been updated which can lead to inconsistent behavior. "
   ]
  },
  {
   "cell_type": "markdown",
   "metadata": {},
   "source": [
    "Java has methods for atomically updating integer variables, see https://docs.oracle.com/javase/tutorial/essential/concurrency/atomicvars.html and https://docs.oracle.com/en/java/javase/19/docs/api/java.base/java/util/concurrent/atomic/AtomicInteger.html. Copy above code to the cell bellow and modify it to use an `AtomicInteger` instead of `int`. Test if you now get zero as the final balance! [6 points]"
   ]
  },
  {
   "cell_type": "code",
   "execution_count": 4,
   "metadata": {
    "deletable": false,
    "nbgrader": {
     "cell_type": "code",
     "checksum": "6f38dec99f8caeec8583953f92e09d16",
     "grade": true,
     "grade_id": "cell-e512df5b4c64407f",
     "locked": false,
     "points": 2,
     "schema_version": 3,
     "solution": true,
     "task": false
    }
   },
   "outputs": [
    {
     "name": "stdout",
     "output_type": "stream",
     "text": [
      "Overwriting Bank.java\n"
     ]
    }
   ],
   "source": [
    "%%writefile Bank.java\n",
    "import java.util.concurrent.atomic.AtomicInteger;\n",
    "\n",
    "class Account {\n",
    "   AtomicInteger balance = new AtomicInteger(0);\n",
    "}\n",
    "\n",
    "class Deposit extends Thread {\n",
    "    Account a;\n",
    "    public Deposit(Account a) {\n",
    "        this.a = a;\n",
    "    }\n",
    "    public void run() {\n",
    "        for (int i = 1; i <= Bank.M; i++) a.balance.incrementAndGet();\n",
    "    }\n",
    "}\n",
    "\n",
    "class Withdraw extends Thread {\n",
    "    Account a;\n",
    "    public Withdraw(Account a) {\n",
    "        this.a = a;\n",
    "    }\n",
    "    public void run() {\n",
    "        for (int i = 1; i <= Bank.M; i++) a.balance.decrementAndGet();\n",
    "    }\n",
    "}\n",
    "\n",
    "public class Bank {\n",
    "    static int M = 500; // maximum amount deposited or withdrawn\n",
    "    static int N = 1000; // total number of Deposit, Withdraw threads\n",
    "    public static void main(String args[]) {\n",
    "        Account a = new Account();\n",
    "        Thread w[] = new Thread[N];\n",
    "        for (int i = 0; i < N; i++) {\n",
    "            // create half Deposit, half Withdraw threads\n",
    "            if (i % 2 == 0) w[i] = new Deposit(a);\n",
    "            else w[i] = new Withdraw(a);\n",
    "            w[i].start();\n",
    "        }\n",
    "        for (int i = 0; i < N; i++) {\n",
    "            // wait for all threads to terminate\n",
    "            try {w[i].join();\n",
    "            } catch (Exception e) {}\n",
    "        }\n",
    "        System.out.println(a.balance);\n",
    "    }\n",
    "}"
   ]
  },
  {
   "cell_type": "code",
   "execution_count": 5,
   "metadata": {},
   "outputs": [],
   "source": [
    "!javac Bank.java"
   ]
  },
  {
   "cell_type": "code",
   "execution_count": 6,
   "metadata": {},
   "outputs": [
    {
     "name": "stdout",
     "output_type": "stream",
     "text": [
      "0\n"
     ]
    }
   ],
   "source": [
    "!java Bank"
   ]
  },
  {
   "cell_type": "code",
   "execution_count": null,
   "metadata": {},
   "outputs": [],
   "source": []
  }
 ],
 "metadata": {
  "kernelspec": {
   "display_name": "Python 3 (ipykernel)",
   "language": "python",
   "name": "python3"
  },
  "language_info": {
   "codemirror_mode": {
    "name": "ipython",
    "version": 3
   },
   "file_extension": ".py",
   "mimetype": "text/x-python",
   "name": "python",
   "nbconvert_exporter": "python",
   "pygments_lexer": "ipython3",
   "version": "3.11.2"
  }
 },
 "nbformat": 4,
 "nbformat_minor": 4
}
