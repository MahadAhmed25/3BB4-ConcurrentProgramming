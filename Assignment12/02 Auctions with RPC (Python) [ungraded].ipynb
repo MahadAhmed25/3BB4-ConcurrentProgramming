{
 "cells": [
  {
   "cell_type": "markdown",
   "id": "3f63236b-f237-4be0-847d-da4c19bfaab3",
   "metadata": {},
   "source": [
    "### Auctions with RPC (Python)"
   ]
  },
  {
   "cell_type": "markdown",
   "id": "25feda91-460e-44a3-8969-57eafb6c6e3f",
   "metadata": {},
   "source": [
    "An auction offering shipping container time for international trade on a major route runs on a server. Containers have a volume and are offered at a starting bid. The server allows the auction to be started and ended, all bidding items to be viewed, and bids to be placed. Bids are validated before being accepted. \n",
    "\n",
    "Clients have a specific budget and try to maximize the shipping capacity without overshooting the budget. For this, they can request a list of all bidding items, prepare a bid by selecting containers to bid, place multiple bids, and generate a report of the successful bids.\n",
    "\n",
    "Clients communicate with the auction server via RPC. The server is given below. Your task is to complete the client."
   ]
  },
  {
   "cell_type": "markdown",
   "id": "8c6dce08-3cef-485f-b781-1e5a9e27a8bf",
   "metadata": {},
   "source": [
    "**Server Side.** You can start the server on JupyterHub or your computer. If the port is in use, choose another port. The server is robust in the sense that it validates any requests and returns an error message for invalid requests."
   ]
  },
  {
   "cell_type": "code",
   "execution_count": 12,
   "id": "aa452e9a-7989-421b-997c-eb68363a14a0",
   "metadata": {},
   "outputs": [
    {
     "name": "stderr",
     "output_type": "stream",
     "text": [
      "127.0.0.1 - - [17/Dec/2023 14:04:10] \"POST /RPC2 HTTP/1.1\" 200 -\n",
      "127.0.0.1 - - [17/Dec/2023 14:04:43] \"POST /RPC2 HTTP/1.1\" 200 -\n",
      "127.0.0.1 - - [17/Dec/2023 14:05:12] \"POST /RPC2 HTTP/1.1\" 200 -\n",
      "127.0.0.1 - - [17/Dec/2023 14:05:12] \"POST /RPC2 HTTP/1.1\" 200 -\n",
      "127.0.0.1 - - [17/Dec/2023 14:05:39] \"POST /RPC2 HTTP/1.1\" 200 -\n",
      "127.0.0.1 - - [17/Dec/2023 14:05:39] \"POST /RPC2 HTTP/1.1\" 200 -\n",
      "127.0.0.1 - - [17/Dec/2023 14:05:39] \"POST /RPC2 HTTP/1.1\" 200 -\n",
      "127.0.0.1 - - [17/Dec/2023 14:05:39] \"POST /RPC2 HTTP/1.1\" 200 -\n",
      "127.0.0.1 - - [17/Dec/2023 14:06:39] \"POST /RPC2 HTTP/1.1\" 200 -\n",
      "127.0.0.1 - - [17/Dec/2023 14:06:39] \"POST /RPC2 HTTP/1.1\" 200 -\n",
      "127.0.0.1 - - [17/Dec/2023 14:06:39] \"POST /RPC2 HTTP/1.1\" 200 -\n",
      "127.0.0.1 - - [17/Dec/2023 14:06:39] \"POST /RPC2 HTTP/1.1\" 200 -\n",
      "127.0.0.1 - - [17/Dec/2023 14:07:43] \"POST /RPC2 HTTP/1.1\" 200 -\n",
      "127.0.0.1 - - [17/Dec/2023 14:07:43] \"POST /RPC2 HTTP/1.1\" 200 -\n",
      "127.0.0.1 - - [17/Dec/2023 14:07:43] \"POST /RPC2 HTTP/1.1\" 200 -\n",
      "127.0.0.1 - - [17/Dec/2023 14:07:43] \"POST /RPC2 HTTP/1.1\" 200 -\n",
      "127.0.0.1 - - [17/Dec/2023 14:07:49] \"POST /RPC2 HTTP/1.1\" 200 -\n",
      "127.0.0.1 - - [17/Dec/2023 14:07:49] \"POST /RPC2 HTTP/1.1\" 200 -\n",
      "127.0.0.1 - - [17/Dec/2023 14:07:49] \"POST /RPC2 HTTP/1.1\" 200 -\n",
      "127.0.0.1 - - [17/Dec/2023 14:07:49] \"POST /RPC2 HTTP/1.1\" 200 -\n",
      "127.0.0.1 - - [17/Dec/2023 14:08:21] \"POST /RPC2 HTTP/1.1\" 200 -\n",
      "127.0.0.1 - - [17/Dec/2023 14:08:21] \"POST /RPC2 HTTP/1.1\" 200 -\n",
      "127.0.0.1 - - [17/Dec/2023 14:08:21] \"POST /RPC2 HTTP/1.1\" 200 -\n",
      "127.0.0.1 - - [17/Dec/2023 14:08:21] \"POST /RPC2 HTTP/1.1\" 200 -\n",
      "127.0.0.1 - - [17/Dec/2023 14:09:44] \"POST /RPC2 HTTP/1.1\" 200 -\n",
      "127.0.0.1 - - [17/Dec/2023 14:09:44] \"POST /RPC2 HTTP/1.1\" 200 -\n",
      "127.0.0.1 - - [17/Dec/2023 14:09:44] \"POST /RPC2 HTTP/1.1\" 200 -\n",
      "127.0.0.1 - - [17/Dec/2023 14:09:44] \"POST /RPC2 HTTP/1.1\" 200 -\n",
      "127.0.0.1 - - [17/Dec/2023 14:09:44] \"POST /RPC2 HTTP/1.1\" 200 -\n",
      "127.0.0.1 - - [17/Dec/2023 14:10:42] \"POST /RPC2 HTTP/1.1\" 200 -\n",
      "127.0.0.1 - - [17/Dec/2023 14:10:42] \"POST /RPC2 HTTP/1.1\" 200 -\n",
      "127.0.0.1 - - [17/Dec/2023 14:10:42] \"POST /RPC2 HTTP/1.1\" 200 -\n",
      "127.0.0.1 - - [17/Dec/2023 14:10:42] \"POST /RPC2 HTTP/1.1\" 200 -\n",
      "127.0.0.1 - - [17/Dec/2023 14:10:42] \"POST /RPC2 HTTP/1.1\" 200 -\n",
      "127.0.0.1 - - [17/Dec/2023 14:11:28] \"POST /RPC2 HTTP/1.1\" 200 -\n",
      "127.0.0.1 - - [17/Dec/2023 14:11:28] \"POST /RPC2 HTTP/1.1\" 200 -\n",
      "127.0.0.1 - - [17/Dec/2023 14:11:28] \"POST /RPC2 HTTP/1.1\" 200 -\n",
      "127.0.0.1 - - [17/Dec/2023 14:11:28] \"POST /RPC2 HTTP/1.1\" 200 -\n",
      "127.0.0.1 - - [17/Dec/2023 14:11:28] \"POST /RPC2 HTTP/1.1\" 200 -\n",
      "127.0.0.1 - - [17/Dec/2023 14:11:41] \"POST /RPC2 HTTP/1.1\" 200 -\n",
      "127.0.0.1 - - [17/Dec/2023 14:11:41] \"POST /RPC2 HTTP/1.1\" 200 -\n",
      "127.0.0.1 - - [17/Dec/2023 14:11:41] \"POST /RPC2 HTTP/1.1\" 200 -\n",
      "127.0.0.1 - - [17/Dec/2023 14:11:41] \"POST /RPC2 HTTP/1.1\" 200 -\n",
      "127.0.0.1 - - [17/Dec/2023 14:11:41] \"POST /RPC2 HTTP/1.1\" 200 -\n"
     ]
    },
    {
     "ename": "KeyboardInterrupt",
     "evalue": "",
     "output_type": "error",
     "traceback": [
      "\u001b[0;31m---------------------------------------------------------------------------\u001b[0m",
      "\u001b[0;31mKeyboardInterrupt\u001b[0m                         Traceback (most recent call last)",
      "Cell \u001b[0;32mIn[12], line 45\u001b[0m\n\u001b[1;32m     42\u001b[0m         server\u001b[38;5;241m.\u001b[39mregister_instance(AuctionServer())\n\u001b[1;32m     43\u001b[0m         server\u001b[38;5;241m.\u001b[39mserve_forever()\n\u001b[0;32m---> 45\u001b[0m \u001b[43mrun_server\u001b[49m\u001b[43m(\u001b[49m\u001b[38;5;241;43m8005\u001b[39;49m\u001b[43m)\u001b[49m\n",
      "Cell \u001b[0;32mIn[12], line 43\u001b[0m, in \u001b[0;36mrun_server\u001b[0;34m(port)\u001b[0m\n\u001b[1;32m     41\u001b[0m \u001b[38;5;28;01mwith\u001b[39;00m SimpleXMLRPCServer((\u001b[38;5;124m\"\u001b[39m\u001b[38;5;124mlocalhost\u001b[39m\u001b[38;5;124m\"\u001b[39m, port), allow_none\u001b[38;5;241m=\u001b[39m\u001b[38;5;28;01mTrue\u001b[39;00m) \u001b[38;5;28;01mas\u001b[39;00m server:\n\u001b[1;32m     42\u001b[0m     server\u001b[38;5;241m.\u001b[39mregister_instance(AuctionServer())\n\u001b[0;32m---> 43\u001b[0m     \u001b[43mserver\u001b[49m\u001b[38;5;241;43m.\u001b[39;49m\u001b[43mserve_forever\u001b[49m\u001b[43m(\u001b[49m\u001b[43m)\u001b[49m\n",
      "File \u001b[0;32m/usr/lib64/python3.11/socketserver.py:233\u001b[0m, in \u001b[0;36mBaseServer.serve_forever\u001b[0;34m(self, poll_interval)\u001b[0m\n\u001b[1;32m    230\u001b[0m selector\u001b[38;5;241m.\u001b[39mregister(\u001b[38;5;28mself\u001b[39m, selectors\u001b[38;5;241m.\u001b[39mEVENT_READ)\n\u001b[1;32m    232\u001b[0m \u001b[38;5;28;01mwhile\u001b[39;00m \u001b[38;5;129;01mnot\u001b[39;00m \u001b[38;5;28mself\u001b[39m\u001b[38;5;241m.\u001b[39m__shutdown_request:\n\u001b[0;32m--> 233\u001b[0m     ready \u001b[38;5;241m=\u001b[39m \u001b[43mselector\u001b[49m\u001b[38;5;241;43m.\u001b[39;49m\u001b[43mselect\u001b[49m\u001b[43m(\u001b[49m\u001b[43mpoll_interval\u001b[49m\u001b[43m)\u001b[49m\n\u001b[1;32m    234\u001b[0m     \u001b[38;5;66;03m# bpo-35017: shutdown() called during select(), exit immediately.\u001b[39;00m\n\u001b[1;32m    235\u001b[0m     \u001b[38;5;28;01mif\u001b[39;00m \u001b[38;5;28mself\u001b[39m\u001b[38;5;241m.\u001b[39m__shutdown_request:\n",
      "File \u001b[0;32m/usr/lib64/python3.11/selectors.py:415\u001b[0m, in \u001b[0;36m_PollLikeSelector.select\u001b[0;34m(self, timeout)\u001b[0m\n\u001b[1;32m    413\u001b[0m ready \u001b[38;5;241m=\u001b[39m []\n\u001b[1;32m    414\u001b[0m \u001b[38;5;28;01mtry\u001b[39;00m:\n\u001b[0;32m--> 415\u001b[0m     fd_event_list \u001b[38;5;241m=\u001b[39m \u001b[38;5;28mself\u001b[39m\u001b[38;5;241m.\u001b[39m_selector\u001b[38;5;241m.\u001b[39mpoll(timeout)\n\u001b[1;32m    416\u001b[0m \u001b[38;5;28;01mexcept\u001b[39;00m \u001b[38;5;167;01mInterruptedError\u001b[39;00m:\n\u001b[1;32m    417\u001b[0m     \u001b[38;5;28;01mreturn\u001b[39;00m ready\n",
      "\u001b[0;31mKeyboardInterrupt\u001b[0m: "
     ]
    }
   ],
   "source": [
    "from xmlrpc.server import SimpleXMLRPCServer\n",
    "\n",
    "class AuctionServer:\n",
    "    def __init__(self):\n",
    "        self.items, self.bids, self.auction_live = {}, {}, False\n",
    "        self.start_auction({\n",
    "            'Container1': {'volume': 500, 'starting_bid': 1000},\n",
    "            'Container2': {'volume': 300, 'starting_bid': 800},\n",
    "            'Container3': {'volume': 450, 'starting_bid': 1200},\n",
    "            'Container4': {'volume': 250, 'starting_bid': 700}\n",
    "        })\n",
    "\n",
    "    def start_auction(self, containers_info):\n",
    "        if self.auction_live: return \"Auction already in progress.\"\n",
    "        self.items = {container_id: {'volume': info['volume'], 'highest_bid': info['starting_bid'], 'highest_bidder': None} for container_id, info in containers_info.items()}\n",
    "        self.auction_live = True\n",
    "        return \"Auction started with items: \" + \", \".join(containers_info)\n",
    "\n",
    "    def place_bid(self, item, bidder, bid_amount):\n",
    "        if not self.auction_live or item not in self.items: return \"Auction not in progress or item not found.\"\n",
    "        current_bid = self.items[item]['highest_bid']\n",
    "        if bid_amount > current_bid:\n",
    "            self.items[item]['highest_bid'] = bid_amount\n",
    "            self.items[item]['highest_bidder'] = bidder\n",
    "            return f\"Bid placed successfully: {bidder} bid {bid_amount} on {item}.\"\n",
    "        else:\n",
    "            return f\"Bid too low. Current highest bid is {current_bid}.\"\n",
    "\n",
    "    def view_items(self):\n",
    "        if not self.auction_live: return \"Auction not in progress.\"\n",
    "        return self.items\n",
    "\n",
    "    def end_auction(self):\n",
    "        if not self.auction_live: return \"No auction to end.\"\n",
    "        self.auction_live = False\n",
    "        results = {item: self.items[item] for item in self.items}\n",
    "        self.items = {}  # Reset for next auction\n",
    "        return results\n",
    "\n",
    "def run_server(port):\n",
    "    with SimpleXMLRPCServer((\"localhost\", port), allow_none=True) as server:\n",
    "        server.register_instance(AuctionServer())\n",
    "        server.serve_forever()\n",
    "\n",
    "run_server(8005)"
   ]
  },
  {
   "cell_type": "markdown",
   "id": "0230165b-5236-42f0-8f08-80248123caa0",
   "metadata": {},
   "source": [
    "**Client Side.** Complete the client! You can run the client on the same computer as the server or connect to the server remotely."
   ]
  },
  {
   "cell_type": "code",
   "execution_count": 9,
   "id": "76d8789d-60c8-4daa-9a77-cfcf1229857c",
   "metadata": {},
   "outputs": [],
   "source": [
    "import xmlrpc.client\n",
    "\n",
    "class MultiItemBiddingClient:\n",
    "\n",
    "    def __init__(self, bidder, budget, target_volume, server_url):\n",
    "        self.bidder = bidder\n",
    "        self.budget = budget\n",
    "        self.target_volume = target_volume\n",
    "        self.server_url = server_url\n",
    "        self.items_to_bid = {}\n",
    "        self.acquired_volume = 0\n",
    "        self.items_won = {}\n",
    "        self.bids_queue = []\n",
    "        \n",
    "    def add_item(self, container_id, volume, max_bid):\n",
    "        # adds containers to the client's bidding list\n",
    "        self.items_to_bid[container_id] = {\"volume\": volume, \"max_bid\": max_bid}\n",
    "    \n",
    "    def prepare_bids(self):\n",
    "        # determines a sequence of bids to maximize the bid values\n",
    "        for container_id, info in self.items_to_bid.items():\n",
    "            current_bid = 0\n",
    "            while current_bid < info[\"max_bid\"] and current_bid + 1000 <= self.budget:\n",
    "                current_bid += 1000\n",
    "                self.bids_queue.append((container_id, current_bid))\n",
    "            \n",
    "    def process_bids(self):\n",
    "        # places the bids and handles the server's responses\n",
    "        server_proxy = xmlrpc.client.ServerProxy(self.server_url)\n",
    "        for container_id, bid in self.bids_queue:\n",
    "            print(f\"Attempting to bid {bid} on {container_id}\")  # Debugging print\n",
    "            if self.acquired_volume > self.target_volume or bid > self.budget:\n",
    "                break\n",
    "            response = server_proxy.place_bid(container_id, self.bidder, bid)  \n",
    "            print(f\"Response from server: {response}\")  # Debugging print\n",
    "            if \"successfully\" in response:\n",
    "                self.budget -= bid\n",
    "                self.acquired_volume += self.items_to_bid[container_id][\"volume\"]\n",
    "                self.items_won[container_id] = bid\n",
    "                \n",
    "    def generate_report(self):\n",
    "        # returns a list of successful bids\n",
    "        return f\"{self.bidder} won containers with a total volume of {self.acquired_volume} and spent {sum(self.items_won.values())}: {self.items_won}\""
   ]
  },
  {
   "cell_type": "markdown",
   "id": "93bb1fcb-f4f3-4577-8d11-60c0782a129b",
   "metadata": {},
   "source": [
    "You can use the example below for testing."
   ]
  },
  {
   "cell_type": "code",
   "execution_count": null,
   "id": "16386525-41a4-4895-8626-46731a6a377b",
   "metadata": {},
   "outputs": [],
   "source": [
    "client = MultiItemBiddingClient(\"Your Company\", 5000, 1000, \"http://localhost:8005\")\n",
    "client.add_item('Container1', 500, 1000)  # Make sure added items exist in the Server \n",
    "client.prepare_bids()\n",
    "client.process_bids()\n",
    "print(client.generate_report())"
   ]
  },
  {
   "cell_type": "code",
   "execution_count": null,
   "id": "88258ed0-52d5-4793-b25e-c3fb7adcde81",
   "metadata": {},
   "outputs": [],
   "source": []
  }
 ],
 "metadata": {
  "kernelspec": {
   "display_name": "Python 3 (ipykernel)",
   "language": "python",
   "name": "python3"
  },
  "language_info": {
   "codemirror_mode": {
    "name": "ipython",
    "version": 3
   },
   "file_extension": ".py",
   "mimetype": "text/x-python",
   "name": "python",
   "nbconvert_exporter": "python",
   "pygments_lexer": "ipython3",
   "version": "3.11.5"
  }
 },
 "nbformat": 4,
 "nbformat_minor": 5
}
