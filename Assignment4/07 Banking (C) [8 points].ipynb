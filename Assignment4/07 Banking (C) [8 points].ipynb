{
 "cells": [
  {
   "cell_type": "markdown",
   "metadata": {},
   "source": [
    "### Banking (C)\n",
    "\n",
    "Consider following C program with a global variable, `balance`. Functions `deposit` and `withdraw` are for creating threads that will deposit to and withdraw by incrementing and decrementing `balance`. They do so by depositing or withdrawing successively increasing amounts from `1` to `M`. The main program creates `N` threads, half `deposit` and half `withdraw` threads."
   ]
  },
  {
   "cell_type": "code",
   "execution_count": 8,
   "metadata": {},
   "outputs": [
    {
     "name": "stdout",
     "output_type": "stream",
     "text": [
      "Overwriting Bank.c\n"
     ]
    }
   ],
   "source": [
    "%%writefile Bank.c\n",
    "#include <pthread.h>\n",
    "#include <stdio.h>\n",
    "\n",
    "#define M 10000 /* maximum amount deposited or withdrawn */\n",
    "#define N 50 /* total number of deposit, withdraw threads */\n",
    "\n",
    "int balance = 0;\n",
    "\n",
    "void* deposit(void *arg) {\n",
    "    for (int i = 1; i <= M; ++i)\n",
    "        balance += i;\n",
    "}\n",
    "\n",
    "void* withdraw(void *arg) {\n",
    "    for (int i = 1; i <= M; ++i)\n",
    "        balance -= i;\n",
    "}\n",
    "\n",
    "int main(void) {\n",
    "    pthread_t w[N];\n",
    "    for (int i = 0; i < N; i++)\n",
    "        if (i % 2) pthread_create(&w[i], NULL, withdraw, NULL);\n",
    "        else pthread_create(&w[i], NULL, deposit, NULL);\n",
    "    for (int i = 0; i < N; i++)\n",
    "        pthread_join(w[i], NULL); \n",
    "    printf(\"%d\\n\", balance);\n",
    "}"
   ]
  },
  {
   "cell_type": "code",
   "execution_count": 9,
   "metadata": {},
   "outputs": [],
   "source": [
    "!gcc Bank.c -lpthread -o Bank"
   ]
  },
  {
   "cell_type": "code",
   "execution_count": 10,
   "metadata": {},
   "outputs": [
    {
     "name": "stdout",
     "output_type": "stream",
     "text": [
      "-1473570496\n",
      "CPU times: user 11.4 ms, sys: 9.38 ms, total: 20.8 ms\n",
      "Wall time: 859 ms\n"
     ]
    }
   ],
   "source": [
    "%time !./Bank"
   ]
  },
  {
   "cell_type": "markdown",
   "metadata": {},
   "source": [
    "Since in total the same amount is deposited as withdrawn, the balance at the end should be zero. Run it with varying values of `M` and `N`. Sometimes the final balance will be zero and sometimes not. Give the values for `M` and `N` that show different behavious and explain it!  [2 points]"
   ]
  },
  {
   "cell_type": "markdown",
   "metadata": {
    "deletable": false,
    "nbgrader": {
     "cell_type": "markdown",
     "checksum": "53d1e5acd1480ca56bd7d1d46174bab7",
     "grade": true,
     "grade_id": "cell-06fbe47ab154328c",
     "locked": false,
     "points": 2,
     "schema_version": 3,
     "solution": true,
     "task": false
    }
   },
   "source": [
    "M = 1000, N = 1000\n",
    "M = 10000, N = 10000\n",
    "M = 10000, N = 50"
   ]
  },
  {
   "cell_type": "markdown",
   "metadata": {},
   "source": [
    "C has built-in functions `__atomic_add_fetch` and `__atomic_sub_fetch` to atomically increment and decrement an integer variable, see https://gcc.gnu.org/onlinedocs/gcc/_005f_005fatomic-Builtins.html. Copy above code to the cell bellow and modify it to use those functions! For the last parameter, `memorder`, you can use `__ATOMIC_SEQ_CST`. Test if you now get zero as the final balance! [2 points]"
   ]
  },
  {
   "cell_type": "code",
   "execution_count": 1,
   "metadata": {
    "deletable": false,
    "nbgrader": {
     "cell_type": "code",
     "checksum": "6f38dec99f8caeec8583953f92e09d16",
     "grade": true,
     "grade_id": "cell-e512df5b4c64407f",
     "locked": false,
     "points": 2,
     "schema_version": 3,
     "solution": true,
     "task": false
    }
   },
   "outputs": [
    {
     "name": "stdout",
     "output_type": "stream",
     "text": [
      "Overwriting Bank.c\n"
     ]
    }
   ],
   "source": [
    "%%writefile Bank.c\n",
    "#include <pthread.h>\n",
    "#include <stdio.h>\n",
    "\n",
    "#define M 1000 /* maximum amount deposited or withdrawn */\n",
    "#define N 1000 /* total number of deposit, withdraw threads */\n",
    "\n",
    "int balance = 0;\n",
    "\n",
    "void* deposit(void *arg) {\n",
    "    for (int i = 1; i <= M; ++i)\n",
    "        __atomic_add_fetch(&balance, i, __ATOMIC_SEQ_CST);\n",
    "}\n",
    "\n",
    "void* withdraw(void *arg) {\n",
    "    for (int i = 1; i <= M; ++i)\n",
    "        __atomic_sub_fetch(&balance, i, __ATOMIC_SEQ_CST);\n",
    "}\n",
    "\n",
    "int main(void) {\n",
    "    pthread_t w[N];\n",
    "    for (int i = 0; i < N; i++)\n",
    "        if (i % 2) pthread_create(&w[i], NULL, withdraw, NULL);\n",
    "        else pthread_create(&w[i], NULL, deposit, NULL);\n",
    "    for (int i = 0; i < N; i++)\n",
    "        pthread_join(w[i], NULL); \n",
    "    printf(\"%d\\n\", balance);\n",
    "}"
   ]
  },
  {
   "cell_type": "code",
   "execution_count": 2,
   "metadata": {},
   "outputs": [],
   "source": [
    "!gcc Bank.c -lpthread -o Bank"
   ]
  },
  {
   "cell_type": "code",
   "execution_count": 3,
   "metadata": {},
   "outputs": [
    {
     "name": "stdout",
     "output_type": "stream",
     "text": [
      "0\n",
      "CPU times: user 2.01 ms, sys: 8.21 ms, total: 10.2 ms\n",
      "Wall time: 173 ms\n"
     ]
    }
   ],
   "source": [
    "%time !./Bank"
   ]
  },
  {
   "cell_type": "markdown",
   "metadata": {},
   "source": [
    "C also allow variables to be declared as `_Atomic`, e.g. `_Atomic int global`, which makes updates of those variables implicitly atomic. If `stdatomic.h` in included, then `atomic_int global` is an equivalent to the above declaration. Copy the code from the first code cell to the cell bellow and modify it accordingly! Test if you now get zero as the final balance! [2 points]"
   ]
  },
  {
   "cell_type": "code",
   "execution_count": 42,
   "metadata": {
    "deletable": false,
    "nbgrader": {
     "cell_type": "code",
     "checksum": "c005ca01efab221df239d1fc5c536017",
     "grade": true,
     "grade_id": "cell-708c065bfc10bfb1",
     "locked": false,
     "points": 2,
     "schema_version": 3,
     "solution": true,
     "task": false
    }
   },
   "outputs": [
    {
     "name": "stdout",
     "output_type": "stream",
     "text": [
      "Overwriting Bank.c\n"
     ]
    }
   ],
   "source": [
    "%%writefile Bank.c\n",
    "#include <pthread.h>\n",
    "#include <stdio.h>\n",
    "#include <stdatomic.h>\n",
    "\n",
    "#define M 10000 /* maximum amount deposited or withdrawn */\n",
    "#define N 100000 /* total number of deposit, withdraw threads */\n",
    "\n",
    "_Atomic int balance = 0;\n",
    "\n",
    "void* deposit(void *arg) {\n",
    "    for (int i = 1; i <= M; ++i)\n",
    "        balance += i;\n",
    "}\n",
    "\n",
    "void* withdraw(void *arg) {\n",
    "    for (int i = 1; i <= M; ++i)\n",
    "        balance -= i;\n",
    "}\n",
    "\n",
    "int main(void) {\n",
    "    pthread_t w[N];\n",
    "    for (int i = 0; i < N; i++)\n",
    "        if (i % 2) pthread_create(&w[i], NULL, withdraw, NULL);\n",
    "        else pthread_create(&w[i], NULL, deposit, NULL);\n",
    "    for (int i = 0; i < N; i++)\n",
    "        pthread_join(w[i], NULL); \n",
    "    printf(\"%d\\n\", balance);\n",
    "}"
   ]
  },
  {
   "cell_type": "code",
   "execution_count": 43,
   "metadata": {},
   "outputs": [],
   "source": [
    "!gcc Bank.c -lpthread -Wno-incompatible-pointer-types -o Bank"
   ]
  },
  {
   "cell_type": "code",
   "execution_count": 44,
   "metadata": {},
   "outputs": [
    {
     "name": "stdout",
     "output_type": "stream",
     "text": [
      "CPU times: user 78.5 ms, sys: 17.7 ms, total: 96.2 ms\n",
      "Wall time: 6.11 s\n"
     ]
    }
   ],
   "source": [
    "%time !./Bank"
   ]
  },
  {
   "cell_type": "markdown",
   "metadata": {},
   "source": [
    "The `%time` [line magic](https://ipython.readthedocs.io/en/stable/interactive/magics.html) displays the *wall clock time* of the subsequent command (ignore the other displayed times). Choose values of `M` and `N` that make the wall clock time in the seconds. Run each timing command repeatedly to see if you get similar results; choose a time of the day when there is little load on the server. Now compare the times of the three implementations for the same value of `M` and `N`. What is your observation and what is your explanation?"
   ]
  },
  {
   "cell_type": "markdown",
   "metadata": {
    "deletable": false,
    "nbgrader": {
     "cell_type": "markdown",
     "checksum": "da781342bda1aa77d4d475f55c5827ff",
     "grade": true,
     "grade_id": "cell-a6d4fdd65ed07fa0",
     "locked": false,
     "points": 2,
     "schema_version": 3,
     "solution": true,
     "task": false
    }
   },
   "source": [
    "The first implementation did not use synchronization mechanisms which led to race conditions that provided non zero outputs. The second implementation used atomic increment and decrement which provided the correct output of 0 continuously. In the final implementation we used an atomic variable which also gave consistent answers of 0. the wall time for each execution increased depending on M and N but the overall execution of the code was faster."
   ]
  }
 ],
 "metadata": {
  "kernelspec": {
   "display_name": "Python 3 (ipykernel)",
   "language": "python",
   "name": "python3"
  },
  "language_info": {
   "codemirror_mode": {
    "name": "ipython",
    "version": 3
   },
   "file_extension": ".py",
   "mimetype": "text/x-python",
   "name": "python",
   "nbconvert_exporter": "python",
   "pygments_lexer": "ipython3",
   "version": "3.11.2"
  }
 },
 "nbformat": 4,
 "nbformat_minor": 4
}
