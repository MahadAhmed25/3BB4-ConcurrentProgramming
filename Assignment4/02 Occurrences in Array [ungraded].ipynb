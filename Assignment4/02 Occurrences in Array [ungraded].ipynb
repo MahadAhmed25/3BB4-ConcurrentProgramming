{
 "cells": [
  {
   "cell_type": "markdown",
   "metadata": {
    "deletable": false,
    "editable": false,
    "nbgrader": {
     "cell_type": "markdown",
     "checksum": "1000a1b780e23226b75c0395905d8455",
     "grade": false,
     "grade_id": "cell-155edc14d3667376",
     "locked": true,
     "schema_version": 3,
     "solution": false,
     "task": false
    },
    "slideshow": {
     "slide_type": "slide"
    }
   },
   "source": [
    "### Occurrences in Array"
   ]
  },
  {
   "cell_type": "markdown",
   "metadata": {},
   "source": [
    "Given array `a: 0 .. N – 1 → integer` for constant `N ≥ 0`, write a mathematical function, `count(a, x, n)`, that states how often integer `x` occurs in `a` from  `0` to `n – 1` for `0 ≤ n ≤ N`. *Hint:* You may use `#s` for the cardinality of set `s`, as in `#{i ∈ 0 .. n – 1 | i² < n}`."
   ]
  },
  {
   "cell_type": "markdown",
   "metadata": {
    "solution": "hidden",
    "solution_first": true
   },
   "source": [
    "```\n",
    "#{i ∈ 0 .. n – 1 | x == a(i)}\n",
    "```"
   ]
  },
  {
   "cell_type": "markdown",
   "metadata": {},
   "source": [
    "Using a single loop, write a procedure that establishes the postcondition `c = count(a, x, N)`.  Give the annotation required to prove the correctness of the procedure!"
   ]
  },
  {
   "cell_type": "markdown",
   "metadata": {
    "solution": "hidden",
    "solution_first": true
   },
   "source": [
    "```\n",
    "procedure occurrences(a: 0 .. N – 1 → integer) → (c: integer)\n",
    "    c := 0\n",
    "    i := 0\n",
    "    {P: c = count(a, x, i-1) ∧ 0 ≤ i < N}\n",
    "    for i to N - 1 do\n",
    "        if a(i) = x then c = c + 1\n",
    "        i = i + 1\n",
    "    {c = count(a, x, N)}\n",
    "```"
   ]
  },
  {
   "cell_type": "markdown",
   "metadata": {},
   "source": [
    "Now state the resulting correctness conditions!"
   ]
  },
  {
   "cell_type": "markdown",
   "metadata": {
    "solution": "hidden",
    "solution_first": true
   },
   "source": [
    "1. `{true} ⇒ P[c, i := 0, 0]`\n",
    "2. `P ∧ i < N-1 ⇒ P[c, i := c+1, i+1] ∨ P[c, i := c, i+1]`\n",
    "3. `P ∧ i ≥ N-1 ⇒ c = count(a, x, N)`\n"
   ]
  },
  {
   "cell_type": "code",
   "execution_count": null,
   "metadata": {},
   "outputs": [],
   "source": []
  }
 ],
 "metadata": {
  "kernelspec": {
   "display_name": "Python 3 (ipykernel)",
   "language": "python",
   "name": "python3"
  },
  "language_info": {
   "codemirror_mode": {
    "name": "ipython",
    "version": 3
   },
   "file_extension": ".py",
   "mimetype": "text/x-python",
   "name": "python",
   "nbconvert_exporter": "python",
   "pygments_lexer": "ipython3",
   "version": "3.11.2"
  }
 },
 "nbformat": 4,
 "nbformat_minor": 4
}
