{
 "cells": [
  {
   "cell_type": "markdown",
   "metadata": {
    "deletable": false,
    "editable": false,
    "nbgrader": {
     "cell_type": "markdown",
     "checksum": "910a07afa9bf2a87047c91cdd68f9946",
     "grade": false,
     "grade_id": "cell-c98846e11ed9aade",
     "locked": true,
     "schema_version": 3,
     "solution": false,
     "task": false
    }
   },
   "source": [
    "### SFWRENG 3BB4 Software Design II, Fall 2023/24, McMaster University\n",
    "**Emil Sekerinski (instructor), Nancy Kansal (TA)**\n",
    "\n",
    "Maximum is 24 points + 4 bonus points counting towards any other assignment.\n",
    "\n",
    "**Assignment 8, due Wednesday, November 16, 11 pm. Introduced at:**\n",
    "- T03 on Monday, November 7\n",
    "- T01 on Tuesday, November 8\n",
    "- T02 on Wednesday, November 9\n",
    "\n",
    "The purpose of this assignment is to:\n",
    "\n",
    "* understand the differences between semaphores and monitors,\n",
    "* work with a program structure consisting of active processes and passive monitors,\n",
    "* experience the effect of the granularity of mutual exclusion.\n",
    "\n",
    "This assignment has ungraded exercises. You are encouraged to start with them before the tutorial but can complete them during it. Solutions are presented only at the tutorial.\n",
    "\n",
    "This tutorial also discusses the solutions to the graded questions of the previous assignment. Solutions to assignments are presented only in the tutorials; they are not posted.\n",
    "\n",
    "*Instructions:*\n",
    "- Do not copy and paste graded cells as a whole, as that corrupts the notebook's metadata, and automatic grading fails. However, you may copy and paste the content of a cell to a new cell.\n",
    "- Edit code only where it says YOUR CODE HERE; do not change the names of functions, methods, and classes; do not change the number or types of parameters; remove `raise NotImplementedError()`. Otherwise, the automatic grading fails, which may result in a deduction.\n",
    "- If a notebook uses Python, before submitting, \"Restart Kernel\" and run the Python code from the beginning to clear the state of the kernel and to check that the output is as expected. When notebooks are graded, they are run with a freshly initialized kernel.\n",
    "- Log files may be created when your program crashes. These log files may become so large that they prevent submission. Delete all log files and submit a cleaned-up folder.\n",
    "- You are asked to write well-structured and readable source code. The source code is always used for grading in addition to the test results. Your program passing the provided does not guarantee that your program is correct and that you will receive full (or any) marks."
   ]
  }
 ],
 "metadata": {
  "kernelspec": {
   "display_name": "Python 3 (ipykernel)",
   "language": "python",
   "name": "python3"
  },
  "language_info": {
   "codemirror_mode": {
    "name": "ipython",
    "version": 3
   },
   "file_extension": ".py",
   "mimetype": "text/x-python",
   "name": "python",
   "nbconvert_exporter": "python",
   "pygments_lexer": "ipython3",
   "version": "3.11.2"
  }
 },
 "nbformat": 4,
 "nbformat_minor": 4
}
