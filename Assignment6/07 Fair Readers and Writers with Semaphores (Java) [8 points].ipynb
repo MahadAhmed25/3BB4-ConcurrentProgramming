{
 "cells": [
  {
   "cell_type": "markdown",
   "metadata": {},
   "source": [
    "### Fair Readers and Writers with Semaphores (Java) [8 points]"
   ]
  },
  {
   "cell_type": "markdown",
   "metadata": {},
   "source": [
    "Implement a fair solution in Java with readers and writers following the synchronization scheme of the course notes. In the template below, there is only a single reader and a single writer. The reader busily keeps reading and computes the maximum of all numbers read. The writer generates in 1-second intervals numbers `0 .. numIters` starting from the middle one and wrapping around, i.e. generating the maximum after about half the iterations. The variable `numIters` is the command line parameter. The synchronization scheme has to ensure that the writer is given preference, so if there is more than one reader, all readers can get updates from the writer. Your solution must be correct for multiple readers and writers, even if the code below creates only one reader and a single writer.\n",
    "\n",
    "By default, threads in Java are not created as _daemon threads,_ meaning that they will continue after the main thread terminates. Below, the main program waits only for the writer to terminate, and the reader thread is made a daemon thread.\n",
    "\n",
    "Be careful to declare only those variables `volatile` that need to be declared volatile. Otherwise, the program may run slower unnecessarily. Play around to see what happens if you don't declare variables `volatile`!"
   ]
  },
  {
   "cell_type": "code",
   "execution_count": 16,
   "metadata": {
    "deletable": false,
    "nbgrader": {
     "cell_type": "code",
     "checksum": "ab0bfc90ece99f41ced77354b7d912de",
     "grade": true,
     "grade_id": "cell-7714773b26b5f7a5",
     "locked": false,
     "points": 8,
     "schema_version": 3,
     "solution": true,
     "task": false
    }
   },
   "outputs": [
    {
     "name": "stdout",
     "output_type": "stream",
     "text": [
      "Overwriting ReaderWriter.java\n"
     ]
    }
   ],
   "source": [
    "%%writefile ReaderWriter.java\n",
    "import java.util.concurrent.Semaphore;\n",
    "import java.lang.String;\n",
    "\n",
    "public class ReaderWriter {\n",
    "    /* global variables and semaphores */\n",
    "    public static Semaphore e = new Semaphore(1);\n",
    "    public static Semaphore r = new Semaphore(0);\n",
    "    public static Semaphore w = new Semaphore(0);\n",
    "    public static int nr = 0;\n",
    "    public static int nw = 0;\n",
    "    public static int dr = 0;\n",
    "    public static int dw = 0;\n",
    "    public static volatile int data = 0;\n",
    "    public static int numIters = 0;\n",
    "    public static volatile int maxdata;\n",
    "\n",
    "    static void reader() {\n",
    "        maxdata = 0;\n",
    "        System.out.println(\"Reader starting\");\n",
    "        while (true) {\n",
    "            /* entry protocol */\n",
    "            try{e.acquire();} catch (Exception e) {}\n",
    "            if (nw > 0 || dw > 0) {\n",
    "                dr += 1;\n",
    "                e.release();\n",
    "                try{r.acquire(); } catch (Exception e) {}\n",
    "            }\n",
    "            nr += 1;\n",
    "            if (dr > 0){\n",
    "                dr -=1;\n",
    "                r.release();\n",
    "            }\n",
    "            else{\n",
    "                e.release();\n",
    "            }\n",
    "            if (data > maxdata) System.out.printf(\"Reader in critical section read %d\\n\", data);\n",
    "            maxdata = data > maxdata ? data : maxdata;\n",
    "            /* exit protocol */     \n",
    "            try{e.acquire();} catch (Exception e) {}\n",
    "            nr -= 1;\n",
    "            if (nr == 0 && dw > 0){\n",
    "                dw-=1;\n",
    "                w.release();\n",
    "            }\n",
    "            else{\n",
    "                e.release();\n",
    "            }\n",
    "        }\n",
    "    }\n",
    "\n",
    "    static void writer() {\n",
    "        System.out.printf(\"Writer starting\\n\");\n",
    "        for (int i = 0; i < numIters; i++) {\n",
    "            /* entry protocol */\n",
    "            try{e.acquire();} catch (Exception e) {}\n",
    "            System.out.println(\"Writer trying to enter\");\n",
    "            if (nr > 0 || nw > 0){\n",
    "                dw +=1;\n",
    "                e.release();\n",
    "                try{w.acquire();} catch (Exception e) {}\n",
    "            }\n",
    "            nw += 1;\n",
    "            e.release();\n",
    "                \n",
    "            System.out.printf(\"Writer in critical section\\n\");\n",
    "            data = (i + numIters / 2) % numIters;\n",
    "            System.out.printf(\"Writer writing %d\\n\", data);\n",
    "            /* exit protocol */\n",
    "            try{e.acquire();} catch (Exception e) {}\n",
    "            nw -= 1;\n",
    "            if (dw > 0){\n",
    "                dw -=1;\n",
    "                w.release();\n",
    "            }\n",
    "            else if (dr > 0){\n",
    "                dr -= 1;\n",
    "                r.release();\n",
    "            }\n",
    "            else {\n",
    "                e.release();\n",
    "            }\n",
    "            try {Thread.sleep(1000);} catch (Exception e) {}; // sleep 1 sec\n",
    "        }\n",
    "    }\n",
    "    public static void main(String args[]) {\n",
    "        numIters = Integer.parseInt(args[0]);\n",
    "        Thread r = new Thread() {{setDaemon(true);} public void run() {reader();}};\n",
    "        Thread w = new Thread() {public void run() {writer();}};\n",
    "\n",
    "        r.start(); w.start();\n",
    "        try {w.join();} catch (Exception e) {}\n",
    "        System.out.printf(\"Max data %d\\n\", maxdata);       \n",
    "    }\n",
    "}"
   ]
  },
  {
   "cell_type": "code",
   "execution_count": 17,
   "metadata": {},
   "outputs": [],
   "source": [
    "!javac ReaderWriter.java"
   ]
  },
  {
   "cell_type": "code",
   "execution_count": 18,
   "metadata": {},
   "outputs": [
    {
     "name": "stdout",
     "output_type": "stream",
     "text": [
      "Writer starting\n",
      "Reader starting\n",
      "Writer trying to enter\n",
      "Writer in critical section\n",
      "Writer writing 2\n",
      "Reader in critical section read 2\n",
      "Writer trying to enter\n",
      "Writer in critical section\n",
      "Writer writing 3\n",
      "Reader in critical section read 3\n",
      "Writer trying to enter\n",
      "Writer in critical section\n",
      "Writer writing 4\n",
      "Reader in critical section read 4\n",
      "Writer trying to enter\n",
      "Writer in critical section\n",
      "Writer writing 0\n",
      "Writer trying to enter\n",
      "Writer in critical section\n",
      "Writer writing 1\n",
      "Max data 4\n"
     ]
    }
   ],
   "source": [
    "!java ReaderWriter 5"
   ]
  },
  {
   "cell_type": "code",
   "execution_count": null,
   "metadata": {},
   "outputs": [],
   "source": []
  }
 ],
 "metadata": {
  "kernelspec": {
   "display_name": "Python 3 (ipykernel)",
   "language": "python",
   "name": "python3"
  },
  "language_info": {
   "codemirror_mode": {
    "name": "ipython",
    "version": 3
   },
   "file_extension": ".py",
   "mimetype": "text/x-python",
   "name": "python",
   "nbconvert_exporter": "python",
   "pygments_lexer": "ipython3",
   "version": "3.11.2"
  }
 },
 "nbformat": 4,
 "nbformat_minor": 4
}
