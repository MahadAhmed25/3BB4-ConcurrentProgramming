{
 "cells": [
  {
   "cell_type": "markdown",
   "id": "03b5075e-2af1-4ea5-9494-4ee5e80e5f56",
   "metadata": {
    "deletable": false,
    "editable": false,
    "nbgrader": {
     "cell_type": "markdown",
     "checksum": "51f49fac94664810f7b7c84be1197b0b",
     "grade": false,
     "grade_id": "cell-40a55cf00a2368b8",
     "locked": true,
     "schema_version": 3,
     "solution": false,
     "task": false
    }
   },
   "source": [
    "### Retiring Philosophers"
   ]
  },
  {
   "cell_type": "markdown",
   "id": "0502afa5-9013-4aa8-9cd0-8bac60ab8d2f",
   "metadata": {
    "deletable": false,
    "editable": false,
    "nbgrader": {
     "cell_type": "markdown",
     "checksum": "88b0fd383cf2ac8b001fdb4cf9508e8b",
     "grade": false,
     "grade_id": "cell-facab38ce5cadae7",
     "locked": true,
     "schema_version": 3,
     "solution": false,
     "task": false
    }
   },
   "source": [
    "<img style=\"float:right;border-left:2em solid white\" src=\"./img/DiningPhilosophers.svg\"/>\n",
    "\n",
    "Recall the problem of the Dining Philosophers:\n",
    "\n",
    "> Five philosophers spend their lives thinking and eating. The philosophers share a common dining room where there is a circular table surrounded by five chairs, each belonging to one philosopher. In the center of the table, there is a large bowl of spaghetti, and the table is laid with five forks. On feeling hungry, a philosopher enters the dining room, sits in his own chair, and picks up the fork on the left of his place. Unfortunately, the spaghetti is so tangled that he needs to pick up and use the fork on his right as well. When he has finished, he puts down both forks and leaves the room.\n",
    "\n",
    "All five philosophers pick up first their left fork and then their right fork. Unfortunately, occasionally this leads to a deadlock and great grief among the philophers. Getting tired, one philosopher after the other retires. On retirement, they take their chair and one fork with them. The remaining philosophers spread around the table and continue to pick up first their left and then their right fork for eating."
   ]
  },
  {
   "cell_type": "markdown",
   "id": "eac3e99b-941e-44cb-857b-5089932cef61",
   "metadata": {
    "deletable": false,
    "editable": false,
    "nbgrader": {
     "cell_type": "markdown",
     "checksum": "a2079c7b6134296119ce4e33f0f05bce",
     "grade": false,
     "grade_id": "cell-f06948e729a4c9d5",
     "locked": true,
     "schema_version": 3,
     "solution": false,
     "task": false
    }
   },
   "source": [
    "With four philsophers left, is deadlock avoided? Answer yes or no and give a brief explanation!"
   ]
  },
  {
   "cell_type": "markdown",
   "id": "5967c010-4afd-4a35-87a3-e22a8e9c43cd",
   "metadata": {
    "deletable": false,
    "nbgrader": {
     "cell_type": "markdown",
     "checksum": "9d29c7e2d433f7023cbd1b5dac9d650b",
     "grade": true,
     "grade_id": "cell-5cb0a7526977f47d",
     "locked": false,
     "points": 0,
     "schema_version": 3,
     "solution": true,
     "task": false
    }
   },
   "source": [
    "no if there are 4 philosophers and 4 remaining forks, deadlock is not avoided. all four philosiphers will pick up their left fork and then none of them will be able to get their right fork leading to deadlock since the 5th philosipher left with one of the forks."
   ]
  },
  {
   "cell_type": "markdown",
   "id": "4cd5f615-59b0-465f-9e6a-c6fe13b8f5f9",
   "metadata": {
    "deletable": false,
    "editable": false,
    "nbgrader": {
     "cell_type": "markdown",
     "checksum": "f3891f3f274ed6e8c8c161d61a0c2bb2",
     "grade": false,
     "grade_id": "cell-1ec5ec7ed3095a76",
     "locked": true,
     "schema_version": 3,
     "solution": false,
     "task": false
    }
   },
   "source": [
    "With three philosophers left, is deadlock avoided? Answer yes or no and give a brief explanation!"
   ]
  },
  {
   "cell_type": "markdown",
   "id": "ff53a2b1-9228-45c9-849a-b3f3be13622b",
   "metadata": {
    "deletable": false,
    "nbgrader": {
     "cell_type": "markdown",
     "checksum": "84304e2db3571fbe87ecd07dd9ef6632",
     "grade": true,
     "grade_id": "cell-2f955cdc51dc121e",
     "locked": false,
     "points": 0,
     "schema_version": 3,
     "solution": true,
     "task": false
    }
   },
   "source": [
    "no if there are 3 philosophers and 3 remaining forks, deadlock is not avoided. all 3 philosiphers will have their left fork and then none of them will be able to get their right fork leading to deadlock since the 4th philoshipher left with one of the forks."
   ]
  },
  {
   "cell_type": "markdown",
   "id": "5311c57c-56af-403a-94ce-e2b86c7ec688",
   "metadata": {
    "deletable": false,
    "editable": false,
    "nbgrader": {
     "cell_type": "markdown",
     "checksum": "166d217a682ee3c9de2be87abc2610f7",
     "grade": false,
     "grade_id": "cell-cb179a0bca51c72e",
     "locked": true,
     "schema_version": 3,
     "solution": false,
     "task": false
    }
   },
   "source": [
    "With two philsophers left, is deadlock avoided? Answer yes or no and give a brief explanation!"
   ]
  },
  {
   "cell_type": "markdown",
   "id": "f5310cc5-8f92-455d-8d1b-f9f322e96bd8",
   "metadata": {
    "deletable": false,
    "nbgrader": {
     "cell_type": "markdown",
     "checksum": "89c89ee11cc3f4c144b1441573c6dd11",
     "grade": true,
     "grade_id": "cell-1d6e721400cef6cd",
     "locked": false,
     "points": 2,
     "schema_version": 3,
     "solution": true,
     "task": false
    }
   },
   "source": [
    "no if there are 2 philosophers and 2 remaining forks, deadlock is not avoided. all 2 philosiphers will have their left fork and then none of them will be able to get their right fork leading to deadlock since the 3rd philoshipher left with one of the forks.\n",
    "\n",
    "scenario:\n",
    "philosipher 1 picks up fork 1\n",
    "philosipher 2 picks up fork 2\n",
    "no more forks to be picked up -- deadlock!"
   ]
  }
 ],
 "metadata": {
  "kernelspec": {
   "display_name": "Python 3 (ipykernel)",
   "language": "python",
   "name": "python3"
  },
  "language_info": {
   "codemirror_mode": {
    "name": "ipython",
    "version": 3
   },
   "file_extension": ".py",
   "mimetype": "text/x-python",
   "name": "python",
   "nbconvert_exporter": "python",
   "pygments_lexer": "ipython3",
   "version": "3.11.2"
  }
 },
 "nbformat": 4,
 "nbformat_minor": 5
}
