{
 "cells": [
  {
   "cell_type": "markdown",
   "id": "03b5075e-2af1-4ea5-9494-4ee5e80e5f56",
   "metadata": {
    "deletable": false,
    "editable": false,
    "nbgrader": {
     "cell_type": "markdown",
     "checksum": "bf0e0db8b281605b876a7fb1a6cab04d",
     "grade": false,
     "grade_id": "cell-5f6b72f391a883b8",
     "locked": true,
     "schema_version": 3,
     "solution": false,
     "task": false
    }
   },
   "source": [
    "### Starving Philosophers"
   ]
  },
  {
   "cell_type": "markdown",
   "id": "0502afa5-9013-4aa8-9cd0-8bac60ab8d2f",
   "metadata": {
    "deletable": false,
    "editable": false,
    "nbgrader": {
     "cell_type": "markdown",
     "checksum": "9a256159c97ccdfb07506290e8f96e98",
     "grade": false,
     "grade_id": "cell-d9e10cceff067aef",
     "locked": true,
     "schema_version": 3,
     "solution": false,
     "task": false
    }
   },
   "source": [
    "<img style=\"float:right;border-left:2em solid white\" src=\"./img/DiningPhilosophers.svg\"/>\n",
    "\n",
    "Recall the problem of the Dining Philosophers:\n",
    "\n",
    "> Five philosophers spend their lives thinking and eating. The philosophers share a common dining room where there is a circular table surrounded by five chairs, each belonging to one philosopher. In the center of the table, there is a large bowl of spaghetti, and the table is laid with five forks. On feeling hungry, a philosopher enters the dining room, sits in his own chair, and picks up the fork on the left of his place. Unfortunately, the spaghetti is so tangled that he needs to pick up and use the fork on his right as well. When he has finished, he puts down both forks and leaves the room.\n",
    "\n",
    "To avoid a deadlock, each philosopher picks up their lower-numbered fork and then their higher-numbered fork:\n",
    "\n",
    "```\n",
    "var fork: 0 .. 4 → semaphore = [1, ..., 1]\n",
    "\n",
    "process philosopher(i: 0 .. 4)\n",
    "    while true do\n",
    "        think\n",
    "        f := {i, (i + 1) mod 5)}\n",
    "        P(fork(min(f))) ; P(fork(max(f)))\n",
    "        eat\n",
    "        V(fork(min(f))) ; V(fork(max(f)))\n",
    "```\n",
    "\n",
    "For the first three questions below, recall the definition of the semaphore operations in terms of atomic statements."
   ]
  },
  {
   "cell_type": "markdown",
   "id": "eac3e99b-941e-44cb-857b-5089932cef61",
   "metadata": {
    "deletable": false,
    "editable": false,
    "nbgrader": {
     "cell_type": "markdown",
     "checksum": "797ea675ac69671307710524ca08b263",
     "grade": false,
     "grade_id": "cell-1249e7b08550c6b8",
     "locked": true,
     "schema_version": 3,
     "solution": false,
     "task": false
    }
   },
   "source": [
    "Assuming minimal progress, can philosophers starve, i.e. never get to eat? Answer yes or no and give a brief explanation! "
   ]
  },
  {
   "cell_type": "markdown",
   "id": "5967c010-4afd-4a35-87a3-e22a8e9c43cd",
   "metadata": {
    "deletable": false,
    "nbgrader": {
     "cell_type": "markdown",
     "checksum": "5dd572ca051e24bf6bac3d0f52cf34f1",
     "grade": true,
     "grade_id": "cell-5f7e5b9f28be1820",
     "locked": false,
     "points": 2,
     "schema_version": 3,
     "solution": true,
     "task": false
    }
   },
   "source": [
    "under minimal progress a philosipher can starve. since we dont have strong fairness a fork on which a philosipher is waiting for (before eating) can be reselected by a philosipher that just free'd the fork. ie starving the philosipher waiting forever."
   ]
  },
  {
   "cell_type": "markdown",
   "id": "4cd5f615-59b0-465f-9e6a-c6fe13b8f5f9",
   "metadata": {
    "deletable": false,
    "editable": false,
    "nbgrader": {
     "cell_type": "markdown",
     "checksum": "49f700daac2e2d10f7f7b619e13d6045",
     "grade": false,
     "grade_id": "cell-e0935691a5bb9448",
     "locked": true,
     "schema_version": 3,
     "solution": false,
     "task": false
    }
   },
   "source": [
    "Assuming weak fairness, can philosophers starve, i.e. never get to eat? Answer yes or no and give a brief explanation! "
   ]
  },
  {
   "cell_type": "markdown",
   "id": "ff53a2b1-9228-45c9-849a-b3f3be13622b",
   "metadata": {
    "deletable": false,
    "nbgrader": {
     "cell_type": "markdown",
     "checksum": "567b77ca596ecc57a0157c04461287f5",
     "grade": true,
     "grade_id": "cell-015ad886f8e49571",
     "locked": false,
     "points": 2,
     "schema_version": 3,
     "solution": true,
     "task": false
    }
   },
   "source": [
    "yes. since we have weak fairness the fork that a philosipher is waiting to be free'd, can be reselected again by the philosipher who just free'd that fork. that can continue infinitely and that philosipher will end up waiting forever ie. starving"
   ]
  },
  {
   "cell_type": "markdown",
   "id": "5311c57c-56af-403a-94ce-e2b86c7ec688",
   "metadata": {
    "deletable": false,
    "editable": false,
    "nbgrader": {
     "cell_type": "markdown",
     "checksum": "be0b00ffb188f307eb5c052baedc6cce",
     "grade": false,
     "grade_id": "cell-8d99941c50446a31",
     "locked": true,
     "schema_version": 3,
     "solution": false,
     "task": false
    }
   },
   "source": [
    "Assuming strong fairness, can philosophers starve, i.e. never get to eat? Answer yes or no and give a brief explanation! "
   ]
  },
  {
   "cell_type": "markdown",
   "id": "f5310cc5-8f92-455d-8d1b-f9f322e96bd8",
   "metadata": {
    "deletable": false,
    "nbgrader": {
     "cell_type": "markdown",
     "checksum": "73d4322f918690e66455af2cecd344cc",
     "grade": true,
     "grade_id": "cell-33598310cf499b0d",
     "locked": false,
     "points": 0,
     "schema_version": 3,
     "solution": true,
     "task": false
    }
   },
   "source": [
    "since each philosipher gets a turn in the critical section no philosiphers will starve "
   ]
  },
  {
   "cell_type": "markdown",
   "id": "5c46d71e-8fc6-4883-bc1b-1caaf434abe1",
   "metadata": {
    "deletable": false,
    "editable": false,
    "nbgrader": {
     "cell_type": "markdown",
     "checksum": "ca3da5fa5f86971423a5c37e3d746f1b",
     "grade": false,
     "grade_id": "cell-d891faa3b7323430",
     "locked": true,
     "schema_version": 3,
     "solution": false,
     "task": false
    }
   },
   "source": [
    "Now assume a queue implementation of semaphores: besides a value, semaphores have a first-in, first-out queue of processes stuck on that semaphore. If the value of semaphore `s` is `0`, the operation `P(s)` adds the current process (or thread) at the end of the queue of `s`; if `s` is positive, the value of `s` is decremented. If the queue of `s` is not empty, the operation `V(s)` makes the process at the beginning of `s` ready for execution. With a queue implementation of semaphores, can philosophers starve, i.e. never get to eat? Answer yes or no and give a brief explanation!"
   ]
  },
  {
   "cell_type": "markdown",
   "id": "4ce92b45-7a3a-4d19-81c6-b6e0bcce2f34",
   "metadata": {
    "deletable": false,
    "nbgrader": {
     "cell_type": "markdown",
     "checksum": "cb74d6bd4c6a179490e29b6f338050eb",
     "grade": true,
     "grade_id": "cell-612c4ac2a2b58e83",
     "locked": false,
     "points": 2,
     "schema_version": 3,
     "solution": true,
     "task": false
    }
   },
   "source": [
    "since we have a priority dictating which philosipher gets to eat when, philosiphers will not starve as long as all philosiphers have been added to the queue "
   ]
  }
 ],
 "metadata": {
  "kernelspec": {
   "display_name": "Python 3 (ipykernel)",
   "language": "python",
   "name": "python3"
  },
  "language_info": {
   "codemirror_mode": {
    "name": "ipython",
    "version": 3
   },
   "file_extension": ".py",
   "mimetype": "text/x-python",
   "name": "python",
   "nbconvert_exporter": "python",
   "pygments_lexer": "ipython3",
   "version": "3.11.2"
  }
 },
 "nbformat": 4,
 "nbformat_minor": 5
}
