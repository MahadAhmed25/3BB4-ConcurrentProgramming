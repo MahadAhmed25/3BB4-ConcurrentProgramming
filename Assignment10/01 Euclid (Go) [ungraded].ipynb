{
 "cells": [
  {
   "cell_type": "markdown",
   "metadata": {},
   "source": [
    "### Euclid (Go)"
   ]
  },
  {
   "cell_type": "markdown",
   "metadata": {},
   "source": [
    "Consider the following algorithm for multiplication by addition:\n",
    "\n",
    "```algorithm\n",
    "procedure mult(x, y: integer) → (z: integer)\n",
    "    {x ≥ 0}\n",
    "    var u: integer\n",
    "        z, u := 0, x\n",
    "        {z + u × y = x × y ∧ u ≥ 0}\n",
    "        while u > 0 do\n",
    "            z, u := z + y, u – 1\n",
    "    {z = x × y}\n",
    "```\n",
    "\n",
    "The following implementations of `mult` in Go illustrate various language elements:\n",
    "- Go has multiple assignment statements.\n",
    "- Functions (procedures) can have multiple result parameters; these can be named or be unnamed.\n",
    "- Both while-loops and for-loops use `for` as the keyword.\n",
    "- The notation `u := x` is shorthand for `var u int = x`, if `int` is the inferred type of `x`.\n",
    "- While there is no assert statement, `panic` can be used. The built-in `panic` function raises (throws) an exception, although the structure for catching exceptions is different from Java and Python; see the Go Blog on [Defer, Panic, Recover](https://blog.golang.org/defer-panic-and-recover)."
   ]
  },
  {
   "cell_type": "code",
   "execution_count": 1,
   "metadata": {},
   "outputs": [
    {
     "name": "stdout",
     "output_type": "stream",
     "text": [
      "Writing mult.go\n"
     ]
    }
   ],
   "source": [
    "%%writefile mult.go\n",
    "package main\n",
    "\n",
    "func mult0(x, y int) (z int) {\n",
    "    var u int\n",
    "    z, u = 0, x\n",
    "    for u > 0 {\n",
    "        z, u = z + y, u - 1\n",
    "    }\n",
    "    return\n",
    "}\n",
    "func mult1(x, y int) int {\n",
    "    if !(x >= 0) {panic(\"mult1: precondition violation\")}\n",
    "    u, z := x, 0\n",
    "    if !(z + u * y == x * y && u >= 0) {panic(\"mult1: invariant violation\")}\n",
    "    for u > 0 {\n",
    "        z, u = z + y, u - 1\n",
    "        if !(z + u * y == x * y && u >= 0) {panic(\"mult1: invariant violation\")}\n",
    "    }\n",
    "    if !(z == x * y) {panic(\"mult1: postcondition violation\")}\n",
    "    return z\n",
    "}\n",
    "func mult2(x, y int) (int) {\n",
    "    z := 0\n",
    "    for u := x; u > 0; u-- {z += y}\n",
    "    return z\n",
    "}\n",
    "func main() {\n",
    "    println(mult0(3, 4)); println(mult1(3, 4))\n",
    "    println(mult2(3, 4)); println(mult1(-1, -1))\n",
    "}"
   ]
  },
  {
   "cell_type": "code",
   "execution_count": 2,
   "metadata": {},
   "outputs": [
    {
     "name": "stdout",
     "output_type": "stream",
     "text": [
      "12\n",
      "12\n",
      "12\n",
      "panic: mult1: precondition violation\n",
      "\n",
      "goroutine 1 [running]:\n",
      "main.mult1(...)\n",
      "\t/home/ahmem73/Assignment10/mult.go:12\n",
      "main.main()\n",
      "\t/home/ahmem73/Assignment10/mult.go:29 +0xd8\n",
      "exit status 2\n"
     ]
    }
   ],
   "source": [
    "!go run mult.go"
   ]
  },
  {
   "cell_type": "markdown",
   "metadata": {},
   "source": [
    "Consider now the following algorithm for computing the greatest common divisor:\n",
    "\n",
    "```algorithm\n",
    "procedure euclid(x, y: integer) → (a: integer)\n",
    "    {x > 0 ∧ y > 0}\n",
    "    var b: integer\n",
    "        a, b := x, y\n",
    "        {gcd(a, b) = gcd(x, y) ∧ a > 0 ∧ b > 0}\n",
    "        while a ≠ b do\n",
    "            if a > b then\n",
    "                a := a – b\n",
    "            else\n",
    "                b := b – a\n",
    "    {a = gcd(x, y)}\n",
    "```\n",
    "\n",
    "Implement it in Go! The syntax for if-statements is:\n",
    "```Go\n",
    "if condition {statement} else {statement}\n",
    "```\n",
    "No parenthesis around the condition is needed, but braces around the statements are. Note that an end-of-line is sometimes interpreted as terminating a statement (and implicitly causes `;` to be inserted ): after `if c {s}` on one line, `else` cannot go on the following line. "
   ]
  },
  {
   "cell_type": "code",
   "execution_count": 9,
   "metadata": {
    "solution": "hidden",
    "solution_first": true
   },
   "outputs": [
    {
     "name": "stdout",
     "output_type": "stream",
     "text": [
      "Overwriting euclid.go\n"
     ]
    }
   ],
   "source": [
    "%%writefile euclid.go\n",
    "\n",
    "package main\n",
    "\n",
    "func euclid(x, y int) (a int) {\n",
    "    var b int\n",
    "    a, b = x, y\n",
    "    for a != b {\n",
    "        if a > b {\n",
    "        a=a-b\n",
    "        } else {b=b-a}\n",
    "    }\n",
    "    return\n",
    "    \n",
    "}\n",
    "\n",
    "func main() {\n",
    "    println(\"computed:\", euclid(9, 12))\n",
    "    println(\"expected: 3\")\n",
    "}"
   ]
  },
  {
   "cell_type": "code",
   "execution_count": 10,
   "metadata": {},
   "outputs": [
    {
     "name": "stdout",
     "output_type": "stream",
     "text": [
      "computed: 3\n",
      "expected: 3\n"
     ]
    }
   ],
   "source": [
    "!go run euclid.go"
   ]
  }
 ],
 "metadata": {
  "kernelspec": {
   "display_name": "Python 3 (ipykernel)",
   "language": "python",
   "name": "python3"
  },
  "language_info": {
   "codemirror_mode": {
    "name": "ipython",
    "version": 3
   },
   "file_extension": ".py",
   "mimetype": "text/x-python",
   "name": "python",
   "nbconvert_exporter": "python",
   "pygments_lexer": "ipython3",
   "version": "3.11.5"
  }
 },
 "nbformat": 4,
 "nbformat_minor": 4
}
