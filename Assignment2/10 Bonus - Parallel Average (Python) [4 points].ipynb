{
 "cells": [
  {
   "cell_type": "markdown",
   "metadata": {
    "editable": true,
    "heading_collapsed": true,
    "slideshow": {
     "slide_type": "slide"
    },
    "tags": []
   },
   "source": [
    "### Parallel Average (Python) [4 points]"
   ]
  },
  {
   "cell_type": "markdown",
   "metadata": {},
   "source": [
    "Consider the following program: It uses two _worker threads_ in Python to search for an element in an array. The program won't be faster than a sequential one, but it illustrates the concepts. The two workers do not communicate with each other, but the main program collects the results. Thus this is an example of \"embarrassing parallelism\"; concurrency is used to potentially achieve a speedup."
   ]
  },
  {
   "cell_type": "code",
   "execution_count": null,
   "metadata": {},
   "outputs": [],
   "source": [
    "from threading import Thread\n",
    "\n",
    "class Worker(Thread):\n",
    "    def __init__(self, a, x, l, u):\n",
    "        super().__init__();\n",
    "        self.a, self.x, self.l, self.u = a, x, l, u\n",
    "    def run(self):\n",
    "        for i in range(self.l, self.u):\n",
    "            if self.a[i] == self.x: self.found = True; return\n",
    "        self.found = False\n",
    "\n",
    "def parallelfind():\n",
    "    # populate array a with N \"random\" values\n",
    "    N = 100; a = [i for i in range(N)]\n",
    "\n",
    "    # search in parallel for 42\n",
    "    w0 = Worker(a, 42, 0, N // 2) # w0 searches lower half\n",
    "    w1 = Worker(a, 42, N // 2, N) # w1 searches upper half\n",
    "    w0.start(); w1.start()\n",
    "    w0.join(); w1.join()\n",
    "    print(w0.found, w1.found)"
   ]
  },
  {
   "cell_type": "markdown",
   "metadata": {},
   "source": [
    "Creating a thread only runs the constructor of the class; method `start()` needs to be called to execute method `run()` concurrently with the caller.\n",
    "\n",
    "Run the next cell to test whether `42` appears in the lower half or upper half:"
   ]
  },
  {
   "cell_type": "code",
   "execution_count": null,
   "metadata": {},
   "outputs": [],
   "source": [
    "parallelfind()"
   ]
  },
  {
   "cell_type": "markdown",
   "metadata": {},
   "source": [
    "---"
   ]
  },
  {
   "cell_type": "markdown",
   "metadata": {
    "hidden": true
   },
   "source": [
    "The task is to compute the average of `n` numbers `a(0)`, ..., `a(n – 1)`. For example, for `n = 5`, the average can be computed in different ways:\n",
    "\n",
    "      (a(0) + a(1) + a(2) + a(3) + a(4)) / 5\n",
    "    = a(0) / 5 + a(1) / 5 + a(2) / 5 + a(3) / 5 + a(4) / 5\n",
    "    = (a(0) + a(1) + a(2)) / 5 + (a(3) + a(4)) / 5\n",
    "\n",
    "The last variant suggests a computation in parallel: one thread computes `(a(0) + a(1) + a(2)) / 5`, and a second thread computes `(a(3) + a(4)) / 5`; the main program collects the results of the two threads and adds them.\n",
    "\n",
    "The program below computes the average of `n` random integers sequentially; you are asked to complete the parallel computation with two workers, following `parallelfind`. The average is computed in both ways, and the times the sequential and parallel computation take are printed. [2 points]"
   ]
  },
  {
   "cell_type": "code",
   "execution_count": 13,
   "metadata": {
    "deletable": false,
    "hidden": true,
    "nbgrader": {
     "cell_type": "code",
     "checksum": "87e27d9e774b71feddd520151b306a95",
     "grade": true,
     "grade_id": "cell-313b030b8cfd69f3",
     "locked": false,
     "points": 0,
     "schema_version": 3,
     "solution": true,
     "task": false
    },
    "slideshow": {
     "slide_type": "slide"
    }
   },
   "outputs": [],
   "source": [
    "from threading import Thread\n",
    "import random, time\n",
    "\n",
    "class Worker(Thread):\n",
    "    def __init__(self, a, l, u):\n",
    "        super().__init__(); self.a, self.l, self.u = a, l, u\n",
    "    def run(self):\n",
    "        self.average = sum(self.a[self.l:self.u]) / len(self.a);\n",
    "            \n",
    "def sequentialaverage(a):\n",
    "    return sum(a) / len(a);\n",
    "\n",
    "def parallelaverage(a):\n",
    "    n = len(a)\n",
    "    m0 = Worker(a, 0, n//2); m1 = Worker(a, n//2, n)\n",
    "    m0.start(); m1.start()\n",
    "    m0.join(); m1.join()\n",
    "    return m0.average + m1.average\n",
    "\n",
    "def average(n):\n",
    "    a = [random.randint(0, 1000) for i in range(n)]\n",
    "    \n",
    "    start = time.time_ns() / 1000\n",
    "    avg = sequentialaverage(a)\n",
    "    end  = time.time_ns() / 1000\n",
    "    print(\"Sequential:\", avg, \"Time:\", end - start, \"µs\")\n",
    "\n",
    "    start = time.time_ns() / 1000\n",
    "    avg = parallelaverage(a)\n",
    "    end  = time.time_ns() / 1000\n",
    "    print(\"Parallel:\", avg, \"Time:\", end - start, \"µs\")"
   ]
  },
  {
   "cell_type": "markdown",
   "metadata": {
    "hidden": true
   },
   "source": [
    "Test your implementation with the cells below; you may use more cells."
   ]
  },
  {
   "cell_type": "code",
   "execution_count": 14,
   "metadata": {
    "hidden": true
   },
   "outputs": [
    {
     "name": "stdout",
     "output_type": "stream",
     "text": [
      "Sequential: 432.4 Time: 3.0 µs\n",
      "Parallel: 432.4 Time: 2400.75 µs\n"
     ]
    }
   ],
   "source": [
    "average(10)"
   ]
  },
  {
   "cell_type": "markdown",
   "metadata": {
    "hidden": true
   },
   "source": [
    "Run your implementation with the following values of `n`; you may also include more values. As each run can produce different timing results, run your implementation with the same value of `n` several times. The above program measures the elapsed time, not the CPU time. If there are other processes (users) on the same CPU, the elapsed time will be larger than the CPU time. If you are using a server, choose a time of the day with few other users. In multiple runs with the same parameter, smaller times approximate the CPU time better."
   ]
  },
  {
   "cell_type": "code",
   "execution_count": 5,
   "metadata": {
    "hidden": true
   },
   "outputs": [
    {
     "name": "stdout",
     "output_type": "stream",
     "text": [
      "Sequential: 330.1 Time: 3.0 µs\n",
      "Parallel: 330.1 Time: 2086.25 µs\n"
     ]
    }
   ],
   "source": [
    "average(10)"
   ]
  },
  {
   "cell_type": "code",
   "execution_count": 6,
   "metadata": {
    "hidden": true
   },
   "outputs": [
    {
     "name": "stdout",
     "output_type": "stream",
     "text": [
      "Sequential: 470.28 Time: 3.0 µs\n",
      "Parallel: 470.28 Time: 1086.5 µs\n"
     ]
    }
   ],
   "source": [
    "average(100)"
   ]
  },
  {
   "cell_type": "code",
   "execution_count": 7,
   "metadata": {
    "hidden": true
   },
   "outputs": [
    {
     "name": "stdout",
     "output_type": "stream",
     "text": [
      "Sequential: 500.205 Time: 8.75 µs\n",
      "Parallel: 500.205 Time: 810.0 µs\n"
     ]
    }
   ],
   "source": [
    "average(1000)"
   ]
  },
  {
   "cell_type": "code",
   "execution_count": 8,
   "metadata": {
    "hidden": true
   },
   "outputs": [
    {
     "name": "stdout",
     "output_type": "stream",
     "text": [
      "Sequential: 501.8552 Time: 84.25 µs\n",
      "Parallel: 501.85519999999997 Time: 1508.0 µs\n"
     ]
    }
   ],
   "source": [
    "average(10000)"
   ]
  },
  {
   "cell_type": "code",
   "execution_count": 9,
   "metadata": {
    "hidden": true
   },
   "outputs": [
    {
     "name": "stdout",
     "output_type": "stream",
     "text": [
      "Sequential: 499.02917 Time: 691.25 µs\n",
      "Parallel: 499.02917 Time: 2090.0 µs\n"
     ]
    }
   ],
   "source": [
    "average(100000)"
   ]
  },
  {
   "cell_type": "code",
   "execution_count": 10,
   "metadata": {
    "hidden": true
   },
   "outputs": [
    {
     "name": "stdout",
     "output_type": "stream",
     "text": [
      "Sequential: 500.129648 Time: 9811.0 µs\n",
      "Parallel: 500.129648 Time: 20299.75 µs\n"
     ]
    }
   ],
   "source": [
    "average(1000000)"
   ]
  },
  {
   "cell_type": "code",
   "execution_count": 11,
   "metadata": {
    "hidden": true
   },
   "outputs": [
    {
     "name": "stdout",
     "output_type": "stream",
     "text": [
      "Sequential: 500.0328096 Time: 160008.0 µs\n",
      "Parallel: 500.0328096 Time: 179737.0 µs\n"
     ]
    }
   ],
   "source": [
    "average(10000000)"
   ]
  },
  {
   "cell_type": "code",
   "execution_count": 12,
   "metadata": {
    "hidden": true
   },
   "outputs": [
    {
     "name": "stdout",
     "output_type": "stream",
     "text": [
      "Sequential: 500.0117042 Time: 1919722.75 µs\n",
      "Parallel: 500.0117042 Time: 1956827.0 µs\n"
     ]
    }
   ],
   "source": [
    "average(100000000)"
   ]
  },
  {
   "cell_type": "markdown",
   "metadata": {
    "hidden": true
   },
   "source": [
    "What do you observe about the execution time of the sequential and parallel implementations? Explain, citing resources of the Python documentation! [2 points]"
   ]
  },
  {
   "cell_type": "markdown",
   "metadata": {
    "deletable": false,
    "nbgrader": {
     "cell_type": "markdown",
     "checksum": "d6ce6dc74684d761ac53ffd74bc60ed3",
     "grade": true,
     "grade_id": "cell-4fbf81d5acdc28d2",
     "locked": false,
     "points": 0,
     "schema_version": 3,
     "solution": true,
     "task": false
    }
   },
   "source": [
    "When running the tests, i observed that list size big or small the sequential computation is always faster than the parallel computation. After doing some research online python has something called a \"GIL - global interpreter lock\" which only allows one thread to run at a time during execution which doesn't allow for true parallelism in python. \n",
    "\n",
    "source: https://realpython.com/python-gil/"
   ]
  }
 ],
 "metadata": {
  "kernelspec": {
   "display_name": "Python 3 (ipykernel)",
   "language": "python",
   "name": "python3"
  },
  "language_info": {
   "codemirror_mode": {
    "name": "ipython",
    "version": 3
   },
   "file_extension": ".py",
   "mimetype": "text/x-python",
   "name": "python",
   "nbconvert_exporter": "python",
   "pygments_lexer": "ipython3",
   "version": "3.11.2"
  },
  "toc": {
   "base_numbering": 1
  }
 },
 "nbformat": 4,
 "nbformat_minor": 4
}
