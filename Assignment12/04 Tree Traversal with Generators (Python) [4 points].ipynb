{
 "cells": [
  {
   "cell_type": "markdown",
   "metadata": {},
   "source": [
    "### Tree Traversal with Generators (Python)"
   ]
  },
  {
   "cell_type": "markdown",
   "metadata": {},
   "source": [
    "Suppose we are given a tree structure and want to process each leaf one by one. The tree is represented by nested tuples (or lists) in Python, like `((1, 2), 3, (4, (5, 6)))`. The natural way is to traverse a tree recursively to visit the leaves in order, as in:"
   ]
  },
  {
   "cell_type": "code",
   "execution_count": 3,
   "metadata": {},
   "outputs": [],
   "source": [
    "from collections.abc import Iterable"
   ]
  },
  {
   "cell_type": "code",
   "execution_count": 4,
   "metadata": {},
   "outputs": [],
   "source": [
    "def printleaves(node):\n",
    "    if isinstance(node, Iterable): # internal node\n",
    "        for c in node: printleaves(c)\n",
    "    else: print(node) # leaf"
   ]
  },
  {
   "cell_type": "code",
   "execution_count": 5,
   "metadata": {},
   "outputs": [
    {
     "name": "stdout",
     "output_type": "stream",
     "text": [
      "1\n",
      "2\n",
      "3\n",
      "4\n",
      "5\n",
      "6\n"
     ]
    }
   ],
   "source": [
    "printleaves(((1, 2), 3, (4, (5, 6))))"
   ]
  },
  {
   "cell_type": "markdown",
   "metadata": {},
   "source": [
    "Type `Iterable` is an *abstract base class* that allows objects to be used in `for` loops. The type test `isinstance(node, Iterable)` checks if `node` is composed and can be iterated over, i.e. is an internal node or is atomic:"
   ]
  },
  {
   "cell_type": "code",
   "execution_count": 6,
   "metadata": {},
   "outputs": [
    {
     "data": {
      "text/plain": [
       "(False, True, True)"
      ]
     },
     "execution_count": 6,
     "metadata": {},
     "output_type": "execute_result"
    }
   ],
   "source": [
    "isinstance(5, Iterable), isinstance([1, 2], Iterable), isinstance((3, 4, 5), Iterable)"
   ]
  },
  {
   "cell_type": "markdown",
   "metadata": {},
   "source": [
    "The task is to define the Python function `leaves` as a generator that will return the leaves in sequence from left to right without explicitly constructing a sequence with the leaves:"
   ]
  },
  {
   "cell_type": "code",
   "execution_count": 11,
   "metadata": {
    "deletable": false,
    "nbgrader": {
     "cell_type": "code",
     "checksum": "aed2edef848f0f3603265ef142ea46ef",
     "grade": true,
     "grade_id": "cell-ff2e3d55a18e9cdb",
     "locked": false,
     "points": 0,
     "schema_version": 3,
     "solution": true,
     "task": false
    }
   },
   "outputs": [],
   "source": [
    "def leaves(tree):\n",
    "    if isinstance(tree, Iterable):\n",
    "        for c in tree: yield from leaves(c)\n",
    "    else: yield tree"
   ]
  },
  {
   "cell_type": "markdown",
   "metadata": {},
   "source": [
    "*Hint:* The solution has about three lines of code; if you use [`yield from`](https://docs.python.org/3/whatsnew/3.3.html#pep-380), it can be further shortened. Use the cells below for testing."
   ]
  },
  {
   "cell_type": "code",
   "execution_count": 12,
   "metadata": {},
   "outputs": [
    {
     "data": {
      "text/plain": [
       "(1, 2, 3, 4)"
      ]
     },
     "execution_count": 12,
     "metadata": {},
     "output_type": "execute_result"
    }
   ],
   "source": [
    "l = leaves(((1, 2), 3, (4, (5, 6))))\n",
    "next(l), next(l), next(l), next(l)"
   ]
  },
  {
   "cell_type": "markdown",
   "metadata": {},
   "source": [
    "Above cell should output `(1, 2, 3, 4)`. Your implementation must pass the test below: [4 points]"
   ]
  },
  {
   "cell_type": "code",
   "execution_count": 13,
   "metadata": {
    "deletable": false,
    "editable": false,
    "nbgrader": {
     "cell_type": "code",
     "checksum": "168c656d54ca40d25604cd730a1a52c3",
     "grade": true,
     "grade_id": "cell-4fa5b8b3a3c73576",
     "locked": true,
     "points": 4,
     "schema_version": 3,
     "solution": false,
     "task": false
    }
   },
   "outputs": [],
   "source": [
    "assert list(leaves(((1, 2), 3, (4, (5, 6))))) == [1, 2, 3, 4, 5, 6]\n",
    "assert sum(leaves(((1, 2), 3, (4, (5, 6))))) == 21"
   ]
  },
  {
   "cell_type": "code",
   "execution_count": null,
   "metadata": {},
   "outputs": [],
   "source": []
  }
 ],
 "metadata": {
  "kernelspec": {
   "display_name": "Python 3 (ipykernel)",
   "language": "python",
   "name": "python3"
  },
  "language_info": {
   "codemirror_mode": {
    "name": "ipython",
    "version": 3
   },
   "file_extension": ".py",
   "mimetype": "text/x-python",
   "name": "python",
   "nbconvert_exporter": "python",
   "pygments_lexer": "ipython3",
   "version": "3.11.5"
  }
 },
 "nbformat": 4,
 "nbformat_minor": 4
}
