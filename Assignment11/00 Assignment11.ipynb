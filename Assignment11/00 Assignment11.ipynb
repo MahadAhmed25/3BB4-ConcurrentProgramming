{
 "cells": [
  {
   "cell_type": "markdown",
   "metadata": {},
   "source": [
    "### SFWR ENG 3BB4 Software Design II, Fall 2023/24, McMaster University\n",
    "**Emil Sekerinski (instructor), Tianyu Zhou (TA)**\n",
    "\n",
    "Maximum is 24 points + 4 bonus points counting towards any other assignment\n",
    "\n",
    "**Assignment 11, due Wednesday, November 29, 11 pm. Introduced at:**\n",
    "- T03 on Thursday, November 23\n",
    "- T02 on Thursday, November 23\n",
    "- T01 on Friday, November 34\n",
    "\n",
    "The purpose of this assignment is to:\n",
    "\n",
    "* practice asynchronous message passing with Unix pipes and filters,\n",
    "* practice applying the laws of programming to simple programs,\n",
    "* practice the use of channels for timing,\n",
    "* implement client-server scenarios, viz. the Publish and Subscribe pattern, a priority queue, and a resource allocator in Go."
   ]
  }
 ],
 "metadata": {
  "kernelspec": {
   "display_name": "Python 3 (ipykernel)",
   "language": "python",
   "name": "python3"
  },
  "language_info": {
   "codemirror_mode": {
    "name": "ipython",
    "version": 3
   },
   "file_extension": ".py",
   "mimetype": "text/x-python",
   "name": "python",
   "nbconvert_exporter": "python",
   "pygments_lexer": "ipython3",
   "version": "3.11.5"
  }
 },
 "nbformat": 4,
 "nbformat_minor": 4
}
