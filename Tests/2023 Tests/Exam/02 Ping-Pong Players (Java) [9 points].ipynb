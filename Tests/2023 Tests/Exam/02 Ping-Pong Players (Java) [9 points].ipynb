{
 "cells": [
  {
   "cell_type": "markdown",
   "metadata": {
    "deletable": false,
    "editable": false,
    "nbgrader": {
     "cell_type": "markdown",
     "checksum": "c7e0333f28122dc2eac5fc8d06e1464e",
     "grade": false,
     "grade_id": "cell-4a17c43cd4991f9a",
     "locked": true,
     "schema_version": 3,
     "solution": false,
     "task": false
    }
   },
   "source": [
    "### Ping-Pong Players (Java)"
   ]
  },
  {
   "cell_type": "markdown",
   "metadata": {
    "deletable": false,
    "editable": false,
    "nbgrader": {
     "cell_type": "markdown",
     "checksum": "ad91868abbef59dcdc6748f1c0bda2bc",
     "grade": false,
     "grade_id": "cell-ec3c10b55cabbf08",
     "locked": true,
     "schema_version": 3,
     "solution": false,
     "task": false
    }
   },
   "source": [
    "Ping-pong players spend their lives alternately sleeping and playing ping-pong. A ping-pong school has 12 ping-pong players and a single ping-pong table. The table can only be used by two players at a time–not more, not less. Initially, the table is free. Players arrive individually at the table, so the first player must wait for the second. The table can be used again after both have left."
   ]
  },
  {
   "cell_type": "markdown",
   "metadata": {
    "deletable": false,
    "editable": false,
    "jp-MarkdownHeadingCollapsed": true,
    "nbgrader": {
     "cell_type": "markdown",
     "checksum": "f0427d0069c145323e184a44bc82efa3",
     "grade": false,
     "grade_id": "cell-cdea9526048c586b",
     "locked": true,
     "schema_version": 3,
     "solution": false,
     "task": false
    }
   },
   "source": [
    "Complete the following Java implementation with the class `Table` as a monitor.\n",
    "- State the monitor invariant and all signalling conditions as Java comments (no other annotations are needed).\n",
    "- Add a statement of the form `System.out.println(... + \", \" + ... + \" playing\");` that will produce, for example, the following output:\n",
    "\n",
    "```\n",
    "0, 1 playing\n",
    "11, 10 playing\n",
    "9, 8 playing\n",
    "7, 6 playing\n",
    "5, 4 playing\n",
    "3, 2 playing\n",
    "1, 0 playing\n",
    "10, 8 playing\n",
    "6, 4 playing\n",
    "...\n",
    "Done\n",
    "\n",
    "```\n",
    "\n",
    "For waiting on a condition in Java, you can use `try {wait();} catch (InterruptedException e) {}`. Modify only the class `Table`."
   ]
  },
  {
   "cell_type": "code",
   "execution_count": 3,
   "metadata": {
    "deletable": false,
    "nbgrader": {
     "cell_type": "code",
     "checksum": "629d1852a9f49f2a3da0ebbcdf1d4fcb",
     "grade": true,
     "grade_id": "cell-e6892993a7f6b3e3",
     "locked": false,
     "points": 5,
     "schema_version": 3,
     "solution": true,
     "task": false
    }
   },
   "outputs": [
    {
     "name": "stdout",
     "output_type": "stream",
     "text": [
      "Overwriting PingPong.java\n"
     ]
    }
   ],
   "source": [
    "%%writefile PingPong.java\n",
    "class Table {\n",
    "    int num_playing = 0;\n",
    "    int player1 = -1;\n",
    "    int player2 = -1;\n",
    "\n",
    "    synchronized void play(int i){\n",
    "        if(num_playing >= 2) try {wait();} catch (InterruptedException e) {}\n",
    "        num_playing++;\n",
    "        if(player1 == -1) player1 = i;\n",
    "        else{\n",
    "            player2 = i;\n",
    "            System.out.println(player1 + \", \" + player2 + \" playing\");\n",
    "            finishPlaying();\n",
    "        }\n",
    "    }\n",
    "\n",
    "    synchronized void finishPlaying(){\n",
    "        player1 = -1;\n",
    "        player2 = -1;\n",
    "        num_playing = 0;\n",
    "        notifyAll();\n",
    "    }\n",
    "}\n",
    "class Player extends Thread {\n",
    "    Table t;\n",
    "    int i;\n",
    "    Player(Table t, int i) {\n",
    "        this.t = t; this.i = i;\n",
    "    }\n",
    "    public void run() {\n",
    "        while (true) {\n",
    "            t.play(i);\n",
    "            try {Thread.sleep(500); // sleep\n",
    "            } catch (Exception e) { return;}\n",
    "        }\n",
    "    }\n",
    "}\n",
    "public class PingPong {\n",
    "    public static void main(String[] args) {\n",
    "        Table t = new Table();\n",
    "        Player p[] = new Player[12]; for (int i = 0; i < 12; i++) {p[i] = new Player(t, i); p[i].start();}\n",
    "        try {Thread.sleep(2000);} catch (Exception e) {}\n",
    "        for (int i = 0; i < 12; i++) p[i].interrupt();\n",
    "        System.out.println(\"Done\\n\");\n",
    "    }\n",
    "}"
   ]
  },
  {
   "cell_type": "code",
   "execution_count": 4,
   "metadata": {},
   "outputs": [],
   "source": [
    "!javac PingPong.java"
   ]
  },
  {
   "cell_type": "code",
   "execution_count": 5,
   "metadata": {},
   "outputs": [
    {
     "name": "stdout",
     "output_type": "stream",
     "text": [
      "0, 1 playing\n",
      "11, 10 playing\n",
      "9, 8 playing\n",
      "7, 6 playing\n",
      "5, 4 playing\n",
      "3, 2 playing\n",
      "0, 1 playing\n",
      "11, 10 playing\n",
      "9, 8 playing\n",
      "7, 6 playing\n",
      "5, 4 playing\n",
      "3, 2 playing\n",
      "0, 1 playing\n",
      "11, 10 playing\n",
      "9, 7 playing\n",
      "8, 6 playing\n",
      "5, 4 playing\n",
      "3, 2 playing\n",
      "0, 1 playing\n",
      "11, 10 playing\n",
      "9, 7 playing\n",
      "8, 6 playing\n",
      "5, 4 playing\n",
      "3, 2 playing\n",
      "Done\n",
      "\n"
     ]
    }
   ],
   "source": [
    "!java PingPong"
   ]
  },
  {
   "cell_type": "markdown",
   "metadata": {
    "deletable": false,
    "editable": false,
    "nbgrader": {
     "cell_type": "markdown",
     "checksum": "beb08c923c7989e084390201c72dfe53",
     "grade": false,
     "grade_id": "cell-cf1441aafc4004cf",
     "locked": true,
     "schema_version": 3,
     "solution": false,
     "task": false
    }
   },
   "source": [
    "What are the two signaling disciplines for monitors and what is the difference? Explain briefly! [2 points]"
   ]
  },
  {
   "cell_type": "markdown",
   "metadata": {
    "deletable": false,
    "nbgrader": {
     "cell_type": "markdown",
     "checksum": "84abd0cc72b594506c0dedf4b5c3d54e",
     "grade": true,
     "grade_id": "cell-6ac2c0db721988fd",
     "locked": false,
     "points": 2,
     "schema_version": 3,
     "solution": true,
     "task": false
    }
   },
   "source": [
    "the 2 signaling disciplines are signal-and-wait & signal-and-continue. The first one signals to the other threads and then halts execution until the other thread finishes. The latter signals to the other threads and then carries on its execution"
   ]
  },
  {
   "cell_type": "markdown",
   "metadata": {
    "deletable": false,
    "editable": false,
    "nbgrader": {
     "cell_type": "markdown",
     "checksum": "3542d5653bde57179a8e43aa6bceef87",
     "grade": false,
     "grade_id": "cell-19cd004a678d11aa",
     "locked": true,
     "schema_version": 3,
     "solution": false,
     "task": false
    }
   },
   "source": [
    "Which signaling condition does Java use? [1 point]"
   ]
  },
  {
   "cell_type": "markdown",
   "metadata": {
    "deletable": false,
    "nbgrader": {
     "cell_type": "markdown",
     "checksum": "af12c74a0f4e53a527f78d8018041ca5",
     "grade": true,
     "grade_id": "cell-7e769712aa9a3608",
     "locked": false,
     "points": 1,
     "schema_version": 3,
     "solution": true,
     "task": false
    }
   },
   "source": [
    "java uses signal-and-continue."
   ]
  },
  {
   "cell_type": "markdown",
   "metadata": {
    "deletable": false,
    "editable": false,
    "nbgrader": {
     "cell_type": "markdown",
     "checksum": "2f9bafd2daced70109a695535271f4ba",
     "grade": false,
     "grade_id": "cell-4b357127bc5ea67c",
     "locked": true,
     "schema_version": 3,
     "solution": false,
     "task": false
    }
   },
   "source": [
    "Would your code be correct with both signaling disciplines? [1 point]"
   ]
  },
  {
   "cell_type": "markdown",
   "metadata": {
    "deletable": false,
    "nbgrader": {
     "cell_type": "markdown",
     "checksum": "a811ccd33d23f9d086069ac5c09c20c9",
     "grade": true,
     "grade_id": "cell-3f520f34d519a4f6",
     "locked": false,
     "points": 1,
     "schema_version": 3,
     "solution": true,
     "task": false
    }
   },
   "source": [
    "The way i designed my implementation signal-and-wait will work but it will use unnecessary resources since the tread will be waiting for no reason for all other threads to finish. "
   ]
  }
 ],
 "metadata": {
  "kernelspec": {
   "display_name": "Python 3 (ipykernel)",
   "language": "python",
   "name": "python3"
  },
  "language_info": {
   "codemirror_mode": {
    "name": "ipython",
    "version": 3
   },
   "file_extension": ".py",
   "mimetype": "text/x-python",
   "name": "python",
   "nbconvert_exporter": "python",
   "pygments_lexer": "ipython3",
   "version": "3.11.5"
  }
 },
 "nbformat": 4,
 "nbformat_minor": 4
}
