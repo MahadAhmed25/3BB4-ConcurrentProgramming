{
 "cells": [
  {
   "cell_type": "markdown",
   "metadata": {},
   "source": [
    "### Priority Queue with Message Passing (Go)"
   ]
  },
  {
   "cell_type": "markdown",
   "metadata": {},
   "source": [
    "A priority queue is used for serving requests of higher priority quicker than those of lower priority. For example, priority queues are used in [Microsoft's Azure cloud](https://docs.microsoft.com/en-us/azure/architecture/patterns/priority-queue) in \"applications that offer different service level guarantees to individual clients.\" The task is to implement a bounded priority queue in Go similar to a bounded buffer, except that a priority is attached to incoming messages. Priorities are *absolute*, meaning that messages with higher priority always take precedence. Consequently, messages of lower priority may potentially be neglected forever. Messages of the same priority must be served first-in, first-out. The priority is a non-negative number, with `0` being the highest priority. Messages are simply strings. The capacity of the priority queue is specified when the `priorityQueue` goroutine is created. Complete `priorityQueue` below!\n",
    "- If the priority queue is empty, only a message from `west` can be received.\n",
    "- If the priority queue is full, only a message to `east` can be sent.\n",
    "- If the priority queue is neither full nor empty, a message from `west` can be received or a message to `east` sent, whatever is requested.\n",
    "\n",
    "The function `main` contains two tests. You can organize the incoming messages in the buffer in any way as long as insertion and deletion take time linear in the size of the buffer."
   ]
  },
  {
   "cell_type": "code",
   "execution_count": 1,
   "metadata": {
    "deletable": false,
    "nbgrader": {
     "cell_type": "code",
     "checksum": "4f71b2227062a9f892ee5d3d644b61ed",
     "grade": true,
     "grade_id": "cell-f69ab6ca91b898e5",
     "locked": false,
     "points": 8,
     "schema_version": 3,
     "solution": true,
     "task": false
    }
   },
   "outputs": [
    {
     "name": "stdout",
     "output_type": "stream",
     "text": [
      "Overwriting priorityqueue.go\n"
     ]
    }
   ],
   "source": [
    "%%writefile priorityqueue.go\n",
    "package main\n",
    "import (\"math/rand\"; \"strconv\"; \"sort\")\n",
    "\n",
    "type PriorityMessage struct {\n",
    "    Priority int // non-negative\n",
    "    Message string\n",
    "}\n",
    "\n",
    "func priorityQueue(capacity int, west chan PriorityMessage, east chan string) {\n",
    "    var pq []PriorityMessage\n",
    "\n",
    "    for{\n",
    "        if len(pq) == 0 {\n",
    "                fromWest := <- west\n",
    "                pq = append(pq, fromWest)\n",
    "        } else if len(pq) == capacity {\n",
    "            east <- pq[0].Message\n",
    "            pq = pq[1:]\n",
    "        } else {\n",
    "            select{\n",
    "\n",
    "                //Resource: https://stackoverflow.com/questions/46128016/insert-a-value-in-a-slice-at-a-given-index\n",
    "                case fromWest := <- west:\n",
    "                    pos := 0\n",
    "                    for pos < len(pq) && fromWest.Priority >= pq[pos].Priority {pos++}\n",
    "                    if pos == len(pq) { \n",
    "                        pq = append(pq, fromWest) \n",
    "                    } else {\n",
    "                        pq = append(pq[:pos+1], pq[pos:]...)\n",
    "                        pq[pos] = fromWest\n",
    "                    }\n",
    "\n",
    "                case east <- pq[0].Message:\n",
    "                    pq = pq[1:]\n",
    "            }\n",
    "\n",
    "        }\n",
    "    }\n",
    "}\n",
    "\n",
    "func sendMessages(n int, ch0 chan PriorityMessage, ch1 chan string) { // 0 <= n <= 90, number of messages\n",
    "    for s := 10; s < n + 10; s++ { // 2-digit serial number\n",
    "        prio := rand.Intn(10) // 1-digit priority\n",
    "        m := strconv.Itoa(prio) + \".\" + strconv.Itoa(s)\n",
    "        ch0 <- PriorityMessage{prio, m}; ch1 <- m\n",
    "    }\n",
    "}\n",
    "func main() {\n",
    "    const C, R = 20, 10 // capacity, rounds of testing\n",
    "    west := make(chan PriorityMessage)\n",
    "    south, east := make(chan string),  make(chan string)\n",
    "    \n",
    "    go priorityQueue(C, west, east)\n",
    "    \n",
    "    // testing priority queue exactly at capacity: received messages must be sent messages in ascending order\n",
    "    for t := 0; t < 10; t++ {\n",
    "        var in, out [C]string\n",
    "        go sendMessages(C, west, south) // priority queue is filled up\n",
    "        for i := 0; i < C; i++ { // messages sent to priority queue are copied to array in\n",
    "            in[i] = <- south\n",
    "        }\n",
    "        for i := 0; i < C; i++ { // messages received from priority queue are stored in array out \n",
    "            out[i] = <- east; print(out[i], \" \") // printed in ascending order\n",
    "        }\n",
    "        sort.Strings(in[:]) // sort the sent messages\n",
    "        if in != out {panic(\"received messages must be sent messages in ascending order\")}\n",
    "        println()\n",
    "    }\n",
    "    \n",
    "    // testing with more messages than capacity: received messages may not always be in ascending order\n",
    "    for t := 0; t < 10; t++ {\n",
    "        var in, out [2 * C]string\n",
    "        go sendMessages(2 * C, west, south) // priority queue is filled up\n",
    "        go func () {\n",
    "            for i := 0; i < 2 * C; i++ { // messages sent to priority queue are copied to array in\n",
    "                in[i] = <- south\n",
    "            }\n",
    "        }()\n",
    "        for i := 0; i < 2 * C; i++ { // messages received from priority queue are stored in array out \n",
    "            out[i] = <- east; print(out[i], \" \") // printed in not necessarily ascending order\n",
    "        }\n",
    "        sort.Strings(in[:]); sort.Strings(out[:]) // sort the sent and received messages\n",
    "        if in != out {panic(\"all sent messages must be received (in some order)\")}\n",
    "        println()\n",
    "    }\n",
    "}"
   ]
  },
  {
   "cell_type": "code",
   "execution_count": 2,
   "metadata": {},
   "outputs": [
    {
     "name": "stdout",
     "output_type": "stream",
     "text": [
      "0.21 0.25 2.20 3.10 3.11 3.13 4.15 4.28 5.14 5.17 6.18 7.22 7.26 7.27 7.29 8.23 8.24 9.12 9.16 9.19 \n",
      "0.10 0.29 1.27 2.25 2.26 3.17 4.12 4.15 4.20 4.21 4.23 4.28 5.18 6.16 6.24 8.11 8.13 8.19 9.14 9.22 \n",
      "0.13 0.15 0.22 1.24 2.10 2.14 2.19 2.21 2.27 3.11 4.26 4.29 7.16 7.20 7.23 8.25 9.12 9.17 9.18 9.28 \n",
      "0.16 0.20 0.24 0.25 0.29 1.13 2.10 4.18 4.21 4.28 5.17 5.19 5.22 5.27 6.12 6.14 8.15 8.23 8.26 9.11 \n",
      "2.16 2.21 2.26 2.27 3.20 3.23 3.29 5.14 6.17 6.19 7.11 7.24 8.12 8.28 9.10 9.13 9.15 9.18 9.22 9.25 \n",
      "0.15 1.10 1.23 2.27 3.12 4.20 5.16 5.18 5.24 6.14 6.17 6.19 7.11 7.21 7.25 7.29 8.22 8.28 9.13 9.26 \n",
      "0.13 0.24 0.25 0.27 1.16 2.10 2.18 3.14 4.21 5.15 5.20 6.11 7.17 7.26 7.28 8.22 8.29 9.12 9.19 9.23 \n",
      "0.12 0.18 0.27 1.10 1.11 1.17 1.21 1.24 3.14 3.20 4.19 4.26 5.15 5.29 6.13 6.23 7.16 7.22 8.25 8.28 \n",
      "0.19 2.10 2.20 3.14 4.13 4.26 4.29 5.18 6.16 6.17 6.24 6.27 7.11 7.12 7.15 7.21 7.22 7.25 8.23 8.28 \n",
      "0.11 1.13 2.12 2.27 4.14 4.15 5.10 6.21 7.16 7.20 7.24 7.28 8.19 8.26 9.17 9.18 9.22 9.23 9.25 9.29 \n",
      "2.10 8.11 5.12 1.15 0.19 2.22 2.24 2.26 4.25 5.18 5.20 5.27 6.23 8.14 8.17 8.21 9.13 9.16 0.28 0.30 1.35 2.29 2.36 3.32 4.31 4.37 4.42 4.44 4.46 4.47 5.33 5.41 5.45 5.49 6.34 6.38 7.39 8.40 9.43 9.48 \n",
      "3.10 6.11 1.12 3.13 0.19 1.16 1.22 0.36 1.28 2.32 2.34 2.35 3.20 3.21 4.18 4.33 5.24 5.27 5.30 6.14 6.23 6.29 7.17 7.26 8.25 8.31 9.15 0.37 3.39 0.42 2.43 0.47 1.46 3.40 6.38 7.41 8.45 9.44 6.48 1.49 \n",
      "7.10 4.11 1.13 6.12 6.14 3.16 6.15 4.17 6.18 9.19 2.20 4.22 0.29 2.28 0.33 1.36 3.24 1.38 2.39 0.40 0.41 0.44 0.46 0.48 1.45 3.25 3.27 3.30 3.31 4.32 4.34 4.49 5.21 5.35 5.43 7.23 7.37 7.42 8.26 8.47 \n",
      "3.10 2.11 6.12 1.13 9.14 2.15 5.17 7.16 2.18 1.20 5.19 0.24 6.22 6.25 7.23 7.26 7.27 8.21 7.28 1.30 2.29 4.31 5.32 3.33 5.34 6.35 0.36 5.37 1.41 2.49 3.47 4.44 4.45 5.46 6.38 6.40 6.42 8.39 8.43 9.48 \n",
      "4.10 9.11 8.12 9.13 9.14 2.15 3.16 4.17 8.18 2.19 0.21 9.20 5.23 7.22 4.24 6.25 1.26 2.27 3.28 0.29 0.31 4.32 1.34 0.41 2.38 3.43 5.42 6.35 6.37 6.39 7.36 8.33 8.40 9.30 4.44 2.45 5.46 8.47 1.49 4.48 \n",
      "4.11 9.10 1.12 5.14 9.13 8.15 3.16 5.17 7.18 5.19 5.20 5.21 1.22 1.24 0.25 0.27 2.35 3.37 1.41 1.42 4.23 4.26 4.40 5.33 5.39 6.34 6.36 7.29 7.32 7.38 8.30 8.31 0.44 1.43 9.28 5.46 8.45 0.47 3.49 7.48 \n",
      "8.10 0.11 7.12 8.13 0.19 4.16 4.21 5.20 6.18 7.15 8.14 6.22 0.23 0.24 0.26 0.28 0.33 0.37 1.27 1.30 1.36 2.25 0.43 0.44 0.45 1.42 2.39 3.41 4.35 4.38 5.29 5.40 6.32 6.34 6.47 7.31 7.48 7.49 8.17 9.46 \n",
      "4.10 6.11 3.12 2.13 8.14 8.15 2.16 7.18 9.17 3.19 5.20 9.21 4.22 8.23 5.24 8.25 5.26 2.30 1.33 2.36 1.40 2.39 2.48 3.38 4.32 4.41 4.43 5.31 6.28 6.29 6.42 7.34 7.45 7.46 7.47 7.49 8.27 8.37 8.44 9.35 \n",
      "5.10 4.11 4.12 3.16 0.19 0.26 0.27 1.35 2.24 2.29 2.30 3.18 3.20 3.31 4.14 4.22 5.17 5.28 6.15 6.32 7.13 7.33 8.25 9.21 9.23 0.36 0.39 1.37 1.41 3.38 3.43 5.40 5.42 9.34 7.44 7.45 4.46 4.47 9.48 3.49 \n",
      "4.10 0.11 0.14 2.13 3.19 2.21 4.20 6.12 6.18 7.15 9.16 9.17 3.22 8.23 2.24 7.25 8.26 3.28 4.29 8.27 3.30 4.32 9.31 2.33 0.35 4.34 1.36 2.38 5.37 1.39 3.40 2.42 4.44 6.45 5.46 3.47 7.43 7.49 9.41 9.48 \n"
     ]
    }
   ],
   "source": [
    "!go run priorityqueue.go"
   ]
  },
  {
   "cell_type": "markdown",
   "metadata": {},
   "source": [
    "*Bonus.*  Use a heap to implement the priority queue, such that insertion and deletion are guaranteed to take time logarithmic in the number of messages in the priority queue. You can use textbooks or other resources to implement the heap, but you must cite all resources. Note that heaps are unstable in that the order of elements with the same key is not preserved. Here, the order of messages with the same priority should be preserved. To make a heap stable, a *timestamp*, implemented by an integer counter, can be added to messages and used for comparison. [2 bonus points]"
   ]
  },
  {
   "cell_type": "code",
   "execution_count": null,
   "metadata": {
    "deletable": false,
    "nbgrader": {
     "cell_type": "code",
     "checksum": "52c03af821f03feb45df7e693475ab40",
     "grade": true,
     "grade_id": "cell-451f723e1f0934f2",
     "locked": false,
     "points": 0,
     "schema_version": 3,
     "solution": true,
     "task": false
    }
   },
   "outputs": [],
   "source": [
    "%%writefile priorityqueue.go\n",
    "package main\n",
    "import (\"math/rand\"; \"strconv\"; \"sort\")\n",
    "\n",
    "type PriorityMessage struct {\n",
    "    Priority int // non-negative\n",
    "    Message string\n",
    "}\n",
    "\n",
    "func priorityQueue(capacity int, west chan PriorityMessage, east chan string) {\n",
    "    # YOUR CODE HERE\n",
    "    raise NotImplementedError()\n",
    "}\n",
    "func sendMessages(n int, ch0 chan PriorityMessage, ch1 chan string) { // 0 <= n <= 90, number of messages\n",
    "    for s := 10; s < n + 10; s++ { // 2-digit serial number\n",
    "        prio := rand.Intn(10) // 1-digit priority\n",
    "        m := strconv.Itoa(prio) + \".\" + strconv.Itoa(s)\n",
    "        ch0 <- PriorityMessage{prio, m}; ch1 <- m\n",
    "    }\n",
    "}\n",
    "func main() {\n",
    "    const C, R = 20, 10 // capacity, rounds of testing\n",
    "    west := make(chan PriorityMessage)\n",
    "    south, east := make(chan string),  make(chan string)\n",
    "    \n",
    "    go priorityQueue(C, west, east)\n",
    "    \n",
    "    // testing priority queue exactly at capacity: received messages must be sent messages in ascending order\n",
    "    for t := 0; t < 10; t++ {\n",
    "        var in, out [C]string\n",
    "        go sendMessages(C, west, south) // priority queue is filled up\n",
    "        for i := 0; i < C; i++ { // messages sent to priority queue are copied to array in\n",
    "            in[i] = <- south\n",
    "        }\n",
    "        for i := 0; i < C; i++ { // messages received from priority queue are stored in array out \n",
    "            out[i] = <- east; print(out[i], \" \") // printed in ascending order\n",
    "        }\n",
    "        sort.Strings(in[:]) // sort the sent messages\n",
    "        if in != out {panic(\"received messages must be sent messages in ascending order\")}\n",
    "        println()\n",
    "    }\n",
    "    \n",
    "    // testing with more messages than capacity: received messages may not always be in ascending order\n",
    "    for t := 0; t < 10; t++ {\n",
    "        var in, out [2 * C]string\n",
    "        go sendMessages(2 * C, west, south) // priority queue is filled up\n",
    "        go func () {\n",
    "            for i := 0; i < 2 * C; i++ { // messages sent to priority queue are copied to array in\n",
    "                in[i] = <- south\n",
    "            }\n",
    "        }()\n",
    "        for i := 0; i < 2 * C; i++ { // messages received from priority queue are stored in array out \n",
    "            out[i] = <- east; print(out[i], \" \") // printed in not necessarily ascending order\n",
    "        }\n",
    "        sort.Strings(in[:]); sort.Strings(out[:]) // sort the sent and received messages\n",
    "        if in != out {panic(\"all sent messages must be received (in some order)\")}\n",
    "        println()\n",
    "    }\n",
    "}"
   ]
  },
  {
   "cell_type": "code",
   "execution_count": null,
   "metadata": {},
   "outputs": [],
   "source": [
    "!go run priorityqueue.go"
   ]
  }
 ],
 "metadata": {
  "kernelspec": {
   "display_name": "Python 3 (ipykernel)",
   "language": "python",
   "name": "python3"
  },
  "language_info": {
   "codemirror_mode": {
    "name": "ipython",
    "version": 3
   },
   "file_extension": ".py",
   "mimetype": "text/x-python",
   "name": "python",
   "nbconvert_exporter": "python",
   "pygments_lexer": "ipython3",
   "version": "3.11.5"
  },
  "livereveal": {
   "scroll": true
  },
  "rise": {
   "enable_chalkboard": true
  }
 },
 "nbformat": 4,
 "nbformat_minor": 4
}
