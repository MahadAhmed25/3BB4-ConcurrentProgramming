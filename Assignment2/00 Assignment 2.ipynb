{
 "cells": [
  {
   "cell_type": "markdown",
   "metadata": {
    "editable": true,
    "slideshow": {
     "slide_type": "slide"
    },
    "tags": []
   },
   "source": [
    "### SFWRENG 3BB4 Concurrent System Design, Fall 2023/24, McMaster University\n",
    "**Emil Sekerinski (instructor), Yili Liu (TA)**\n",
    "\n",
    "**Assignment 2, due Wednesday, September 20, 11 pm [24 points + 4 bonus points]. Introduced at:**\n",
    "- T03 on Thursday, September 14\n",
    "- T02 on Thursday, September 14\n",
    "- T01 on Friday, September 15\n",
    "\n",
    "The purpose of this assignment is to:\n",
    "* make you familiar with creating threads and waiting for their termination in Java and C,\n",
    "* apply the pattern of worker threads to an arithmetic problem,\n",
    "* provide you with a sense of overhead for creating threads and the possible speedup,\n",
    "* learn how to time programs,\n",
    "* allow you to refresh your Java and C.\n",
    "\n",
    "This assignment has ungraded exercises on proving the correctness of sequential programs.\n",
    "\n",
    "*Note:* In all assignments, you are asked to write well-structured and readable source code. The source code is always used for grading in addition to the test results. Your program passing the provided tests is not a guarantee that your program is correct, and you will receive full (or any) marks."
   ]
  }
 ],
 "metadata": {
  "kernelspec": {
   "display_name": "Python 3 (ipykernel)",
   "language": "python",
   "name": "python3"
  },
  "language_info": {
   "codemirror_mode": {
    "name": "ipython",
    "version": 3
   },
   "file_extension": ".py",
   "mimetype": "text/x-python",
   "name": "python",
   "nbconvert_exporter": "python",
   "pygments_lexer": "ipython3",
   "version": "3.11.2"
  },
  "toc": {
   "base_numbering": 1
  }
 },
 "nbformat": 4,
 "nbformat_minor": 4
}
