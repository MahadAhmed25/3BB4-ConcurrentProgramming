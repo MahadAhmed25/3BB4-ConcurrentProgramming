{
 "cells": [
  {
   "cell_type": "markdown",
   "metadata": {
    "editable": true,
    "slideshow": {
     "slide_type": "slide"
    },
    "tags": []
   },
   "source": [
    "### Maximum of Three Numbers"
   ]
  },
  {
   "cell_type": "markdown",
   "metadata": {
    "tags": []
   },
   "source": [
    "##### 1. Define `max(x, y, z)`"
   ]
  },
  {
   "cell_type": "markdown",
   "metadata": {},
   "source": [
    "Generalize the function `max(x, y)` to three arguments. Give the definition of `max(x, y, z)`:"
   ]
  },
  {
   "cell_type": "markdown",
   "metadata": {},
   "source": [
    "```algorithm\n",
    "\n",
    "result = max(x,y,z) == x ≤ result ∧ y ≤ result ∧ z ≤ result ∧ (result = x or result = y or result = z)\n",
    "```"
   ]
  },
  {
   "cell_type": "markdown",
   "metadata": {},
   "source": [
    "##### 2. Write a program"
   ]
  },
  {
   "cell_type": "markdown",
   "metadata": {},
   "source": [
    "Write a program that assigns the maximum of `x`, `y`, `z` to `m`. Give the program textually and as a state diagram. Add appropriate annotation to the state diagram."
   ]
  },
  {
   "cell_type": "markdown",
   "metadata": {},
   "source": [
    "```algorithm\n",
    "m := x\n",
    "if m < y then\n",
    "    m := y\n",
    "if m < z then\n",
    "    m := z\n",
    "```"
   ]
  },
  {
   "cell_type": "markdown",
   "metadata": {},
   "source": [
    "##### 3. Prove the correctness"
   ]
  },
  {
   "cell_type": "markdown",
   "metadata": {},
   "source": [
    "Give the conditions for the correctness of the transitions and prove them:"
   ]
  },
  {
   "cell_type": "markdown",
   "metadata": {},
   "source": [
    "```algorithm\n",
    "1.\n",
    "(x < y ∧ y < z) ⇒ (m = max(x, y, z))[m := z]\n",
    "\n",
    "2.\n",
    "(x < y ∧ z ≤ y) ⇒ (m = max(x, y, z))[m := y]\n",
    "\n",
    "3.\n",
    "(y ≤ x ∧ x < z) ⇒ (m = max(x, y, z))[m := z]\n",
    "\n",
    "4.\n",
    "(y ≤ x ∧ z ≤ x) ⇒ (m = max(x, y, z))[m := x]\n",
    "\n",
    "\n",
    "Prove 1:\n",
    "(x < y ∧ y < z) ⇒ (m = max(x, y, z))[m := z]\n",
    "    {show  RHS}\n",
    "(m = max(x, y, z))[m := z]\n",
    "    {substitute}\n",
    "z = max(x, y, z)\n",
    "    {use definition of max(x,y,z)}\n",
    "x <= z ∧ y <= z ∧ z <= z ∧ (z = x or z = y or z = z)\n",
    "true ∧ true ∧ true ∧ true\n",
    "\n",
    "similar proofs for the rest\n",
    "```"
   ]
  }
 ],
 "metadata": {
  "kernelspec": {
   "display_name": "Python 3 (ipykernel)",
   "language": "python",
   "name": "python3"
  },
  "language_info": {
   "codemirror_mode": {
    "name": "ipython",
    "version": 3
   },
   "file_extension": ".py",
   "mimetype": "text/x-python",
   "name": "python",
   "nbconvert_exporter": "python",
   "pygments_lexer": "ipython3",
   "version": "3.11.2"
  },
  "toc": {
   "base_numbering": 1
  }
 },
 "nbformat": 4,
 "nbformat_minor": 4
}
