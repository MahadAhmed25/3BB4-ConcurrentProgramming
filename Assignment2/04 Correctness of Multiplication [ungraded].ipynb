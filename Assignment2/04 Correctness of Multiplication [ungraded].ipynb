{
 "cells": [
  {
   "cell_type": "markdown",
   "metadata": {
    "editable": true,
    "heading_collapsed": true,
    "slideshow": {
     "slide_type": "slide"
    },
    "solution": "hidden",
    "tags": []
   },
   "source": [
    "### Correctness of Multiplication"
   ]
  },
  {
   "cell_type": "markdown",
   "metadata": {},
   "source": [
    "Prove the three conditions for the correctness of the multiplication program"
   ]
  },
  {
   "cell_type": "markdown",
   "metadata": {
    "tags": []
   },
   "source": [
    "##### 1. `x ≥ 0 ⇒ (z + u × y = x × y ∧ u ≥ 0)[z, u := 0, x]`"
   ]
  },
  {
   "cell_type": "markdown",
   "metadata": {},
   "source": [
    "```algorithm\n",
    "x ≥ 0 ⇒ (z + u × y = x × y ∧ u ≥ 0)[z, u := 0, x]\n",
    "    {show RHS}\n",
    "(z + u × y = x × y ∧ u ≥ 0)[z, u := 0, x]\n",
    "    {sub}\n",
    "0 + x × y = x × y ∧ x ≥ 0  \n",
    "    {zero addition}\n",
    "x × y = x × y ∧ x ≥ 0\n",
    "    {lhs = rhs}\n",
    "true ∧ x ≥ 0 \n",
    "    {simpl}\n",
    "x ≥ 0 \n",
    "    \n",
    "```"
   ]
  },
  {
   "cell_type": "markdown",
   "metadata": {
    "solution": "hidden",
    "tags": []
   },
   "source": [
    "##### 2. `u > 0 ∧ z + u × y = x × y ∧ u ≥ 0 ⇒`\n",
    "  &nbsp;&nbsp;&nbsp;&nbsp;  `(z + u × y = x × y ∧ u ≥ 0)[z, u := z + y, u - 1]`"
   ]
  },
  {
   "cell_type": "markdown",
   "metadata": {},
   "source": [
    "```algorithm\n",
    "(z + u × y = x × y ∧ u ≥ 0)[z, u := z + y, u - 1]\n",
    "    {sub}\n",
    "z + y + (u - 1) × y = x × y ∧ (u - 1) ≥ 0\n",
    "    {arithmetic}\n",
    "z + y + u × y - y = x × y ∧ (u - 1) ≥ 0\n",
    "    {arithemtic}\n",
    "z + u × y = x × y ∧ (u - 1) ≥ 0\n",
    "    {logic}\n",
    "z + u × y = x × y ∧ u > 0 ∧ u ≥ 0   \n",
    "```"
   ]
  },
  {
   "cell_type": "markdown",
   "metadata": {
    "solution": "hidden"
   },
   "source": [
    "##### 3. `u ≤ 0 ∧ z + u × y = x × y ∧ u ≥ 0 ⇒`\n",
    "  &nbsp;&nbsp;&nbsp;&nbsp; `z = x × y`"
   ]
  },
  {
   "cell_type": "markdown",
   "metadata": {},
   "source": [
    "```algorithm\n",
    "    {show lhs implies rhs}\n",
    "u ≤ 0 ∧ z + u × y = x × y ∧ u ≥ 0\n",
    "    {e <= f and e >= f => e = f}\n",
    "u = 0 ∧ z + u × y = x × y\n",
    "    {sub/logic}\n",
    "z + 0 × y = x × y  \n",
    "    {arith}\n",
    "z = x × y  \n",
    "```"
   ]
  }
 ],
 "metadata": {
  "kernelspec": {
   "display_name": "Python 3 (ipykernel)",
   "language": "python",
   "name": "python3"
  },
  "language_info": {
   "codemirror_mode": {
    "name": "ipython",
    "version": 3
   },
   "file_extension": ".py",
   "mimetype": "text/x-python",
   "name": "python",
   "nbconvert_exporter": "python",
   "pygments_lexer": "ipython3",
   "version": "3.11.2"
  },
  "rise": {
   "enable_chalkboard": true,
   "scroll": true
  },
  "toc": {
   "base_numbering": 1
  }
 },
 "nbformat": 4,
 "nbformat_minor": 4
}
