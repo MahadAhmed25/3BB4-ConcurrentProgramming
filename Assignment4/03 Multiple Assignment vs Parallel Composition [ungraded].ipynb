{
 "cells": [
  {
   "cell_type": "markdown",
   "metadata": {
    "deletable": false,
    "editable": false,
    "nbgrader": {
     "cell_type": "markdown",
     "checksum": "7044bcd25af9d674e44b5d810809a82d",
     "grade": false,
     "grade_id": "cell-155edc14d3667376",
     "locked": true,
     "schema_version": 3,
     "solution": false,
     "task": false
    },
    "slideshow": {
     "slide_type": "slide"
    }
   },
   "source": [
    "#### Multiple Assignment vs Parallel Composition"
   ]
  },
  {
   "cell_type": "markdown",
   "metadata": {},
   "source": [
    "For arbitrary expressions `E`, `F`, consider `x, y := E, F` and `x := E ; y := F`. Give an example of when these statements are equal and not equal!"
   ]
  },
  {
   "cell_type": "markdown",
   "metadata": {},
   "source": [
    "equal: x:=3;y:=5 == x,y := 3,5\n",
    "not equal: x:=y;y:=x != x,y := y,x"
   ]
  },
  {
   "cell_type": "markdown",
   "metadata": {},
   "source": [
    "What are in general sufficient conditions on `E` and `F` for  `x, y := E, F` to be equal to `x := E ; y := F`?"
   ]
  },
  {
   "cell_type": "markdown",
   "metadata": {},
   "source": [
    "x must not occur in F"
   ]
  },
  {
   "cell_type": "markdown",
   "metadata": {},
   "source": [
    "For arbitrary expressions `E`, `F`, consider `x, y := E, F` and `x := E ‖ y := F` when assuming that only access of individual variables is atomic. Give an example of when these statements are equal and not equal!"
   ]
  },
  {
   "cell_type": "markdown",
   "metadata": {
    "solution": "hidden",
    "solution_first": true
   },
   "source": [
    "x, y := x+1, y+1 == x:=x+1 || y:= y+1\n",
    "\n",
    "x, y := y+1, x+1 != x:y+1 || y:= x+1"
   ]
  },
  {
   "cell_type": "markdown",
   "metadata": {},
   "source": [
    "What are in general sufficient conditions on `E` and `F` for the two statements to be equivalent?"
   ]
  },
  {
   "cell_type": "markdown",
   "metadata": {},
   "source": [
    "in general x cannot appear in F and y cannot appear in E"
   ]
  },
  {
   "cell_type": "code",
   "execution_count": null,
   "metadata": {},
   "outputs": [],
   "source": []
  }
 ],
 "metadata": {
  "kernelspec": {
   "display_name": "Python 3 (ipykernel)",
   "language": "python",
   "name": "python3"
  },
  "language_info": {
   "codemirror_mode": {
    "name": "ipython",
    "version": 3
   },
   "file_extension": ".py",
   "mimetype": "text/x-python",
   "name": "python",
   "nbconvert_exporter": "python",
   "pygments_lexer": "ipython3",
   "version": "3.11.2"
  }
 },
 "nbformat": 4,
 "nbformat_minor": 4
}
