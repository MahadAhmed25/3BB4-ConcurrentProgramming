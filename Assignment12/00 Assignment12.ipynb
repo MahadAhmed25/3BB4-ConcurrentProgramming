{
 "cells": [
  {
   "cell_type": "markdown",
   "metadata": {},
   "source": [
    "### SFWR ENG 3BB4 Software Design II, Fall 2023/24, McMaster University\n",
    "**Emil Sekerinski (instructor), Nancy Kansal (TA)**\n",
    "\n",
    "**Due date extended to Tuesday, December 12, 11 pm**\n",
    "\n",
    "Maximum is 24 points plus 4 bonus points counting towards any assignment\n",
    "\n",
    "**Assignment 12, due Thursday, December 6, 11 pm. Introduced at:**\n",
    "- T03 on Thursday, November 30\n",
    "- T02 on Thursday, November 30\n",
    "- T01 on Friday, December 1\n",
    "\n",
    "The purpose of this assignment is to:\n",
    "\n",
    "* practice the use of generator coroutines and symmetric coroutines in Python,\n",
    "* practice the use of remote procedure calls using Python and Go.\n",
    "\n",
    "\n",
    "This assignment can be completed in a group of up to 3. Every group member still has to submit, and every submission will be graded independently. The purpose of the groups is to discuss and share solutions. If you are working in a group, you must add the name of one or two other group members in the field below, so identical submissions will not be construed as Academic Dishonesty. The other group members must mention you; it is not sufficient if one group member mentions the other."
   ]
  },
  {
   "cell_type": "markdown",
   "metadata": {
    "deletable": false,
    "nbgrader": {
     "cell_type": "markdown",
     "checksum": "93a752abf0dc069b3f72a9092d668a06",
     "grade": true,
     "grade_id": "cell-68301be7ce93d637",
     "locked": false,
     "points": 0,
     "schema_version": 3,
     "solution": true,
     "task": false
    }
   },
   "source": [
    "YOUR ANSWER HERE"
   ]
  }
 ],
 "metadata": {
  "kernelspec": {
   "display_name": "Python 3 (ipykernel)",
   "language": "python",
   "name": "python3"
  },
  "language_info": {
   "codemirror_mode": {
    "name": "ipython",
    "version": 3
   },
   "file_extension": ".py",
   "mimetype": "text/x-python",
   "name": "python",
   "nbconvert_exporter": "python",
   "pygments_lexer": "ipython3",
   "version": "3.11.5"
  }
 },
 "nbformat": 4,
 "nbformat_minor": 4
}
