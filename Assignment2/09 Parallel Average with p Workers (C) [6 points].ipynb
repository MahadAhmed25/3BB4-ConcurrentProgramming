{
 "cells": [
  {
   "cell_type": "markdown",
   "metadata": {
    "editable": true,
    "slideshow": {
     "slide_type": "slide"
    },
    "tags": []
   },
   "source": [
    "### Parallel Average with p Workers (C) [6 points]"
   ]
  },
  {
   "cell_type": "markdown",
   "metadata": {},
   "source": [
    "The task is to compute the average of `n` numbers `a(0)`, ..., `a(n – 1)`. For example, for `n = 5`, the average can be computed in different ways:\n",
    "\n",
    "      (a(0) + a(1) + a(2) + a(3) + a(4)) / 5\n",
    "    = a(0) / 5 + a(1) / 5 + a(2) / 5 + a(3) / 5 + a(4) / 5\n",
    "    = (a(0) + a(1) + a(2)) / 5 + (a(3) + a(4)) / 5\n",
    "\n",
    "The last variant suggests a computation in parallel: one thread computes `(a(0) + a(1) + a(2)) / 5`, and a second thread computes `(a(3) + a(4)) / 5`; the main program collects the results of the two threads and adds them.\n",
    "\n",
    "The program below computes the average of `n` random integers sequentially; you are asked to complete the parallel computation with `p` workers. The average is computed in both ways, and the times the sequential and parallel computation take are printed. The program reads `n` and `p` from the command line to make testing easier. [4 points]"
   ]
  },
  {
   "cell_type": "code",
   "execution_count": 1,
   "metadata": {
    "deletable": false,
    "nbgrader": {
     "cell_type": "code",
     "checksum": "d238a5118b0d6fbe28a25872b8d65e53",
     "grade": true,
     "grade_id": "cell-209274e4747537a7",
     "locked": false,
     "points": 4,
     "schema_version": 3,
     "solution": true,
     "task": false
    }
   },
   "outputs": [
    {
     "name": "stdout",
     "output_type": "stream",
     "text": [
      "Overwriting Average.c\n"
     ]
    }
   ],
   "source": [
    "%%writefile Average.c\n",
    "#include <pthread.h>\n",
    "#include <stdbool.h>\n",
    "#include <stdio.h>\n",
    "#include <stdlib.h>\n",
    "#include <sys/time.h>\n",
    "\n",
    "#define SHARED 1\n",
    "\n",
    "struct Args {int *a; int l; int u; int n; double avg;};\n",
    "\n",
    "void *worker(struct Args *arg) {\n",
    "    double s = 0;\n",
    "    for (int i = arg->l; i < arg->u; i++) s+= arg->a[i];\n",
    "    arg->avg = s / arg->n;\n",
    "}\n",
    "\n",
    "double sequentialaverage(int a[], int n) {\n",
    "    double s = 0;\n",
    "    for (int i = 0; i < n; i++) s += a[i];\n",
    "    return s / n;\n",
    "}\n",
    "\n",
    "static double parallelaverage(int a[], int n, int p) {\n",
    "    pthread_t threads[p];\n",
    "    pthread_attr_t attr;\n",
    "    pthread_attr_init(&attr);\n",
    "    pthread_attr_setscope(&attr, PTHREAD_SCOPE_SYSTEM);\n",
    "\n",
    "    int perThread = n/p;\n",
    "    struct Args workerList[p];\n",
    "    for (int i = 0; i < p; i++){\n",
    "        workerList[i].a = a;\n",
    "        workerList[i].l = i*perThread;\n",
    "        workerList[i].u = i<(p-1) ? (i+1)*perThread : n;\n",
    "        workerList[i].n = n;\n",
    "    }\n",
    "\n",
    "    for(int i = 0; i<p; i++) pthread_create(&threads[i], &attr, worker, &workerList[i]);\n",
    "    for(int i = 0; i<p; i++) pthread_join(threads[i], NULL);\n",
    "\n",
    "    double avg = 0;\n",
    "    for(int i=0; i<p; i++) avg += workerList[i].avg;\n",
    "\n",
    "    return avg;\n",
    "}\n",
    "\n",
    "/* main program: read command line and create threads */\n",
    "int main(int argc, char *argv[]) {\n",
    "    \n",
    "    int n = atoi(argv[1]);\n",
    "    int p = atoi(argv[2]);\n",
    "    int a[n];\n",
    "    srand(time(NULL));\n",
    "    for (int i = 0; i < n; i++) a[i] = rand() % 10000;\n",
    "    \n",
    "    struct timeval start, end;\n",
    "    gettimeofday(&start, 0);\n",
    "    double avg = sequentialaverage(a, n);\n",
    "    gettimeofday(&end, 0);\n",
    "    long seconds = end.tv_sec - start.tv_sec;\n",
    "    long microseconds = end.tv_usec - start.tv_usec;\n",
    "    long elapsed = seconds * 1e6 + microseconds;\n",
    "    printf(\"Sequential: %f Time: %i microseconds\\n\", avg, elapsed);\n",
    "    \n",
    "    gettimeofday(&start, 0);\n",
    "    avg = parallelaverage(a, n, p);\n",
    "    gettimeofday(&end, 0);\n",
    "    seconds = end.tv_sec - start.tv_sec;\n",
    "    microseconds = end.tv_usec - start.tv_usec;\n",
    "    elapsed = seconds * 1e6 + microseconds;\n",
    "    printf(\"Parallel:   %f Time: %i microseconds\\n\", avg, elapsed);\n",
    "}"
   ]
  },
  {
   "cell_type": "code",
   "execution_count": 2,
   "metadata": {},
   "outputs": [],
   "source": [
    "!gcc Average.c -lpthread -Wno-incompatible-pointer-types -o Average"
   ]
  },
  {
   "cell_type": "markdown",
   "metadata": {},
   "source": [
    "Run your implementation with the following values of `n`; you may also include more values. As each run can produce different timing results, run your implementation with the same value of `n` several times. The above program measures the elapsed time, not the CPU time. If there are other processes (users) on the same CPU, the elapsed time will be larger than the CPU time. If you are using a server, choose a time of the day with few other users. In multiple runs with the same parameter, smaller times approximate the CPU time better."
   ]
  },
  {
   "cell_type": "code",
   "execution_count": 9,
   "metadata": {},
   "outputs": [
    {
     "name": "stdout",
     "output_type": "stream",
     "text": [
      "Sequential: 4999.081910 Time: 2876 microseconds\n",
      "Parallel:   4999.081910 Time: 3611 microseconds\n"
     ]
    }
   ],
   "source": [
    "!./Average 1000000 1"
   ]
  },
  {
   "cell_type": "code",
   "execution_count": 10,
   "metadata": {},
   "outputs": [
    {
     "name": "stdout",
     "output_type": "stream",
     "text": [
      "Sequential: 5000.099400 Time: 2844 microseconds\n",
      "Parallel:   5000.099400 Time: 2155 microseconds\n"
     ]
    }
   ],
   "source": [
    "!./Average 1000000 2"
   ]
  },
  {
   "cell_type": "code",
   "execution_count": 11,
   "metadata": {},
   "outputs": [
    {
     "name": "stdout",
     "output_type": "stream",
     "text": [
      "Sequential: 5000.099400 Time: 2878 microseconds\n",
      "Parallel:   5000.099400 Time: 1473 microseconds\n"
     ]
    }
   ],
   "source": [
    "!./Average 1000000 4"
   ]
  },
  {
   "cell_type": "code",
   "execution_count": 12,
   "metadata": {},
   "outputs": [
    {
     "name": "stdout",
     "output_type": "stream",
     "text": [
      "Sequential: 4997.073334 Time: 2846 microseconds\n",
      "Parallel:   4997.073334 Time: 1168 microseconds\n"
     ]
    }
   ],
   "source": [
    "!./Average 1000000 8"
   ]
  },
  {
   "cell_type": "code",
   "execution_count": 13,
   "metadata": {},
   "outputs": [
    {
     "name": "stdout",
     "output_type": "stream",
     "text": [
      "Sequential: 4997.073334 Time: 2841 microseconds\n",
      "Parallel:   4997.073334 Time: 1654 microseconds\n"
     ]
    }
   ],
   "source": [
    "!./Average 1000000 16"
   ]
  },
  {
   "cell_type": "code",
   "execution_count": 15,
   "metadata": {},
   "outputs": [
    {
     "name": "stdout",
     "output_type": "stream",
     "text": [
      "Sequential: 4996.406079 Time: 2837 microseconds\n",
      "Parallel:   4996.406079 Time: 2371 microseconds\n"
     ]
    }
   ],
   "source": [
    "!./Average 1000000 32"
   ]
  },
  {
   "cell_type": "code",
   "execution_count": 19,
   "metadata": {},
   "outputs": [
    {
     "name": "stdout",
     "output_type": "stream",
     "text": [
      "Sequential: 4996.197162 Time: 1436 microseconds\n",
      "Parallel:   4996.197162 Time: 1051 microseconds\n"
     ]
    }
   ],
   "source": [
    "!./Average 500000 5"
   ]
  },
  {
   "cell_type": "markdown",
   "metadata": {},
   "source": [
    "Run your implementation with different values of `n` and `p`; summarize and explain your observations. For each pair of values, run multiple times and take the smallest execution time, as those executions had less interference. Is the result of the sequential and parallel computation always the same? [2 points]"
   ]
  },
  {
   "cell_type": "markdown",
   "metadata": {
    "deletable": false,
    "nbgrader": {
     "cell_type": "markdown",
     "checksum": "9bc5061fcf7428a741a2da66c64ec4b3",
     "grade": true,
     "grade_id": "cell-5d9531cbf604b5da",
     "locked": false,
     "points": 2,
     "schema_version": 3,
     "solution": true,
     "task": false
    }
   },
   "source": [
    "I noticed while running tests that C parallelism is more powerful than in java. the parallel computation is significantly faster than the sequential computation for lists of size greater than 500000, however sequential computation becomes faster for lists of size smaller than 500000 just like in java."
   ]
  }
 ],
 "metadata": {
  "kernelspec": {
   "display_name": "Python 3 (ipykernel)",
   "language": "python",
   "name": "python3"
  },
  "language_info": {
   "codemirror_mode": {
    "name": "ipython",
    "version": 3
   },
   "file_extension": ".py",
   "mimetype": "text/x-python",
   "name": "python",
   "nbconvert_exporter": "python",
   "pygments_lexer": "ipython3",
   "version": "3.11.2"
  },
  "toc": {
   "base_numbering": 1
  }
 },
 "nbformat": 4,
 "nbformat_minor": 4
}
