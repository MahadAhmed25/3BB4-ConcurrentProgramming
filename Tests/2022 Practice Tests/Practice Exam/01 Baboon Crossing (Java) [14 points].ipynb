{
 "cells": [
  {
   "cell_type": "markdown",
   "metadata": {
    "deletable": false,
    "editable": false,
    "nbgrader": {
     "cell_type": "markdown",
     "checksum": "1ccc40400dd9889d20b46527acfbc28f",
     "grade": false,
     "grade_id": "cell-49a379df409f1d61",
     "locked": true,
     "schema_version": 3,
     "solution": false,
     "task": false
    }
   },
   "source": [
    "<img style=\"width:40%;float: right;border-left:10px solid white\" src=\"img/Monkeys.png\"/>\n",
    "\n",
    "### Baboon Crossing [14 points]\n",
    "\n",
    "There is a deep canyon somewhere in Kruger National Park, South Africa, and a single rope that spans the canyon. Baboons can cross the canyon by swinging hand-over-hand on the rope from east to west or from west to east, but if two baboons going in opposite directions meet in the middle, they will fight and drop to their deaths. Furthermore, the rope is only strong enough to hold 5 baboons. If there are more baboons on the rope at the same time, it will break. Assuming that we can teach the baboons to use concurrency constructs, we would like to design a synchronization scheme with the following properties:\n",
    "- Once a baboon has begun to cross, it is guaranteed to get to the other side without running into a baboon going the other way.\n",
    "- There are never more than 5 baboons on the rope.\n",
    "- A continuing stream of baboons crossing in one direction should not bar baboons going the other way indefinitely (no starvation).\n",
    "\n",
    "[Adopted from Little Book of Semaphores by Allen B. Downey, 2016]"
   ]
  },
  {
   "cell_type": "markdown",
   "metadata": {
    "deletable": false,
    "editable": false,
    "nbgrader": {
     "cell_type": "markdown",
     "checksum": "2464e581d882cf4cc596a0769959c2ac",
     "grade": false,
     "grade_id": "cell-7517e83c8325173c",
     "locked": true,
     "schema_version": 3,
     "solution": false,
     "task": false
    }
   },
   "source": [
    "The rope has similarities to a critical section. Any solution to the critical section problem has to satisfy three safety properties and one liveness property:\n",
    "\n",
    "1. Mutual exclusion\n",
    "2. No deadlock (no livelock)\n",
    "3. No unnecessary delay\n",
    "4. Eventual entry\n",
    "\n",
    "What are these four properties in terms of the Baboon Crossing problem? [2 points]"
   ]
  },
  {
   "cell_type": "markdown",
   "metadata": {
    "deletable": false,
    "nbgrader": {
     "cell_type": "markdown",
     "checksum": "5ca5394d0edf19e73c50e6adc033d603",
     "grade": true,
     "grade_id": "cell-6841949c6dc2626f",
     "locked": false,
     "points": 2,
     "schema_version": 3,
     "solution": true,
     "task": false
    }
   },
   "source": [
    "YOUR ANSWER HERE"
   ]
  },
  {
   "cell_type": "markdown",
   "metadata": {
    "deletable": false,
    "editable": false,
    "nbgrader": {
     "cell_type": "markdown",
     "checksum": "129bd516479cfa7f97ba08afe7422b55",
     "grade": false,
     "grade_id": "cell-c438f0dc5ce91aed",
     "locked": true,
     "schema_version": 3,
     "solution": false,
     "task": false
    }
   },
   "source": [
    "Implement the Baboon Crossing problem in Java with the rope as a monitor by completing the template below. Your solution must satisfy all the four properties above to get full points. You must not modify the existing code, but you can add further code and you can add further cells for testing as you like. Only code in the cell below will be graded.\n",
    "\n",
    "You only need to use `synchronized`, `wait`, `notify`, `notifyAll`, standard control structures and standard data types. You may ignore exceptions, for example by using `try {wait();} catch (Exception e) {}`. You must not import libraries (there is no need). [5 points]\n",
    "\n",
    "_Hint:_ Answer this together with the questions below. You may introduce fields in `Rope` for\n",
    "- the number of baboons crossing from East to West\n",
    "- the number of baboons crossing from West to East\n",
    "- the number of baboons waiting to cross from East to West\n",
    "- the number of baboons waiting to cross from West to East\n",
    "- the direction of the last baboons crossing\n",
    "\n"
   ]
  },
  {
   "cell_type": "code",
   "execution_count": 45,
   "metadata": {
    "deletable": false,
    "nbgrader": {
     "cell_type": "code",
     "checksum": "863f925ed62c90e9377bf77b0bccc4ac",
     "grade": true,
     "grade_id": "cell-81feaf6268fb9b7e",
     "locked": false,
     "points": 5,
     "schema_version": 3,
     "solution": true,
     "task": false
    }
   },
   "outputs": [
    {
     "name": "stdout",
     "output_type": "stream",
     "text": [
      "Overwriting baboons.java\n"
     ]
    }
   ],
   "source": [
    "%%writefile baboons.java\n",
    "class Rope {\n",
    "    int num_EW;\n",
    "    int num_WE;\n",
    "    String prev_dir;\n",
    "\n",
    "    Rope(){\n",
    "        this.num_EW = 0; this.num_WE = 0; this.prev_dir = null;\n",
    "    }\n",
    "\n",
    "    synchronized void startEastToWest(int n){\n",
    "        if(num_WE > 0 || num_EW >= 5 || \"west\".equals(prev_dir)) try{wait();} catch (Exception e) {}\n",
    "        num_EW++;\n",
    "        System.out.println(\"< going west\" + n);\n",
    "    }\n",
    "\n",
    "    synchronized void finishEastToWest(int n){\n",
    "        num_EW--;\n",
    "        System.out.println(n + \"< finished west\");\n",
    "        if(num_EW == 0) prev_dir = \"west\"; notifyAll(); \n",
    "    }\n",
    "\n",
    "    synchronized void startWestToEast(int n){\n",
    "        if(num_EW > 0 || num_WE >= 5 || \"east\".equals(prev_dir)) try{wait();} catch (Exception e) {}\n",
    "        num_WE++;\n",
    "        System.out.println(n + \"going east >\");  \n",
    "    }\n",
    "\n",
    "    synchronized void finishWestToEast(int n){\n",
    "        num_WE--;\n",
    "        System.out.println(\"finished east >\" + n);\n",
    "        if(num_WE == 0) prev_dir = \"east\"; notifyAll(); \n",
    "    }\n",
    "}\n",
    "\n",
    "class Baboon extends Thread {\n",
    "    Rope r;\n",
    "    int n;\n",
    "    Baboon(Rope r, int n) {\n",
    "        this.r = r; this.n = n; setDaemon(true);\n",
    "    }\n",
    "    public void run() {\n",
    "        for (int i = 0; i < 1; i++) {\n",
    "            r.startEastToWest(n);\n",
    "            try {Thread.sleep(50);} catch (Exception e) {} // crossing to West side\n",
    "            r.finishEastToWest(n);\n",
    "            try {Thread.sleep(50);} catch (Exception e) {} // staying on West side\n",
    "            r.startWestToEast(n);\n",
    "            try {Thread.sleep(400);} catch (Exception e) {} // crossing to East side\n",
    "            r.finishWestToEast(n);\n",
    "            try {Thread.sleep(400);} catch (Exception e) {} // staying at East side\n",
    "        }\n",
    "    }\n",
    "}\n",
    "\n",
    "class Canyon {\n",
    "    public static void main(String[] args) {\n",
    "        Rope r = new Rope();\n",
    "        for (int n = 0; n < 10; n++) {\n",
    "            new Baboon(r, n).start();\n",
    "        }\n",
    "        try {Thread.sleep(5000);} catch (Exception e) {} // run program for 5 seconds\n",
    "    }\n",
    "}\n"
   ]
  },
  {
   "cell_type": "code",
   "execution_count": 46,
   "metadata": {},
   "outputs": [],
   "source": [
    "!javac baboons.java"
   ]
  },
  {
   "cell_type": "code",
   "execution_count": 47,
   "metadata": {},
   "outputs": [
    {
     "name": "stdout",
     "output_type": "stream",
     "text": [
      "< going west0\n",
      "< going west9\n",
      "< going west8\n",
      "< going west7\n",
      "< going west6\n",
      "0< finished west\n",
      "< going west5\n",
      "8< finished west\n",
      "< going west1\n",
      "< going west2\n",
      "< going west3\n",
      "6< finished west\n",
      "< going west4\n",
      "9< finished west\n",
      "7< finished west\n",
      "5< finished west\n",
      "0going east >\n",
      "1< finished west\n",
      "8going east >\n",
      "2< finished west\n",
      "3< finished west\n",
      "4< finished west\n",
      "6going east >\n",
      "7going east >\n",
      "9going east >\n",
      "finished east >0\n",
      "5going east >\n",
      "finished east >8\n",
      "4going east >\n",
      "3going east >\n",
      "2going east >\n",
      "1going east >\n",
      "finished east >6\n",
      "finished east >7\n",
      "finished east >9\n",
      "finished east >5\n",
      "finished east >4\n",
      "finished east >3\n",
      "finished east >2\n",
      "finished east >1\n"
     ]
    }
   ],
   "source": [
    "!java Canyon"
   ]
  },
  {
   "cell_type": "markdown",
   "metadata": {},
   "source": [
    "[Ungraded] For illustration, you may add statements\n",
    "\n",
    "- `System.out.println(\"<\" + n);` in `startEastToWest(int n)` when baboon `n` has started crossing,\n",
    "- `System.out.println(n + \"<\");` in `finishEastToWest(int n)` when baboon `n` has finished crossing,\n",
    "- `System.out.println(n + \">\");` in `startWestToEast(int n)` when baboon `n` has started crossing,\n",
    "- `System.out.println(\">\" + n);` in `finishWestToEast(int n)` when baboon `n` has finished crossing.\n",
    "\n",
    "In that case, a possible fragment of the output is:\n",
    "```\n",
    "<5\n",
    "<9\n",
    "<8\n",
    "<7\n",
    "<6\n",
    "5<\n",
    "9<\n",
    "7<\n",
    "8<\n",
    "6<\n",
    "0>\n",
    ">0\n",
    "```"
   ]
  },
  {
   "cell_type": "markdown",
   "metadata": {
    "deletable": false,
    "editable": false,
    "nbgrader": {
     "cell_type": "markdown",
     "checksum": "6acdb142d861cb03e40494786cecd245",
     "grade": false,
     "grade_id": "cell-d210643de83b2ad5",
     "locked": true,
     "schema_version": 3,
     "solution": false,
     "task": false
    }
   },
   "source": [
    "Consider following monitor in algorithmic notation. What are the conditions for the monitor to be correct, i.e. `I` to be an invariant? [2 points]\n",
    "\n",
    "```algorithm\n",
    "monitor M\n",
    "    var a\n",
    "    {I}\n",
    "    initialization(v₀)\n",
    "        {P₀}  S₀  {Q₀}\n",
    "    procedures pᵢ(vᵢ) → (rᵢ)\n",
    "        {Pᵢ}  Sᵢ  {Qᵢ}\n",
    "```"
   ]
  },
  {
   "cell_type": "markdown",
   "metadata": {
    "deletable": false,
    "nbgrader": {
     "cell_type": "markdown",
     "checksum": "56f5cdb04f37c291e4840e6c08e2e980",
     "grade": true,
     "grade_id": "cell-4c1cd1761b90ebc1",
     "locked": false,
     "points": 2,
     "schema_version": 3,
     "solution": true,
     "task": false
    }
   },
   "source": [
    "YOUR ANSWER HERE"
   ]
  },
  {
   "cell_type": "markdown",
   "metadata": {
    "deletable": false,
    "editable": false,
    "nbgrader": {
     "cell_type": "markdown",
     "checksum": "a3229f00749a23ae5d708cb31dbde07a",
     "grade": false,
     "grade_id": "cell-6e6052efb9a7b585",
     "locked": true,
     "schema_version": 3,
     "solution": false,
     "task": false
    }
   },
   "source": [
    "Suppose monitor `M` declares a local condition variable `cv` and the monitor procedures contain statements `wait(cv)` and `signal(cv)`. What are the correctness rules `wait(cv)` and `signal(cv)` with the signal-and-continue discipline? Give the rules and a very brief explanation. [2 points]"
   ]
  },
  {
   "cell_type": "markdown",
   "metadata": {
    "deletable": false,
    "nbgrader": {
     "cell_type": "markdown",
     "checksum": "6415354aa9dcf2cbd77acc1bcc904d6d",
     "grade": true,
     "grade_id": "cell-3cd10097bbfce6d6",
     "locked": false,
     "points": 2,
     "schema_version": 3,
     "solution": true,
     "task": false
    }
   },
   "source": [
    "YOUR ANSWER HERE"
   ]
  },
  {
   "cell_type": "markdown",
   "metadata": {
    "deletable": false,
    "editable": false,
    "nbgrader": {
     "cell_type": "markdown",
     "checksum": "0568f1d4aad960d9c4d6c419d153a119",
     "grade": false,
     "grade_id": "cell-9bbd81bced37a423",
     "locked": true,
     "schema_version": 3,
     "solution": false,
     "task": false
    }
   },
   "source": [
    "Give the strongest invariant of the monitor `Rope`. You may use mathematical notation or Java notation, as long as you are consistent (and it is clear what equality is). [2 points]\n",
    "\n",
    "**Symbols to copy and paste:** ⟨ ⟩ ¬ ∧ ∨ ≠ ≡ ⇒ ⇐ ≤ ≥"
   ]
  },
  {
   "cell_type": "markdown",
   "metadata": {
    "deletable": false,
    "nbgrader": {
     "cell_type": "markdown",
     "checksum": "58b880191eaa88db2b7ba24c41b9ce79",
     "grade": true,
     "grade_id": "cell-516f0137a93aea77",
     "locked": false,
     "points": 2,
     "schema_version": 3,
     "solution": true,
     "task": false
    }
   },
   "source": [
    "YOUR ANSWER HERE"
   ]
  },
  {
   "cell_type": "markdown",
   "metadata": {
    "deletable": false,
    "editable": false,
    "nbgrader": {
     "cell_type": "markdown",
     "checksum": "f65a59b11762b5152c06d034f720c6cb",
     "grade": false,
     "grade_id": "cell-ce3128ddc9ae5b89",
     "locked": true,
     "schema_version": 3,
     "solution": false,
     "task": false
    }
   },
   "source": [
    "Can baboons crossing in the same direction overtake each other? Answer Yes or No and give a brief explanation. [1 point]"
   ]
  },
  {
   "cell_type": "markdown",
   "metadata": {
    "deletable": false,
    "nbgrader": {
     "cell_type": "markdown",
     "checksum": "f59d1e6ae97a8a379c6a1b97ae2b1a11",
     "grade": true,
     "grade_id": "cell-02e25caedd35cfac",
     "locked": false,
     "points": 1,
     "schema_version": 3,
     "solution": true,
     "task": false
    }
   },
   "source": [
    "YOUR ANSWER HERE"
   ]
  }
 ],
 "metadata": {
  "kernelspec": {
   "display_name": "Python 3 (ipykernel)",
   "language": "python",
   "name": "python3"
  },
  "language_info": {
   "codemirror_mode": {
    "name": "ipython",
    "version": 3
   },
   "file_extension": ".py",
   "mimetype": "text/x-python",
   "name": "python",
   "nbconvert_exporter": "python",
   "pygments_lexer": "ipython3",
   "version": "3.11.5"
  }
 },
 "nbformat": 4,
 "nbformat_minor": 4
}
