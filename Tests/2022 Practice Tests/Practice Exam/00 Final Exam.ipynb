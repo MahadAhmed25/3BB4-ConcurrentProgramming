{
 "cells": [
  {
   "cell_type": "markdown",
   "metadata": {
    "deletable": false,
    "editable": false,
    "nbgrader": {
     "cell_type": "markdown",
     "checksum": "66cf67965aa0015a34d23be54c80ef3c",
     "grade": false,
     "grade_id": "cell-72289e12268de69a",
     "locked": true,
     "schema_version": 3,
     "solution": false,
     "task": false
    }
   },
   "source": [
    "### SFWRENG 3BB4 Software Design II, Fall 2022/23, McMaster University\n",
    "\n",
    "**Final Exam, Wednesday, December 21, 9:00 - 11:00 am.**\n",
    "\n",
    "The test is graded out of 24. The maximum is 28.\n",
    "\n",
    "**Emil Sekerinski (instructor), Hong Sun, Mohammad Hossein Dehghan (TAs)**\n",
    "\n",
    "- This is a \"closed book\" test: your browser must have only one tab with Jupyter on jhub3bb4 and one tab with python.org. Accessing any other material on jhub3bb4, on your computer, through the web, or through any other means is not allowed. This includes the course notes, assignments and practices of this course. Any attempt to access other material will be treated as Academic Dishonesty.\n",
    "- Please stay in the test room until the end of the test. If you are done early, you cannot use your computer or your phone/tablet for anything else; read a book!"
   ]
  },
  {
   "cell_type": "markdown",
   "metadata": {
    "deletable": false,
    "editable": false,
    "nbgrader": {
     "cell_type": "markdown",
     "checksum": "7c481c0697206a5136f987bd953fbb27",
     "grade": false,
     "grade_id": "cell-209d366164b77724",
     "locked": true,
     "schema_version": 3,
     "solution": false,
     "task": false
    }
   },
   "source": [
    "> Academic dishonesty is to knowingly act or fail to act in a way that results or could result in unearned academic credit or advantage.  This behaviour can result in serious consequences, e.g. the grade of zero on an assignment, loss of credit with a notation on the transcript (notation reads: “Grade of F assigned for academic dishonesty”) and/or suspension or expulsion from the university.\n",
    ">\n",
    "> By submitting this work, I certify that the work represents solely my own independent efforts. I confirm that I am expected to exhibit honesty and use ethical behaviour in all aspects of the learning process.  I confirm that it is my responsibility to understand what constitutes academic dishonesty under the [Academic Integrity Policy](https://secretariat.mcmaster.ca/app/uploads/Academic-Integrity-Policy-1-1.pdf)"
   ]
  }
 ],
 "metadata": {
  "kernelspec": {
   "display_name": "Python 3 (ipykernel)",
   "language": "python",
   "name": "python3"
  },
  "language_info": {
   "codemirror_mode": {
    "name": "ipython",
    "version": 3
   },
   "file_extension": ".py",
   "mimetype": "text/x-python",
   "name": "python",
   "nbconvert_exporter": "python",
   "pygments_lexer": "ipython3",
   "version": "3.11.5"
  }
 },
 "nbformat": 4,
 "nbformat_minor": 4
}
