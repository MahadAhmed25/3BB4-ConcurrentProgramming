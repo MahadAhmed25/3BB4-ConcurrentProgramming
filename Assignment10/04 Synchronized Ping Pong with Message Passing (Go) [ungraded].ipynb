{
 "cells": [
  {
   "cell_type": "markdown",
   "metadata": {},
   "source": [
    "### Synchronized Ping Pong (Go)"
   ]
  },
  {
   "cell_type": "markdown",
   "metadata": {},
   "source": [
    "Let us implement barrier synchronization in Go: Write goroutine `ping` that prints `ping` and sleeps for 2 seconds, and goroutine `pong` that prints `pong` and sleeps for 4 seconds. Once they both print, they can start the next round again. That is, pairs of `ping` and `pong` should be printed in any order. The goroutines should communicate directly, without any other goroutines involved. How many channels do you need? Write your code such that the program runs infinitely long.\n",
    "\n",
    "_Hint:_ Use `time.Sleep(2 * time.Second)` to sleep 2 seconds."
   ]
  },
  {
   "cell_type": "code",
   "execution_count": 1,
   "metadata": {
    "solution": "hidden",
    "solution_first": true
   },
   "outputs": [
    {
     "name": "stdout",
     "output_type": "stream",
     "text": [
      "Writing barrier.go\n"
     ]
    }
   ],
   "source": [
    "%%writefile barrier.go\n",
    "package main\n",
    "import \"time\"\n",
    "\n",
    "var c chan bool\n",
    "\n",
    "func ping() {\n",
    "    for {\n",
    "        println(\"ping\")\n",
    "        time.Sleep(2*time.Second)\n",
    "        c <- false\n",
    "    }\n",
    "}\n",
    "\n",
    "func pong() {\n",
    "    for {\n",
    "        println(\"pong\")\n",
    "        time.Sleep(4*time.Second)\n",
    "        <- c\n",
    "    }\n",
    "}\n",
    "\n",
    "func main() {\n",
    "    c = make(chan bool)\n",
    "    go ping(); go pong()\n",
    "    select {}\n",
    "}"
   ]
  },
  {
   "cell_type": "code",
   "execution_count": 2,
   "metadata": {},
   "outputs": [
    {
     "name": "stdout",
     "output_type": "stream",
     "text": [
      "pong\n",
      "ping\n",
      "pong\n",
      "ping\n",
      "pong\n",
      "ping\n",
      "pong\n",
      "ping\n",
      "pong\n",
      "ping\n",
      "pong\n",
      "ping\n",
      "pong\n",
      "ping\n",
      "pong\n",
      "ping\n",
      "pong\n",
      "ping\n",
      "pong\n",
      "ping\n",
      "^C\n",
      "signal: interrupt\n"
     ]
    }
   ],
   "source": [
    "!go run barrier.go"
   ]
  },
  {
   "cell_type": "code",
   "execution_count": null,
   "metadata": {},
   "outputs": [],
   "source": []
  }
 ],
 "metadata": {
  "kernelspec": {
   "display_name": "Python 3 (ipykernel)",
   "language": "python",
   "name": "python3"
  },
  "language_info": {
   "codemirror_mode": {
    "name": "ipython",
    "version": 3
   },
   "file_extension": ".py",
   "mimetype": "text/x-python",
   "name": "python",
   "nbconvert_exporter": "python",
   "pygments_lexer": "ipython3",
   "version": "3.11.5"
  }
 },
 "nbformat": 4,
 "nbformat_minor": 4
}
