{
 "cells": [
  {
   "cell_type": "markdown",
   "metadata": {},
   "source": [
    "### Resource Allocator and Timeout with Message Passing (Go)"
   ]
  },
  {
   "cell_type": "markdown",
   "metadata": {},
   "source": [
    "Consider the following resource allocator as an example of an active monitor. It is similar to the one in the course notes."
   ]
  },
  {
   "cell_type": "code",
   "execution_count": 1,
   "metadata": {},
   "outputs": [
    {
     "name": "stdout",
     "output_type": "stream",
     "text": [
      "Writing allocator.go\n"
     ]
    }
   ],
   "source": [
    "%%writefile allocator.go\n",
    "package main\n",
    "\n",
    "import (\"time\"; \"math/rand\")\n",
    "\n",
    "func printboolarray(a []bool) {\n",
    "    for _, e := range(a) {\n",
    "        if e {print(\" \")} else {print(\"X\")}\n",
    "    }\n",
    "    println()\n",
    "}\n",
    "func allocator(capacity int, request chan chan int, release chan int) {\n",
    "    avail := make([]bool, capacity)\n",
    "    for i := 0; i < capacity; i++ {avail[i] = true}\n",
    "    next := 0\n",
    "    // invariant: 0 <= next && (next < capacity && avail[next] ||\n",
    "    //              (next == capacity && !avail[0] && ... && !avail[capacity - 1]))\n",
    "    for {\n",
    "        if next < capacity { // avail[next]\n",
    "            select {\n",
    "            case reply := <- request: {reply <- next; avail[next] = false}\n",
    "            case unit := <- release: avail[unit] = true\n",
    "            }\n",
    "        } else { // !avail[0] && ... && !avail[capacity - 1]\n",
    "            unit := <- release; avail[unit] = true\n",
    "        }\n",
    "        // now comes the computation that takes place between client communication\n",
    "        printboolarray(avail)\n",
    "        next = 0; for next < capacity && !avail[next] {next++}\n",
    "    }\n",
    "}\n",
    "func client(i int, request chan chan int, release chan int) {\n",
    "    reply := make(chan int)\n",
    "    for {\n",
    "        request <- reply; unit := <- reply\n",
    "        time.Sleep(time.Second * time.Duration(rand.Int() % 9)) // sleep between 0 and 8 sec\n",
    "        release <- unit\n",
    "    }\n",
    "}\n",
    "func main() {\n",
    "    request, release := make(chan chan int), make(chan int)\n",
    "    go allocator(5, request, release) // 5 resources\n",
    "    for i := 0; i < 10; i++ {go client(i, request, release)} // 10 clients\n",
    "    time.Sleep(time.Second * 6)\n",
    "}"
   ]
  },
  {
   "cell_type": "markdown",
   "metadata": {},
   "source": [
    "When clients send a request, they may wait arbitrarily long to receive a reply if the resources are in heavy demand, which may not be desirable. Modify the resource allocator to have timeouts: if a request can be satisfied within `1 sec`, the allocator sends back the available resource unit and, otherwise, a negative number indicating that no resource was allocated. That is, the timeout of a request is activated when the requesting message is received. While activated, further request and release messages can be received. All further requests should be rejected immediately by sending a negative number back. The first received release message deactivates the timeout, and the just-released unit is sent back to the waiting client.\n",
    "\n",
    "Modify the above implementation accordingly and document it. In particular, state all the essential loop invariants. You may add print statements to visualize the execution and remove the ones included below. *Hint:* The library function [After](https://golang.org/pkg/time/#After) returns (immediately) a channel over which a message is being sent after the specified duration. You can use that to implement the timeout."
   ]
  },
  {
   "cell_type": "code",
   "execution_count": null,
   "metadata": {
    "deletable": false,
    "nbgrader": {
     "cell_type": "code",
     "checksum": "7a8531c1305ecd47b6ad98bf1b9e26a4",
     "grade": true,
     "grade_id": "cell-a6e8dfe2eba5860b",
     "locked": false,
     "points": 8,
     "schema_version": 3,
     "solution": true,
     "task": false
    }
   },
   "outputs": [],
   "source": [
    "%%writefile allocator.go\n",
    "package main\n",
    "\n",
    "import (\"time\"; \"math/rand\")\n",
    "\n",
    "func printboolarray(a []bool) {\n",
    "    for _, e := range(a) {\n",
    "        if e {print(\" \")} else {print(\"X\")}\n",
    "    }\n",
    "    println()\n",
    "}\n",
    "# YOUR CODE HERE\n",
    "raise NotImplementedError()\n",
    "func main() {\n",
    "    const C = 5 // capacity\n",
    "    const R = 100 // repetions of non-timed tests\n",
    "    const T = 10 // repetitions of timed tests\n",
    "    request, release, reply := make(chan chan int), make(chan int), make(chan int)\n",
    "    \n",
    "    go allocator(C, request, release)\n",
    "    \n",
    "    // testing allocator up to capacity\n",
    "    var a [C]bool // available resources, initially false\n",
    "    for i := 0; i < R; i++ {\n",
    "        u := rand.Int() % C // randomly request or release a resource\n",
    "        if a[u] {release <- u; a[u] = false\n",
    "        } else {\n",
    "            request <- reply; r := <- reply\n",
    "            if r < 0 {panic(\"available resource not allocated\")\n",
    "            } else if r >= C {panic(\"improper resource allocated\")\n",
    "            } else if a[r] {panic(\"same resource used twice\")\n",
    "            } else {a[r] = true\n",
    "            }            \n",
    "        }\n",
    "    }\n",
    "    for u := 0; u < C; u++ {if a[u] {release <- u; a[u] = false}}\n",
    "    \n",
    "    // testing allocator above capacity but without timeout\n",
    "    for u := 0; u < C; u++ {request <- reply; a[<- reply] = true} // request all resources\n",
    "    for u := 0; u < C; u++ {if !a[u] {panic(\"resources not properly allocated\")}}\n",
    "    for i := 0; i < R; i++ {\n",
    "        request <- reply // request one more resource; cannot be satisfied immediatley\n",
    "        release <- 0 // release one resource; above request can now be satisfied\n",
    "        select { // we give the resource allocator .2 seconds to satisfy the request\n",
    "        case <- time.After(200 * time.Millisecond): panic(\"released resouce not taken\")\n",
    "        case <- reply: // ok; now all resources are taken\n",
    "        }\n",
    "    }\n",
    "    \n",
    "    // testing allocator above capacity with timeout\n",
    "    for i := 0; i < T; i++ {\n",
    "        request <- reply // request one more resource; cannot be satisfied immediatley\n",
    "        time.Sleep(1200 * time.Millisecond) // resource allocator should timeout after 1 second\n",
    "        select {\n",
    "        case r := <- reply: if r >= 0 {panic(\"negative reply expected\")}\n",
    "        default: panic(\"timeout within 1 second expected\")\n",
    "        }\n",
    "    }\n",
    "\n",
    "    // testing allocator with repeated requests above capacity\n",
    "    request <- reply // request one more resource; cannot be satisfied immediatley\n",
    "    for j := 0; j < R; j++ {\n",
    "        reply2 := make(chan int)\n",
    "        request <- reply2 // request another resources; request should be rejected immediately\n",
    "        select { // we still give it .2 seconds to be rejected\n",
    "        case r := <- reply2: if r >= 0 {panic(\"negative reply expected\")}\n",
    "        case <-time.After(200 * time.Millisecond): panic(\"immediate rejection of second requests expected\")\n",
    "        }\n",
    "    }\n",
    "}"
   ]
  },
  {
   "cell_type": "code",
   "execution_count": 2,
   "metadata": {},
   "outputs": [
    {
     "name": "stdout",
     "output_type": "stream",
     "text": [
      "X    \n",
      "XX   \n",
      "XXX  \n",
      "XXXX \n",
      "XXXXX\n",
      "XXXX \n",
      "XXXXX\n",
      "XXX X\n",
      "X X X\n",
      "XXX X\n",
      "XXXXX\n",
      "X XXX\n",
      "XXXXX\n",
      "XXXX \n",
      "XXXXX\n"
     ]
    }
   ],
   "source": [
    "!go run allocator.go"
   ]
  },
  {
   "cell_type": "markdown",
   "metadata": {},
   "source": [
    "The above implementation activates a timeout only for the first request that cannot be satisfied immediately and rejects all further requests immediately. Modify it such that there is a timeout of `1 sec` for all requests that cannot be satisfied immediately. That is, each request times out `1 sec` after it has been received, so different requests will time out at different times, and the resource allocator has to keep track of all those. Request messages are to be served on a first-come, first-serve basis. Document your design decisions! In particular, state all the essential loop invariants. For implementing a queue, you may use the Go library, e.g. [container/list](https://golang.org/pkg/container/list/). [2 bonus points]"
   ]
  },
  {
   "cell_type": "code",
   "execution_count": null,
   "metadata": {
    "deletable": false,
    "nbgrader": {
     "cell_type": "code",
     "checksum": "0b94674ce105c7eb9d5a41b3b4a529fb",
     "grade": true,
     "grade_id": "cell-f9f403296734cd31",
     "locked": false,
     "points": 0,
     "schema_version": 3,
     "solution": true,
     "task": false
    }
   },
   "outputs": [],
   "source": [
    "%%writefile allocator.go\n",
    "package main\n",
    "\n",
    "import (\"time\"; \"math/rand\"; \"container/list\")\n",
    "\n",
    "func printboolarray(a []bool) {\n",
    "    for _, e := range(a) {\n",
    "        if e {print(\" \")} else {print(\"X\")}\n",
    "    }\n",
    "    println()\n",
    "}\n",
    "# YOUR CODE HERE\n",
    "raise NotImplementedError()\n",
    "func main() {\n",
    "    const C = 5 // capacity\n",
    "    const R = 100 // repetitons of non-timed tests\n",
    "    const T = 10 // repetitons of timed tests\n",
    "    request, release, reply := make(chan chan int), make(chan int), make(chan int)\n",
    "    \n",
    "    go allocator(C, request, release)\n",
    "    \n",
    "    // testing allocator up to capacity\n",
    "    var t [C]bool // taken resources, initially false\n",
    "    for i := 0; i < R; i++ {\n",
    "        u := rand.Int() % C // randomly request or release a resource\n",
    "        if t[u] {release <- u; t[u] = false\n",
    "        } else {\n",
    "            request <- reply; r := <- reply\n",
    "            if r < 0 {println(i, r); panic(\"available resource not allocated\")\n",
    "            } else if r >= C {panic(\"improper resource allocated\")\n",
    "            } else if t[r] {panic(\"same resource used twice\")\n",
    "            } else {t[r] = true\n",
    "            }            \n",
    "        }\n",
    "    }\n",
    "    for u := 0; u < C; u++ {if t[u] {release <- u; t[u] = false}}\n",
    "\n",
    "    // testing allocator above capacity but without timeout\n",
    "    for u := 0; u < C; u++ {request <- reply; t[<- reply] = true} // request all resources\n",
    "    for u := 0; u < C; u++ {if !t[u] {panic(\"resources not properly allocated\")}}\n",
    "    for i := 0; i < R; i++ {\n",
    "        reply2 := make(chan int)\n",
    "        request <- reply // request one more resource; cannot be satisfied immediatley\n",
    "        request <- reply2 // yet another request that cannot be satisfied immediately\n",
    "        release <- 0\n",
    "        select { // we give the resource allocator .2 seconds to satisfy the first request\n",
    "        case <- time.After(200 * time.Millisecond): panic(\"first released resouce not taken\")\n",
    "        case <- reply: // first request satisfied\n",
    "            release <- 1 // release two resources; above requests can now be satisfied\n",
    "            select {// we give the resource allocator .2 seconds to satisfy the second request\n",
    "            case <- time.After(200 * time.Millisecond): panic(\"second released resouce not taken\")\n",
    "            case <- reply2: // ok                \n",
    "            }\n",
    "        }\n",
    "    }\n",
    "\n",
    "    // testing allocator above capacity with timeout\n",
    "    for i := 0; i < T; i++ {\n",
    "        request <- reply // request one more resource; cannot be satisfied immediatley\n",
    "        time.Sleep(1200 * time.Millisecond) // resource allocator should timeout after 1 second\n",
    "        select {// we give the resource allocator .2 seconds to reply\n",
    "        case <- time.After(200 * time.Millisecond): panic(\"rejection after 1 second expected\")\n",
    "        case r := <- reply: if r >= 0 {panic(\"negative reply expected\")}\n",
    "        }\n",
    "    }\n",
    "\n",
    "    // testing allocator with repeated requests above capacity\n",
    "    for i := 0; i < T; i++ {\n",
    "        request <- reply // request one more resource; cannot be satisfied immediatley\n",
    "        reply2 := make(chan int)\n",
    "        request <- reply2 // request another resource\n",
    "        time.Sleep(1200 * time.Millisecond) // resource allocator should timeout after 1 second\n",
    "        select { // we still give it .2 seconds to reject the first request\n",
    "        case <- time.After(200 * time.Millisecond): panic(\"rejection of first requests expected\")\n",
    "        case r := <- reply:\n",
    "            if r >= 0 {panic(\"negative reply expected\")}\n",
    "            select { // we give it another .2 seconds to reject the second request\n",
    "            case <- time.After(200 * time.Millisecond): panic(\"rejection of second requests expected\")\n",
    "            case r := <- reply2: if r >= 0 {panic(\"negative reply expected\")}\n",
    "            }\n",
    "        }\n",
    "    }\n",
    "}"
   ]
  },
  {
   "cell_type": "code",
   "execution_count": null,
   "metadata": {},
   "outputs": [],
   "source": [
    "!go run allocator.go"
   ]
  }
 ],
 "metadata": {
  "kernelspec": {
   "display_name": "Python 3 (ipykernel)",
   "language": "python",
   "name": "python3"
  },
  "language_info": {
   "codemirror_mode": {
    "name": "ipython",
    "version": 3
   },
   "file_extension": ".py",
   "mimetype": "text/x-python",
   "name": "python",
   "nbconvert_exporter": "python",
   "pygments_lexer": "ipython3",
   "version": "3.11.5"
  },
  "livereveal": {
   "scroll": true
  },
  "rise": {
   "enable_chalkboard": true
  }
 },
 "nbformat": 4,
 "nbformat_minor": 4
}
