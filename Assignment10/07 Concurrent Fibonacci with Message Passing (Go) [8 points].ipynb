{
 "cells": [
  {
   "cell_type": "markdown",
   "metadata": {},
   "source": [
    "### Concurrent Fibonacci with Message Passing (Go)"
   ]
  },
  {
   "cell_type": "markdown",
   "metadata": {},
   "source": [
    "> \"A certain man put a pair of rabbits in a place surrounded on all sides by a wall. How many pairs of rabbits can be produced from that pair in a year if it is supposed that every month each pair begets a new pair which from the second month on becomes productive?\" – Leonardo of Pisa, later known as Fibonacci\n",
    "\n",
    "The answer to that is the Fibonacci sequence. The numbers of that sequence are recursively defined by:\n",
    "\n",
    "    fib(0)  =  0\n",
    "    fib(1)  =  1\n",
    "    fib(n)  =  fib(n – 1) + fib(n – 2)    for n > 1\n",
    "\n",
    "The task is to compute the first `N = 20` Fibonacci numbers by `N` processes (goroutines), each computing `fib(i)` for `0 ≤ i < N` and communicating over an array `c` of `N` channels `c` and a channel `r`:\n",
    "- Process `0` outputs the pair `0, 0` on `r` and `0` on `c[0]`.\n",
    "- Process `1` outputs the pair `1, 1` on `r` and `1` on `c[1]`.\n",
    "- Process `i`, for `1 < i < N`, receives numbers from `c[i – 1]` and `c[i – 2]`, computes their sum, outputs `i` and the sum on `r`, and the sum on `c[i]`.\n",
    "\n",
    "The main program collects and compares all computed pairs to the expected pairs. In\n",
    "\n",
    "    fib(2) = fib(1) + fib(0)\n",
    "    fib(3) = fib(2) + fib(1)\n",
    "    fib(4) = fib(3) + fib(2)\n",
    "    ...\n",
    "    fib(N - 2) = fib(N - 3) + fib(N - 4)\n",
    "    fib(N - 1) = fib(N - 2) + fib(N - 3)\n",
    "\n",
    "the terms `fib(0)` and `fib(N – 2)` occur only once on the right-hand sides, `fib(N – 1)` does not occur at all on the right-hand sides, and each `fib(i)` for `0 < i < N – 2` occurs twice. In the implementation, this means that only one “downstream process” receives from channels `0` and `N – 2`, no process receives from channel `N - 1`, and two processes receive from each of the other channels. That is, processes `fib(0)` and `fib(N – 2)` should send their computed Fibonacci number only once over their channel, `fib(N – 1)` should not send it at all, and all other processes should send it twice.\n",
    "\n",
    "The template below compares the first 20 computed Fibonacci numbers with the expected ones by storing each in a map and comparing the two maps. The order of insertion in the map of computed numbers does not matter. Comparing two maps with `==` in Go compares only their addresses. The test below uses a function of the `reflect` library for *deep comparison*. [8 points]"
   ]
  },
  {
   "cell_type": "code",
   "execution_count": 17,
   "metadata": {
    "deletable": false,
    "nbgrader": {
     "cell_type": "code",
     "checksum": "c4a2eb7b984a98b088443be1609e1710",
     "grade": true,
     "grade_id": "cell-630b1724a735ef0a",
     "locked": false,
     "points": 8,
     "schema_version": 3,
     "solution": true,
     "task": false
    }
   },
   "outputs": [
    {
     "name": "stdout",
     "output_type": "stream",
     "text": [
      "Overwriting fibonacci.go\n"
     ]
    }
   ],
   "source": [
    "%%writefile fibonacci.go\n",
    "package main\n",
    "import \"reflect\"\n",
    "\n",
    "const N = 20\n",
    "\n",
    "type IntPair = struct {i int; f int}\n",
    "\n",
    "var r chan IntPair\n",
    "var c[N] chan int\n",
    "\n",
    "func fib(i int) {\n",
    "\tvar f int\n",
    "\tif i == 0 {\n",
    "\t\tf = 0\n",
    "\t\tc[0] <- 0\n",
    "\t} else if i == 1 {\n",
    "\t\tf = 1\n",
    "\t\tc[1] <- 1\n",
    "\t\tc[1] <- 1\n",
    "\t} else {\n",
    "\t\tf1 := <-c[i-1]\n",
    "\t\tf2 := <-c[i-2]\n",
    "\t\tf = f1 + f2\n",
    "\t\tif i == N-2 {\n",
    "\t\t\tc[i] <- f\n",
    "\t\t} else if i != N-1 {\n",
    "\t\t\tc[i] <- f\n",
    "\t\t\tc[i] <- f\n",
    "\t\t}\n",
    "\t}\n",
    "\n",
    "\tr <- IntPair{i, f}\n",
    "}\n",
    "\n",
    "func main() {\n",
    "    m := make(map[int]int)\n",
    "    r = make(chan IntPair)\n",
    "    for i := 0; i < N; i++ {c[i] = make(chan int)}\n",
    "    for i := 0; i < N; i++ {go fib(i)}\n",
    "    for i := 0; i < N; i++ {p := <- r; m[p.i] = p.f}\n",
    "    e := map[int]int{0:0, 1:1, 2:1, 3:2, 4:3, 5:5, 6:8, 7:13, 8:21, 9:34, 10:55, 11:89,\n",
    "        12:144, 13:233, 14:377, 15:610, 16:987, 17:1597, 18:2584, 19:4181}\n",
    "    println(\"computed and expected Fibonacci numbers are the same: \", reflect.DeepEqual(m, e))\n",
    "}"
   ]
  },
  {
   "cell_type": "code",
   "execution_count": 18,
   "metadata": {},
   "outputs": [
    {
     "name": "stdout",
     "output_type": "stream",
     "text": [
      "computed and expected Fibonacci numbers are the same:  true\n"
     ]
    }
   ],
   "source": [
    "!go run fibonacci.go"
   ]
  },
  {
   "cell_type": "code",
   "execution_count": null,
   "metadata": {},
   "outputs": [],
   "source": []
  }
 ],
 "metadata": {
  "kernelspec": {
   "display_name": "Python 3 (ipykernel)",
   "language": "python",
   "name": "python3"
  },
  "language_info": {
   "codemirror_mode": {
    "name": "ipython",
    "version": 3
   },
   "file_extension": ".py",
   "mimetype": "text/x-python",
   "name": "python",
   "nbconvert_exporter": "python",
   "pygments_lexer": "ipython3",
   "version": "3.11.5"
  }
 },
 "nbformat": 4,
 "nbformat_minor": 4
}
