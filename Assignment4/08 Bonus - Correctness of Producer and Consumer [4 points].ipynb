{
 "cells": [
  {
   "cell_type": "markdown",
   "id": "32eeaef9-88d2-498a-9430-ba8a23c267fd",
   "metadata": {},
   "source": [
    "### Correctness of Producer and Consumer"
   ]
  },
  {
   "cell_type": "markdown",
   "id": "ab3e1399-fd48-4cab-af32-b72caaae4a6a",
   "metadata": {},
   "source": [
    "The conditions for the correctness of `Consumer` from 02 Concurrency and Synchronization are\n",
    "\n",
    "1.\n",
    "```algorithm\n",
    "{PC ∧ CI ∧ c < N ∧ p > c} \n",
    "b(c) := buf\n",
    "{PC ∧ CI ∧ c < N ∧ p > c ∧ b(c) = a(c)}\n",
    "```\n",
    "\n",
    "2.\n",
    "```algorithm\n",
    "{PC ∧ CI ∧ c < N ∧ p > c ∧ b(c) = a(c)} \n",
    "c := c + 1\n",
    "{PC ∧ CI}\n",
    "```\n",
    "\n",
    "where:\n",
    "\n",
    "```\n",
    "PC:  0 ≤ p ≤ c + 1 ∧ (p = c + 1 ⇒ buf = a(p - 1))\n",
    "PI:  p ≤ N\n",
    "CI:  c ≤ N ∧ b[0 .. c - 1] = a[0 .. c - 1]\n",
    "```\n",
    "Prove the two conditions in an equational style! In each proof step, state the rules that are applied!"
   ]
  },
  {
   "cell_type": "markdown",
   "id": "8bd174dc-1e00-4868-9297-3533684b1ddf",
   "metadata": {
    "deletable": false,
    "nbgrader": {
     "cell_type": "markdown",
     "checksum": "223ad9c88fb590075bdda7571cade954",
     "grade": true,
     "grade_id": "cell-64ea0df66626469a",
     "locked": false,
     "points": 4,
     "schema_version": 3,
     "solution": true,
     "task": false
    }
   },
   "source": []
  },
  {
   "cell_type": "code",
   "execution_count": null,
   "id": "1f01a71a-b7ee-4a95-a097-3dd3dc8a1bbb",
   "metadata": {},
   "outputs": [],
   "source": []
  }
 ],
 "metadata": {
  "kernelspec": {
   "display_name": "Python 3 (ipykernel)",
   "language": "python",
   "name": "python3"
  },
  "language_info": {
   "codemirror_mode": {
    "name": "ipython",
    "version": 3
   },
   "file_extension": ".py",
   "mimetype": "text/x-python",
   "name": "python",
   "nbconvert_exporter": "python",
   "pygments_lexer": "ipython3",
   "version": "3.11.2"
  }
 },
 "nbformat": 4,
 "nbformat_minor": 5
}
