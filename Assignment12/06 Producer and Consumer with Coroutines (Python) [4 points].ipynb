{
 "cells": [
  {
   "cell_type": "markdown",
   "metadata": {},
   "source": [
    "### Producers and Consumers with Coroutines (Python) [4 points]"
   ]
  },
  {
   "cell_type": "markdown",
   "metadata": {},
   "source": [
    "Here is a solution to the producer-consumer problem with thread-safe queues in Python. There are each `numProdsCons` producers and consumers. Each producer places the first `numIters` numbers in a shared buffer. Each consumer takes `numIters` numbers from the shared buffer and sends their sum to a queue with the results. The main program prints the sum of all the results as well as the expected total sum:"
   ]
  },
  {
   "cell_type": "code",
   "execution_count": 1,
   "metadata": {},
   "outputs": [],
   "source": [
    "from threading import Thread\n",
    "from queue import Queue\n",
    "\n",
    "def producer(n: int, b: Queue):\n",
    "    for i in range(n): b.put(i)\n",
    "\n",
    "def consumer(n: int, b: Queue, r: Queue):\n",
    "    s = 0\n",
    "    for _ in range(n): s += b.get()\n",
    "    r.put(s)\n",
    "\n",
    "def pc(numIters: int, numProdsCons: int, capacity: int): # capacity = 0 for unbounded queue\n",
    "    buf, result = Queue(capacity), Queue(numProdsCons)\n",
    "    for _ in range(numProdsCons): Thread(target = producer, args = (numIters, buf)).start()\n",
    "    for _ in range(numProdsCons): Thread(target = consumer, args = (numIters, buf, result)).start()\n",
    "    s = 0\n",
    "    for _ in range(numProdsCons): s += result.get()\n",
    "    print(\"The computed total sum is\", s)\n",
    "    print(\"The expected total sum is\", numIters * (numIters - 1) // 2 * numProdsCons)"
   ]
  },
  {
   "cell_type": "code",
   "execution_count": 2,
   "metadata": {},
   "outputs": [
    {
     "name": "stdout",
     "output_type": "stream",
     "text": [
      "The computed total sum is 24975000\n",
      "The expected total sum is 24975000\n",
      "Elapsed time 0.55 sec\n"
     ]
    }
   ],
   "source": [
    "from time import perf_counter\n",
    "start = perf_counter()\n",
    "pc(1000, 50, 10)\n",
    "end = perf_counter()\n",
    "print(\"Elapsed time\", round(end - start, 3), \"sec\")"
   ]
  },
  {
   "cell_type": "markdown",
   "metadata": {},
   "source": [
    "Your task is to re-implement the above solution with coroutines instead of threads. That is, each producer, each consumer, and the main function `pc` should be coroutines and communicate `Queue` objects of the `asyncio` library. The output should be identical to the threading version:"
   ]
  },
  {
   "cell_type": "code",
   "execution_count": 16,
   "metadata": {
    "deletable": false,
    "nbgrader": {
     "cell_type": "code",
     "checksum": "a2297cb075b09ab13f3f69341c7b9768",
     "grade": true,
     "grade_id": "cell-6a78f1291000e1c8",
     "locked": false,
     "points": 2,
     "schema_version": 3,
     "solution": true,
     "task": false
    }
   },
   "outputs": [],
   "source": [
    "from asyncio import create_task, Queue\n",
    "\n",
    "async def producer(n: int, b: Queue):\n",
    "    for i in range(n): await b.put(i)\n",
    "\n",
    "async def consumer(n: int, b: Queue, r: Queue):\n",
    "    s = 0\n",
    "    for _ in range(n): \n",
    "        item = await b.get()\n",
    "        s += item\n",
    "    await r.put(s)\n",
    "\n",
    "async def pc(numIters: int, numProdsCons: int, capacity: int): \n",
    "    buf, result = Queue(capacity), Queue(numProdsCons)\n",
    "    producer_tasks = [create_task(producer(numIters, buf)) for _ in range(numProdsCons)]\n",
    "    consumer_tasks = [create_task(consumer(numIters, buf, result)) for _ in range(numProdsCons)]\n",
    "\n",
    "    for p in producer_tasks: await p\n",
    "    for c in consumer_tasks: await c\n",
    "    \n",
    "    s = 0\n",
    "    for _ in range(numProdsCons): \n",
    "        item = await result.get()\n",
    "        s += item\n",
    "        \n",
    "    print(\"The computed total sum is\", s)\n",
    "    print(\"The expected total sum is\", numIters * (numIters - 1) // 2 * numProdsCons)"
   ]
  },
  {
   "cell_type": "code",
   "execution_count": 17,
   "metadata": {},
   "outputs": [
    {
     "name": "stdout",
     "output_type": "stream",
     "text": [
      "The computed total sum is 24975000\n",
      "The expected total sum is 24975000\n",
      "Elapsed time 0.051 sec\n"
     ]
    }
   ],
   "source": [
    "from time import perf_counter\n",
    "start = perf_counter()\n",
    "await pc(1000, 50, 0) # replace with pc(1000, 50, 10) if running in own thread\n",
    "end = perf_counter()\n",
    "print(\"Elapsed time\", round(end - start, 3), \"sec\")"
   ]
  },
  {
   "cell_type": "markdown",
   "metadata": {},
   "source": [
    "1. What do you observe when increasing `numProdsCons` and `capacity` in the threading version? What is your explanation?\n",
    "2. What do you observe when increasing `numProdsCons` and `capacity` in the coroutine version? What is your explanation?\n",
    "3. What are your observations when comparing the threading and the coroutine versions? What are your explanations?"
   ]
  },
  {
   "cell_type": "markdown",
   "metadata": {
    "deletable": false,
    "nbgrader": {
     "cell_type": "markdown",
     "checksum": "ff4f090ae35fb44a96d15c9fb0a8c6d5",
     "grade": true,
     "grade_id": "cell-8d5637ee048f071b",
     "locked": false,
     "points": 2,
     "schema_version": 3,
     "solution": true,
     "task": false
    }
   },
   "source": [
    "YOUR ANSWER HERE"
   ]
  }
 ],
 "metadata": {
  "kernelspec": {
   "display_name": "Python 3 (ipykernel)",
   "language": "python",
   "name": "python3"
  },
  "language_info": {
   "codemirror_mode": {
    "name": "ipython",
    "version": 3
   },
   "file_extension": ".py",
   "mimetype": "text/x-python",
   "name": "python",
   "nbconvert_exporter": "python",
   "pygments_lexer": "ipython3",
   "version": "3.11.5"
  }
 },
 "nbformat": 4,
 "nbformat_minor": 4
}
