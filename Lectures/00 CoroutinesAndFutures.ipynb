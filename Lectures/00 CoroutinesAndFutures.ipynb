{
 "cells": [
  {
   "cell_type": "markdown",
   "metadata": {
    "slideshow": {
     "slide_type": "slide"
    }
   },
   "source": [
    "---\n",
    "\n",
    "# Coroutines and Futures\n",
    "### [Emil Sekerinski](http://www.cas.mcmaster.ca/~emil/), McMaster University, November 2023\n",
    "\n",
    "---\n",
    "\n",
    "<figure style=\"float:right;border-right:2em solid white\" >\n",
    "    <img style=\"width:90pt\" src=\"./img/by-nc-nd.png\"/>\n",
    "    <figcaption style=\"width:90pt;font-size:x-small\"><a href=\"https://creativecommons.org/licenses/by-nc-nd/4.0/\" style=\"font-size:x-small\">Licensed under Creative Commons CC BY-NC-ND</a>\n",
    "    </figcaption>\n",
    "</figure>"
   ]
  },
  {
   "cell_type": "markdown",
   "metadata": {
    "slideshow": {
     "slide_type": "slide"
    }
   },
   "source": [
    "<img style=\"float:right;border-left:2em solid transparent\" src=\"./img/Procedures.svg\"/>\n",
    "\n",
    "A call to a procedure, or _subroutine,_ allocates the local variables, starts the execution at the beginning, returns at some point, and deallocates the local variables. Procedures can call other procedures, leading to a nested calling structure. In the diagram to the right, vertical lines show the lifetime of a procedure invocation; bars indicate that the procedure is executing."
   ]
  },
  {
   "cell_type": "markdown",
   "metadata": {
    "slideshow": {
     "slide_type": "slide"
    }
   },
   "source": [
    "<img style=\"float:right;border-left:2em solid transparent\" src=\"./img/SymmetricCoroutines.svg\"/>\n",
    "\n",
    "_Coroutines_ generalize procedures by allowing control to be _transferred_ out of a coroutine at some point and then resumed again at that point. Coroutines, like procedures, can have local variables. These are preserved when control is transferred out of a coroutine. When a coroutine is created, it starts execution at the beginning. Compared to procedures, coroutines decouple local variable allocation and transfer of control. \n",
    "\n",
    "The transfer from one coroutine to another can take different forms. In *symmetric coroutines*, the statement `transfer A` in coroutine `C` transfers control to coroutine `C`. All coroutines are equal; `A` can transfer back to `C` or transfer to `B`. The transfer structure is arbitrary."
   ]
  },
  {
   "cell_type": "markdown",
   "metadata": {
    "slideshow": {
     "slide_type": "slide"
    }
   },
   "source": [
    "<img style=\"float:right;border-left:2em solid transparent\" src=\"./img/AsymmetricCoroutines.svg\"/>\n",
    "\n",
    "With *asymmetric coroutines*, if coroutine `A` creates coroutine `B`, the statement `suspend` in `B` returns control to `A`; in `A`, the statement `resume B` resumes execution in `B` at the point it suspended; coroutine `A` is like a caller and `B` like a callee, except that `B` will resume where it left and its state is preserved when suspending. Like the call-return structure of procedures, the create-suspend-resume structure of asymmetric coroutines is nested."
   ]
  },
  {
   "cell_type": "markdown",
   "metadata": {},
   "source": [
    "Coroutines run concurrently but are scheduled _cooperatively,_ meaning that there are explicit points when control is transferred. Only one coroutine is executed at a time. By contrast, threads (and processes) are scheduled _preemptively,_ meaning that after a specific time, control is transferred. Threads (and processes) can run in parallel. Interference between coroutines is impossible, unlike with threads (and processes)."
   ]
  },
  {
   "cell_type": "markdown",
   "metadata": {},
   "source": [
    "### Rudimentary Coroutines in C"
   ]
  },
  {
   "cell_type": "markdown",
   "metadata": {},
   "source": [
    "The C function `setjmp(buf)` stores the program counter and other environment data in `buf` of type `jmpbuf` and returns `0`. The function `longjmp(buf, val)` transfers control to the corresponding `setjmp(buf)` instruction, which returns `val`. Here is an example:"
   ]
  },
  {
   "cell_type": "code",
   "execution_count": null,
   "metadata": {},
   "outputs": [],
   "source": [
    "%%writefile setjmplongjmp.c\n",
    "#include <stdio.h>\n",
    "#include <setjmp.h>\n",
    "\n",
    "jmp_buf buf;\n",
    "\n",
    "void pong() {\n",
    "    printf(\"pong\\n\");\n",
    "    longjmp(buf, 1);  // transfers to buf; setjmp to return 1\n",
    "}\n",
    "\n",
    "void ping() {\n",
    "    pong();\n",
    "    printf(\"ping\\n\"); // does not print\n",
    "}\n",
    "\n",
    "int main() {\n",
    "    if (!setjmp(buf)) ping(); // when called, 0 returned; when longjmp jumps back, 1 returned\n",
    "    printf(\"boom\\n\");\n",
    "}"
   ]
  },
  {
   "cell_type": "code",
   "execution_count": null,
   "metadata": {},
   "outputs": [],
   "source": [
    "!cc setjmplongjmp.c -o setjmplongjmp; ./setjmplongjmp"
   ]
  },
  {
   "cell_type": "markdown",
   "metadata": {},
   "source": [
    "Functions `setjmp` and `longjmp` can be used for exception handling. Below, we use them for rudimentary coroutines:\n",
    "- For every coroutine, a global variable of type `COROUTINE` for the coroutine's environment is declared.\n",
    "- `CREATE(env, func)` stores the environment of the current coroutine in `env` and initiates coroutine `func`.\n",
    "- `TRANSFER(from, to)` stores the environment of the current coroutine in `from` and transfers control to coroutine `to`."
   ]
  },
  {
   "cell_type": "code",
   "execution_count": null,
   "metadata": {},
   "outputs": [],
   "source": [
    "%%writefile symmetric.c\n",
    "#include <stdio.h>\n",
    "#include <setjmp.h>\n",
    "\n",
    "#define COROUTINE jmp_buf\n",
    "#define CREATE(env, func) if (!setjmp(env)) func;\n",
    "#define TRANSFER(from, to) if (!setjmp(from)) longjmp(to, 1);\n",
    "\n",
    "COROUTINE m, pi, po;\n",
    "\n",
    "void pong() {\n",
    "    printf(\"pong\\n\");\n",
    "    TRANSFER(po, m)\n",
    "    printf(\"pong\\n\");\n",
    "    TRANSFER(po, pi)\n",
    "}\n",
    "\n",
    "void ping() {\n",
    "    printf(\"ping\\n\");\n",
    "    CREATE(pi, pong())\n",
    "    printf(\"ping\\n\");\n",
    "}\n",
    "\n",
    "int main() {\n",
    "    printf(\"boom\\n\");\n",
    "    CREATE(m, ping())\n",
    "    printf(\"boom\\n\");\n",
    "    TRANSFER(m, po)\n",
    "}"
   ]
  },
  {
   "cell_type": "code",
   "execution_count": null,
   "metadata": {},
   "outputs": [],
   "source": [
    "!cc symmetric.c -o symmetric; ./symmetric"
   ]
  },
  {
   "cell_type": "markdown",
   "metadata": {},
   "source": [
    "If `pong` has local variables, `ping` must not call any other function: the local variables of `ping` and `pong` are allocated but not deallocated when control is transferred. If `ping` were to call another function, it would overwrite the local variables of `pong`. Above, `ping` can call `printf` only because `pong` does not have local variables. Still, the return addresses on the stack when calling `ping` and `pong` are overwritten; thus, neither would return as expected. In general, coroutines implemented in this way must only use global variables. As the limitations are impractical, coroutine libraries for C and C++ allocate each coroutine its stack (the code for that depends on the internals of the underlying compiler); see also [this Wikipedia entry](https://en.wikipedia.org/wiki/Setjmp.h) on the limitations."
   ]
  },
  {
   "cell_type": "markdown",
   "metadata": {
    "slideshow": {
     "slide_type": "slide"
    }
   },
   "source": [
    "### Python Generators"
   ]
  },
  {
   "cell_type": "markdown",
   "metadata": {
    "slideshow": {
     "slide_type": "slide"
    }
   },
   "source": [
    "In Python, asymmetric coroutines are used as _generators,_ which are functions that, when suspended, additionally yield a value. The `yield` statement is used for suspending, and `next` is used for resuming. A generator is created by “calling” it. Trying to resume a generator that terminates raises a `StopIteration` exception:"
   ]
  },
  {
   "cell_type": "code",
   "execution_count": null,
   "metadata": {},
   "outputs": [],
   "source": [
    "def gen():\n",
    "    print(\"A\"); yield; print(\"B\"); yield; print(\"C\")"
   ]
  },
  {
   "cell_type": "code",
   "execution_count": null,
   "metadata": {},
   "outputs": [],
   "source": [
    "g = gen(); g"
   ]
  },
  {
   "cell_type": "markdown",
   "metadata": {},
   "source": [
    "The generator `g` has its own state and runs concurrently with the main program:"
   ]
  },
  {
   "cell_type": "code",
   "execution_count": null,
   "metadata": {},
   "outputs": [],
   "source": [
    "next(g)"
   ]
  },
  {
   "cell_type": "code",
   "execution_count": null,
   "metadata": {},
   "outputs": [],
   "source": [
    "next(g)"
   ]
  },
  {
   "cell_type": "code",
   "execution_count": null,
   "metadata": {},
   "outputs": [],
   "source": [
    "next(g) # raises StopIteration exception"
   ]
  },
  {
   "cell_type": "markdown",
   "metadata": {},
   "source": [
    "Typically, generators return a result:"
   ]
  },
  {
   "cell_type": "code",
   "execution_count": null,
   "metadata": {},
   "outputs": [],
   "source": [
    "def fib():\n",
    "    a, b = 0, 1\n",
    "    while True:\n",
    "        yield a\n",
    "        a, b = b, a + b"
   ]
  },
  {
   "cell_type": "code",
   "execution_count": null,
   "metadata": {},
   "outputs": [],
   "source": [
    "f = fib(); next(f), next(f), next(f), next(f), next(f), next(f)"
   ]
  },
  {
   "cell_type": "markdown",
   "metadata": {},
   "source": [
    "Generators are used in `for` statements for iterating over all generated elements. As `fib()` generates arbitrarily many elements, this allows, in principle, iteration over an infinite sequence:"
   ]
  },
  {
   "cell_type": "code",
   "execution_count": null,
   "metadata": {},
   "outputs": [],
   "source": [
    "for x in fib(): print(x) # caution"
   ]
  },
  {
   "cell_type": "markdown",
   "metadata": {},
   "source": [
    "_Exercise:_ Modify `fib` to take an additional integer parameter: `fib(n)` yields only numbers that are less than `n` and then terminates. This allows `fib(n)` to be used like `range(n)` in loops."
   ]
  },
  {
   "cell_type": "code",
   "execution_count": null,
   "metadata": {
    "solution": "hidden",
    "solution_first": true
   },
   "outputs": [],
   "source": [
    "Your code here"
   ]
  },
  {
   "cell_type": "code",
   "execution_count": null,
   "metadata": {
    "solution": "hidden"
   },
   "outputs": [],
   "source": [
    "def fib(n):\n",
    "    a, b = 0, 1\n",
    "    while a < n:\n",
    "        yield a\n",
    "        a, b = b, a + b"
   ]
  },
  {
   "cell_type": "markdown",
   "metadata": {},
   "source": [
    "Calling `next()` will eventually raise an exception:"
   ]
  },
  {
   "cell_type": "code",
   "execution_count": null,
   "metadata": {},
   "outputs": [],
   "source": [
    "f = fib(3); next(f), next(f), next(f), next(f)"
   ]
  },
  {
   "cell_type": "code",
   "execution_count": null,
   "metadata": {},
   "outputs": [],
   "source": [
    "next(f) # raises StopIteration exception"
   ]
  },
  {
   "cell_type": "markdown",
   "metadata": {},
   "source": [
    "Catching the exception allows iteration until the generator terminates:"
   ]
  },
  {
   "cell_type": "code",
   "execution_count": null,
   "metadata": {},
   "outputs": [],
   "source": [
    "f = fib(10)\n",
    "try:\n",
    "    while True: print(next(f))\n",
    "except StopIteration: pass"
   ]
  },
  {
   "cell_type": "markdown",
   "metadata": {},
   "source": [
    "A Python `for` loop abbreviates this:"
   ]
  },
  {
   "cell_type": "code",
   "execution_count": null,
   "metadata": {},
   "outputs": [],
   "source": [
    "for x in fib(10): print(x)"
   ]
  },
  {
   "cell_type": "markdown",
   "metadata": {
    "slideshow": {
     "slide_type": "slide"
    }
   },
   "source": [
    "Generators can be used to prevent intermediate data structures from being constructed. Consider functions\n",
    "- `unique(iterable)`, which takes an `iterable` (list, tuple) and returns the elements in the same order but without duplicates,\n",
    "- `filter(fn, iterable)`, which takes an argument `fn`, a predicate, and returns the elements of the second argument, `iterable`, that satisfy `fn`."
   ]
  },
  {
   "cell_type": "code",
   "execution_count": null,
   "metadata": {},
   "outputs": [],
   "source": [
    "def unique(iterable):\n",
    "    seen = set()\n",
    "    for e in iterable:\n",
    "        if e not in seen:\n",
    "            yield e\n",
    "            seen.add(e)"
   ]
  },
  {
   "cell_type": "code",
   "execution_count": null,
   "metadata": {},
   "outputs": [],
   "source": [
    "unique([1, 3, 4, 2, 1, 3])"
   ]
  },
  {
   "cell_type": "code",
   "execution_count": null,
   "metadata": {},
   "outputs": [],
   "source": [
    "list(unique([1, 3, 4, 2, 1, 3]))"
   ]
  },
  {
   "cell_type": "markdown",
   "metadata": {},
   "source": [
    "The Python expression `x * x for x in range(10)` is an *iterable* that can be used as an argument to `unique` (the syntax requires it to be written in parenthesis):"
   ]
  },
  {
   "cell_type": "code",
   "execution_count": null,
   "metadata": {},
   "outputs": [],
   "source": [
    "(x * x for x in range(10))"
   ]
  },
  {
   "cell_type": "code",
   "execution_count": null,
   "metadata": {},
   "outputs": [],
   "source": [
    "unique(x * x for x in range(10))"
   ]
  },
  {
   "cell_type": "code",
   "execution_count": null,
   "metadata": {},
   "outputs": [],
   "source": [
    "list(unique(x * x for x in range(-5, 5)))"
   ]
  },
  {
   "cell_type": "markdown",
   "metadata": {},
   "source": [
    "More complex expressions can be constructed in which generators are used akin to pipes with message passing:"
   ]
  },
  {
   "cell_type": "code",
   "execution_count": null,
   "metadata": {},
   "outputs": [],
   "source": [
    "def filter(fn, iterable):\n",
    "    for e in iterable:\n",
    "        if fn(e):\n",
    "            yield e"
   ]
  },
  {
   "cell_type": "code",
   "execution_count": null,
   "metadata": {},
   "outputs": [],
   "source": [
    "def even(x): return x % 2 == 0\n",
    "list(filter(even, [1, 2, 3, 4, 5, 6]))"
   ]
  },
  {
   "cell_type": "code",
   "execution_count": null,
   "metadata": {},
   "outputs": [],
   "source": [
    "list(unique(filter(even, (x * x for x in range(-5, 5)))))"
   ]
  },
  {
   "cell_type": "markdown",
   "metadata": {},
   "source": [
    "While we can think of `filter` returning a list of even numbers, no such list is constructed in memory. Generator `filter` and `unique` are coroutines that run concurrently with the main program. (Note that Python has a built-in function `filter` with similar functionality.)"
   ]
  },
  {
   "cell_type": "markdown",
   "metadata": {},
   "source": [
    "_Exercise:_ Implement `unique` and `filter` in Go as goroutines and compose them to achieve the same functionality as above. Note that while all even numbers are transmitted over a channel, a sequence of all even numbers is not constructed in memory."
   ]
  },
  {
   "cell_type": "markdown",
   "metadata": {},
   "source": [
    "Here is an implementation of the producer-consumer problem with a single producer and consumer. The producer is oblivious to the consumer; the consumer needs a reference to the producer:"
   ]
  },
  {
   "cell_type": "code",
   "execution_count": null,
   "metadata": {},
   "outputs": [],
   "source": [
    "def producer(n):\n",
    "    for i in range(n):\n",
    "        print(\"producing\", i); yield i\n",
    "        \n",
    "def consumer(p):\n",
    "    s = 0\n",
    "    for i in p: print(\"consuming\", i); s += i\n",
    "    print(\"sum:\", s)\n",
    "\n",
    "def producerConsumer(n):\n",
    "    p = producer(n); consumer(p)\n",
    "\n",
    "producerConsumer(5)"
   ]
  },
  {
   "cell_type": "markdown",
   "metadata": {
    "slideshow": {
     "slide_type": "slide"
    }
   },
   "source": [
    "### Goroutines\n",
    "\n",
    "Goroutines are similar to symmetric coroutines in that control is transferred explicitly when sending and receiving. However, goroutines can be scheduled preemptively; if the goroutines do not access global variables, this is not observable. The Go implementation avoids time slices inherent to preemptive scheduling and instead inserts `transfer` instructions at places where the code might take longer, like loops. Thus, even if this appears to be preemptive scheduling, the Go implementation uses cooperative scheduling for efficiency."
   ]
  },
  {
   "cell_type": "markdown",
   "metadata": {
    "slideshow": {
     "slide_type": "slide"
    }
   },
   "source": [
    "### Python async / await\n",
    "\n",
    "Threads (and processes) are suitable for _CPU-bound_ programs, as the computation can be spread among processors (cores). Symmetric coroutines are suitable for _I/O-bound_ programs: as the programs mainly wait for different I/O actions, they can quickly switch among those. In Python,\n",
    "\n",
    "- a symmetric coroutine is declared with `async def`, and an instance of a coroutine is created by “calling” it,\n",
    "- `await c` transfers control to the scheduler for `c` to be executed,\n",
    "- `asyncio.run(c)` initiates the coroutine scheduler and starts coroutine instance `c`,\n",
    "- `asyncio.gather(c0, c1, ...)` starts coroutines `c0, c1, ...` and waits all instances to terminate,\n",
    "- `asyncio.sleep(d)` is a coroutine that delays execution for `d` seconds.\n",
    "\n",
    "In Python, there is no direct transfer between coroutines. Instead, the `asyncio` library provides a scheduler that makes all transfers: `await c` transfers control to the scheduler and resumes once `c` is completed. Coroutines have to be wrapped into tasks for finer control:\n",
    " \n",
    "- `t = asyncio.create_task(c)` starts coroutine `c` and returns a `Task` object, `t`,\n",
    "- `t.cancel()` stops task `t`.\n",
    "\n",
    "_Note:_ Some features are only available in Python 3.7 or 3.8. Check with `python3 -V`.\n",
    "\n",
    "The call `asyncio.run(c)` starts an *event loop* that schedules the coroutines. It can be called only once within a thread. Note that the program below is written to a file and started as its process from the command line:"
   ]
  },
  {
   "cell_type": "code",
   "execution_count": null,
   "metadata": {},
   "outputs": [],
   "source": [
    "%%writefile asyncrequest.py\n",
    "import asyncio, time\n",
    "\n",
    "async def request(i):\n",
    "    print(i * \"  \", i, \"requesting\")\n",
    "    await asyncio.sleep(1) # this could be an I/O operation\n",
    "    print(i * \"  \", i, \"done\")\n",
    "\n",
    "async def main():\n",
    "    await asyncio.gather(request(0), request(1), request(2))\n",
    "\n",
    "start = time.perf_counter()\n",
    "asyncio.run(main())\n",
    "elapsed = time.perf_counter() - start\n",
    "print(f\"executed in {elapsed:0.2f} seconds.\")"
   ]
  },
  {
   "cell_type": "code",
   "execution_count": null,
   "metadata": {},
   "outputs": [],
   "source": [
    "!python3 asyncrequest.py"
   ]
  },
  {
   "cell_type": "markdown",
   "metadata": {},
   "source": [
    "Since [Jupyter](https://blog.jupyter.org/ipython-7-0-async-repl-a35ce050f7f7) already starts an event loop, `asyncio.run(c)` cannot be called again when running Python within Jupyter. Instead, `await(c)` has to be used instead. The example also illustrates coroutines created by coroutines and shows that the transfer structure can be random:"
   ]
  },
  {
   "cell_type": "code",
   "execution_count": null,
   "metadata": {},
   "outputs": [],
   "source": [
    "import asyncio, random, time\n",
    "\n",
    "async def io(i):\n",
    "    print(i * \"  \", i, \"requesting\")\n",
    "    await asyncio.sleep(random.randint(0, 3)) # simulated I/O operation\n",
    "    print(i * \"  \", i, \"done\")\n",
    "\n",
    "async def task(i):\n",
    "    print(i * \"  \", i, \"starting\")\n",
    "    await io(i)\n",
    "    print(i * \"  \", i, \"ended\")\n",
    "\n",
    "async def main():\n",
    "    await asyncio.gather(task(0), task(1), task(2))\n",
    "\n",
    "start = time.perf_counter()\n",
    "await main()\n",
    "elapsed = time.perf_counter() - start\n",
    "print(f\"executed in {elapsed:0.2f} seconds.\")"
   ]
  },
  {
   "cell_type": "markdown",
   "metadata": {
    "slideshow": {
     "slide_type": "slide"
    }
   },
   "source": [
    "The `asyncio` library provides a class `Queue` for communication between coroutines:\n",
    "\n",
    "- `q = Queue()` creates an unbounded first-in-first-out queue,\n",
    "- `q = Queue(C)` creates `q` as a first-in-first-out queue with capacity `C`,\n",
    "- `q.put(x)` is a coroutine that adds `x` to `q` and blocks if `q` is full,\n",
    "- `x = q.get()` is a coroutine that returns the earliest added item to `q` and blocks if `q` is empty,\n",
    "- `q.join()` is a coroutine that blocks until `q` becomes empty.\n",
    "\n",
    "Thus `await q.put(x)` and `x = await q.get()` wait for control to be transferred back. Queueus can be used as a buffer between producer and consumer coroutines:"
   ]
  },
  {
   "cell_type": "code",
   "execution_count": null,
   "metadata": {},
   "outputs": [],
   "source": [
    "import asyncio, random, time\n",
    "\n",
    "async def makeitem(n: int) -> str:\n",
    "    return str(random.randint(0, 10)) + ' by ' + str(n)\n",
    "\n",
    "async def producer(n: int, q: asyncio.Queue):\n",
    "    for _ in range(random.randint(0, 10)):\n",
    "        print(\"Producer \" + str(n) + \" sleeping\")\n",
    "        await asyncio.sleep(random.randint(0, 3))\n",
    "        i = await makeitem(n)\n",
    "        await q.put(i)\n",
    "        print(i + \" added\")\n",
    "\n",
    "async def consumer(n: int, q: asyncio.Queue):\n",
    "    while True:\n",
    "        print(\"Consumer \" + str(n) + \" sleeping\")\n",
    "        await asyncio.sleep(random.randint(0, 3))\n",
    "        i = await q.get()\n",
    "        print(i + \" removed by \" + str(n))\n",
    "        q.task_done()\n",
    "\n",
    "async def main(np: int, nc: int): # number of producers, consumers\n",
    "    q = asyncio.Queue()\n",
    "    p = [asyncio.create_task(producer(n, q)) for n in range(np)]\n",
    "    c = [asyncio.create_task(consumer(n, q)) for n in range(nc)]\n",
    "    await asyncio.gather(*p)\n",
    "    await q.join()  # blocks until q is empty\n",
    "    for t in c: t.cancel()\n",
    "\n",
    "await main(3, 5) # replace with asyncio.run(main(3, 5)) if running in own thread"
   ]
  },
  {
   "cell_type": "markdown",
   "metadata": {
    "slideshow": {
     "slide_type": "slide"
    }
   },
   "source": [
    "### Futures\n",
    "\n",
    "With futures, the result of a call is not available when the call returns, but only later when it is needed, e.g.\n",
    "\n",
    "```algorithm\n",
    "C ← future matrixmultiply(A, B)\n",
    "```\n",
    "\n",
    "Thus, the execution of the call can be delayed or occur in parallel with the caller. At the place `C` is needed, the program may be suspended until `C` is available. If the call has no side effects, it is indistinguishable from a plain call; `future` is only a hint to parallelize execution. \n",
    "\n",
    "Futures are particularly useful if the procedure is I/O bound and the result is not immediately needed. Current programming languages explicitly require waiting for the result of a future. Given\n",
    "\n",
    "```\n",
    "procedure p(v) → (r)\n",
    "    S\n",
    "```\n",
    "\n",
    "the sequence\n",
    "\n",
    "```\n",
    "x ← future p(a)\n",
    "...\n",
    "x.done\n",
    "write(x.result)\n",
    "```\n",
    "\n",
    "corresponds to:\n",
    "\n",
    "```\n",
    "x.done := false\n",
    "fork (x.result ← p(a); x.done := true)\n",
    "...\n",
    "await x.done\n",
    "write(x.result)\n",
    "```"
   ]
  },
  {
   "cell_type": "markdown",
   "metadata": {
    "slideshow": {
     "slide_type": "slide"
    }
   },
   "source": [
    "Futures can be expressed in Python with the `concurrent.futures` library. Python allows to check if the function has terminated and the result is available:"
   ]
  },
  {
   "cell_type": "code",
   "execution_count": null,
   "metadata": {},
   "outputs": [],
   "source": [
    "from concurrent.futures import ThreadPoolExecutor\n",
    "from time import sleep\n",
    " \n",
    "def return_after_5_secs(message):\n",
    "    sleep(5)\n",
    "    return message\n",
    " \n",
    "pool = ThreadPoolExecutor(3)\n",
    " \n",
    "future = pool.submit(return_after_5_secs, (\"hello\"))\n",
    "print(future.done())\n",
    "print(future.result())\n",
    "sleep(5)\n",
    "print(future.done())\n",
    "print(future.result())"
   ]
  },
  {
   "cell_type": "markdown",
   "metadata": {
    "slideshow": {
     "slide_type": "slide"
    }
   },
   "source": [
    "A future is called a `Response` in JavaScript: programs make requests to servers and continue to be responsive without waiting for immediate results. If an immediate result is needed, it has to be sequenced, e.g. for reading and processing a file:\n",
    "\n",
    "```JavaScript\n",
    "    fetch('\"\"\" + wasmfile + \"\"\"') // asynchronously fetch file, return Response object\n",
    "      .then(response => response.arrayBuffer()) // read the response to completion and stores it in an ArrayBuffer\n",
    "      .then(code => WebAssembly.compile(code)) // compile (sharable) code.wasm\n",
    "```"
   ]
  },
  {
   "cell_type": "markdown",
   "metadata": {},
   "source": [
    "Note that on their own, futures do not provide means for communication, only for synchronization on termination. Futures can be scheduled cooperatively or preemptively."
   ]
  }
 ],
 "metadata": {
  "kernelspec": {
   "display_name": "Python 3 (ipykernel)",
   "language": "python",
   "name": "python3"
  },
  "language_info": {
   "codemirror_mode": {
    "name": "ipython",
    "version": 3
   },
   "file_extension": ".py",
   "mimetype": "text/x-python",
   "name": "python",
   "nbconvert_exporter": "python",
   "pygments_lexer": "ipython3",
   "version": "3.11.5"
  },
  "livereveal": {
   "height": "900",
   "history": true,
   "margin": "0.01",
   "progress": true,
   "scroll": true,
   "start_slideshow_at": "selected",
   "theme": "night",
   "width": "1440"
  }
 },
 "nbformat": 4,
 "nbformat_minor": 4
}
