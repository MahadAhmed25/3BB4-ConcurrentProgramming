{
 "cells": [
  {
   "cell_type": "markdown",
   "metadata": {
    "deletable": false,
    "editable": false,
    "nbgrader": {
     "cell_type": "markdown",
     "checksum": "7a5ff09163d21aba08f7d4ce52c1c49e",
     "grade": false,
     "grade_id": "cell-41ceaba3ab6401f6",
     "locked": true,
     "schema_version": 3,
     "solution": false
    }
   },
   "source": [
    "### SFWRENG 3BB4 Concurrent System Design, Fall 2023/24, McMaster University\n",
    "**Emil Sekerinski (instructor), Tianyu Zhou (TA)**\n",
    "\n",
    "**Assignment 3, due Wednesday, September 27, 11 pm [24 points + 4 bonus points]. Introduced at:**\n",
    "- T03 on Thursday, September 21\n",
    "- T02 on Thursday, September 21\n",
    "- T01 on Friday, September 22\n",
    "\n",
    "The purpose of this assignment is to:\n",
    "* continue practicing creating threads and waiting for their termination in Java and Python,\n",
    "* apply the pattern of worker threads to an arithmetic problem,\n",
    "* provide you with a sense of overhead for creating threads and the possible speedup,\n",
    "* learn how to time programs,\n",
    "* practice reasoning the correctness of programs.\n",
    "\n",
    "This assignment has ungraded exercises. You are encouraged to start with them before the tutorial but can complete them during it. Solutions are presented only at the tutorial.\n",
    "\n",
    "This tutorial also discusses the solutions to the graded questions of the previous assignment. Solutions to assignment questions are presented only in the tutorials; they are not posted.\n",
    "\n",
    "*Note:* You are asked to write well-structured and readable source code. The source code is always used for grading in addition to the test results. Your program passing the provided does not guarantee that your program is correct and that you will receive full (or any) marks."
   ]
  }
 ],
 "metadata": {
  "kernelspec": {
   "display_name": "Python 3 (ipykernel)",
   "language": "python",
   "name": "python3"
  },
  "language_info": {
   "codemirror_mode": {
    "name": "ipython",
    "version": 3
   },
   "file_extension": ".py",
   "mimetype": "text/x-python",
   "name": "python",
   "nbconvert_exporter": "python",
   "pygments_lexer": "ipython3",
   "version": "3.11.2"
  }
 },
 "nbformat": 4,
 "nbformat_minor": 4
}
