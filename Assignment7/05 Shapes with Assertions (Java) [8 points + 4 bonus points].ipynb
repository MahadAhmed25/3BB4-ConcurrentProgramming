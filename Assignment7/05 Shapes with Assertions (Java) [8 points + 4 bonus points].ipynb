{
 "cells": [
  {
   "cell_type": "markdown",
   "metadata": {},
   "source": [
    "###  Shapes with Assertions (Java) [8 points + 4 bonus points]\n",
    "\n",
    "The [Composite](https://en.wikipedia.org/wiki/Composite_pattern) design pattern is one of the [original 23 object-oriented design patterns](https://en.wikipedia.org/wiki/Design_Patterns) ([PDF](http://www.uml.org.cn/c++/pdf/designpatterns.pdf)). Here, it is applied to *geometric shapes*, like those used in drawing editors. A shape is a line, a circle, a rectangle, etc., but shapes can also be grouped into larger shapes. A grouped shape is considered to be a shape that can again be grouped. In the design pattern terminology, class `Shape` is the _Component_, classes `Line` and `Rectangle` are _Leafs_, and class `Group` is the _Composite_. Class `Shape` is *abstract*, meaning no objects can be created; it can be extended, and objects of class `Shape` can be declared.\n",
    "\n",
    "Here, all shapes have a *bounding box*, the smallest rectangle that encloses all the contained shapes. We consider that a group *owns* all the elements it contains, i.e. group elements must not be accessed through references from outside a group (even though Java does not enforce this), so the invariant of a group is allowed to be a *multi-object invariant* over the elements. The task is to extend the code below:"
   ]
  },
  {
   "cell_type": "code",
   "execution_count": 1,
   "metadata": {},
   "outputs": [
    {
     "name": "stdout",
     "output_type": "stream",
     "text": [
      "Writing shapes.java\n"
     ]
    }
   ],
   "source": [
    "%%writefile shapes.java\n",
    "import java.util.ArrayList;\n",
    "import java.util.List;\n",
    "\n",
    "abstract class Shape {\n",
    "    int x0, y0, x1, y1; // (x0, y0) lower left, (x1, y1) upper right\n",
    "    boolean shapeInvariantOK() {\n",
    "        ...\n",
    "    }\n",
    "    Shape(int x0, int y0, int x1, int y1) {\n",
    "        this.x0 = x0; this.y0 = y0; this.x1 = x1; this.y1= y1;\n",
    "    }\n",
    "    void move(int dx, int dy) {\n",
    "        x0 += dx; y0 += dy; x1 += dx; y1 += dy;\n",
    "    }\n",
    "    Rectangle boundingBox () {\n",
    "        return new Rectangle(x0, y0, x1 - x0, y1 - y0);\n",
    "    }\n",
    "}\n",
    "class Line extends Shape {\n",
    "    int x, y, u, v; // from (x, y) to (u, v)\n",
    "    boolean lineInvariantOK() {\n",
    "        ...\n",
    "    }\n",
    "    Line(int x, int y, int u, int v) {\n",
    "        super(x < u ? x : u, y < v ? y : v,\n",
    "              x < u ? u : x, y < v ? v : y);\n",
    "        this.x = x; this.y = y; this.u = u; this.v = v;\n",
    "    }\n",
    "    void move(int dx, int dy) {\n",
    "        super.move(dx, dy);\n",
    "        x += dx; y += dy; u += dx; v += dy;\n",
    "    }\n",
    "}\n",
    "class Rectangle extends Shape {\n",
    "    int x, y, w, h;\n",
    "    boolean rectangleInvariantOK() {\n",
    "        ...\n",
    "    }\n",
    "    Rectangle(int x, int y, int w, int h) {\n",
    "        super(x, y, x + w, y + h);\n",
    "        this.x = x; this.y = y; this.w = w; this.h = h;\n",
    "    }\n",
    "    void move(int dx, int dy) {\n",
    "        super.move(dx, dy); x += dx; y += dy;\n",
    "    }\n",
    "}\n",
    "class Group extends Shape {\n",
    "    List<Shape> elts = new ArrayList<Shape>();\n",
    "    boolean groupInvariantOK() {\n",
    "        ...\n",
    "    }\n",
    "    Group(Shape s) {\n",
    "        super(s.x0, s.y0, s.x1, s.y1);\n",
    "        elts.add(s);\n",
    "    }\n",
    "    void move(int dx, int dy) {\n",
    "        super.move(dx, dy);\n",
    "        for (Shape s: elts) s.move(dx, dy);\n",
    "    }\n",
    "    void add(Shape s) {\n",
    "        elts.add(s);\n",
    "        if (s.x0 < x0) x0 = s.x0;\n",
    "        if (s.y0 < y0) y0 = s.y0;\n",
    "        if (x1 < s.x1) x1 = s.x1;\n",
    "        if (y1 < s.y1) y1 = s.y1;\n",
    "    }\n",
    "}\n",
    "class TestShapes {\n",
    "    public static void main(String[] args) {\n",
    "        Shape r = new Rectangle(1, 1, 5, 5);\n",
    "        Shape l = new Line(0, 0, 4, 4);\n",
    "        Group g = new Group(r);\n",
    "        g.add(l);\n",
    "        Rectangle bb = g.boundingBox();\n",
    "        System.out.println(g.x0);\n",
    "        System.out.println(g.x1);\n",
    "        System.out.println(g.y0);\n",
    "        System.out.println(g.y1);\n",
    "        g.move(10, 10);\n",
    "        System.out.println(g.x0);\n",
    "        System.out.println(g.x1);\n",
    "        System.out.println(g.y0);\n",
    "        System.out.println(g.y1);\n",
    "        // r.move(3, 3); // BAD, breaks invariant of g\n",
    "        // l.move(-1, -1); // BAD, breaks invariant of g\n",
    "        assert g.groupInvariantOK();\n",
    "    }\n",
    "}"
   ]
  },
  {
   "cell_type": "markdown",
   "metadata": {},
   "source": [
    "Copy the above code to the cell below:\n",
    "- Add to `Shape` checks for the invariant: `x0 ≤ x1` and `y0 ≤ y1`.\n",
    "- Add to `Shape` sufficient checks for method preconditions to ensure the class invariant.\n",
    "- Add to `Line` checks for the invariant: `x ≠ u` or `y ≠ v`, `x0 = min(x, u)`, `y0 = min(y, v)`, `x1 = max(x, u)`, `y1 = max(y, v)`; additionally, the invariant of `Shape` has to hold.\n",
    "- Add to `Line` sufficient checks for method preconditions to ensure the class invariant.\n",
    "- Add to `Rectangle` checks for the invariant: `0 < w`, `0 < h`, `x0 = x`, `y0 = y`, `x1 = x + w`, `y1 = y + h`; additionally, the invariant of `Shape` has to hold.\n",
    "- Add to `Rectangle` sufficient checks for method preconditions to ensure the class invariant.\n",
    "- Add to `Group` checks for the invariant: all inserted `Shape` objects must not be `null`, it has to contain at least one `Shape` object, `x0` is the smallest x coordinate of the bounding boxes of the contained shapes, `y0` is the smallest y coordinate, `x1` is the largest x coordinate, and `y1` is the largest y coordinate; additionally, the invariant of `Shape` has to hold.\n",
    "- Add to `Group` sufficient checks for method preconditions to ensure the class invariant.\n",
    "\n",
    "You can add test cases as you like; they are not being graded."
   ]
  },
  {
   "cell_type": "code",
   "execution_count": 35,
   "metadata": {
    "deletable": false,
    "nbgrader": {
     "cell_type": "code",
     "checksum": "57efd5552b1d1f937a994a463d4425ef",
     "grade": true,
     "grade_id": "cell-58ab77660c556ba0",
     "locked": false,
     "points": 8,
     "schema_version": 3,
     "solution": true,
     "task": false
    }
   },
   "outputs": [
    {
     "name": "stdout",
     "output_type": "stream",
     "text": [
      "Overwriting shapes.java\n"
     ]
    }
   ],
   "source": [
    "%%writefile shapes.java\n",
    "import java.util.ArrayList;\n",
    "import java.util.List;\n",
    "\n",
    "abstract class Shape {\n",
    "    int x0, y0, x1, y1; // (x0, y0) lower left, (x1, y1) upper right\n",
    "    boolean shapeInvariantOK() {\n",
    "        return x0 <= x1 && y0 <= y1;\n",
    "    }\n",
    "    Shape(int x0, int y0, int x1, int y1) {\n",
    "        this.x0 = x0; this.y0 = y0; this.x1 = x1; this.y1= y1;\n",
    "        assert shapeInvariantOK();\n",
    "    }\n",
    "    void move(int dx, int dy) {\n",
    "        x0 += dx; y0 += dy; x1 += dx; y1 += dy;\n",
    "        assert shapeInvariantOK();\n",
    "    }\n",
    "    Rectangle boundingBox () {\n",
    "        return new Rectangle(x0, y0, x1 - x0, y1 - y0);\n",
    "    }\n",
    "}\n",
    "class Line extends Shape {\n",
    "    int x, y, u, v; // from (x, y) to (u, v)\n",
    "    boolean lineInvariantOK() {\n",
    "        return x != u && y != v && x0 == Math.min(x,u) && y0 == Math.min(y,v) && x1 == Math.max(x,u) && y1 == Math.max(y,v) && super.shapeInvariantOK();\n",
    "    }\n",
    "    Line(int x, int y, int u, int v) {\n",
    "        super(x < u ? x : u, y < v ? y : v,\n",
    "              x < u ? u : x, y < v ? v : y);\n",
    "        this.x = x; this.y = y; this.u = u; this.v = v;\n",
    "        assert lineInvariantOK();\n",
    "    }\n",
    "    void move(int dx, int dy) {\n",
    "        super.move(dx, dy);\n",
    "        x += dx; y += dy; u += dx; v += dy;\n",
    "        assert lineInvariantOK();\n",
    "    }\n",
    "}\n",
    "class Rectangle extends Shape {\n",
    "    int x, y, w, h;\n",
    "    boolean rectangleInvariantOK() {\n",
    "        return w > 0 && h > 0 && x0 == x && y0 == y && x1 == x+w && y1 == y+h && super.shapeInvariantOK();\n",
    "    }\n",
    "    Rectangle(int x, int y, int w, int h) {\n",
    "        super(x, y, x + w, y + h);\n",
    "        this.x = x; this.y = y; this.w = w; this.h = h;\n",
    "        assert rectangleInvariantOK();\n",
    "    }\n",
    "    void move(int dx, int dy) {\n",
    "        super.move(dx, dy); x += dx; y += dy;\n",
    "        assert rectangleInvariantOK();\n",
    "    }\n",
    "}\n",
    "class Group extends Shape {\n",
    "    List<Shape> elts = new ArrayList<Shape>();\n",
    "    boolean groupInvariantOK() {\n",
    "        if (elts.isEmpty()) {\n",
    "            return false;\n",
    "        }\n",
    "        int minX = 999999999, minY = 99999999, maxX = -999999999, maxY = -999999999;\n",
    "        for (Shape s : elts) {\n",
    "            if (s != null) {\n",
    "                if (s.x0 < minX) minX = s.x0;\n",
    "                if (s.y0 < minY) minY = s.y0;\n",
    "                if (s.x1 > maxX) maxX = s.x1;\n",
    "                if (s.y1 > maxY) maxY = s.y1;\n",
    "            } else {\n",
    "                return false;\n",
    "            }\n",
    "        }\n",
    "        return x0 == minX && y0 == minY && x1 == maxX && y1 == maxY && super.shapeInvariantOK();\n",
    "    }\n",
    "    Group(Shape s) {\n",
    "        super(s.x0, s.y0, s.x1, s.y1);\n",
    "        elts.add(s);\n",
    "        groupInvariantOK();\n",
    "    }\n",
    "    void move(int dx, int dy) {\n",
    "        super.move(dx, dy);\n",
    "        for (Shape s: elts) s.move(dx, dy);\n",
    "        groupInvariantOK();\n",
    "    }\n",
    "    void add(Shape s) {\n",
    "        elts.add(s);\n",
    "        if (s.x0 < x0) x0 = s.x0;\n",
    "        if (s.y0 < y0) y0 = s.y0;\n",
    "        if (x1 < s.x1) x1 = s.x1;\n",
    "        if (y1 < s.y1) y1 = s.y1;\n",
    "        groupInvariantOK();\n",
    "    }\n",
    "}\n",
    "class TestShapes {\n",
    "    public static void main(String[] args) {\n",
    "        Shape r = new Rectangle(1, 1, 5, 5);\n",
    "        Shape l = new Line(0, 0, 4, 4);\n",
    "        Group g = new Group(r);\n",
    "        g.add(l);\n",
    "        Rectangle bb = g.boundingBox();\n",
    "        System.out.println(g.x0);\n",
    "        System.out.println(g.x1);\n",
    "        System.out.println(g.y0);\n",
    "        System.out.println(g.y1);\n",
    "        g.move(10, 10);\n",
    "        System.out.println(g.x0);\n",
    "        System.out.println(g.x1);\n",
    "        System.out.println(g.y0);\n",
    "        System.out.println(g.y1);\n",
    "        //r.move(3, 3); // BAD, breaks invariant of g\n",
    "        //l.move(-1, -1); // BAD, breaks invariant of g\n",
    "        assert g.groupInvariantOK();\n",
    "    }\n",
    "}"
   ]
  },
  {
   "cell_type": "code",
   "execution_count": 36,
   "metadata": {},
   "outputs": [],
   "source": [
    "!javac -Xlint shapes.java"
   ]
  },
  {
   "cell_type": "code",
   "execution_count": 37,
   "metadata": {},
   "outputs": [
    {
     "name": "stdout",
     "output_type": "stream",
     "text": [
      "0\n",
      "6\n",
      "0\n",
      "6\n",
      "10\n",
      "16\n",
      "10\n",
      "16\n"
     ]
    }
   ],
   "source": [
    "!java -ea TestShapes"
   ]
  },
  {
   "cell_type": "markdown",
   "metadata": {},
   "source": [
    "*Bonus Question:* by uncommenting `r.move(3, 3)`, the invariant of `g` will break: all elements of `g` are supposed to be accessed only through `g`, but here we keep a reference to one element and use that. (Note that in Rust, the call `g  = new Group(r)` would transfer ownership and `r` would no longer be accessible; the compiler would forbid the two BAD lines). How can you modify the design in Java to prevent that from happening? Give the modified Java implementation below. You can modify classes `Shape`, `Line`, `Rectangle`, and `Group`. However, if a new shape would be added, say `Circle` with a center and radius, then all existing classes should not need to be modified. Also, your solution has to work with nested groups. Uncomment the two BAD lines; you can add more test cases. Document in comments the idea of your solution. [4 bonus points]"
   ]
  },
  {
   "cell_type": "code",
   "execution_count": null,
   "metadata": {
    "deletable": false,
    "nbgrader": {
     "cell_type": "code",
     "checksum": "1321b465122ddb4a33dfaf1b590112a7",
     "grade": true,
     "grade_id": "cell-e92a24d84ceb1341",
     "locked": false,
     "points": 0,
     "schema_version": 3,
     "solution": true,
     "task": false
    }
   },
   "outputs": [],
   "source": [
    "# YOUR CODE HERE\n",
    "raise NotImplementedError()"
   ]
  }
 ],
 "metadata": {
  "kernelspec": {
   "display_name": "Python 3 (ipykernel)",
   "language": "python",
   "name": "python3"
  },
  "language_info": {
   "codemirror_mode": {
    "name": "ipython",
    "version": 3
   },
   "file_extension": ".py",
   "mimetype": "text/x-python",
   "name": "python",
   "nbconvert_exporter": "python",
   "pygments_lexer": "ipython3",
   "version": "3.11.2"
  },
  "rise": {
   "enable_chalkboard": true
  }
 },
 "nbformat": 4,
 "nbformat_minor": 4
}
