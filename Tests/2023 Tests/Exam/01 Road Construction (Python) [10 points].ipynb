{
 "cells": [
  {
   "cell_type": "markdown",
   "metadata": {
    "deletable": false,
    "editable": false,
    "nbgrader": {
     "cell_type": "markdown",
     "checksum": "0587e5db3ed08cfe12a91f63ca63b2b1",
     "grade": false,
     "grade_id": "cell-b697da4e9918c5fd",
     "locked": true,
     "schema_version": 3,
     "solution": false,
     "task": false
    }
   },
   "source": [
    "### Road Construction"
   ]
  },
  {
   "cell_type": "markdown",
   "metadata": {
    "deletable": false,
    "editable": false,
    "nbgrader": {
     "cell_type": "markdown",
     "checksum": "d8cb9a4f8a18d6228534a31ddbcf7dea",
     "grade": false,
     "grade_id": "cell-5909dfe18c8ce79f",
     "locked": true,
     "schema_version": 3,
     "solution": false,
     "task": false
    }
   },
   "source": [
    "Road construction is narrowing University Avenue to a single lane: vehicles can drive on University Avenue south to north or north to south. The lane is long enough that arbitrarily many vehicles can drive on it. If vehicles drive in both directions, they collide. The task is to synchronize vehicles such that once a vehicle enters University Avenue, it can continue to its end without colliding with a vehicle driving in the opposite direction."
   ]
  },
  {
   "cell_type": "markdown",
   "metadata": {
    "deletable": false,
    "editable": false,
    "nbgrader": {
     "cell_type": "markdown",
     "checksum": "b73355edee2f1f4dad4a16f3820bf0fd",
     "grade": false,
     "grade_id": "cell-b931fe675aa4abf7",
     "locked": true,
     "schema_version": 3,
     "solution": false,
     "task": false
    }
   },
   "source": [
    "The lane has similarities to a critical section. Any solution to the critical section problem has to satisfy three safety properties and one liveness property:\n",
    "\n",
    "1. Mutual exclusion\n",
    "2. No deadlock (no livelock)\n",
    "3. No unnecessary delay\n",
    "4. Eventual entry\n",
    "\n",
    "What are these four properties in terms of the Road Construction problem? [2 points]"
   ]
  },
  {
   "cell_type": "markdown",
   "metadata": {
    "deletable": false,
    "nbgrader": {
     "cell_type": "markdown",
     "checksum": "5ca5394d0edf19e73c50e6adc033d603",
     "grade": true,
     "grade_id": "cell-6841949c6dc2626f",
     "locked": false,
     "points": 2,
     "schema_version": 3,
     "solution": true,
     "task": false
    }
   },
   "source": [
    "1. no 2 opposite direction cars will be in the critical section at the same time\n",
    "2. no car waiting to go south is waiting for a car to go north, and no car waiting to go south is waiting for a car to go north. ie. they are both waiting for eachother but none of them go\n",
    "3. no car waits at the avenue if none are in the critical section. ie. if critical section is empty a car will immediately enter\n",
    "4. all cars will eventually enter the critical section. ie. no car will be left starved"
   ]
  },
  {
   "cell_type": "markdown",
   "metadata": {
    "deletable": false,
    "editable": false,
    "nbgrader": {
     "cell_type": "markdown",
     "checksum": "ee892c3fdacfd6adb543028f6ed56889",
     "grade": false,
     "grade_id": "cell-2779f22ad5b55c11",
     "locked": true,
     "schema_version": 3,
     "solution": false,
     "task": false
    }
   },
   "source": [
    "Implement the Road Construction problem in Python with semaphores by completing the template below. Your solution must satisfy properties 1 - 4. You must not modify the existing code and must not import libraries (there is no need). You can add further code, and you can add further cells for testing as you like. Only the code in the cell below will be graded. Some `write` statements are included to illustrate the progress. For example, the output may start with:\n",
    "\n",
    "```\n",
    "9↑\n",
    " ↑9\n",
    "3↓\n",
    "7↓\n",
    " ↓7\n",
    " ↓3\n",
    "5↑\n",
    "0↑\n",
    "2↑\n",
    "8↑\n",
    "```\n",
    "\n",
    "- Add comments explaining your design, in particular how eventual entry is ensured. An uncommented program will not get full marks.\n",
    "- The implementation represents the two directions by `0` and `1`. If `d` is the direction of the vehicle, the opposite direction is `1 - d`.\n",
    "- Variables `go`, `driving`, and `waiting` are indexed by the direction. Use these variables.\n",
    "\n",
    "Answer this together with the next question. [5 points]"
   ]
  },
  {
   "cell_type": "code",
   "execution_count": 16,
   "metadata": {
    "deletable": false,
    "nbgrader": {
     "cell_type": "code",
     "checksum": "f171b53d0dabe7ffbac5ff9ffa635b22",
     "grade": true,
     "grade_id": "cell-81feaf6268fb9b7e",
     "locked": false,
     "points": 5,
     "schema_version": 3,
     "solution": true,
     "task": false
    }
   },
   "outputs": [],
   "source": [
    "from threading import Thread, Semaphore\n",
    "from time import sleep\n",
    "from random import random, randint\n",
    "from sys import stdout\n",
    "\n",
    "# eventual entry is ensured due to the use of semaphores\n",
    "# a car will wait until it has acquired the go/mutex semaphore which will it then use\n",
    "# to enter the critical section asuming it has met all its other conditions. ie. no car in opposing direction\n",
    "\n",
    "\n",
    "\n",
    "def arrive(direction):\n",
    "    if driving[1-direction] > 0: waiting[direction] += 1; go[direction].acquire()\n",
    "    mutex.acquire()\n",
    "    if waiting[direction] > 0: waiting[direction] -=1\n",
    "    driving[direction] += 1\n",
    "    mutex.release()  \n",
    "    \n",
    "def leave(direction):\n",
    "    mutex.acquire()\n",
    "    driving[direction] -= 1\n",
    "    if driving[direction] == 0: go[1-direction].release()\n",
    "    mutex.release()\n",
    "\n",
    "class Vehicle(Thread):\n",
    "    def __init__(self, name, direction):\n",
    "        self.n, self.d = name, direction; Thread.__init__(self)\n",
    "    def run(self):\n",
    "        sleep(random()) # wait up to 1 sec before trying to enter lane\n",
    "        arrive(self.d)\n",
    "        stdout.write(self.n + (\"↓\\n\" if self.d else \"↑\\n\")) # output after the lane is entered\n",
    "        sleep(random()) # drive through lane for up to 1 sec\n",
    "        stdout.write((\" ↓\" if self.d else \" ↑\") + self.n + \"\\n\") # output before leaving the lane\n",
    "        leave(self.d)\n",
    "\n",
    "go = [Semaphore(0), Semaphore(0)] # semaphores for entering the lane\n",
    "driving = [0, 0] # number of vehicles driving in each direction\n",
    "waiting = [0, 0] # number of vehicles waiting in each direction\n",
    "mutex = Semaphore(1)\n",
    "\n",
    "for v in range(10): Vehicle(str(v), randint(0, 1)).start()"
   ]
  },
  {
   "cell_type": "markdown",
   "metadata": {
    "deletable": false,
    "editable": false,
    "nbgrader": {
     "cell_type": "markdown",
     "checksum": "712d6adfa1f624f3056fc794f597ac48",
     "grade": false,
     "grade_id": "cell-c36dca3ee97059e6",
     "locked": true,
     "schema_version": 3,
     "solution": false,
     "task": false
    }
   },
   "source": [
    "State the following properties in terms of the variables `go`, `driving`, and `waiting`. Your implementation must ensure that these are global invariants.\n",
    "\n",
    "1. All elements of `driving` and `waiting` must not be negative.\n",
    "2. Vehicles can't be driving in both directions\n",
    "3. Semaphore `go[direction]` is positive if and only if there are no vehicles driving in the other direction, but there are vehicles waiting in the same direction.\n",
    "\n",
    "You may use mathematical notation or Python notation, as long as you are consistent (and it is clear what equality is). Symbols to copy and paste: ⟨ ⟩ ¬ ∧ ∨ ≠ ≡ ⇒ ⇐ ≤ ≥ [2 points]"
   ]
  },
  {
   "cell_type": "markdown",
   "metadata": {
    "deletable": false,
    "nbgrader": {
     "cell_type": "markdown",
     "checksum": "58b880191eaa88db2b7ba24c41b9ce79",
     "grade": true,
     "grade_id": "cell-516f0137a93aea77",
     "locked": false,
     "points": 2,
     "schema_version": 3,
     "solution": true,
     "task": false
    }
   },
   "source": [
    "1. driving[direction] > 0 ∧ waiting[direction] > 0\n",
    "2. driving[direction] > 0 ⇒ driving[1-direction] = 0\n",
    "3. go[direction] > 0 ⇒ driving[1-direction] = 0  ∧ waiting[direction] > 0"
   ]
  },
  {
   "cell_type": "markdown",
   "metadata": {
    "deletable": false,
    "editable": false,
    "nbgrader": {
     "cell_type": "markdown",
     "checksum": "06633ecbeae8a0c6beac7c4292f9a3fc",
     "grade": false,
     "grade_id": "cell-5cde3a848c3e6189",
     "locked": true,
     "schema_version": 3,
     "solution": false,
     "task": false
    }
   },
   "source": [
    "Can vehicles driving in the same direction overtake each other? Answer Yes or No and give a brief explanation. [1 point]"
   ]
  },
  {
   "cell_type": "markdown",
   "metadata": {
    "deletable": false,
    "nbgrader": {
     "cell_type": "markdown",
     "checksum": "f59d1e6ae97a8a379c6a1b97ae2b1a11",
     "grade": true,
     "grade_id": "cell-02e25caedd35cfac",
     "locked": false,
     "points": 1,
     "schema_version": 3,
     "solution": true,
     "task": false
    }
   },
   "source": [
    "yes. there is no mechanism in place to ensure that the vehicle which enters the road first finishes first since it sleeps for a random time, a vehicle entering after can have a smaller sleep and finish first."
   ]
  }
 ],
 "metadata": {
  "kernelspec": {
   "display_name": "Python 3 (ipykernel)",
   "language": "python",
   "name": "python3"
  },
  "language_info": {
   "codemirror_mode": {
    "name": "ipython",
    "version": 3
   },
   "file_extension": ".py",
   "mimetype": "text/x-python",
   "name": "python",
   "nbconvert_exporter": "python",
   "pygments_lexer": "ipython3",
   "version": "3.11.5"
  }
 },
 "nbformat": 4,
 "nbformat_minor": 4
}
